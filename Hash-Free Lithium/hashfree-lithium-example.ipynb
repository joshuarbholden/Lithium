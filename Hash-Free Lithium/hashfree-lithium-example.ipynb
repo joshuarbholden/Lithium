{
 "cells": [
  {
   "cell_type": "markdown",
   "id": "db57f13c",
   "metadata": {},
   "source": [
    "Global setup"
   ]
  },
  {
   "cell_type": "code",
   "execution_count": 216,
   "id": "2e076138",
   "metadata": {},
   "outputs": [],
   "source": [
    "n=4\n",
    "k=2\n",
    "q=41 #Lithium AAA?  #same as Alkaline D\n",
    "#q should be divisible by 8 for NTT\n",
    "η=1 #secret key range, prefered 2 in Alkaline\n",
    "γ=2^4 #y coeff range, power of 2, exponent about 2/3 of q?  Earlier version was *not* power of 2\n",
    "R.<x> = ZZ[]"
   ]
  },
  {
   "cell_type": "code",
   "execution_count": 217,
   "id": "0f762920",
   "metadata": {},
   "outputs": [
    {
     "data": {
      "text/plain": [
       "41"
      ]
     },
     "execution_count": 217,
     "metadata": {},
     "output_type": "execute_result"
    }
   ],
   "source": [
    "q"
   ]
  },
  {
   "cell_type": "code",
   "execution_count": 218,
   "id": "e3b67b5a",
   "metadata": {},
   "outputs": [
    {
     "data": {
      "text/plain": [
       "True"
      ]
     },
     "execution_count": 218,
     "metadata": {},
     "output_type": "execute_result"
    }
   ],
   "source": [
    "is_prime(q)"
   ]
  },
  {
   "cell_type": "code",
   "execution_count": 219,
   "id": "456a9b77",
   "metadata": {},
   "outputs": [
    {
     "data": {
      "text/plain": [
       "6"
      ]
     },
     "execution_count": 219,
     "metadata": {},
     "output_type": "execute_result"
    }
   ],
   "source": [
    "qlen = ceil(log(q,2))\n",
    "qlen"
   ]
  },
  {
   "cell_type": "code",
   "execution_count": 220,
   "id": "c8e2e553",
   "metadata": {},
   "outputs": [
    {
     "data": {
      "text/plain": [
       "2.38629436111989"
      ]
     },
     "execution_count": 220,
     "metadata": {},
     "output_type": "execute_result"
    }
   ],
   "source": [
    "τ = 1 #number of 1's in c\n",
    "ln(binomial(4, τ)).n()+τ #challenge entropy, should be between n/2 and n"
   ]
  },
  {
   "cell_type": "code",
   "execution_count": 221,
   "id": "38f046c5",
   "metadata": {},
   "outputs": [
    {
     "data": {
      "text/plain": [
       "1"
      ]
     },
     "execution_count": 221,
     "metadata": {},
     "output_type": "execute_result"
    }
   ],
   "source": [
    "β = τ*η\n",
    "β"
   ]
  },
  {
   "cell_type": "markdown",
   "id": "98292a16",
   "metadata": {},
   "source": [
    "Chance of $\\mathbf{y}_i$-coefficient passing:"
   ]
  },
  {
   "cell_type": "code",
   "execution_count": 222,
   "id": "06c10646",
   "metadata": {},
   "outputs": [
    {
     "data": {
      "text/plain": [
       "0.586530272919658"
      ]
     },
     "execution_count": 222,
     "metadata": {},
     "output_type": "execute_result"
    }
   ],
   "source": [
    "((2*(γ-β)-1)/(2*γ-1))^(n*k).n()"
   ]
  },
  {
   "cell_type": "markdown",
   "id": "05a885e7",
   "metadata": {},
   "source": [
    "Expected number of repetitions:"
   ]
  },
  {
   "cell_type": "code",
   "execution_count": 223,
   "id": "db542c5d",
   "metadata": {},
   "outputs": [
    {
     "data": {
      "text/plain": [
       "2.90682666192675"
      ]
     },
     "execution_count": 223,
     "metadata": {},
     "output_type": "execute_result"
    }
   ],
   "source": [
    "1/(((2*(γ-β)-1)/(2*γ-1))^(n*k))^2.n()"
   ]
  },
  {
   "cell_type": "markdown",
   "id": "6ffa6b44",
   "metadata": {},
   "source": [
    "Alice generates a signing key"
   ]
  },
  {
   "cell_type": "code",
   "execution_count": 224,
   "id": "27221c2f",
   "metadata": {},
   "outputs": [
    {
     "data": {
      "text/plain": [
       "[21*x^3 + 25*x^2 + 27*x + 1 30*x^3 + 4*x^2 + 10*x + 19]\n",
       "[7*x^3 + 12*x^2 + 12*x + 30 40*x^3 + 7*x^2 + 35*x + 36]"
      ]
     },
     "execution_count": 224,
     "metadata": {},
     "output_type": "execute_result"
    }
   ],
   "source": [
    "from pprint import pprint\n",
    "#A = matrix([[randrange(0,q)*x^3+randrange(0,q)*x^2+randrange(0,q)*x+randrange(0,q), randrange(0,q)*x^3+randrange(0,q)*x^2+randrange(0,q)*x+randrange(0,q)], \n",
    "#            [randrange(0,q)*x^3+randrange(0,q)*x^2+randrange(0,q)*x+randrange(0,q), randrange(0,q)*x^3+randrange(0,q)*x^2+randrange(0,q)*x+randrange(0,q)]])\n",
    "A = matrix([[21*x^3 + 25*x^2 + 27*x + 1, 30*x^3 + 4*x^2 + 10*x + 19],\n",
    "            [7*x^3 + 12*x^2 + 12*x + 30, 40*x^3 + 7*x^2 + 35*x + 36]])\n",
    "(A)"
   ]
  },
  {
   "cell_type": "code",
   "execution_count": 225,
   "id": "bf6a2133",
   "metadata": {},
   "outputs": [
    {
     "data": {
      "text/plain": [
       "\\left(\\begin{array}{rr}\n",
       "21x^{3} + 25x^{2} + 27x + 1 & 30x^{3} + 4x^{2} + 10x + 19 \\\\\n",
       "7x^{3} + 12x^{2} + 12x + 30 & 40x^{3} + 7x^{2} + 35x + 36\n",
       "\\end{array}\\right)"
      ]
     },
     "execution_count": 225,
     "metadata": {},
     "output_type": "execute_result"
    }
   ],
   "source": [
    "latex(A)"
   ]
  },
  {
   "cell_type": "code",
   "execution_count": 226,
   "id": "207125a7",
   "metadata": {},
   "outputs": [
    {
     "data": {
      "text/plain": [
       "[x^3 - x^2 - x - 1]\n",
       "[      x^2 + x + 1]"
      ]
     },
     "execution_count": 226,
     "metadata": {},
     "output_type": "execute_result"
    }
   ],
   "source": [
    "#s1 = matrix([[randrange(-η,η+1)*x^3+randrange(-η,η+1)*x^2+randrange(-η,η+1)*x+randrange(-η,η+1)], \n",
    "#            [randrange(-η,η+1)*x^3+randrange(-η,η+1)*x^2+randrange(-η,η+1)*x+randrange(-η,η+1)]])\n",
    "s1 = matrix([[x^3 - x^2 - x - 1], [x^2 + x + 1]])\n",
    "(s1)"
   ]
  },
  {
   "cell_type": "code",
   "execution_count": 227,
   "id": "71e19ca6",
   "metadata": {},
   "outputs": [
    {
     "data": {
      "text/plain": [
       "\\left(\\begin{array}{r}\n",
       "x^{3} - x^{2} - x - 1 \\\\\n",
       "x^{2} + x + 1\n",
       "\\end{array}\\right)"
      ]
     },
     "execution_count": 227,
     "metadata": {},
     "output_type": "execute_result"
    }
   ],
   "source": [
    "latex(s1)"
   ]
  },
  {
   "cell_type": "code",
   "execution_count": 228,
   "id": "e098b290",
   "metadata": {},
   "outputs": [
    {
     "data": {
      "text/plain": [
       "[-x^2 - x + 1]\n",
       "[        -x^2]"
      ]
     },
     "execution_count": 228,
     "metadata": {},
     "output_type": "execute_result"
    }
   ],
   "source": [
    "#s2 = matrix([[randrange(-η,η+1)*x^3+randrange(-η,η+1)*x^2+randrange(-η,η+1)*x+randrange(-η,η+1)], \n",
    "#            [randrange(-η,η+1)*x^3+randrange(-η,η+1)*x^2+randrange(-η,η+1)*x+randrange(-η,η+1)]])\n",
    "s2 = matrix(2, 1, [(-x^2 - x + 1), (-x^2)])\n",
    "(s2)"
   ]
  },
  {
   "cell_type": "code",
   "execution_count": 229,
   "id": "33b3dbf5",
   "metadata": {},
   "outputs": [
    {
     "data": {
      "text/plain": [
       "\\left(\\begin{array}{r}\n",
       "-x^{2} - x + 1 \\\\\n",
       "-x^{2}\n",
       "\\end{array}\\right)"
      ]
     },
     "execution_count": 229,
     "metadata": {},
     "output_type": "execute_result"
    }
   ],
   "source": [
    "latex(s2)"
   ]
  },
  {
   "cell_type": "markdown",
   "id": "6655b0a6",
   "metadata": {},
   "source": [
    "$s_1$ and $s_2$ are private"
   ]
  },
  {
   "cell_type": "code",
   "execution_count": 230,
   "id": "c591375d",
   "metadata": {},
   "outputs": [
    {
     "data": {
      "text/plain": [
       "[-28*x^3 + 40*x^2 - 34*x + 4]\n",
       "[40*x^3 + 16*x^2 - 16*x - 34]"
      ]
     },
     "execution_count": 230,
     "metadata": {},
     "output_type": "execute_result"
    }
   ],
   "source": [
    "t = matrix(((A*s1 + s2) % (x^n+1) % q))\n",
    "t"
   ]
  },
  {
   "cell_type": "code",
   "execution_count": 231,
   "id": "3c1b8eeb",
   "metadata": {},
   "outputs": [
    {
     "data": {
      "text/plain": [
       "\\left(\\begin{array}{r}\n",
       "-28x^{3} + 40x^{2} - 34x + 4 \\\\\n",
       "40x^{3} + 16x^{2} - 16x - 34\n",
       "\\end{array}\\right)"
      ]
     },
     "execution_count": 231,
     "metadata": {},
     "output_type": "execute_result"
    }
   ],
   "source": [
    "latex(t)"
   ]
  },
  {
   "cell_type": "markdown",
   "id": "d1601786",
   "metadata": {},
   "source": [
    "$A$ and $t$ are public"
   ]
  },
  {
   "cell_type": "markdown",
   "id": "61505ee0",
   "metadata": {},
   "source": [
    "Alice encodes her message"
   ]
  },
  {
   "cell_type": "code",
   "execution_count": 249,
   "id": "4a655770",
   "metadata": {},
   "outputs": [
    {
     "data": {
      "text/plain": [
       "[8, 9, 2, 5, 18, 14, 9, 5]"
      ]
     },
     "execution_count": 249,
     "metadata": {},
     "output_type": "execute_result"
    }
   ],
   "source": [
    "M = 'HIBERNIE'\n",
    "M_list = [Mod(ord(ch) - ord(\"A\") + 1,q).lift_centered() for ch in M]\n",
    "M_list"
   ]
  },
  {
   "cell_type": "markdown",
   "id": "13915170",
   "metadata": {},
   "source": [
    "Pick nonces and generate $w$"
   ]
  },
  {
   "cell_type": "code",
   "execution_count": 250,
   "id": "529a5fb7",
   "metadata": {},
   "outputs": [
    {
     "data": {
      "text/plain": [
       "[  12*x^3 - 6*x^2 + 6*x - 8]\n",
       "[-11*x^3 - 12*x^2 - 8*x - 9]"
      ]
     },
     "execution_count": 250,
     "metadata": {},
     "output_type": "execute_result"
    }
   ],
   "source": [
    "#y1 = matrix([[randrange(-(γ-1), γ)*x^3+randrange(-(γ-1), γ)*x^2+randrange(-(γ-1), γ)*x+randrange(-(γ-1), γ)], \n",
    "#            [randrange(-(γ-1), γ)*x^3+randrange(-(γ-1), γ)*x^2+randrange(-(γ-1), γ)*x+randrange(-(γ-1), γ)]])\n",
    "y1 = matrix(2,1,[(12*x^3 - 6*x^2 + 6*x - 8), (-11*x^3 - 12*x^2 - 8*x - 9)])\n",
    "y1"
   ]
  },
  {
   "cell_type": "code",
   "execution_count": 251,
   "id": "ea6ebcd3",
   "metadata": {},
   "outputs": [
    {
     "data": {
      "text/plain": [
       "[-11*x^3 - 6*x^2 - 8*x + 2]\n",
       "[-9*x^3 - 4*x^2 + 6*x + 10]"
      ]
     },
     "execution_count": 251,
     "metadata": {},
     "output_type": "execute_result"
    }
   ],
   "source": [
    "#y2 = matrix([[randrange(-(γ-1), γ)*x^3+randrange(-(γ-1), γ)*x^2+randrange(-(γ-1), γ)*x+randrange(-(γ-1), γ)], \n",
    "#            [randrange(-(γ-1), γ)*x^3+randrange(-(γ-1), γ)*x^2+randrange(-(γ-1), γ)*x+randrange(-(γ-1), γ)]])\n",
    "y2 = matrix(2,1,[(-11*x^3 - 6*x^2 - 8*x + 2), (-9*x^3 - 4*x^2 + 6*x + 10)])\n",
    "y2"
   ]
  },
  {
   "cell_type": "code",
   "execution_count": 252,
   "id": "88bc964a",
   "metadata": {},
   "outputs": [
    {
     "data": {
      "text/plain": [
       "[10*x^3 + 12*x^2 + 16*x + 3]\n",
       "[ 6*x^3 - 12*x^2 - 17*x - 2]"
      ]
     },
     "execution_count": 252,
     "metadata": {},
     "output_type": "execute_result"
    }
   ],
   "source": [
    "w = matrix(((A*y1+y2) % (x^n+1) % q)).apply_map(lambda f: f.map_coefficients(lambda r: Mod(r,q).lift_centered() ))\n",
    "w"
   ]
  },
  {
   "cell_type": "markdown",
   "id": "b65616b6",
   "metadata": {},
   "source": [
    "Start the \"non-cryptographic hash/XOF (combined?)\""
   ]
  },
  {
   "cell_type": "code",
   "execution_count": 253,
   "id": "99729a3d",
   "metadata": {},
   "outputs": [
    {
     "data": {
      "text/plain": [
       "[3, 16, 12, 10, -2, -17, -12, 6]"
      ]
     },
     "execution_count": 253,
     "metadata": {},
     "output_type": "execute_result"
    }
   ],
   "source": [
    "w_list = [c for row in w for p in row for c in p.padded_list(n)]  #flatten the matrix down to coefficients\n",
    "w_list"
   ]
  },
  {
   "cell_type": "markdown",
   "id": "5460b738",
   "metadata": {},
   "source": [
    "Diffusion box (D-box):"
   ]
  },
  {
   "cell_type": "code",
   "execution_count": 254,
   "id": "c97c7424",
   "metadata": {},
   "outputs": [],
   "source": [
    "dboxlen = qlen"
   ]
  },
  {
   "cell_type": "code",
   "execution_count": 255,
   "id": "6a49261a",
   "metadata": {},
   "outputs": [
    {
     "data": {
      "text/plain": [
       "'010010'"
      ]
     },
     "execution_count": 255,
     "metadata": {},
     "output_type": "execute_result"
    }
   ],
   "source": [
    "c_hash = format(vector(M_list).dot_product(vector(w_list)) % (2**dboxlen), f'0{dboxlen}b')\n",
    "c_hash"
   ]
  },
  {
   "cell_type": "markdown",
   "id": "ab6dc892",
   "metadata": {},
   "source": [
    "Use D-box output to sample a sparse polynomial"
   ]
  },
  {
   "cell_type": "code",
   "execution_count": 256,
   "id": "27069d5f",
   "metadata": {
    "scrolled": true
   },
   "outputs": [
    {
     "data": {
      "text/plain": [
       "2"
      ]
     },
     "execution_count": 256,
     "metadata": {},
     "output_type": "execute_result"
    }
   ],
   "source": [
    "clenbits = log(n,2)\n",
    "clenbits"
   ]
  },
  {
   "cell_type": "code",
   "execution_count": 257,
   "id": "4b9b1b11",
   "metadata": {},
   "outputs": [],
   "source": [
    "def sample_in_ball(digest):  # digest should be at least ****\n",
    "    c = [0] * n\n",
    "    k = n\n",
    "    for i in range(n-τ, n):\n",
    "        while int(digest[k:k+clenbits], 2) > i:\n",
    "            k = k+clenbits\n",
    "        j = int(digest[k:k+clenbits], 2)\n",
    "        c[i] = c[j]\n",
    "        c[j] = (-1)^int(digest[i+τ-n], 2)\n",
    "        k = k+clenbits\n",
    "    return c"
   ]
  },
  {
   "cell_type": "markdown",
   "id": "f6aa7110",
   "metadata": {},
   "source": [
    "Generate the signature\n"
   ]
  },
  {
   "cell_type": "code",
   "execution_count": 258,
   "id": "b761bf1c",
   "metadata": {},
   "outputs": [
    {
     "data": {
      "text/plain": [
       "x^2"
      ]
     },
     "execution_count": 258,
     "metadata": {},
     "output_type": "execute_result"
    }
   ],
   "source": [
    "c = R(sample_in_ball(c_hash))\n",
    "c"
   ]
  },
  {
   "cell_type": "code",
   "execution_count": 259,
   "id": "5c1684c6",
   "metadata": {},
   "outputs": [
    {
     "data": {
      "text/plain": [
       "[(11*x^3 - 7*x^2 + 5*x - 7), (-10*x^3 - 11*x^2 - 8*x - 10)]"
      ]
     },
     "execution_count": 259,
     "metadata": {},
     "output_type": "execute_result"
    }
   ],
   "source": [
    "z1 = matrix((y1 + c*s1) % (x^n+1))\n",
    "list(z1)"
   ]
  },
  {
   "cell_type": "code",
   "execution_count": 260,
   "id": "5841abb3",
   "metadata": {},
   "outputs": [
    {
     "data": {
      "text/plain": [
       "[(-12*x^3 - 5*x^2 - 8*x + 3), (-9*x^3 - 4*x^2 + 6*x + 11)]"
      ]
     },
     "execution_count": 260,
     "metadata": {},
     "output_type": "execute_result"
    }
   ],
   "source": [
    "z2 = matrix((y2 + c*s2) % (x^n+1))\n",
    "list(z2)"
   ]
  },
  {
   "cell_type": "markdown",
   "id": "168dd622",
   "metadata": {},
   "source": [
    "Is $\\|\\mathbf{z}_1\\|_\\infty$ or $\\|\\mathbf{z}_2\n",
    "\\|_\\infty \\geq \\gamma-\\beta$?"
   ]
  },
  {
   "cell_type": "code",
   "execution_count": 82,
   "id": "729d5573",
   "metadata": {},
   "outputs": [
    {
     "data": {
      "text/plain": [
       "15"
      ]
     },
     "execution_count": 82,
     "metadata": {},
     "output_type": "execute_result"
    }
   ],
   "source": [
    "γ-β"
   ]
  },
  {
   "cell_type": "markdown",
   "id": "dfa667f3",
   "metadata": {},
   "source": [
    "If so, reject and pick new $\\mathbf{y}_i$"
   ]
  },
  {
   "cell_type": "markdown",
   "id": "77636541",
   "metadata": {},
   "source": [
    "If not, $(\\mathbf{z}_1, \\mathbf{z}_2, c)$ is the signature"
   ]
  },
  {
   "cell_type": "code",
   "execution_count": 83,
   "id": "12c1fd5f",
   "metadata": {},
   "outputs": [
    {
     "data": {
      "text/plain": [
       "(\n",
       "[2*x^3 - 15*x^2 + 14*x + 8]  [10*x^3 - 13*x^2 + 11*x - 5]      \n",
       "[ 14*x^3 - 6*x^2 - 3*x - 8], [   3*x^3 + 9*x^2 + 4*x + 5], -x^2\n",
       ")"
      ]
     },
     "execution_count": 83,
     "metadata": {},
     "output_type": "execute_result"
    }
   ],
   "source": [
    "(z1, z2, c)"
   ]
  },
  {
   "cell_type": "markdown",
   "id": "25783846",
   "metadata": {},
   "source": [
    "Bob verifies the signature"
   ]
  },
  {
   "cell_type": "code",
   "execution_count": 84,
   "id": "cb3231a9",
   "metadata": {},
   "outputs": [
    {
     "data": {
      "text/plain": [
       "[8*x^3 + 17*x^2 - 20*x - 11]\n",
       "[2*x^3 - 18*x^2 - 12*x - 16]"
      ]
     },
     "execution_count": 84,
     "metadata": {},
     "output_type": "execute_result"
    }
   ],
   "source": [
    "wprime = matrix((A*z1+z2-c*t) % (x^n+1) % q).apply_map(lambda f: f.map_coefficients(lambda r: Mod(r,q).lift_centered() ))\n",
    "wprime"
   ]
  },
  {
   "cell_type": "markdown",
   "id": "10c82489",
   "metadata": {},
   "source": [
    "Is $\\|\\mathbf{z}_i\\|_\\infty < \\gamma-\\beta$?"
   ]
  },
  {
   "cell_type": "code",
   "execution_count": 85,
   "id": "b0f11618",
   "metadata": {},
   "outputs": [
    {
     "data": {
      "text/plain": [
       "[2*x^3 - 15*x^2 + 14*x + 8]\n",
       "[ 14*x^3 - 6*x^2 - 3*x - 8]"
      ]
     },
     "execution_count": 85,
     "metadata": {},
     "output_type": "execute_result"
    }
   ],
   "source": [
    "z1"
   ]
  },
  {
   "cell_type": "code",
   "execution_count": 86,
   "id": "0e8b9a51",
   "metadata": {},
   "outputs": [
    {
     "data": {
      "text/plain": [
       "[10*x^3 - 13*x^2 + 11*x - 5]\n",
       "[   3*x^3 + 9*x^2 + 4*x + 5]"
      ]
     },
     "execution_count": 86,
     "metadata": {},
     "output_type": "execute_result"
    }
   ],
   "source": [
    "z2"
   ]
  },
  {
   "cell_type": "code",
   "execution_count": 87,
   "id": "21922612",
   "metadata": {},
   "outputs": [
    {
     "data": {
      "text/plain": [
       "15"
      ]
     },
     "execution_count": 87,
     "metadata": {},
     "output_type": "execute_result"
    }
   ],
   "source": [
    "γ-β"
   ]
  },
  {
   "cell_type": "markdown",
   "id": "766fc343",
   "metadata": {},
   "source": [
    "Yes"
   ]
  },
  {
   "cell_type": "markdown",
   "id": "4b442235",
   "metadata": {},
   "source": [
    "Is $c = H(M , w_1')$?"
   ]
  },
  {
   "cell_type": "code",
   "execution_count": 88,
   "id": "4a35b587",
   "metadata": {},
   "outputs": [
    {
     "data": {
      "text/plain": [
       "[-11, -20, 17, 8, -16, -12, -18, 2]"
      ]
     },
     "execution_count": 88,
     "metadata": {},
     "output_type": "execute_result"
    }
   ],
   "source": [
    "wprime_list = [c for row in wprime for p in row for c in p.padded_list(n)]  #flatten the matrix down to coefficients\n",
    "wprime_list"
   ]
  },
  {
   "cell_type": "code",
   "execution_count": 89,
   "id": "a2ccd8ee",
   "metadata": {
    "scrolled": true
   },
   "outputs": [
    {
     "data": {
      "text/plain": [
       "'110010'"
      ]
     },
     "execution_count": 89,
     "metadata": {},
     "output_type": "execute_result"
    }
   ],
   "source": [
    "cprime_hash = format(vector(M_list).dot_product(vector(w_list)) % (2**6), f'06b')\n",
    "cprime_hash"
   ]
  },
  {
   "cell_type": "code",
   "execution_count": 90,
   "id": "16a473b9",
   "metadata": {},
   "outputs": [
    {
     "data": {
      "text/plain": [
       "-x^2"
      ]
     },
     "execution_count": 90,
     "metadata": {},
     "output_type": "execute_result"
    }
   ],
   "source": [
    "cprime = R(sample_in_ball(cprime_hash))\n",
    "cprime"
   ]
  },
  {
   "cell_type": "code",
   "execution_count": 91,
   "id": "246e1197",
   "metadata": {},
   "outputs": [
    {
     "data": {
      "text/plain": [
       "True"
      ]
     },
     "execution_count": 91,
     "metadata": {},
     "output_type": "execute_result"
    }
   ],
   "source": [
    "c == cprime"
   ]
  },
  {
   "cell_type": "markdown",
   "id": "3bc5f290",
   "metadata": {},
   "source": [
    "Yes.  The signature is accepted."
   ]
  },
  {
   "cell_type": "code",
   "execution_count": null,
   "id": "546bf937",
   "metadata": {},
   "outputs": [],
   "source": []
  }
 ],
 "metadata": {
  "kernelspec": {
   "display_name": "SageMath 9.5",
   "language": "sage",
   "name": "sagemath"
  },
  "language_info": {
   "codemirror_mode": {
    "name": "ipython",
    "version": 3
   },
   "file_extension": ".py",
   "mimetype": "text/x-python",
   "name": "python",
   "nbconvert_exporter": "python",
   "pygments_lexer": "ipython3",
   "version": "3.10.12"
  }
 },
 "nbformat": 4,
 "nbformat_minor": 5
}
