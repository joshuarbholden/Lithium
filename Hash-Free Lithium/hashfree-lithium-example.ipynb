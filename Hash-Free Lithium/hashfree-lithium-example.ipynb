{
 "cells": [
  {
   "cell_type": "markdown",
   "id": "db57f13c",
   "metadata": {},
   "source": [
    "Global setup"
   ]
  },
  {
   "cell_type": "code",
   "execution_count": 57,
   "id": "2e076138",
   "metadata": {},
   "outputs": [],
   "source": [
    "n=4\n",
    "k=2\n",
    "q=41 #Lithium AAA?  #same as Alkaline D\n",
    "#q should be divisible by 8 for NTT\n",
    "η=1 #secret key range, prefered 2 in Alkaline\n",
    "γ=2^4 #y coeff range, power of 2, exponent about 2/3 of q?  Earlier version was *not* power of 2\n",
    "R.<x> = ZZ[]"
   ]
  },
  {
   "cell_type": "code",
   "execution_count": 58,
   "id": "0f762920",
   "metadata": {},
   "outputs": [
    {
     "data": {
      "text/plain": [
       "41"
      ]
     },
     "execution_count": 58,
     "metadata": {},
     "output_type": "execute_result"
    }
   ],
   "source": [
    "q"
   ]
  },
  {
   "cell_type": "code",
   "execution_count": 59,
   "id": "e3b67b5a",
   "metadata": {},
   "outputs": [
    {
     "data": {
      "text/plain": [
       "True"
      ]
     },
     "execution_count": 59,
     "metadata": {},
     "output_type": "execute_result"
    }
   ],
   "source": [
    "is_prime(q)"
   ]
  },
  {
   "cell_type": "code",
   "execution_count": 60,
   "id": "456a9b77",
   "metadata": {},
   "outputs": [
    {
     "data": {
      "text/plain": [
       "6"
      ]
     },
     "execution_count": 60,
     "metadata": {},
     "output_type": "execute_result"
    }
   ],
   "source": [
    "qlen = ceil(log(q,2))\n",
    "qlen"
   ]
  },
  {
   "cell_type": "code",
   "execution_count": 61,
   "id": "c8e2e553",
   "metadata": {},
   "outputs": [
    {
     "data": {
      "text/plain": [
       "2.38629436111989"
      ]
     },
     "execution_count": 61,
     "metadata": {},
     "output_type": "execute_result"
    }
   ],
   "source": [
    "τ = 1 #number of 1's in c\n",
    "ln(binomial(4, τ)).n()+τ #challenge entropy, should be between n/2 and n"
   ]
  },
  {
   "cell_type": "code",
   "execution_count": 62,
   "id": "38f046c5",
   "metadata": {},
   "outputs": [
    {
     "data": {
      "text/plain": [
       "1"
      ]
     },
     "execution_count": 62,
     "metadata": {},
     "output_type": "execute_result"
    }
   ],
   "source": [
    "β = τ*η\n",
    "β"
   ]
  },
  {
   "cell_type": "markdown",
   "id": "98292a16",
   "metadata": {},
   "source": [
    "Chance of $\\mathbf{y}_i$-coefficient passing:"
   ]
  },
  {
   "cell_type": "code",
   "execution_count": 63,
   "id": "06c10646",
   "metadata": {},
   "outputs": [
    {
     "data": {
      "text/plain": [
       "0.586530272919658"
      ]
     },
     "execution_count": 63,
     "metadata": {},
     "output_type": "execute_result"
    }
   ],
   "source": [
    "((2*(γ-β)-1)/(2*γ-1))^(n*k).n()"
   ]
  },
  {
   "cell_type": "markdown",
   "id": "05a885e7",
   "metadata": {},
   "source": [
    "Expected number of repetitions:"
   ]
  },
  {
   "cell_type": "code",
   "execution_count": 64,
   "id": "db542c5d",
   "metadata": {},
   "outputs": [
    {
     "data": {
      "text/plain": [
       "2.90682666192675"
      ]
     },
     "execution_count": 64,
     "metadata": {},
     "output_type": "execute_result"
    }
   ],
   "source": [
    "1/(((2*(γ-β)-1)/(2*γ-1))^(n*k))^2.n()"
   ]
  },
  {
   "cell_type": "markdown",
   "id": "6ffa6b44",
   "metadata": {},
   "source": [
    "Alice generates a signing key"
   ]
  },
  {
   "cell_type": "code",
   "execution_count": 65,
   "id": "27221c2f",
   "metadata": {},
   "outputs": [
    {
     "data": {
      "text/plain": [
       "[ 8*x^3 + 20*x^2 + 13*x + 24 26*x^3 + 37*x^2 + 24*x + 12]\n",
       "[ 30*x^3 + 13*x^2 + 3*x + 30   22*x^3 + 9*x^2 + 20*x + 9]"
      ]
     },
     "execution_count": 65,
     "metadata": {},
     "output_type": "execute_result"
    }
   ],
   "source": [
    "A = matrix([[randrange(0,q)*x^3+randrange(0,q)*x^2+randrange(0,q)*x+randrange(0,q), randrange(0,q)*x^3+randrange(0,q)*x^2+randrange(0,q)*x+randrange(0,q)], \n",
    "            [randrange(0,q)*x^3+randrange(0,q)*x^2+randrange(0,q)*x+randrange(0,q), randrange(0,q)*x^3+randrange(0,q)*x^2+randrange(0,q)*x+randrange(0,q)]])\n",
    "A"
   ]
  },
  {
   "cell_type": "code",
   "execution_count": 66,
   "id": "207125a7",
   "metadata": {},
   "outputs": [
    {
     "data": {
      "text/plain": [
       "[     x^3 + x^2 + x]\n",
       "[-x^3 - x^2 + x + 1]"
      ]
     },
     "execution_count": 66,
     "metadata": {},
     "output_type": "execute_result"
    }
   ],
   "source": [
    "s1 = matrix([[randrange(-η,η+1)*x^3+randrange(-η,η+1)*x^2+randrange(-η,η+1)*x+randrange(-η,η+1)], \n",
    "            [randrange(-η,η+1)*x^3+randrange(-η,η+1)*x^2+randrange(-η,η+1)*x+randrange(-η,η+1)]])\n",
    "s1"
   ]
  },
  {
   "cell_type": "code",
   "execution_count": 67,
   "id": "e098b290",
   "metadata": {},
   "outputs": [
    {
     "data": {
      "text/plain": [
       "[   x^2 + x + 1]\n",
       "[-x^3 - x^2 - x]"
      ]
     },
     "execution_count": 67,
     "metadata": {},
     "output_type": "execute_result"
    }
   ],
   "source": [
    "s2 = matrix([[randrange(-η,η+1)*x^3+randrange(-η,η+1)*x^2+randrange(-η,η+1)*x+randrange(-η,η+1)], \n",
    "            [randrange(-η,η+1)*x^3+randrange(-η,η+1)*x^2+randrange(-η,η+1)*x+randrange(-η,η+1)]])\n",
    "s2"
   ]
  },
  {
   "cell_type": "markdown",
   "id": "6655b0a6",
   "metadata": {},
   "source": [
    "$s_1$ and $s_2$ are private"
   ]
  },
  {
   "cell_type": "code",
   "execution_count": 68,
   "id": "c591375d",
   "metadata": {},
   "outputs": [
    {
     "data": {
      "text/plain": [
       "[2*x^3 + 23*x^2 + 14*x + 7]\n",
       "[ 6*x^3 + 3*x^2 + 5*x - 30]"
      ]
     },
     "execution_count": 68,
     "metadata": {},
     "output_type": "execute_result"
    }
   ],
   "source": [
    "t = matrix(((A*s1 + s2) % (x^n+1) % q))\n",
    "t"
   ]
  },
  {
   "cell_type": "markdown",
   "id": "d1601786",
   "metadata": {},
   "source": [
    "$A$ and $t$ are public"
   ]
  },
  {
   "cell_type": "markdown",
   "id": "61505ee0",
   "metadata": {},
   "source": [
    "Alice encodes her message"
   ]
  },
  {
   "cell_type": "code",
   "execution_count": 69,
   "id": "4a655770",
   "metadata": {},
   "outputs": [
    {
     "data": {
      "text/plain": [
       "[8, 9, -10, 2, 15, 2, -10, -10]"
      ]
     },
     "execution_count": 69,
     "metadata": {},
     "output_type": "execute_result"
    }
   ],
   "source": [
    "M = 'HI_BOB__'\n",
    "M_list = [Mod(ord(ch) - ord(\"A\") + 1,q).lift_centered() for ch in M]\n",
    "M_list"
   ]
  },
  {
   "cell_type": "markdown",
   "id": "13915170",
   "metadata": {},
   "source": [
    "Pick nonces and generate $w_1$"
   ]
  },
  {
   "cell_type": "code",
   "execution_count": 70,
   "id": "529a5fb7",
   "metadata": {},
   "outputs": [
    {
     "data": {
      "text/plain": [
       "[3*x^3 - 15*x^2 + 13*x + 7]\n",
       "[ 15*x^3 - 5*x^2 - 2*x - 7]"
      ]
     },
     "execution_count": 70,
     "metadata": {},
     "output_type": "execute_result"
    }
   ],
   "source": [
    "y1 = matrix([[randrange(-(γ-1), γ)*x^3+randrange(-(γ-1), γ)*x^2+randrange(-(γ-1), γ)*x+randrange(-(γ-1), γ)], \n",
    "            [randrange(-(γ-1), γ)*x^3+randrange(-(γ-1), γ)*x^2+randrange(-(γ-1), γ)*x+randrange(-(γ-1), γ)]])\n",
    "y1"
   ]
  },
  {
   "cell_type": "code",
   "execution_count": 71,
   "id": "ea6ebcd3",
   "metadata": {},
   "outputs": [
    {
     "data": {
      "text/plain": [
       "[11*x^3 - 12*x^2 + 11*x - 6]\n",
       "[   2*x^3 + 9*x^2 + 5*x + 6]"
      ]
     },
     "execution_count": 71,
     "metadata": {},
     "output_type": "execute_result"
    }
   ],
   "source": [
    "y2 = matrix([[randrange(-(γ-1), γ)*x^3+randrange(-(γ-1), γ)*x^2+randrange(-(γ-1), γ)*x+randrange(-(γ-1), γ)], \n",
    "            [randrange(-(γ-1), γ)*x^3+randrange(-(γ-1), γ)*x^2+randrange(-(γ-1), γ)*x+randrange(-(γ-1), γ)]])\n",
    "y2"
   ]
  },
  {
   "cell_type": "code",
   "execution_count": 72,
   "id": "88bc964a",
   "metadata": {},
   "outputs": [
    {
     "data": {
      "text/plain": [
       "[8*x^3 + 17*x^2 - 20*x - 11]\n",
       "[2*x^3 - 18*x^2 - 12*x - 16]"
      ]
     },
     "execution_count": 72,
     "metadata": {},
     "output_type": "execute_result"
    }
   ],
   "source": [
    "w = matrix(((A*y1+y2) % (x^n+1) % q)).apply_map(lambda f: f.map_coefficients(lambda r: Mod(r,q).lift_centered() ))\n",
    "w"
   ]
  },
  {
   "cell_type": "markdown",
   "id": "b65616b6",
   "metadata": {},
   "source": [
    "Start the \"non-cryptographic hash/XOF (combined?)\""
   ]
  },
  {
   "cell_type": "code",
   "execution_count": 73,
   "id": "99729a3d",
   "metadata": {},
   "outputs": [
    {
     "data": {
      "text/plain": [
       "[-11, -20, 17, 8, -16, -12, -18, 2]"
      ]
     },
     "execution_count": 73,
     "metadata": {},
     "output_type": "execute_result"
    }
   ],
   "source": [
    "w_list = [c for row in w for p in row for c in p.padded_list(n)]  #flatten the matrix down to coefficients\n",
    "w_list"
   ]
  },
  {
   "cell_type": "markdown",
   "id": "5460b738",
   "metadata": {},
   "source": [
    "Diffusion box (D-box):"
   ]
  },
  {
   "cell_type": "code",
   "execution_count": 92,
   "id": "c97c7424",
   "metadata": {},
   "outputs": [],
   "source": [
    "dboxlen = qlen"
   ]
  },
  {
   "cell_type": "code",
   "execution_count": 94,
   "id": "6a49261a",
   "metadata": {},
   "outputs": [
    {
     "data": {
      "text/plain": [
       "'110010'"
      ]
     },
     "execution_count": 94,
     "metadata": {},
     "output_type": "execute_result"
    }
   ],
   "source": [
    "c_hash = format(vector(M_list).dot_product(vector(w_list)) % (2**dboxlen), f'0{dboxlen}b')\n",
    "c_hash"
   ]
  },
  {
   "cell_type": "markdown",
   "id": "ab6dc892",
   "metadata": {},
   "source": [
    "Use D-box output to sample a sparse polynomial"
   ]
  },
  {
   "cell_type": "code",
   "execution_count": 76,
   "id": "27069d5f",
   "metadata": {
    "scrolled": true
   },
   "outputs": [
    {
     "data": {
      "text/plain": [
       "2"
      ]
     },
     "execution_count": 76,
     "metadata": {},
     "output_type": "execute_result"
    }
   ],
   "source": [
    "clenbits = log(n,2)\n",
    "clenbits"
   ]
  },
  {
   "cell_type": "code",
   "execution_count": 77,
   "id": "4b9b1b11",
   "metadata": {},
   "outputs": [],
   "source": [
    "def sample_in_ball(digest):  # digest should be at least ****\n",
    "    c = [0] * n\n",
    "    k = n\n",
    "    for i in range(n-τ, n):\n",
    "        while int(digest[k:k+clenbits], 2) > i:\n",
    "            k = k+clenbits\n",
    "        j = int(digest[k:k+clenbits], 2)\n",
    "        c[i] = c[j]\n",
    "        c[j] = (-1)^int(digest[i+τ-n], 2)\n",
    "        k = k+clenbits\n",
    "    return c"
   ]
  },
  {
   "cell_type": "markdown",
   "id": "f6aa7110",
   "metadata": {},
   "source": [
    "Generate the signature\n"
   ]
  },
  {
   "cell_type": "code",
   "execution_count": 78,
   "id": "b761bf1c",
   "metadata": {},
   "outputs": [
    {
     "data": {
      "text/plain": [
       "-x^2"
      ]
     },
     "execution_count": 78,
     "metadata": {},
     "output_type": "execute_result"
    }
   ],
   "source": [
    "c = R(sample_in_ball(c_hash))\n",
    "c"
   ]
  },
  {
   "cell_type": "code",
   "execution_count": 79,
   "id": "5c1684c6",
   "metadata": {},
   "outputs": [
    {
     "data": {
      "text/plain": [
       "[2*x^3 - 15*x^2 + 14*x + 8]\n",
       "[ 14*x^3 - 6*x^2 - 3*x - 8]"
      ]
     },
     "execution_count": 79,
     "metadata": {},
     "output_type": "execute_result"
    }
   ],
   "source": [
    "z1 = matrix((y1 + c*s1) % (x^n+1))\n",
    "z1"
   ]
  },
  {
   "cell_type": "code",
   "execution_count": 80,
   "id": "5841abb3",
   "metadata": {},
   "outputs": [
    {
     "data": {
      "text/plain": [
       "[10*x^3 - 13*x^2 + 11*x - 5]\n",
       "[   3*x^3 + 9*x^2 + 4*x + 5]"
      ]
     },
     "execution_count": 80,
     "metadata": {},
     "output_type": "execute_result"
    }
   ],
   "source": [
    "z2 = matrix((y2 + c*s2) % (x^n+1))\n",
    "z2"
   ]
  },
  {
   "cell_type": "markdown",
   "id": "168dd622",
   "metadata": {},
   "source": [
    "Is $\\|\\mathbf{z}_1\\|_\\infty$ or $\\|\\mathbf{z}_2\n",
    "\\|_\\infty \\geq \\gamma-\\beta$?"
   ]
  },
  {
   "cell_type": "code",
   "execution_count": 82,
   "id": "729d5573",
   "metadata": {},
   "outputs": [
    {
     "data": {
      "text/plain": [
       "15"
      ]
     },
     "execution_count": 82,
     "metadata": {},
     "output_type": "execute_result"
    }
   ],
   "source": [
    "γ-β"
   ]
  },
  {
   "cell_type": "markdown",
   "id": "dfa667f3",
   "metadata": {},
   "source": [
    "If so, reject and pick new $\\mathbf{y}_i$"
   ]
  },
  {
   "cell_type": "markdown",
   "id": "77636541",
   "metadata": {},
   "source": [
    "If not, $(\\mathbf{z}_1, \\mathbf{z}_2, c)$ is the signature"
   ]
  },
  {
   "cell_type": "code",
   "execution_count": 83,
   "id": "12c1fd5f",
   "metadata": {},
   "outputs": [
    {
     "data": {
      "text/plain": [
       "(\n",
       "[2*x^3 - 15*x^2 + 14*x + 8]  [10*x^3 - 13*x^2 + 11*x - 5]      \n",
       "[ 14*x^3 - 6*x^2 - 3*x - 8], [   3*x^3 + 9*x^2 + 4*x + 5], -x^2\n",
       ")"
      ]
     },
     "execution_count": 83,
     "metadata": {},
     "output_type": "execute_result"
    }
   ],
   "source": [
    "(z1, z2, c)"
   ]
  },
  {
   "cell_type": "markdown",
   "id": "25783846",
   "metadata": {},
   "source": [
    "Bob verifies the signature"
   ]
  },
  {
   "cell_type": "code",
   "execution_count": 84,
   "id": "cb3231a9",
   "metadata": {},
   "outputs": [
    {
     "data": {
      "text/plain": [
       "[8*x^3 + 17*x^2 - 20*x - 11]\n",
       "[2*x^3 - 18*x^2 - 12*x - 16]"
      ]
     },
     "execution_count": 84,
     "metadata": {},
     "output_type": "execute_result"
    }
   ],
   "source": [
    "wprime = matrix((A*z1+z2-c*t) % (x^n+1) % q).apply_map(lambda f: f.map_coefficients(lambda r: Mod(r,q).lift_centered() ))\n",
    "wprime"
   ]
  },
  {
   "cell_type": "markdown",
   "id": "10c82489",
   "metadata": {},
   "source": [
    "Is $\\|\\mathbf{z}_i\\|_\\infty < \\gamma-\\beta$?"
   ]
  },
  {
   "cell_type": "code",
   "execution_count": 85,
   "id": "b0f11618",
   "metadata": {},
   "outputs": [
    {
     "data": {
      "text/plain": [
       "[2*x^3 - 15*x^2 + 14*x + 8]\n",
       "[ 14*x^3 - 6*x^2 - 3*x - 8]"
      ]
     },
     "execution_count": 85,
     "metadata": {},
     "output_type": "execute_result"
    }
   ],
   "source": [
    "z1"
   ]
  },
  {
   "cell_type": "code",
   "execution_count": 86,
   "id": "0e8b9a51",
   "metadata": {},
   "outputs": [
    {
     "data": {
      "text/plain": [
       "[10*x^3 - 13*x^2 + 11*x - 5]\n",
       "[   3*x^3 + 9*x^2 + 4*x + 5]"
      ]
     },
     "execution_count": 86,
     "metadata": {},
     "output_type": "execute_result"
    }
   ],
   "source": [
    "z2"
   ]
  },
  {
   "cell_type": "code",
   "execution_count": 87,
   "id": "21922612",
   "metadata": {},
   "outputs": [
    {
     "data": {
      "text/plain": [
       "15"
      ]
     },
     "execution_count": 87,
     "metadata": {},
     "output_type": "execute_result"
    }
   ],
   "source": [
    "γ-β"
   ]
  },
  {
   "cell_type": "markdown",
   "id": "766fc343",
   "metadata": {},
   "source": [
    "Yes"
   ]
  },
  {
   "cell_type": "markdown",
   "id": "4b442235",
   "metadata": {},
   "source": [
    "Is $c = H(M , w_1')$?"
   ]
  },
  {
   "cell_type": "code",
   "execution_count": 88,
   "id": "4a35b587",
   "metadata": {},
   "outputs": [
    {
     "data": {
      "text/plain": [
       "[-11, -20, 17, 8, -16, -12, -18, 2]"
      ]
     },
     "execution_count": 88,
     "metadata": {},
     "output_type": "execute_result"
    }
   ],
   "source": [
    "wprime_list = [c for row in wprime for p in row for c in p.padded_list(n)]  #flatten the matrix down to coefficients\n",
    "wprime_list"
   ]
  },
  {
   "cell_type": "code",
   "execution_count": 89,
   "id": "a2ccd8ee",
   "metadata": {
    "scrolled": true
   },
   "outputs": [
    {
     "data": {
      "text/plain": [
       "'110010'"
      ]
     },
     "execution_count": 89,
     "metadata": {},
     "output_type": "execute_result"
    }
   ],
   "source": [
    "cprime_hash = format(vector(M_list).dot_product(vector(w_list)) % (2**6), f'06b')\n",
    "cprime_hash"
   ]
  },
  {
   "cell_type": "code",
   "execution_count": 90,
   "id": "16a473b9",
   "metadata": {},
   "outputs": [
    {
     "data": {
      "text/plain": [
       "-x^2"
      ]
     },
     "execution_count": 90,
     "metadata": {},
     "output_type": "execute_result"
    }
   ],
   "source": [
    "cprime = R(sample_in_ball(cprime_hash))\n",
    "cprime"
   ]
  },
  {
   "cell_type": "code",
   "execution_count": 91,
   "id": "246e1197",
   "metadata": {},
   "outputs": [
    {
     "data": {
      "text/plain": [
       "True"
      ]
     },
     "execution_count": 91,
     "metadata": {},
     "output_type": "execute_result"
    }
   ],
   "source": [
    "c == cprime"
   ]
  },
  {
   "cell_type": "markdown",
   "id": "3bc5f290",
   "metadata": {},
   "source": [
    "Yes.  The signature is accepted."
   ]
  },
  {
   "cell_type": "code",
   "execution_count": null,
   "id": "546bf937",
   "metadata": {},
   "outputs": [],
   "source": []
  }
 ],
 "metadata": {
  "kernelspec": {
   "display_name": "SageMath 9.5",
   "language": "sage",
   "name": "sagemath"
  },
  "language_info": {
   "codemirror_mode": {
    "name": "ipython",
    "version": 3
   },
   "file_extension": ".py",
   "mimetype": "text/x-python",
   "name": "python",
   "nbconvert_exporter": "python",
   "pygments_lexer": "ipython3",
   "version": "3.10.12"
  }
 },
 "nbformat": 4,
 "nbformat_minor": 5
}
