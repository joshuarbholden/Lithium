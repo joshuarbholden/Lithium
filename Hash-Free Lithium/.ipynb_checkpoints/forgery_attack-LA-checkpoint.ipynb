{
 "cells": [
  {
   "cell_type": "markdown",
   "metadata": {},
   "source": [
    "Global setup\n",
    "\n"
   ]
  },
  {
   "cell_type": "code",
   "execution_count": 56,
   "metadata": {
    "jupyter": {
     "outputs_hidden": false
    }
   },
   "outputs": [],
   "source": [
    "n=1\n",
    "k=4\n",
    "q=41 #Alkaline D\n",
    "#q should be divisible by 8(?) for NTT\n",
    "eta=1 #secret key range, prefered 2 in Alkaline\n",
    "gamma1=2^4 #y coeff range, power of 2, exponent about 2/3 of q?  Earlier version was *not* power of 2"
   ]
  },
  {
   "cell_type": "code",
   "execution_count": 57,
   "metadata": {},
   "outputs": [
    {
     "data": {
      "text/plain": [
       "2.38629436111989"
      ]
     },
     "execution_count": 57,
     "metadata": {},
     "output_type": "execute_result"
    }
   ],
   "source": [
    "tau = 1 #number of 1's in c\n",
    "ln(binomial(4, tau)).n()+tau"
   ]
  },
  {
   "cell_type": "code",
   "execution_count": 58,
   "metadata": {},
   "outputs": [
    {
     "data": {
      "text/plain": [
       "1"
      ]
     },
     "execution_count": 58,
     "metadata": {},
     "output_type": "execute_result"
    }
   ],
   "source": [
    "beta = tau*eta\n",
    "beta"
   ]
  },
  {
   "cell_type": "markdown",
   "metadata": {},
   "source": [
    "Chance of $\\mathbf{y}_i$-coefficient passing:"
   ]
  },
  {
   "cell_type": "code",
   "execution_count": 59,
   "metadata": {},
   "outputs": [
    {
     "data": {
      "text/plain": [
       "0.765852644390328"
      ]
     },
     "execution_count": 59,
     "metadata": {},
     "output_type": "execute_result"
    }
   ],
   "source": [
    "((2*(gamma1-beta)-1)/(2*gamma1-1))^(n*k).n()"
   ]
  },
  {
   "cell_type": "markdown",
   "metadata": {},
   "source": [
    "Expected number of repetitions:"
   ]
  },
  {
   "cell_type": "code",
   "execution_count": 60,
   "metadata": {},
   "outputs": [
    {
     "data": {
      "text/plain": [
       "1.70494183535004"
      ]
     },
     "execution_count": 60,
     "metadata": {},
     "output_type": "execute_result"
    }
   ],
   "source": [
    "1/(((2*(gamma1-beta)-1)/(2*gamma1-1))^(n*k))^2.n()"
   ]
  },
  {
   "cell_type": "markdown",
   "metadata": {},
   "source": [
    "Alice generates a signing key"
   ]
  },
  {
   "cell_type": "code",
   "execution_count": 61,
   "metadata": {},
   "outputs": [
    {
     "data": {
      "text/plain": [
       "[21 20  3 10]\n",
       "[28 39 23 30]\n",
       "[30 11  7 39]\n",
       "[10 31  8  7]"
      ]
     },
     "execution_count": 61,
     "metadata": {},
     "output_type": "execute_result"
    }
   ],
   "source": [
    "A = random_matrix(ZZ, 4, 4, x=0, y=q)\n",
    "A"
   ]
  },
  {
   "cell_type": "code",
   "execution_count": 62,
   "metadata": {
    "jupyter": {
     "outputs_hidden": false
    }
   },
   "outputs": [
    {
     "data": {
      "text/plain": [
       "[-1 -1 -1  1]\n",
       "[ 1 -1  1  0]\n",
       "[ 0  1  1 -1]\n",
       "[ 1  1  1 -1]"
      ]
     },
     "execution_count": 62,
     "metadata": {},
     "output_type": "execute_result"
    }
   ],
   "source": [
    "S1 = random_matrix(ZZ, 4, 4, x=-eta, y=eta+1)\n",
    "S1"
   ]
  },
  {
   "cell_type": "code",
   "execution_count": 63,
   "metadata": {},
   "outputs": [
    {
     "data": {
      "text/plain": [
       "[ 1 -1 -1  0]\n",
       "[ 1  0 -1  1]\n",
       "[ 0  0  1  0]\n",
       "[-1  1 -1 -1]"
      ]
     },
     "execution_count": 63,
     "metadata": {},
     "output_type": "execute_result"
    }
   ],
   "source": [
    "S2 = random_matrix(ZZ, 4, 4, x=-eta, y=eta+1)\n",
    "S2"
   ]
  },
  {
   "cell_type": "markdown",
   "metadata": {},
   "source": [
    "$(S_1, S_2)$ is the private key\n"
   ]
  },
  {
   "cell_type": "code",
   "execution_count": 64,
   "metadata": {
    "jupyter": {
     "outputs_hidden": false
    }
   },
   "outputs": [
    {
     "data": {
      "text/plain": [
       "[10 12 11  8]\n",
       "[ 1 27 22 17]\n",
       "[20  5 28 25]\n",
       "[27 16 35 35]"
      ]
     },
     "execution_count": 64,
     "metadata": {},
     "output_type": "execute_result"
    }
   ],
   "source": [
    "T = matrix(((A*S1 + S2) % q))\n",
    "T"
   ]
  },
  {
   "cell_type": "markdown",
   "metadata": {},
   "source": [
    "$(A,T)$ is the public key\n"
   ]
  },
  {
   "cell_type": "markdown",
   "metadata": {},
   "source": [
    "Frank tries to forge a message\n"
   ]
  },
  {
   "cell_type": "code",
   "execution_count": 65,
   "metadata": {},
   "outputs": [
    {
     "data": {
      "text/plain": [
       "[6, 2, 15, 2]"
      ]
     },
     "execution_count": 65,
     "metadata": {},
     "output_type": "execute_result"
    }
   ],
   "source": [
    "M = 'FBOB'\n",
    "M_list = [Mod(ord(ch) - ord(\"A\") + 1,q).lift_centered() for ch in M]\n",
    "M_list"
   ]
  },
  {
   "cell_type": "markdown",
   "metadata": {},
   "source": [
    "Pick random $\\hat{z}_i$ and $\\hat{c}$ and calculate $w$ (Is this necessary or could we go right for random $w$?)"
   ]
  },
  {
   "cell_type": "code",
   "execution_count": 66,
   "metadata": {
    "jupyter": {
     "outputs_hidden": false
    }
   },
   "outputs": [
    {
     "data": {
      "text/plain": [
       "[ 15]\n",
       "[  6]\n",
       "[-11]\n",
       "[  1]"
      ]
     },
     "execution_count": 66,
     "metadata": {},
     "output_type": "execute_result"
    }
   ],
   "source": [
    "z1hat = random_matrix(ZZ, 4, 1, x=-(gamma1-1), y=gamma1)\n",
    "z1hat"
   ]
  },
  {
   "cell_type": "code",
   "execution_count": 67,
   "metadata": {},
   "outputs": [
    {
     "data": {
      "text/plain": [
       "[ 5]\n",
       "[ 1]\n",
       "[-3]\n",
       "[12]"
      ]
     },
     "execution_count": 67,
     "metadata": {},
     "output_type": "execute_result"
    }
   ],
   "source": [
    "z2hat = random_matrix(ZZ, 4, 1, x=-(gamma1-1), y=gamma1)\n",
    "z2hat"
   ]
  },
  {
   "cell_type": "code",
   "execution_count": 68,
   "metadata": {},
   "outputs": [
    {
     "data": {
      "text/plain": [
       "2"
      ]
     },
     "execution_count": 68,
     "metadata": {},
     "output_type": "execute_result"
    }
   ],
   "source": [
    "clenbits = log(k,2)\n",
    "clenbits"
   ]
  },
  {
   "cell_type": "code",
   "execution_count": 69,
   "metadata": {},
   "outputs": [],
   "source": [
    "def sample_in_ball(digest):  # digest should be at least ****\n",
    "    n = 2**clenbits  # variable name conflicts!  This n is local\n",
    "    c = [0] * n\n",
    "    k = n # This k is local\n",
    "    for i in range(n-tau, n):\n",
    "        while int(digest[clenbits*k:clenbits*(k+1)], 2) > i:\n",
    "            k = k+1\n",
    "        j = int(digest[clenbits*k:clenbits*(k+1)], 2)\n",
    "        c[i] = c[j]\n",
    "        c[j] = (-1)^int(digest[i+tau-n], 2)\n",
    "        k = k+1\n",
    "    return c"
   ]
  },
  {
   "cell_type": "code",
   "execution_count": 70,
   "metadata": {
    "scrolled": true
   },
   "outputs": [
    {
     "data": {
      "text/plain": [
       "[ 0]\n",
       "[-1]\n",
       "[ 0]\n",
       "[ 0]"
      ]
     },
     "execution_count": 70,
     "metadata": {},
     "output_type": "execute_result"
    }
   ],
   "source": [
    "chat = matrix(k,1,sample_in_ball(format(randrange(2^20),'020b'))) #20 random bits\n",
    "chat"
   ]
  },
  {
   "cell_type": "code",
   "execution_count": 71,
   "metadata": {},
   "outputs": [
    {
     "data": {
      "text/plain": [
       "[ 19]\n",
       "[  8]\n",
       "[-12]\n",
       "[ -4]"
      ]
     },
     "execution_count": 71,
     "metadata": {},
     "output_type": "execute_result"
    }
   ],
   "source": [
    "w = matrix(A*z1hat+z2hat-T*chat).apply_map(lambda r: Mod(r,q).lift_centered())\n",
    "w"
   ]
  },
  {
   "cell_type": "markdown",
   "metadata": {},
   "source": [
    "Start the \"non-cryptographic hash/XOF (combined?)\""
   ]
  },
  {
   "cell_type": "code",
   "execution_count": 72,
   "metadata": {},
   "outputs": [
    {
     "data": {
      "text/plain": [
       "[-5, 4, -20, -7]"
      ]
     },
     "execution_count": 72,
     "metadata": {},
     "output_type": "execute_result"
    }
   ],
   "source": [
    "w1list = [c for row in w1 for c in row]  #flatten the matrix down to coefficients\n",
    "w1list"
   ]
  },
  {
   "cell_type": "code",
   "execution_count": 73,
   "metadata": {},
   "outputs": [],
   "source": [
    "def XOF(list1, list2, itemlen, numbits):\n",
    "    out = \"\"\n",
    "    list11 = list1\n",
    "    while len(out)<numbits:\n",
    "        newitem = vector(list11).dot_product(vector(list2)) % (2**itemlen) # make sure all bits of input are used\n",
    "        out = out + format(newitem, f'0{itemlen}b')\n",
    "        list11 = [newitem] + list11[:-1]\n",
    "    return out[:numbits]"
   ]
  },
  {
   "cell_type": "code",
   "execution_count": 74,
   "metadata": {},
   "outputs": [
    {
     "data": {
      "text/plain": [
       "'11000001011100011100'"
      ]
     },
     "execution_count": 74,
     "metadata": {},
     "output_type": "execute_result"
    }
   ],
   "source": [
    "c_hash = XOF(M_list, w1list, 6, 20)\n",
    "c_hash"
   ]
  },
  {
   "cell_type": "markdown",
   "metadata": {},
   "source": [
    "Use XOF to sample a sparse polynomial"
   ]
  },
  {
   "cell_type": "markdown",
   "metadata": {},
   "source": [
    "Generate the signature\n"
   ]
  },
  {
   "cell_type": "code",
   "execution_count": 75,
   "metadata": {},
   "outputs": [
    {
     "data": {
      "text/plain": [
       "[ 0]\n",
       "[-1]\n",
       "[ 0]\n",
       "[ 0]"
      ]
     },
     "execution_count": 75,
     "metadata": {},
     "output_type": "execute_result"
    }
   ],
   "source": [
    "c = matrix(k,1,sample_in_ball(c_hash))\n",
    "c"
   ]
  },
  {
   "cell_type": "markdown",
   "metadata": {},
   "source": [
    "Now try to find $z_i$ that match $w$, i.e. $A\\mathbf{z}_1+\\mathbf{z}_2 = A\\hat{z}_1 + \\hat{z}_2 +ct - \\hat{c}t$"
   ]
  },
  {
   "cell_type": "markdown",
   "metadata": {},
   "source": [
    "Could guess $z_1$ at random and solve for $z_2$"
   ]
  },
  {
   "cell_type": "code",
   "execution_count": 77,
   "metadata": {
    "scrolled": true
   },
   "outputs": [
    {
     "data": {
      "text/plain": [
       "[  1]\n",
       "[-13]\n",
       "[ 11]\n",
       "[ -9]"
      ]
     },
     "execution_count": 77,
     "metadata": {},
     "output_type": "execute_result"
    }
   ],
   "source": [
    "z1 = random_matrix(ZZ, 4, 1, x=-(gamma1-beta-1), y=gamma1-beta)\n",
    "z1"
   ]
  },
  {
   "cell_type": "code",
   "execution_count": 80,
   "metadata": {},
   "outputs": [
    {
     "data": {
      "text/plain": [
       "[ 16]\n",
       "[-15]\n",
       "[  1]\n",
       "[ 20]"
      ]
     },
     "execution_count": 80,
     "metadata": {},
     "output_type": "execute_result"
    }
   ],
   "source": [
    "z2 = matrix(A*z1hat+z2hat+T*c-T*chat-A*z1).apply_map(lambda r: Mod(r,q).lift_centered())\n",
    "z2"
   ]
  },
  {
   "cell_type": "markdown",
   "metadata": {},
   "source": [
    "Is $\\|\\mathbf{z_1}\\|_\\infty \\geq \\gamma_1-\\beta$?"
   ]
  },
  {
   "cell_type": "code",
   "execution_count": 23,
   "metadata": {},
   "outputs": [
    {
     "data": {
      "text/plain": [
       "15"
      ]
     },
     "execution_count": 23,
     "metadata": {},
     "output_type": "execute_result"
    }
   ],
   "source": [
    "gamma1-beta"
   ]
  },
  {
   "cell_type": "markdown",
   "metadata": {},
   "source": [
    "If so, reject and pick a new $\\mathbf{y_1}$"
   ]
  },
  {
   "cell_type": "code",
   "execution_count": 24,
   "metadata": {},
   "outputs": [
    {
     "data": {
      "text/plain": [
       "[  1]\n",
       "[-11]\n",
       "[ 10]\n",
       "[ -3]"
      ]
     },
     "execution_count": 24,
     "metadata": {},
     "output_type": "execute_result"
    }
   ],
   "source": [
    "z2 = matrix(y2 + S2*c); z2"
   ]
  },
  {
   "cell_type": "markdown",
   "metadata": {},
   "source": [
    "Is $\\|\\mathbf{z_2}\\|_\\infty \\geq \\gamma_1-\\beta$?"
   ]
  },
  {
   "cell_type": "code",
   "execution_count": 25,
   "metadata": {},
   "outputs": [
    {
     "data": {
      "text/plain": [
       "15"
      ]
     },
     "execution_count": 25,
     "metadata": {},
     "output_type": "execute_result"
    }
   ],
   "source": [
    "gamma1-beta"
   ]
  },
  {
   "cell_type": "markdown",
   "metadata": {},
   "source": [
    "If so, reject and pick a new $\\mathbf{y_2}$"
   ]
  },
  {
   "cell_type": "markdown",
   "metadata": {},
   "source": [
    "If not, $(\\mathbf{z_1}, \\mathbf{z_2}, \\mathbf{c})$ is the signature\n"
   ]
  },
  {
   "cell_type": "code",
   "execution_count": 26,
   "metadata": {},
   "outputs": [
    {
     "data": {
      "text/plain": [
       "(\n",
       "[-3]  [  1]  [ 0]\n",
       "[-1]  [-11]  [-1]\n",
       "[ 0]  [ 10]  [ 0]\n",
       "[14], [ -3], [ 0]\n",
       ")"
      ]
     },
     "execution_count": 26,
     "metadata": {},
     "output_type": "execute_result"
    }
   ],
   "source": [
    "(z1, z2, c)"
   ]
  },
  {
   "cell_type": "markdown",
   "metadata": {},
   "source": [
    "Bob verifies the signature"
   ]
  },
  {
   "cell_type": "markdown",
   "metadata": {},
   "source": [
    "Is $\\|\\mathbf{z_i}\\|_\\infty < \\gamma_1-\\beta$?"
   ]
  },
  {
   "cell_type": "code",
   "execution_count": 27,
   "metadata": {},
   "outputs": [
    {
     "data": {
      "text/plain": [
       "[-3]\n",
       "[-1]\n",
       "[ 0]\n",
       "[14]"
      ]
     },
     "execution_count": 27,
     "metadata": {},
     "output_type": "execute_result"
    }
   ],
   "source": [
    "z1"
   ]
  },
  {
   "cell_type": "code",
   "execution_count": 28,
   "metadata": {},
   "outputs": [
    {
     "data": {
      "text/plain": [
       "[  1]\n",
       "[-11]\n",
       "[ 10]\n",
       "[ -3]"
      ]
     },
     "execution_count": 28,
     "metadata": {},
     "output_type": "execute_result"
    }
   ],
   "source": [
    "z2"
   ]
  },
  {
   "cell_type": "code",
   "execution_count": 29,
   "metadata": {},
   "outputs": [
    {
     "data": {
      "text/plain": [
       "15"
      ]
     },
     "execution_count": 29,
     "metadata": {},
     "output_type": "execute_result"
    }
   ],
   "source": [
    "gamma1-beta"
   ]
  },
  {
   "cell_type": "markdown",
   "metadata": {},
   "source": [
    "Yes"
   ]
  },
  {
   "cell_type": "markdown",
   "metadata": {},
   "source": [
    "Is $c = H(M \\| w_1')$?"
   ]
  },
  {
   "cell_type": "code",
   "execution_count": 30,
   "metadata": {},
   "outputs": [
    {
     "data": {
      "text/plain": [
       "[16]\n",
       "[ 8]\n",
       "[-6]\n",
       "[ 2]"
      ]
     },
     "execution_count": 30,
     "metadata": {},
     "output_type": "execute_result"
    }
   ],
   "source": [
    "w1prime = matrix(((A*z1+z2-T*c) % q)).apply_map(lambda r: Mod(r,q).lift_centered())\n",
    "w1prime"
   ]
  },
  {
   "cell_type": "code",
   "execution_count": 32,
   "metadata": {},
   "outputs": [
    {
     "data": {
      "text/plain": [
       "[16, 8, -6, 2]"
      ]
     },
     "execution_count": 32,
     "metadata": {},
     "output_type": "execute_result"
    }
   ],
   "source": [
    "w1primelist = [c for row in w1 for c in row]  #flatten the matrix down to coefficients\n",
    "w1primelist"
   ]
  },
  {
   "cell_type": "code",
   "execution_count": 33,
   "metadata": {},
   "outputs": [
    {
     "data": {
      "text/plain": [
       "'11000011011000001000'"
      ]
     },
     "execution_count": 33,
     "metadata": {},
     "output_type": "execute_result"
    }
   ],
   "source": [
    "cprime_hash = XOF(Mlist, w1primelist, 6, 20)\n",
    "cprime_hash"
   ]
  },
  {
   "cell_type": "code",
   "execution_count": 34,
   "metadata": {},
   "outputs": [
    {
     "data": {
      "text/plain": [
       "[ 0]\n",
       "[-1]\n",
       "[ 0]\n",
       "[ 0]"
      ]
     },
     "execution_count": 34,
     "metadata": {},
     "output_type": "execute_result"
    }
   ],
   "source": [
    "cprime = matrix(k,1,sample_in_ball(cprime_hash))\n",
    "cprime"
   ]
  },
  {
   "cell_type": "code",
   "execution_count": 35,
   "metadata": {},
   "outputs": [
    {
     "data": {
      "text/plain": [
       "True"
      ]
     },
     "execution_count": 35,
     "metadata": {},
     "output_type": "execute_result"
    }
   ],
   "source": [
    "c == cprime"
   ]
  },
  {
   "cell_type": "markdown",
   "metadata": {},
   "source": [
    "Yes.  The signature is accepted."
   ]
  },
  {
   "cell_type": "code",
   "execution_count": null,
   "metadata": {},
   "outputs": [],
   "source": []
  }
 ],
 "metadata": {
  "kernelspec": {
   "display_name": "SageMath 9.5",
   "language": "sage",
   "name": "sagemath"
  },
  "language_info": {
   "codemirror_mode": {
    "name": "ipython",
    "version": 3
   },
   "file_extension": ".py",
   "mimetype": "text/x-python",
   "name": "python",
   "nbconvert_exporter": "python",
   "pygments_lexer": "ipython3",
   "version": "3.10.12"
  }
 },
 "nbformat": 4,
 "nbformat_minor": 4
}
