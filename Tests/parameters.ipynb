{
 "cells": [
  {
   "cell_type": "markdown",
   "id": "ab26ffe9",
   "metadata": {},
   "source": [
    "# Small parameters (N?)"
   ]
  },
  {
   "cell_type": "code",
   "execution_count": 69,
   "id": "12a5b6f5",
   "metadata": {},
   "outputs": [],
   "source": [
    "n=4\n",
    "k=2\n",
    "eta=1 #secret key range, prefered 2 in Alkaline\n",
    "R.<x> = ZZ[]"
   ]
  },
  {
   "cell_type": "code",
   "execution_count": 70,
   "id": "ff3c9acc",
   "metadata": {},
   "outputs": [
    {
     "name": "stdout",
     "output_type": "stream",
     "text": [
      "0.000000000000000\n",
      "2.38629436111989\n",
      "3.79175946922805\n",
      "4.38629436111989\n",
      "4.00000000000000\n"
     ]
    }
   ],
   "source": [
    "for tau in range(5):\n",
    "    print(ln(binomial(n, tau)).n()+tau) #challenge entropy, should be between n/2 and n"
   ]
  },
  {
   "cell_type": "code",
   "execution_count": 71,
   "id": "8a030330",
   "metadata": {},
   "outputs": [
    {
     "data": {
      "text/plain": [
       "2.38629436111989"
      ]
     },
     "execution_count": 71,
     "metadata": {},
     "output_type": "execute_result"
    }
   ],
   "source": [
    "tau = 1 #number of 1's in c\n",
    "ln(binomial(n, tau)).n()+tau"
   ]
  },
  {
   "cell_type": "code",
   "execution_count": 72,
   "id": "fe858cd3",
   "metadata": {},
   "outputs": [
    {
     "data": {
      "text/plain": [
       "1"
      ]
     },
     "execution_count": 72,
     "metadata": {},
     "output_type": "execute_result"
    }
   ],
   "source": [
    "beta = tau*eta\n",
    "beta"
   ]
  },
  {
   "cell_type": "code",
   "execution_count": 73,
   "id": "50701569",
   "metadata": {
    "scrolled": true
   },
   "outputs": [
    {
     "name": "stdout",
     "output_type": "stream",
     "text": [
      "1.00000000000000\n",
      "4.30467210000000e7\n",
      "217.795333780937\n",
      "9.87112173796777\n",
      "2.90682666192675\n",
      "1.67560416454276\n"
     ]
    }
   ],
   "source": [
    "for logGamma in range(6):\n",
    "    print(1/(((2*((2^logGamma)-beta)-1)/(2*(2^logGamma)-1))^(n*k))^2.n()) #expected number of repetitions"
   ]
  },
  {
   "cell_type": "code",
   "execution_count": 74,
   "id": "c862ea69",
   "metadata": {},
   "outputs": [],
   "source": [
    "gamma=2^3 #y coeff range, power of 2, as small as gives reasonable number of repetitions.  Earlier version was *not* power of 2"
   ]
  },
  {
   "cell_type": "markdown",
   "id": "4f0ff342",
   "metadata": {},
   "source": [
    "Chance of $\\mathbf{y}_i$-coefficient passing:"
   ]
  },
  {
   "cell_type": "code",
   "execution_count": 75,
   "id": "5833c932",
   "metadata": {},
   "outputs": [
    {
     "data": {
      "text/plain": [
       "0.318285420783417"
      ]
     },
     "execution_count": 75,
     "metadata": {},
     "output_type": "execute_result"
    }
   ],
   "source": [
    "((2*(gamma-beta)-1)/(2*gamma-1))^(n*k).n()"
   ]
  },
  {
   "cell_type": "markdown",
   "id": "554ced6d",
   "metadata": {},
   "source": [
    "Expected number of repetitions:"
   ]
  },
  {
   "cell_type": "code",
   "execution_count": 76,
   "id": "f80e362c",
   "metadata": {},
   "outputs": [
    {
     "data": {
      "text/plain": [
       "9.87112173796777"
      ]
     },
     "execution_count": 76,
     "metadata": {},
     "output_type": "execute_result"
    }
   ],
   "source": [
    "1/(((2*(gamma-beta)-1)/(2*gamma-1))^(n*k))^2.n()"
   ]
  },
  {
   "cell_type": "markdown",
   "id": "ffc0488b",
   "metadata": {},
   "source": [
    "Not great number of repetitions, but lets us use small $q$"
   ]
  },
  {
   "cell_type": "code",
   "execution_count": 77,
   "id": "9b3fda5d",
   "metadata": {},
   "outputs": [
    {
     "data": {
      "text/plain": [
       "41"
      ]
     },
     "execution_count": 77,
     "metadata": {},
     "output_type": "execute_result"
    }
   ],
   "source": [
    "q=41 #same as Alkaline D\n",
    "#((2*gamma-1)/q) should be less than ~~1/2\n",
    "#q-1 should be divisible by 2n for NTT\n",
    "q"
   ]
  },
  {
   "cell_type": "code",
   "execution_count": 78,
   "id": "68d95658",
   "metadata": {},
   "outputs": [
    {
     "data": {
      "text/plain": [
       "True"
      ]
     },
     "execution_count": 78,
     "metadata": {},
     "output_type": "execute_result"
    }
   ],
   "source": [
    "is_prime(q)"
   ]
  },
  {
   "cell_type": "code",
   "execution_count": 79,
   "id": "038708ab",
   "metadata": {},
   "outputs": [
    {
     "data": {
      "text/plain": [
       "5"
      ]
     },
     "execution_count": 79,
     "metadata": {},
     "output_type": "execute_result"
    }
   ],
   "source": [
    "(q-1)/(2*n)"
   ]
  },
  {
   "cell_type": "code",
   "execution_count": 80,
   "id": "2911a530",
   "metadata": {},
   "outputs": [
    {
     "data": {
      "text/plain": [
       "0.365853658536585"
      ]
     },
     "execution_count": 80,
     "metadata": {},
     "output_type": "execute_result"
    }
   ],
   "source": [
    "((2*gamma-1)/q).n()"
   ]
  },
  {
   "cell_type": "code",
   "execution_count": 81,
   "id": "88949c1b",
   "metadata": {},
   "outputs": [
    {
     "data": {
      "text/plain": [
       "6"
      ]
     },
     "execution_count": 81,
     "metadata": {},
     "output_type": "execute_result"
    }
   ],
   "source": [
    "qlen = ceil(log(q,2))\n",
    "qlen"
   ]
  },
  {
   "cell_type": "markdown",
   "id": "5362249a",
   "metadata": {},
   "source": [
    "Annoying when hashing.  Is it worth increasing $q$ to 23 (and losing NTT)?  Or should we drop a bit when hashing?  Or just not that important?"
   ]
  },
  {
   "cell_type": "markdown",
   "id": "c6c719cc",
   "metadata": {},
   "source": [
    "# Medium parameters (AA?)"
   ]
  },
  {
   "cell_type": "code",
   "execution_count": 82,
   "id": "2e076138",
   "metadata": {},
   "outputs": [],
   "source": [
    "n=4\n",
    "k=2\n",
    "eta=1 #secret key range, prefered 2 in Alkaline\n",
    "R.<x> = ZZ[]"
   ]
  },
  {
   "cell_type": "code",
   "execution_count": 83,
   "id": "e88de816",
   "metadata": {},
   "outputs": [
    {
     "name": "stdout",
     "output_type": "stream",
     "text": [
      "0.000000000000000\n",
      "2.38629436111989\n",
      "3.79175946922805\n",
      "4.38629436111989\n",
      "4.00000000000000\n"
     ]
    }
   ],
   "source": [
    "for tau in range(5):\n",
    "    print(ln(binomial(n, tau)).n()+tau) #challenge entropy, should be between n/2 and n"
   ]
  },
  {
   "cell_type": "code",
   "execution_count": 84,
   "id": "c8e2e553",
   "metadata": {},
   "outputs": [
    {
     "data": {
      "text/plain": [
       "2.38629436111989"
      ]
     },
     "execution_count": 84,
     "metadata": {},
     "output_type": "execute_result"
    }
   ],
   "source": [
    "tau = 1 #number of 1's in c\n",
    "ln(binomial(n, tau)).n()+tau"
   ]
  },
  {
   "cell_type": "code",
   "execution_count": 85,
   "id": "38f046c5",
   "metadata": {},
   "outputs": [
    {
     "data": {
      "text/plain": [
       "1"
      ]
     },
     "execution_count": 85,
     "metadata": {},
     "output_type": "execute_result"
    }
   ],
   "source": [
    "beta = tau*eta\n",
    "beta"
   ]
  },
  {
   "cell_type": "code",
   "execution_count": 86,
   "id": "c55a15d5",
   "metadata": {
    "scrolled": true
   },
   "outputs": [
    {
     "name": "stdout",
     "output_type": "stream",
     "text": [
      "1.00000000000000\n",
      "4.30467210000000e7\n",
      "217.795333780937\n",
      "9.87112173796777\n",
      "2.90682666192675\n",
      "1.67560416454276\n"
     ]
    }
   ],
   "source": [
    "for logGamma in range(6):\n",
    "    print(1/(((2*((2^logGamma)-beta)-1)/(2*(2^logGamma)-1))^(n*k))^2.n())"
   ]
  },
  {
   "cell_type": "code",
   "execution_count": 87,
   "id": "81689cad",
   "metadata": {},
   "outputs": [],
   "source": [
    "gamma=2^4 #y coeff range, power of 2, exponent about 2/3 of q?  Earlier version was *not* power of 2"
   ]
  },
  {
   "cell_type": "markdown",
   "id": "98292a16",
   "metadata": {},
   "source": [
    "Chance of $\\mathbf{y}_i$-coefficient passing:"
   ]
  },
  {
   "cell_type": "code",
   "execution_count": 88,
   "id": "06c10646",
   "metadata": {},
   "outputs": [
    {
     "data": {
      "text/plain": [
       "0.586530272919658"
      ]
     },
     "execution_count": 88,
     "metadata": {},
     "output_type": "execute_result"
    }
   ],
   "source": [
    "((2*(gamma-beta)-1)/(2*gamma-1))^(n*k).n()"
   ]
  },
  {
   "cell_type": "markdown",
   "id": "05a885e7",
   "metadata": {},
   "source": [
    "Expected number of repetitions:"
   ]
  },
  {
   "cell_type": "code",
   "execution_count": 89,
   "id": "d231ff27",
   "metadata": {},
   "outputs": [
    {
     "data": {
      "text/plain": [
       "2.90682666192675"
      ]
     },
     "execution_count": 89,
     "metadata": {},
     "output_type": "execute_result"
    }
   ],
   "source": [
    "1/(((2*(gamma-beta)-1)/(2*gamma-1))^(n*k))^2.n()"
   ]
  },
  {
   "cell_type": "code",
   "execution_count": 90,
   "id": "9d32c227",
   "metadata": {},
   "outputs": [
    {
     "data": {
      "text/plain": [
       "97"
      ]
     },
     "execution_count": 90,
     "metadata": {},
     "output_type": "execute_result"
    }
   ],
   "source": [
    "q=97 #((2*gamma-1)/q) should be at most ~~1/2\n",
    "#q-1 should be divisible by 2n for NTT\n",
    "q"
   ]
  },
  {
   "cell_type": "code",
   "execution_count": 91,
   "id": "219eea04",
   "metadata": {},
   "outputs": [
    {
     "data": {
      "text/plain": [
       "True"
      ]
     },
     "execution_count": 91,
     "metadata": {},
     "output_type": "execute_result"
    }
   ],
   "source": [
    "is_prime(q)"
   ]
  },
  {
   "cell_type": "code",
   "execution_count": 92,
   "id": "6539317c",
   "metadata": {},
   "outputs": [
    {
     "data": {
      "text/plain": [
       "12"
      ]
     },
     "execution_count": 92,
     "metadata": {},
     "output_type": "execute_result"
    }
   ],
   "source": [
    "(q-1)/(2*n)"
   ]
  },
  {
   "cell_type": "code",
   "execution_count": 93,
   "id": "06fc18a3",
   "metadata": {},
   "outputs": [
    {
     "data": {
      "text/plain": [
       "0.319587628865979"
      ]
     },
     "execution_count": 93,
     "metadata": {},
     "output_type": "execute_result"
    }
   ],
   "source": [
    "((2*gamma-1)/q).n()"
   ]
  },
  {
   "cell_type": "markdown",
   "id": "f235b3fa",
   "metadata": {},
   "source": [
    "Chance of linear algebra forgery passing by luck:"
   ]
  },
  {
   "cell_type": "code",
   "execution_count": 94,
   "id": "4d9ebadb",
   "metadata": {},
   "outputs": [
    {
     "data": {
      "text/plain": [
       "0.000108822744993069"
      ]
     },
     "execution_count": 94,
     "metadata": {},
     "output_type": "execute_result"
    }
   ],
   "source": [
    "((2*gamma-1)/q)^(n*k).n()"
   ]
  },
  {
   "cell_type": "code",
   "execution_count": 95,
   "id": "b8645f29",
   "metadata": {},
   "outputs": [
    {
     "data": {
      "text/plain": [
       "7"
      ]
     },
     "execution_count": 95,
     "metadata": {},
     "output_type": "execute_result"
    }
   ],
   "source": [
    "qlen = ceil(log(q,2))\n",
    "qlen"
   ]
  },
  {
   "cell_type": "markdown",
   "id": "e364c28d",
   "metadata": {},
   "source": [
    "# Original parameters (AAA?)"
   ]
  },
  {
   "cell_type": "code",
   "execution_count": 96,
   "id": "eec06c99",
   "metadata": {},
   "outputs": [],
   "source": [
    "n=4\n",
    "k=2\n",
    "q=41 #same as Alkaline D\n",
    "#q-1 should be divisible by 2n for NTT\n",
    "eta=1 #secret key range, prefered 2 in Alkaline\n",
    "R.<x> = ZZ[]"
   ]
  },
  {
   "cell_type": "code",
   "execution_count": 97,
   "id": "62cf68ed",
   "metadata": {},
   "outputs": [
    {
     "data": {
      "text/plain": [
       "41"
      ]
     },
     "execution_count": 97,
     "metadata": {},
     "output_type": "execute_result"
    }
   ],
   "source": [
    "q"
   ]
  },
  {
   "cell_type": "code",
   "execution_count": 98,
   "id": "90a2149c",
   "metadata": {},
   "outputs": [
    {
     "data": {
      "text/plain": [
       "5"
      ]
     },
     "execution_count": 98,
     "metadata": {},
     "output_type": "execute_result"
    }
   ],
   "source": [
    "(q-1)/(2*n)"
   ]
  },
  {
   "cell_type": "code",
   "execution_count": 99,
   "id": "33319828",
   "metadata": {},
   "outputs": [
    {
     "data": {
      "text/plain": [
       "True"
      ]
     },
     "execution_count": 99,
     "metadata": {},
     "output_type": "execute_result"
    }
   ],
   "source": [
    "is_prime(q)"
   ]
  },
  {
   "cell_type": "code",
   "execution_count": 100,
   "id": "a1899fbb",
   "metadata": {},
   "outputs": [
    {
     "data": {
      "text/plain": [
       "6"
      ]
     },
     "execution_count": 100,
     "metadata": {},
     "output_type": "execute_result"
    }
   ],
   "source": [
    "qlen = ceil(log(q,2))\n",
    "qlen"
   ]
  },
  {
   "cell_type": "code",
   "execution_count": 101,
   "id": "2754b433",
   "metadata": {},
   "outputs": [
    {
     "name": "stdout",
     "output_type": "stream",
     "text": [
      "0.000000000000000\n",
      "2.38629436111989\n",
      "3.79175946922805\n",
      "4.38629436111989\n",
      "4.00000000000000\n"
     ]
    }
   ],
   "source": [
    "for tau in range(5):\n",
    "    print(ln(binomial(n, tau)).n()+tau) #challenge entropy, should be between n/2 and n"
   ]
  },
  {
   "cell_type": "code",
   "execution_count": 102,
   "id": "3143b568",
   "metadata": {},
   "outputs": [
    {
     "data": {
      "text/plain": [
       "3.79175946922805"
      ]
     },
     "execution_count": 102,
     "metadata": {},
     "output_type": "execute_result"
    }
   ],
   "source": [
    "tau = 2 #number of 1's in c\n",
    "ln(binomial(n, tau)).n()+tau"
   ]
  },
  {
   "cell_type": "code",
   "execution_count": 103,
   "id": "ffa9316b",
   "metadata": {},
   "outputs": [
    {
     "data": {
      "text/plain": [
       "2"
      ]
     },
     "execution_count": 103,
     "metadata": {},
     "output_type": "execute_result"
    }
   ],
   "source": [
    "beta = tau*eta\n",
    "beta"
   ]
  },
  {
   "cell_type": "code",
   "execution_count": 104,
   "id": "84f23c4b",
   "metadata": {
    "scrolled": true
   },
   "outputs": [
    {
     "name": "stdout",
     "output_type": "stream",
     "text": [
      "2.32305731254188e-8\n",
      "4.30467210000000e7\n",
      "772020.023769081\n",
      "142.947703397059\n",
      "9.11941279675907\n",
      "2.85638408726899\n"
     ]
    }
   ],
   "source": [
    "for logGamma in range(6):\n",
    "    print(1/(((2*((2^logGamma)-beta)-1)/(2*(2^logGamma)-1))^(n*k))^2.n())"
   ]
  },
  {
   "cell_type": "code",
   "execution_count": 105,
   "id": "7f0bb81b",
   "metadata": {},
   "outputs": [],
   "source": [
    "gamma=2^4 #y coeff range, power of 2, exponent about 2/3 of q?  Earlier version was *not* power of 2"
   ]
  },
  {
   "cell_type": "markdown",
   "id": "94cd60cf",
   "metadata": {},
   "source": [
    "Chance of $\\mathbf{y}_i$-coefficient passing:"
   ]
  },
  {
   "cell_type": "code",
   "execution_count": 106,
   "id": "c589396b",
   "metadata": {},
   "outputs": [
    {
     "data": {
      "text/plain": [
       "0.331143750001638"
      ]
     },
     "execution_count": 106,
     "metadata": {},
     "output_type": "execute_result"
    }
   ],
   "source": [
    "((2*(gamma-beta)-1)/(2*gamma-1))^(n*k).n()"
   ]
  },
  {
   "cell_type": "markdown",
   "id": "1dc1cb75",
   "metadata": {},
   "source": [
    "Expected number of repetitions:"
   ]
  },
  {
   "cell_type": "code",
   "execution_count": 107,
   "id": "64f558cd",
   "metadata": {},
   "outputs": [
    {
     "data": {
      "text/plain": [
       "9.11941279675907"
      ]
     },
     "execution_count": 107,
     "metadata": {},
     "output_type": "execute_result"
    }
   ],
   "source": [
    "1/(((2*(gamma-beta)-1)/(2*gamma-1))^(n*k))^2.n()"
   ]
  },
  {
   "cell_type": "code",
   "execution_count": 108,
   "id": "1b5a9a66",
   "metadata": {},
   "outputs": [
    {
     "data": {
      "text/plain": [
       "0.756097560975610"
      ]
     },
     "execution_count": 108,
     "metadata": {},
     "output_type": "execute_result"
    }
   ],
   "source": [
    "((2*gamma-1)/q).n()"
   ]
  },
  {
   "cell_type": "markdown",
   "id": "09c8cd7a",
   "metadata": {},
   "source": [
    "Larger than ideal, but maybe okay?"
   ]
  },
  {
   "cell_type": "markdown",
   "id": "1fdbdb09",
   "metadata": {},
   "source": [
    "Chance of linear algebra forgery passing by luck:"
   ]
  },
  {
   "cell_type": "code",
   "execution_count": 109,
   "id": "793c0f00",
   "metadata": {},
   "outputs": [
    {
     "data": {
      "text/plain": [
       "0.106812651711566"
      ]
     },
     "execution_count": 109,
     "metadata": {},
     "output_type": "execute_result"
    }
   ],
   "source": [
    "((2*gamma-1)/q)^(n*k).n()"
   ]
  },
  {
   "cell_type": "markdown",
   "id": "2d4989b8",
   "metadata": {},
   "source": [
    "Kind of high, although not terrible"
   ]
  },
  {
   "cell_type": "markdown",
   "id": "9efbfda6",
   "metadata": {},
   "source": [
    "# Medium-Large Parameters? (C?)"
   ]
  },
  {
   "cell_type": "code",
   "execution_count": 110,
   "id": "bc174384",
   "metadata": {},
   "outputs": [],
   "source": [
    "n=4\n",
    "k=2\n",
    "eta=1 #secret key range, prefered 2 in Alkaline\n",
    "R.<x> = ZZ[]"
   ]
  },
  {
   "cell_type": "code",
   "execution_count": 111,
   "id": "69e6a33f",
   "metadata": {},
   "outputs": [
    {
     "name": "stdout",
     "output_type": "stream",
     "text": [
      "0.000000000000000\n",
      "2.38629436111989\n",
      "3.79175946922805\n",
      "4.38629436111989\n",
      "4.00000000000000\n"
     ]
    }
   ],
   "source": [
    "for tau in range(5):\n",
    "    print(ln(binomial(n, tau)).n()+tau) #challenge entropy, should be between n/2 and n"
   ]
  },
  {
   "cell_type": "code",
   "execution_count": 112,
   "id": "e707a9c8",
   "metadata": {},
   "outputs": [
    {
     "data": {
      "text/plain": [
       "3.79175946922805"
      ]
     },
     "execution_count": 112,
     "metadata": {},
     "output_type": "execute_result"
    }
   ],
   "source": [
    "tau = 2 #number of 1's in c\n",
    "ln(binomial(n, tau)).n()+tau"
   ]
  },
  {
   "cell_type": "code",
   "execution_count": 113,
   "id": "771837a4",
   "metadata": {},
   "outputs": [
    {
     "data": {
      "text/plain": [
       "2"
      ]
     },
     "execution_count": 113,
     "metadata": {},
     "output_type": "execute_result"
    }
   ],
   "source": [
    "beta = tau*eta\n",
    "beta"
   ]
  },
  {
   "cell_type": "markdown",
   "id": "cb1640f6",
   "metadata": {},
   "source": [
    "Chance of $\\mathbf{y}_i$-coefficient passing:"
   ]
  },
  {
   "cell_type": "code",
   "execution_count": 114,
   "id": "48f74d29",
   "metadata": {},
   "outputs": [
    {
     "name": "stdout",
     "output_type": "stream",
     "text": [
      "2.32305731254188e-8\n",
      "4.30467210000000e7\n",
      "772020.023769081\n",
      "142.947703397059\n",
      "9.11941279675907\n",
      "2.85638408726899\n",
      "1.66869802627626\n"
     ]
    }
   ],
   "source": [
    "for logGamma in range(7):\n",
    "    print(1/(((2*((2^logGamma)-beta)-1)/(2*(2^logGamma)-1))^(n*k))^2.n())"
   ]
  },
  {
   "cell_type": "code",
   "execution_count": 115,
   "id": "227586c5",
   "metadata": {},
   "outputs": [],
   "source": [
    "gamma=2^4 #y coeff range, power of 2, exponent about 2/3 of q?  Earlier version was *not* power of 2|"
   ]
  },
  {
   "cell_type": "code",
   "execution_count": 116,
   "id": "67564a33",
   "metadata": {},
   "outputs": [
    {
     "data": {
      "text/plain": [
       "0.331143750001638"
      ]
     },
     "execution_count": 116,
     "metadata": {},
     "output_type": "execute_result"
    }
   ],
   "source": [
    "((2*(gamma-beta)-1)/(2*gamma-1))^(n*k).n()"
   ]
  },
  {
   "cell_type": "markdown",
   "id": "4da5569c",
   "metadata": {},
   "source": [
    "Expected number of repetitions:"
   ]
  },
  {
   "cell_type": "code",
   "execution_count": 117,
   "id": "db542c5d",
   "metadata": {},
   "outputs": [
    {
     "data": {
      "text/plain": [
       "9.11941279675907"
      ]
     },
     "execution_count": 117,
     "metadata": {},
     "output_type": "execute_result"
    }
   ],
   "source": [
    "1/(((2*(gamma-beta)-1)/(2*gamma-1))^(n*k))^2.n()"
   ]
  },
  {
   "cell_type": "markdown",
   "id": "4167e468",
   "metadata": {},
   "source": [
    "Larger than ideal"
   ]
  },
  {
   "cell_type": "code",
   "execution_count": 118,
   "id": "d44a86b0",
   "metadata": {},
   "outputs": [
    {
     "data": {
      "text/plain": [
       "97"
      ]
     },
     "execution_count": 118,
     "metadata": {},
     "output_type": "execute_result"
    }
   ],
   "source": [
    "q=97 #larger than any Alkaline set\n",
    "#((2*gamma-1)/q) should be less than ~~ 1/2\n",
    "#q-1 should be divisible by 2n for NTT\n",
    "q"
   ]
  },
  {
   "cell_type": "code",
   "execution_count": 119,
   "id": "bc7a505a",
   "metadata": {},
   "outputs": [
    {
     "data": {
      "text/plain": [
       "True"
      ]
     },
     "execution_count": 119,
     "metadata": {},
     "output_type": "execute_result"
    }
   ],
   "source": [
    "is_prime(q)"
   ]
  },
  {
   "cell_type": "code",
   "execution_count": 120,
   "id": "8e7ead07",
   "metadata": {},
   "outputs": [
    {
     "data": {
      "text/plain": [
       "12"
      ]
     },
     "execution_count": 120,
     "metadata": {},
     "output_type": "execute_result"
    }
   ],
   "source": [
    "(q-1)/(2*n)"
   ]
  },
  {
   "cell_type": "code",
   "execution_count": 121,
   "id": "6e49071b",
   "metadata": {},
   "outputs": [
    {
     "data": {
      "text/plain": [
       "0.319587628865979"
      ]
     },
     "execution_count": 121,
     "metadata": {},
     "output_type": "execute_result"
    }
   ],
   "source": [
    "((2*gamma-1)/q).n()"
   ]
  },
  {
   "cell_type": "markdown",
   "id": "a60e5f6a",
   "metadata": {},
   "source": [
    "Chance of linear algebra forgery passing by luck:"
   ]
  },
  {
   "cell_type": "code",
   "execution_count": 122,
   "id": "275f6fc7",
   "metadata": {},
   "outputs": [
    {
     "data": {
      "text/plain": [
       "0.000108822744993069"
      ]
     },
     "execution_count": 122,
     "metadata": {},
     "output_type": "execute_result"
    }
   ],
   "source": [
    "((2*gamma-1)/q)^(n*k).n()"
   ]
  },
  {
   "cell_type": "code",
   "execution_count": 123,
   "id": "9632431e",
   "metadata": {
    "scrolled": true
   },
   "outputs": [
    {
     "data": {
      "text/plain": [
       "7"
      ]
     },
     "execution_count": 123,
     "metadata": {},
     "output_type": "execute_result"
    }
   ],
   "source": [
    "qlen = ceil(log(q,2))\n",
    "qlen"
   ]
  },
  {
   "cell_type": "code",
   "execution_count": null,
   "id": "426c6abb",
   "metadata": {},
   "outputs": [],
   "source": []
  },
  {
   "cell_type": "markdown",
   "id": "5e76c6ec",
   "metadata": {},
   "source": [
    "# Large Parameters? (D?)"
   ]
  },
  {
   "cell_type": "code",
   "execution_count": 124,
   "id": "667d34d6",
   "metadata": {},
   "outputs": [],
   "source": [
    "n=4\n",
    "k=2\n",
    "eta=1 #secret key range, prefered 2 in Alkaline\n",
    "R.<x> = ZZ[]"
   ]
  },
  {
   "cell_type": "code",
   "execution_count": 125,
   "id": "acd954d9",
   "metadata": {},
   "outputs": [
    {
     "name": "stdout",
     "output_type": "stream",
     "text": [
      "0.000000000000000\n",
      "2.38629436111989\n",
      "3.79175946922805\n",
      "4.38629436111989\n",
      "4.00000000000000\n"
     ]
    }
   ],
   "source": [
    "for tau in range(5):\n",
    "    print(ln(binomial(n, tau)).n()+tau) #challenge entropy, should be between n/2 and n"
   ]
  },
  {
   "cell_type": "code",
   "execution_count": 126,
   "id": "dac8ab2b",
   "metadata": {},
   "outputs": [
    {
     "data": {
      "text/plain": [
       "3.79175946922805"
      ]
     },
     "execution_count": 126,
     "metadata": {},
     "output_type": "execute_result"
    }
   ],
   "source": [
    "tau = 2 #number of 1's in c\n",
    "ln(binomial(n, tau)).n()+tau"
   ]
  },
  {
   "cell_type": "code",
   "execution_count": 127,
   "id": "f6111660",
   "metadata": {},
   "outputs": [
    {
     "data": {
      "text/plain": [
       "2"
      ]
     },
     "execution_count": 127,
     "metadata": {},
     "output_type": "execute_result"
    }
   ],
   "source": [
    "beta = tau*eta\n",
    "beta"
   ]
  },
  {
   "cell_type": "markdown",
   "id": "7f80fa29",
   "metadata": {},
   "source": [
    "Chance of $\\mathbf{y}_i$-coefficient passing:"
   ]
  },
  {
   "cell_type": "code",
   "execution_count": 128,
   "id": "97f341fc",
   "metadata": {},
   "outputs": [
    {
     "name": "stdout",
     "output_type": "stream",
     "text": [
      "2.32305731254188e-8\n",
      "4.30467210000000e7\n",
      "772020.023769081\n",
      "142.947703397059\n",
      "9.11941279675907\n",
      "2.85638408726899\n",
      "1.66869802627626\n"
     ]
    }
   ],
   "source": [
    "for logGamma in range(7):\n",
    "    print(1/(((2*((2^logGamma)-beta)-1)/(2*(2^logGamma)-1))^(n*k))^2.n())"
   ]
  },
  {
   "cell_type": "code",
   "execution_count": 129,
   "id": "cc1b0e00",
   "metadata": {},
   "outputs": [],
   "source": [
    "gamma=2^5 #y coeff range, power of 2, exponent about 2/3 of q?  Earlier version was *not* power of 2|"
   ]
  },
  {
   "cell_type": "code",
   "execution_count": 130,
   "id": "189e3e06",
   "metadata": {},
   "outputs": [
    {
     "data": {
      "text/plain": [
       "0.591686550464520"
      ]
     },
     "execution_count": 130,
     "metadata": {},
     "output_type": "execute_result"
    }
   ],
   "source": [
    "((2*(gamma-beta)-1)/(2*gamma-1))^(n*k).n()"
   ]
  },
  {
   "cell_type": "markdown",
   "id": "fcf1c6df",
   "metadata": {},
   "source": [
    "Expected number of repetitions:"
   ]
  },
  {
   "cell_type": "code",
   "execution_count": 131,
   "id": "c11d3185",
   "metadata": {},
   "outputs": [
    {
     "data": {
      "text/plain": [
       "2.85638408726899"
      ]
     },
     "execution_count": 131,
     "metadata": {},
     "output_type": "execute_result"
    }
   ],
   "source": [
    "1/(((2*(gamma-beta)-1)/(2*gamma-1))^(n*k))^2.n()"
   ]
  },
  {
   "cell_type": "code",
   "execution_count": 132,
   "id": "24382d03",
   "metadata": {},
   "outputs": [
    {
     "data": {
      "text/plain": [
       "193"
      ]
     },
     "execution_count": 132,
     "metadata": {},
     "output_type": "execute_result"
    }
   ],
   "source": [
    "q=193 #larger than any Alkaline set\n",
    "#((2*gamma-1)/q) should be less than ~~ 1/2\n",
    "#q-1 should be divisible by 2n for NTT\n",
    "q"
   ]
  },
  {
   "cell_type": "code",
   "execution_count": 133,
   "id": "790a4a75",
   "metadata": {},
   "outputs": [
    {
     "data": {
      "text/plain": [
       "24"
      ]
     },
     "execution_count": 133,
     "metadata": {},
     "output_type": "execute_result"
    }
   ],
   "source": [
    "(q-1)/(2*n)"
   ]
  },
  {
   "cell_type": "code",
   "execution_count": 134,
   "id": "44de337f",
   "metadata": {},
   "outputs": [
    {
     "data": {
      "text/plain": [
       "True"
      ]
     },
     "execution_count": 134,
     "metadata": {},
     "output_type": "execute_result"
    }
   ],
   "source": [
    "is_prime(q)"
   ]
  },
  {
   "cell_type": "code",
   "execution_count": 135,
   "id": "6e5bb57b",
   "metadata": {},
   "outputs": [
    {
     "data": {
      "text/plain": [
       "0.326424870466321"
      ]
     },
     "execution_count": 135,
     "metadata": {},
     "output_type": "execute_result"
    }
   ],
   "source": [
    "((2*gamma-1)/q).n()"
   ]
  },
  {
   "cell_type": "markdown",
   "id": "f746db96",
   "metadata": {},
   "source": [
    "Chance of linear algebra forgery passing by luck:"
   ]
  },
  {
   "cell_type": "code",
   "execution_count": 136,
   "id": "43ab7df2",
   "metadata": {},
   "outputs": [
    {
     "data": {
      "text/plain": [
       "0.000128903860343701"
      ]
     },
     "execution_count": 136,
     "metadata": {},
     "output_type": "execute_result"
    }
   ],
   "source": [
    "((2*gamma-1)/q)^(n*k).n()"
   ]
  },
  {
   "cell_type": "code",
   "execution_count": 68,
   "id": "164ba59a",
   "metadata": {
    "scrolled": true
   },
   "outputs": [
    {
     "data": {
      "text/plain": [
       "8"
      ]
     },
     "execution_count": 68,
     "metadata": {},
     "output_type": "execute_result"
    }
   ],
   "source": [
    "qlen = ceil(log(q,2))\n",
    "qlen"
   ]
  },
  {
   "cell_type": "code",
   "execution_count": null,
   "id": "2c9624db",
   "metadata": {},
   "outputs": [],
   "source": []
  }
 ],
 "metadata": {
  "kernelspec": {
   "display_name": "SageMath 9.5",
   "language": "sage",
   "name": "sagemath"
  },
  "language_info": {
   "codemirror_mode": {
    "name": "ipython",
    "version": 3
   },
   "file_extension": ".py",
   "mimetype": "text/x-python",
   "name": "python",
   "nbconvert_exporter": "python",
   "pygments_lexer": "ipython3",
   "version": "3.10.12"
  }
 },
 "nbformat": 4,
 "nbformat_minor": 5
}
