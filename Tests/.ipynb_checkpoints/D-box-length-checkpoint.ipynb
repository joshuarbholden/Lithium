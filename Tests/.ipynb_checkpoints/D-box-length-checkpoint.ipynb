{
 "cells": [
  {
   "cell_type": "code",
   "execution_count": 52,
   "id": "07b420de",
   "metadata": {},
   "outputs": [],
   "source": [
    "import numpy"
   ]
  },
  {
   "cell_type": "code",
   "execution_count": 6,
   "id": "66023673",
   "metadata": {},
   "outputs": [],
   "source": [
    "n=4\n",
    "k=2\n",
    "q=41 #Lithium AAA?  #same as Alkaline D\n",
    "#q should be divisible by 8 for NTT\n",
    "η=1 #secret key range, prefered 2 in Alkaline\n",
    "γ=2^4 #y coeff range, power of 2, exponent about 2/3 of q?  Earlier version was *not* power of 2\n",
    "R.<x> = ZZ[]"
   ]
  },
  {
   "cell_type": "code",
   "execution_count": 7,
   "id": "34c047d9",
   "metadata": {},
   "outputs": [
    {
     "data": {
      "text/plain": [
       "6"
      ]
     },
     "execution_count": 7,
     "metadata": {},
     "output_type": "execute_result"
    }
   ],
   "source": [
    "qlen = ceil(log(q,2))\n",
    "qlen"
   ]
  },
  {
   "cell_type": "code",
   "execution_count": 8,
   "id": "7202cfd7",
   "metadata": {},
   "outputs": [],
   "source": [
    "dboxlen = qlen"
   ]
  },
  {
   "cell_type": "markdown",
   "id": "8b0818a7",
   "metadata": {},
   "source": [
    "$(M \\bullet w) \\bmod 64$"
   ]
  },
  {
   "cell_type": "code",
   "execution_count": 9,
   "id": "eb7b758c",
   "metadata": {},
   "outputs": [],
   "source": [
    "def Dboxbiased(list1, list2, itemlen):\n",
    "    newitem = vector(list1).dot_product(vector(list2)) % (2**itemlen) # make sure all bits of input are used\n",
    "    out = format(newitem, f'0{itemlen}b')\n",
    "    return out"
   ]
  },
  {
   "cell_type": "code",
   "execution_count": 10,
   "id": "70ec3d3f",
   "metadata": {},
   "outputs": [],
   "source": [
    "def Dboxbiasedraw(list1, list2, itemlen):\n",
    "    newitem = vector(list1).dot_product(vector(list2)) % (2**itemlen) # make sure all bits of input are used\n",
    "    out = newitem\n",
    "    return out"
   ]
  },
  {
   "cell_type": "code",
   "execution_count": 11,
   "id": "2b980164",
   "metadata": {},
   "outputs": [
    {
     "data": {
      "text/plain": [
       "[12, 14, 3, 13]"
      ]
     },
     "execution_count": 11,
     "metadata": {},
     "output_type": "execute_result"
    }
   ],
   "source": [
    "[randrange(1,27) for x in range(n)] # generate random message"
   ]
  },
  {
   "cell_type": "code",
   "execution_count": 12,
   "id": "b3bf1bdd",
   "metadata": {},
   "outputs": [
    {
     "data": {
      "text/plain": [
       "[22, 38, 20, 28]"
      ]
     },
     "execution_count": 12,
     "metadata": {},
     "output_type": "execute_result"
    }
   ],
   "source": [
    "[randrange(0, q) for x in range(n)] # generate random commit"
   ]
  },
  {
   "cell_type": "code",
   "execution_count": 13,
   "id": "5a29445c",
   "metadata": {},
   "outputs": [
    {
     "data": {
      "text/plain": [
       "'010010'"
      ]
     },
     "execution_count": 13,
     "metadata": {},
     "output_type": "execute_result"
    }
   ],
   "source": [
    "Dboxbiased([randrange(1,27) for x in range(n)], [randrange(0, q) for x in range(4)], dboxlen)"
   ]
  },
  {
   "cell_type": "code",
   "execution_count": 15,
   "id": "a6eb99f9",
   "metadata": {},
   "outputs": [
    {
     "name": "stdout",
     "output_type": "stream",
     "text": [
      "44\n",
      "1\n",
      "55\n",
      "6\n",
      "36\n",
      "22\n",
      "5\n",
      "50\n",
      "53\n"
     ]
    }
   ],
   "source": [
    "for i in range(1,10):\n",
    "    print(Dboxbiasedraw([randrange(1,27) for x in range(n)], [randrange(0, q) for x in range(4)], dboxlen))"
   ]
  },
  {
   "cell_type": "code",
   "execution_count": 27,
   "id": "2b840f91",
   "metadata": {},
   "outputs": [
    {
     "data": {
      "image/png": "[encoded data removed]",
      "text/plain": [
       "Graphics object consisting of 1 graphics primitive"
      ]
     },
     "execution_count": 27,
     "metadata": {},
     "output_type": "execute_result"
    }
   ],
   "source": [
    "datalist = []\n",
    "for i in range(10000):\n",
    "    datalist = datalist + [Dboxbiasedraw([randrange(1,27) for x in range(n)], [randrange(0, q-1) for x in range(4)], dboxlen)]\n",
    "sage.plot.histogram.histogram(datalist, bins=64, range=[-0.5, 63.5])"
   ]
  },
  {
   "cell_type": "code",
   "execution_count": 30,
   "id": "222c03f6",
   "metadata": {},
   "outputs": [
    {
     "data": {
      "text/plain": [
       "0.4602"
      ]
     },
     "execution_count": 30,
     "metadata": {},
     "output_type": "execute_result"
    }
   ],
   "source": [
    "datalist = []\n",
    "for i in range(10000):\n",
    "    datalist = datalist + [Dboxbiasedraw([randrange(1,27) for x in range(n)], [randrange(0, q-1) for x in range(4)], \n",
    "                                   dboxlen) % 2]\n",
    "numpy.mean(datalist)"
   ]
  },
  {
   "cell_type": "code",
   "execution_count": 50,
   "id": "46eb0319",
   "metadata": {},
   "outputs": [
    {
     "name": "stdout",
     "output_type": "stream",
     "text": [
      "0.4696\n",
      "0.49991\n",
      "0.50131\n",
      "0.50199\n",
      "0.50078\n",
      "0.49973\n"
     ]
    }
   ],
   "source": [
    "datalist0 = []\n",
    "datalist1 = []\n",
    "datalist2 = []\n",
    "datalist3 = []\n",
    "datalist4 = []\n",
    "datalist5 = []\n",
    "for i in range(100000):\n",
    "    Dboxtemp = Dboxbiasedraw([randrange(1,27) for x in range(n)], [randrange(0, q-1) for x in range(4)], \n",
    "                                   dboxlen)\n",
    "    datalist0 = datalist0 + [Dboxtemp % 2]\n",
    "    Dboxtemp = Dboxtemp // 2\n",
    "    datalist1 = datalist1 + [Dboxtemp % 2]\n",
    "    Dboxtemp = Dboxtemp // 2\n",
    "    datalist2 = datalist2 + [Dboxtemp % 2]\n",
    "    Dboxtemp = Dboxtemp // 2\n",
    "    datalist3 = datalist3 + [Dboxtemp % 2]\n",
    "    Dboxtemp = Dboxtemp // 2\n",
    "    datalist4 = datalist4 + [Dboxtemp % 2]\n",
    "    Dboxtemp = Dboxtemp // 2\n",
    "    datalist5 = datalist5 + [Dboxtemp % 2]\n",
    "print(numpy.mean(datalist0))\n",
    "print(numpy.mean(datalist1))\n",
    "print(numpy.mean(datalist2))\n",
    "print(numpy.mean(datalist3))\n",
    "print(numpy.mean(datalist4))\n",
    "print(numpy.mean(datalist5))"
   ]
  },
  {
   "cell_type": "markdown",
   "id": "61ac0b6b",
   "metadata": {},
   "source": [
    "$f(M \\bullet w \\bmod 41) \\bmod 64$"
   ]
  },
  {
   "cell_type": "code",
   "execution_count": 2,
   "id": "72f81788",
   "metadata": {},
   "outputs": [],
   "source": [
    "def f(x):  #permutation polynomial mod 2^n\n",
    "    return 2*x^2 + x"
   ]
  },
  {
   "cell_type": "code",
   "execution_count": 32,
   "id": "f7955361",
   "metadata": {},
   "outputs": [],
   "source": [
    "def Dbox41raw(list1, list2, itemlen):\n",
    "    newitem = vector(list1).dot_product(vector(list2)) % q # make sure all bits of input are used\n",
    "    out = f(newitem) % (2**itemlen)\n",
    "    return out"
   ]
  },
  {
   "cell_type": "code",
   "execution_count": 34,
   "id": "fb61bfbf",
   "metadata": {
    "scrolled": true
   },
   "outputs": [
    {
     "data": {
      "image/png": "[encoded data removed]",
      "text/plain": [
       "Graphics object consisting of 1 graphics primitive"
      ]
     },
     "execution_count": 34,
     "metadata": {},
     "output_type": "execute_result"
    }
   ],
   "source": [
    "datalist = []\n",
    "for i in range(10000):\n",
    "    datalist = datalist + [Dbox41raw([randrange(1,27) for x in range(n)], [randrange(0, q-1) for x in range(4)], dboxlen)]\n",
    "sage.plot.histogram.histogram(datalist, bins=64, range=[-0.5, 63.5])"
   ]
  },
  {
   "cell_type": "code",
   "execution_count": 35,
   "id": "7576d648",
   "metadata": {},
   "outputs": [
    {
     "data": {
      "text/plain": [
       "0.4837"
      ]
     },
     "execution_count": 35,
     "metadata": {},
     "output_type": "execute_result"
    }
   ],
   "source": [
    "datalist = []\n",
    "for i in range(10000):\n",
    "    datalist = datalist + [Dbox41raw([randrange(1,27) for x in range(n)], [randrange(0, q-1) for x in range(4)], \n",
    "                                   dboxlen) % 2]\n",
    "numpy.mean(datalist)"
   ]
  },
  {
   "cell_type": "code",
   "execution_count": 48,
   "id": "1fa12fb3",
   "metadata": {},
   "outputs": [
    {
     "name": "stdout",
     "output_type": "stream",
     "text": [
      "0.4879\n",
      "0.4868\n",
      "0.4853\n",
      "0.4899\n",
      "0.4334\n",
      "0.5111\n"
     ]
    }
   ],
   "source": [
    "datalist0 = []\n",
    "datalist1 = []\n",
    "datalist2 = []\n",
    "datalist3 = []\n",
    "datalist4 = []\n",
    "datalist5 = []\n",
    "for i in range(10000):\n",
    "    Dboxtemp = Dbox41raw([randrange(1,27) for x in range(n)], [randrange(0, q-1) for x in range(4)], \n",
    "                                   dboxlen)\n",
    "    datalist0 = datalist0 + [Dboxtemp % 2]\n",
    "    Dboxtemp = Dboxtemp // 2\n",
    "    datalist1 = datalist1 + [Dboxtemp % 2]\n",
    "    Dboxtemp = Dboxtemp // 2\n",
    "    datalist2 = datalist2 + [Dboxtemp % 2]\n",
    "    Dboxtemp = Dboxtemp // 2\n",
    "    datalist3 = datalist3 + [Dboxtemp % 2]\n",
    "    Dboxtemp = Dboxtemp // 2\n",
    "    datalist4 = datalist4 + [Dboxtemp % 2]\n",
    "    Dboxtemp = Dboxtemp // 2\n",
    "    datalist5 = datalist5 + [Dboxtemp % 2]\n",
    "print(numpy.mean(datalist0))\n",
    "print(numpy.mean(datalist1))\n",
    "print(numpy.mean(datalist2))\n",
    "print(numpy.mean(datalist3))\n",
    "print(numpy.mean(datalist4))\n",
    "print(numpy.mean(datalist5))"
   ]
  },
  {
   "cell_type": "markdown",
   "id": "3e5d3b6b",
   "metadata": {},
   "source": [
    "$(M \\bullet w \\bmod 65) \\bmod 64$"
   ]
  },
  {
   "cell_type": "code",
   "execution_count": 15,
   "id": "5ce040f1",
   "metadata": {},
   "outputs": [],
   "source": [
    "def f(x):  #permutation polynomial mod 2^n\n",
    "    return 2*x^2 + x"
   ]
  },
  {
   "cell_type": "code",
   "execution_count": 37,
   "id": "231a45da",
   "metadata": {},
   "outputs": [],
   "source": [
    "def Dbox65raw(list1, list2, itemlen):\n",
    "    newitem = vector(list1).dot_product(vector(list2)) % (2**itemlen+1) # make sure all bits of input are used\n",
    "    out = (newitem) % (2**itemlen)\n",
    "    return out"
   ]
  },
  {
   "cell_type": "code",
   "execution_count": 38,
   "id": "a528b39f",
   "metadata": {
    "scrolled": true
   },
   "outputs": [
    {
     "data": {
      "image/png": "[encoded data removed]",
      "text/plain": [
       "Graphics object consisting of 1 graphics primitive"
      ]
     },
     "execution_count": 38,
     "metadata": {},
     "output_type": "execute_result"
    }
   ],
   "source": [
    "datalist = []\n",
    "for i in range(30000):\n",
    "    datalist = datalist + [Dbox65raw([randrange(1,27) for x in range(n)], [randrange(0, q-1) for x in range(4)], dboxlen)]\n",
    "sage.plot.histogram.histogram(datalist, bins=64, range=[-0.5, 63.5])"
   ]
  },
  {
   "cell_type": "code",
   "execution_count": 67,
   "id": "3f914690",
   "metadata": {},
   "outputs": [
    {
     "name": "stdout",
     "output_type": "stream",
     "text": [
      "0.48923333333333335\n",
      "0.4921333333333333\n",
      "0.5001\n",
      "0.4893\n",
      "0.4866333333333333\n",
      "0.49483333333333335\n"
     ]
    }
   ],
   "source": [
    "datalist0 = []\n",
    "datalist1 = []\n",
    "datalist2 = []\n",
    "datalist3 = []\n",
    "datalist4 = []\n",
    "datalist5 = []\n",
    "for i in range(30000):\n",
    "    Dboxtemp = Dbox65raw([randrange(1,27) for x in range(n)], [randrange(0, q-1) for x in range(4)], \n",
    "                                   dboxlen)\n",
    "    datalist0 = datalist0 + [Dboxtemp % 2]\n",
    "    Dboxtemp = Dboxtemp // 2\n",
    "    datalist1 = datalist1 + [Dboxtemp % 2]\n",
    "    Dboxtemp = Dboxtemp // 2\n",
    "    datalist2 = datalist2 + [Dboxtemp % 2]\n",
    "    Dboxtemp = Dboxtemp // 2\n",
    "    datalist3 = datalist3 + [Dboxtemp % 2]\n",
    "    Dboxtemp = Dboxtemp // 2\n",
    "    datalist4 = datalist4 + [Dboxtemp % 2]\n",
    "    Dboxtemp = Dboxtemp // 2\n",
    "    datalist5 = datalist5 + [Dboxtemp % 2]\n",
    "print(numpy.mean(datalist0))\n",
    "print(numpy.mean(datalist1))\n",
    "print(numpy.mean(datalist2))\n",
    "print(numpy.mean(datalist3))\n",
    "print(numpy.mean(datalist4))\n",
    "print(numpy.mean(datalist5))"
   ]
  },
  {
   "cell_type": "markdown",
   "id": "c8c5f327",
   "metadata": {},
   "source": [
    "$(M \\bullet w \\bmod 67) \\bmod 64$"
   ]
  },
  {
   "cell_type": "code",
   "execution_count": 1,
   "id": "af4778a1",
   "metadata": {},
   "outputs": [],
   "source": [
    "def f(x):  #permutation polynomial mod 2^n\n",
    "    return 2*x^2 + x"
   ]
  },
  {
   "cell_type": "code",
   "execution_count": 40,
   "id": "ee55d627",
   "metadata": {},
   "outputs": [],
   "source": [
    "def Dbox67raw(list1, list2, itemlen):\n",
    "    newitem = vector(list1).dot_product(vector(list2)) % (2**itemlen+3) # make sure all bits of input are used\n",
    "    out = (newitem) % (2**itemlen)\n",
    "    return out"
   ]
  },
  {
   "cell_type": "code",
   "execution_count": 70,
   "id": "9bd4fac9",
   "metadata": {
    "scrolled": true
   },
   "outputs": [
    {
     "data": {
      "image/png": "[encoded data removed]",
      "text/plain": [
       "Graphics object consisting of 1 graphics primitive"
      ]
     },
     "execution_count": 70,
     "metadata": {},
     "output_type": "execute_result"
    }
   ],
   "source": [
    "datalist = []\n",
    "for i in range(10000):\n",
    "    datalist = datalist + [Dbox67raw([randrange(1,27) for x in range(n)], [randrange(0, q-1) for x in range(4)], dboxlen)]\n",
    "sage.plot.histogram.histogram(datalist, bins=64, range=[-0.5, 63.5])"
   ]
  },
  {
   "cell_type": "code",
   "execution_count": 69,
   "id": "a75e3de5",
   "metadata": {},
   "outputs": [
    {
     "name": "stdout",
     "output_type": "stream",
     "text": [
      "0.4908\n",
      "0.49468\n",
      "0.47432\n",
      "0.4786\n",
      "0.47928\n",
      "0.47988\n"
     ]
    }
   ],
   "source": [
    "datalist0 = []\n",
    "datalist1 = []\n",
    "datalist2 = []\n",
    "datalist3 = []\n",
    "datalist4 = []\n",
    "datalist5 = []\n",
    "for i in range(25000):\n",
    "    Dboxtemp = Dbox67raw([randrange(1,27) for x in range(n)], [randrange(0, q-1) for x in range(4)], \n",
    "                                   dboxlen)\n",
    "    datalist0 = datalist0 + [Dboxtemp % 2]\n",
    "    Dboxtemp = Dboxtemp // 2\n",
    "    datalist1 = datalist1 + [Dboxtemp % 2]\n",
    "    Dboxtemp = Dboxtemp // 2\n",
    "    datalist2 = datalist2 + [Dboxtemp % 2]\n",
    "    Dboxtemp = Dboxtemp // 2\n",
    "    datalist3 = datalist3 + [Dboxtemp % 2]\n",
    "    Dboxtemp = Dboxtemp // 2\n",
    "    datalist4 = datalist4 + [Dboxtemp % 2]\n",
    "    Dboxtemp = Dboxtemp // 2\n",
    "    datalist5 = datalist5 + [Dboxtemp % 2]\n",
    "print(numpy.mean(datalist0))\n",
    "print(numpy.mean(datalist1))\n",
    "print(numpy.mean(datalist2))\n",
    "print(numpy.mean(datalist3))\n",
    "print(numpy.mean(datalist4))\n",
    "print(numpy.mean(datalist5))"
   ]
  },
  {
   "cell_type": "code",
   "execution_count": null,
   "id": "62d9916a",
   "metadata": {},
   "outputs": [],
   "source": []
  },
  {
   "cell_type": "markdown",
   "id": "0686673d",
   "metadata": {},
   "source": [
    "$(M \\bullet w \\bmod 257) \\bmod 64$"
   ]
  },
  {
   "cell_type": "code",
   "execution_count": 56,
   "id": "3e6ea70d",
   "metadata": {},
   "outputs": [
    {
     "data": {
      "text/plain": [
       "257"
      ]
     },
     "execution_count": 56,
     "metadata": {},
     "output_type": "execute_result"
    }
   ],
   "source": [
    "n*2**dboxlen+1"
   ]
  },
  {
   "cell_type": "code",
   "execution_count": 57,
   "id": "7ada4143",
   "metadata": {},
   "outputs": [],
   "source": [
    "def Dbox257raw(list1, list2, itemlen):\n",
    "    newitem = vector(list1).dot_product(vector(list2)) % (n*2**itemlen+1) # make sure all bits of input are used\n",
    "    out = (newitem) % (2**itemlen)\n",
    "    return out"
   ]
  },
  {
   "cell_type": "code",
   "execution_count": 71,
   "id": "058fa3df",
   "metadata": {
    "scrolled": true
   },
   "outputs": [
    {
     "data": {
      "image/png": "[encoded data removed]",
      "text/plain": [
       "Graphics object consisting of 1 graphics primitive"
      ]
     },
     "execution_count": 71,
     "metadata": {},
     "output_type": "execute_result"
    }
   ],
   "source": [
    "datalist = []\n",
    "for i in range(25000):\n",
    "    datalist = datalist + [Dbox257raw([randrange(1,27) for x in range(n)], [randrange(0, q-1) for x in range(4)], dboxlen)]\n",
    "sage.plot.histogram.histogram(datalist, bins=64, range=[-0.5, 63.5])"
   ]
  },
  {
   "cell_type": "code",
   "execution_count": 68,
   "id": "2143ffd7",
   "metadata": {},
   "outputs": [
    {
     "name": "stdout",
     "output_type": "stream",
     "text": [
      "0.49688\n",
      "0.49892\n",
      "0.49764\n",
      "0.50512\n",
      "0.49524\n",
      "0.4978\n"
     ]
    }
   ],
   "source": [
    "datalist0 = []\n",
    "datalist1 = []\n",
    "datalist2 = []\n",
    "datalist3 = []\n",
    "datalist4 = []\n",
    "datalist5 = []\n",
    "for i in range(25000):\n",
    "    Dboxtemp = Dbox257raw([randrange(1,27) for x in range(n)], [randrange(0, q-1) for x in range(4)], \n",
    "                                   dboxlen)\n",
    "    datalist0 = datalist0 + [Dboxtemp % 2]\n",
    "    Dboxtemp = Dboxtemp // 2\n",
    "    datalist1 = datalist1 + [Dboxtemp % 2]\n",
    "    Dboxtemp = Dboxtemp // 2\n",
    "    datalist2 = datalist2 + [Dboxtemp % 2]\n",
    "    Dboxtemp = Dboxtemp // 2\n",
    "    datalist3 = datalist3 + [Dboxtemp % 2]\n",
    "    Dboxtemp = Dboxtemp // 2\n",
    "    datalist4 = datalist4 + [Dboxtemp % 2]\n",
    "    Dboxtemp = Dboxtemp // 2\n",
    "    datalist5 = datalist5 + [Dboxtemp % 2]\n",
    "print(numpy.mean(datalist0))\n",
    "print(numpy.mean(datalist1))\n",
    "print(numpy.mean(datalist2))\n",
    "print(numpy.mean(datalist3))\n",
    "print(numpy.mean(datalist4))\n",
    "print(numpy.mean(datalist5))"
   ]
  },
  {
   "cell_type": "code",
   "execution_count": 77,
   "id": "a8eca6ab",
   "metadata": {},
   "outputs": [],
   "source": [
    "M = vector([14, 21, 17, 11])"
   ]
  },
  {
   "cell_type": "code",
   "execution_count": 80,
   "id": "ac91f266",
   "metadata": {},
   "outputs": [
    {
     "data": {
      "text/plain": [
       "(29, 43, 35, 23)"
      ]
     },
     "execution_count": 80,
     "metadata": {},
     "output_type": "execute_result"
    }
   ],
   "source": [
    "2*M+vector([1]*n)"
   ]
  },
  {
   "cell_type": "markdown",
   "id": "d0071b33",
   "metadata": {},
   "source": [
    "$((2M+1) \\bullet (2w+1))/2 \\bmod 64$"
   ]
  },
  {
   "cell_type": "code",
   "execution_count": 95,
   "id": "9bd9e4c6",
   "metadata": {},
   "outputs": [],
   "source": [
    "def Dbox128raw(list1, list2, itemlen):\n",
    "    one = vector([1]*4)\n",
    "    newitem = (2*vector(list1)+one).dot_product(2*vector(list2)+one)  # make sure all bits of input are used\n",
    "    out = (newitem//2) % (2**itemlen)\n",
    "    return out"
   ]
  },
  {
   "cell_type": "code",
   "execution_count": 97,
   "id": "fb76c436",
   "metadata": {},
   "outputs": [
    {
     "name": "stdout",
     "output_type": "stream",
     "text": [
      "9\n",
      "40\n",
      "23\n",
      "46\n",
      "12\n",
      "58\n",
      "31\n",
      "30\n",
      "28\n"
     ]
    }
   ],
   "source": [
    "for i in range(1,10):\n",
    "    print(Dbox128raw([randrange(1,27) for x in range(n)], [randrange(0, q) for x in range(4)], dboxlen))"
   ]
  },
  {
   "cell_type": "code",
   "execution_count": 101,
   "id": "a17c6ed1",
   "metadata": {},
   "outputs": [
    {
     "data": {
      "image/png": "[encoded data removed]",
      "text/plain": [
       "Graphics object consisting of 1 graphics primitive"
      ]
     },
     "execution_count": 101,
     "metadata": {},
     "output_type": "execute_result"
    }
   ],
   "source": [
    "datalist = []\n",
    "for i in range(100000):\n",
    "    datalist = datalist + [Dbox128raw([randrange(1,27) for x in range(n)], [randrange(0, q-1) for x in range(4)], dboxlen)]\n",
    "sage.plot.histogram.histogram(datalist, bins=64, range=[-0.5, 63.5])"
   ]
  },
  {
   "cell_type": "code",
   "execution_count": 100,
   "id": "7b90295d",
   "metadata": {},
   "outputs": [
    {
     "name": "stdout",
     "output_type": "stream",
     "text": [
      "0.49856\n",
      "0.49945\n",
      "0.49725\n",
      "0.5007\n",
      "0.49894\n",
      "0.49978\n"
     ]
    }
   ],
   "source": [
    "datalist0 = []\n",
    "datalist1 = []\n",
    "datalist2 = []\n",
    "datalist3 = []\n",
    "datalist4 = []\n",
    "datalist5 = []\n",
    "for i in range(100000):\n",
    "    Dboxtemp = Dbox128raw([randrange(1,27) for x in range(n)], [randrange(0, q-1) for x in range(4)], \n",
    "                                   dboxlen)\n",
    "    datalist0 = datalist0 + [Dboxtemp % 2]\n",
    "    Dboxtemp = Dboxtemp // 2\n",
    "    datalist1 = datalist1 + [Dboxtemp % 2]\n",
    "    Dboxtemp = Dboxtemp // 2\n",
    "    datalist2 = datalist2 + [Dboxtemp % 2]\n",
    "    Dboxtemp = Dboxtemp // 2\n",
    "    datalist3 = datalist3 + [Dboxtemp % 2]\n",
    "    Dboxtemp = Dboxtemp // 2\n",
    "    datalist4 = datalist4 + [Dboxtemp % 2]\n",
    "    Dboxtemp = Dboxtemp // 2\n",
    "    datalist5 = datalist5 + [Dboxtemp % 2]\n",
    "print(numpy.mean(datalist0))\n",
    "print(numpy.mean(datalist1))\n",
    "print(numpy.mean(datalist2))\n",
    "print(numpy.mean(datalist3))\n",
    "print(numpy.mean(datalist4))\n",
    "print(numpy.mean(datalist5))"
   ]
  },
  {
   "cell_type": "markdown",
   "id": "da532c14",
   "metadata": {},
   "source": [
    "(temporary place to put this)"
   ]
  },
  {
   "cell_type": "code",
   "execution_count": 1,
   "id": "7ec06a1a",
   "metadata": {},
   "outputs": [],
   "source": [
    "def XOF(list1, list2, itemlen, numbits):\n",
    "    out = \"\"\n",
    "    list11 = list1\n",
    "    while len(out)<numbits:\n",
    "        newitem = vector(list11).dot_product(vector(list2)) % (2**itemlen) # make sure all bits of input are used\n",
    "        out = out + format(newitem, f'0{itemlen}b')\n",
    "        list11 = [newitem] + list11[:-1]\n",
    "    return out[:numbits]"
   ]
  },
  {
   "cell_type": "code",
   "execution_count": null,
   "id": "8d50a249",
   "metadata": {},
   "outputs": [],
   "source": []
  }
 ],
 "metadata": {
  "kernelspec": {
   "display_name": "SageMath 9.5",
   "language": "sage",
   "name": "sagemath"
  },
  "language_info": {
   "codemirror_mode": {
    "name": "ipython",
    "version": 3
   },
   "file_extension": ".py",
   "mimetype": "text/x-python",
   "name": "python",
   "nbconvert_exporter": "python",
   "pygments_lexer": "ipython3",
   "version": "3.10.12"
  }
 },
 "nbformat": 4,
 "nbformat_minor": 5
}
