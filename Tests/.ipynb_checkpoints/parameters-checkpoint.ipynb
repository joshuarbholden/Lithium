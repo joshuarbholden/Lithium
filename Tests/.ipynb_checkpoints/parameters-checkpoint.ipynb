{
 "cells": [
  {
   "cell_type": "markdown",
   "id": "db57f13c",
   "metadata": {},
   "source": [
    "Global setup for $n=4$"
   ]
  },
  {
   "cell_type": "code",
   "execution_count": 1,
   "id": "2e076138",
   "metadata": {},
   "outputs": [],
   "source": [
    "n=4\n",
    "k=2\n",
    "q=41 #Alkaline D\n",
    "#q-1 should be divisible by 2n for NTT\n",
    "eta=1 #secret key range, prefered 2 in Alkaline\n",
    "R.<x> = ZZ[]"
   ]
  },
  {
   "cell_type": "code",
   "execution_count": 2,
   "id": "0f762920",
   "metadata": {},
   "outputs": [
    {
     "data": {
      "text/plain": [
       "41"
      ]
     },
     "execution_count": 2,
     "metadata": {},
     "output_type": "execute_result"
    }
   ],
   "source": [
    "q"
   ]
  },
  {
   "cell_type": "code",
   "execution_count": 3,
   "id": "33c91b18",
   "metadata": {},
   "outputs": [
    {
     "data": {
      "text/plain": [
       "5"
      ]
     },
     "execution_count": 3,
     "metadata": {},
     "output_type": "execute_result"
    }
   ],
   "source": [
    "(q-1)/(2*n)"
   ]
  },
  {
   "cell_type": "code",
   "execution_count": 4,
   "id": "e3b67b5a",
   "metadata": {},
   "outputs": [
    {
     "data": {
      "text/plain": [
       "True"
      ]
     },
     "execution_count": 4,
     "metadata": {},
     "output_type": "execute_result"
    }
   ],
   "source": [
    "is_prime(q)"
   ]
  },
  {
   "cell_type": "code",
   "execution_count": 5,
   "id": "456a9b77",
   "metadata": {},
   "outputs": [
    {
     "data": {
      "text/plain": [
       "6"
      ]
     },
     "execution_count": 5,
     "metadata": {},
     "output_type": "execute_result"
    }
   ],
   "source": [
    "qlen = ceil(log(q,2))\n",
    "qlen"
   ]
  },
  {
   "cell_type": "code",
   "execution_count": 6,
   "id": "e88de816",
   "metadata": {},
   "outputs": [
    {
     "name": "stdout",
     "output_type": "stream",
     "text": [
      "0.000000000000000\n",
      "2.38629436111989\n",
      "3.79175946922805\n",
      "4.38629436111989\n",
      "4.00000000000000\n"
     ]
    }
   ],
   "source": [
    "for tau in range(5):\n",
    "    print(ln(binomial(n, tau)).n()+tau) #challenge entropy, should be between n/2 and n"
   ]
  },
  {
   "cell_type": "code",
   "execution_count": 7,
   "id": "c8e2e553",
   "metadata": {},
   "outputs": [
    {
     "data": {
      "text/plain": [
       "2.38629436111989"
      ]
     },
     "execution_count": 7,
     "metadata": {},
     "output_type": "execute_result"
    }
   ],
   "source": [
    "tau = 1 #number of 1's in c\n",
    "ln(binomial(n, tau)).n()+tau"
   ]
  },
  {
   "cell_type": "code",
   "execution_count": 8,
   "id": "38f046c5",
   "metadata": {},
   "outputs": [
    {
     "data": {
      "text/plain": [
       "1"
      ]
     },
     "execution_count": 8,
     "metadata": {},
     "output_type": "execute_result"
    }
   ],
   "source": [
    "beta = tau*eta\n",
    "beta"
   ]
  },
  {
   "cell_type": "code",
   "execution_count": 12,
   "id": "c55a15d5",
   "metadata": {
    "scrolled": true
   },
   "outputs": [
    {
     "name": "stdout",
     "output_type": "stream",
     "text": [
      "1.00000000000000\n",
      "4.30467210000000e7\n",
      "217.795333780937\n",
      "9.87112173796777\n",
      "2.90682666192675\n",
      "1.67560416454276\n"
     ]
    }
   ],
   "source": [
    "for logGamma in range(6):\n",
    "    print(1/(((2*((2^logGamma)-beta)-1)/(2*(2^logGamma)-1))^(n*k))^2.n())"
   ]
  },
  {
   "cell_type": "code",
   "execution_count": null,
   "id": "81689cad",
   "metadata": {},
   "outputs": [],
   "source": [
    "gamma=2^4 #y coeff range, power of 2, exponent about 2/3 of q?  Earlier version was *not* power of 2"
   ]
  },
  {
   "cell_type": "markdown",
   "id": "98292a16",
   "metadata": {},
   "source": [
    "Chance of $\\mathbf{y}_i$-coefficient passing:"
   ]
  },
  {
   "cell_type": "code",
   "execution_count": 10,
   "id": "06c10646",
   "metadata": {},
   "outputs": [
    {
     "data": {
      "text/plain": [
       "0.586530272919658"
      ]
     },
     "execution_count": 10,
     "metadata": {},
     "output_type": "execute_result"
    }
   ],
   "source": [
    "((2*(gamma-beta)-1)/(2*gamma-1))^(n*k).n()"
   ]
  },
  {
   "cell_type": "markdown",
   "id": "05a885e7",
   "metadata": {},
   "source": [
    "Expected number of repetitions:"
   ]
  },
  {
   "cell_type": "code",
   "execution_count": 9,
   "id": "d231ff27",
   "metadata": {},
   "outputs": [
    {
     "data": {
      "text/plain": [
       "2.90682666192675"
      ]
     },
     "execution_count": 9,
     "metadata": {},
     "output_type": "execute_result"
    }
   ],
   "source": [
    "1/(((2*(gamma-beta)-1)/(2*gamma-1))^(n*k))^2.n()"
   ]
  },
  {
   "cell_type": "markdown",
   "id": "9efbfda6",
   "metadata": {},
   "source": [
    "Global set-up for $n=8$"
   ]
  },
  {
   "cell_type": "code",
   "execution_count": 13,
   "id": "bc174384",
   "metadata": {},
   "outputs": [],
   "source": [
    "n=8\n",
    "k=2\n",
    "q=97 #Alkaline D\n",
    "#q-1 should be divisible by 2n for NTT\n",
    "eta=1 #secret key range, prefered 2 in Alkaline\n",
    "R.<x> = ZZ[]"
   ]
  },
  {
   "cell_type": "code",
   "execution_count": 14,
   "id": "7bd4bc28",
   "metadata": {},
   "outputs": [
    {
     "data": {
      "text/plain": [
       "97"
      ]
     },
     "execution_count": 14,
     "metadata": {},
     "output_type": "execute_result"
    }
   ],
   "source": [
    "q"
   ]
  },
  {
   "cell_type": "code",
   "execution_count": 15,
   "id": "cf760f36",
   "metadata": {},
   "outputs": [
    {
     "data": {
      "text/plain": [
       "6"
      ]
     },
     "execution_count": 15,
     "metadata": {},
     "output_type": "execute_result"
    }
   ],
   "source": [
    "(q-1)/(2*n)"
   ]
  },
  {
   "cell_type": "code",
   "execution_count": 16,
   "id": "541e725b",
   "metadata": {},
   "outputs": [
    {
     "data": {
      "text/plain": [
       "True"
      ]
     },
     "execution_count": 16,
     "metadata": {},
     "output_type": "execute_result"
    }
   ],
   "source": [
    "is_prime(q)"
   ]
  },
  {
   "cell_type": "code",
   "execution_count": 17,
   "id": "0164bb4f",
   "metadata": {},
   "outputs": [
    {
     "data": {
      "text/plain": [
       "7"
      ]
     },
     "execution_count": 17,
     "metadata": {},
     "output_type": "execute_result"
    }
   ],
   "source": [
    "qlen = ceil(log(q,2))\n",
    "qlen"
   ]
  },
  {
   "cell_type": "code",
   "execution_count": 18,
   "id": "69e6a33f",
   "metadata": {},
   "outputs": [
    {
     "name": "stdout",
     "output_type": "stream",
     "text": [
      "0.000000000000000\n",
      "3.07944154167984\n",
      "5.33220451017520\n",
      "7.02535169073515\n",
      "8.24849524204936\n"
     ]
    }
   ],
   "source": [
    "for tau in range(5):\n",
    "    print(ln(binomial(n, tau)).n()+tau) #challenge entropy, should be between n/2 and n"
   ]
  },
  {
   "cell_type": "code",
   "execution_count": 19,
   "id": "e707a9c8",
   "metadata": {},
   "outputs": [
    {
     "data": {
      "text/plain": [
       "5.33220451017520"
      ]
     },
     "execution_count": 19,
     "metadata": {},
     "output_type": "execute_result"
    }
   ],
   "source": [
    "tau = 2 #number of 1's in c\n",
    "ln(binomial(n, tau)).n()+tau"
   ]
  },
  {
   "cell_type": "code",
   "execution_count": 20,
   "id": "771837a4",
   "metadata": {},
   "outputs": [
    {
     "data": {
      "text/plain": [
       "2"
      ]
     },
     "execution_count": 20,
     "metadata": {},
     "output_type": "execute_result"
    }
   ],
   "source": [
    "beta = tau*eta\n",
    "beta"
   ]
  },
  {
   "cell_type": "markdown",
   "id": "cb1640f6",
   "metadata": {},
   "source": [
    "Chance of $\\mathbf{y}_i$-coefficient passing:"
   ]
  },
  {
   "cell_type": "code",
   "execution_count": 22,
   "id": "48f74d29",
   "metadata": {},
   "outputs": [
    {
     "name": "stdout",
     "output_type": "stream",
     "text": [
      "5.39659527735429e-16\n",
      "1.85302018885184e15\n",
      "5.96014917100412e11\n",
      "20434.0459064935\n",
      "83.1636897576931\n",
      "8.15893005400350\n",
      "2.78455310289828\n"
     ]
    }
   ],
   "source": [
    "for logGamma in range(7):\n",
    "    print(1/(((2*((2^logGamma)-beta)-1)/(2*(2^logGamma)-1))^(n*k))^2.n())"
   ]
  },
  {
   "cell_type": "code",
   "execution_count": 26,
   "id": "227586c5",
   "metadata": {},
   "outputs": [],
   "source": [
    "gamma1=2^6 #y coeff range, power of 2, exponent about 2/3 of q?  Earlier version was *not* power of 2|"
   ]
  },
  {
   "cell_type": "code",
   "execution_count": 27,
   "id": "67564a33",
   "metadata": {},
   "outputs": [
    {
     "data": {
      "text/plain": [
       "0.599269600762652"
      ]
     },
     "execution_count": 27,
     "metadata": {},
     "output_type": "execute_result"
    }
   ],
   "source": [
    "((2*(gamma1-beta)-1)/(2*gamma1-1))^(n*k).n()"
   ]
  },
  {
   "cell_type": "markdown",
   "id": "4da5569c",
   "metadata": {},
   "source": [
    "Expected number of repetitions:"
   ]
  },
  {
   "cell_type": "code",
   "execution_count": 28,
   "id": "db542c5d",
   "metadata": {},
   "outputs": [
    {
     "data": {
      "text/plain": [
       "2.78455310289828"
      ]
     },
     "execution_count": 28,
     "metadata": {},
     "output_type": "execute_result"
    }
   ],
   "source": [
    "1/(((2*(gamma1-beta)-1)/(2*gamma1-1))^(n*k))^2.n()"
   ]
  },
  {
   "cell_type": "code",
   "execution_count": null,
   "id": "d6b0abdd",
   "metadata": {},
   "outputs": [],
   "source": []
  },
  {
   "cell_type": "code",
   "execution_count": null,
   "id": "426c6abb",
   "metadata": {},
   "outputs": [],
   "source": []
  }
 ],
 "metadata": {
  "kernelspec": {
   "display_name": "SageMath 9.5",
   "language": "sage",
   "name": "sagemath"
  },
  "language_info": {
   "codemirror_mode": {
    "name": "ipython",
    "version": 3
   },
   "file_extension": ".py",
   "mimetype": "text/x-python",
   "name": "python",
   "nbconvert_exporter": "python",
   "pygments_lexer": "ipython3",
   "version": "3.10.12"
  }
 },
 "nbformat": 4,
 "nbformat_minor": 5
}
