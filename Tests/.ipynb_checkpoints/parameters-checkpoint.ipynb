{
 "cells": [
  {
   "cell_type": "markdown",
   "id": "2901b466",
   "metadata": {},
   "source": [
    "# Small parameters (N?)"
   ]
  },
  {
   "cell_type": "code",
   "execution_count": 1,
   "id": "d3fe7cee",
   "metadata": {},
   "outputs": [],
   "source": [
    "n=4\n",
    "k=2\n",
    "eta=1 #secret key range, prefered 2 in Alkaline\n",
    "R.<x> = ZZ[]"
   ]
  },
  {
   "cell_type": "code",
   "execution_count": 2,
   "id": "5a6041c2",
   "metadata": {},
   "outputs": [
    {
     "name": "stdout",
     "output_type": "stream",
     "text": [
      "0.000000000000000\n",
      "2.38629436111989\n",
      "3.79175946922805\n",
      "4.38629436111989\n",
      "4.00000000000000\n"
     ]
    }
   ],
   "source": [
    "for tau in range(5):\n",
    "    print(ln(binomial(n, tau)).n()+tau) #challenge entropy, should be between n/2 and n"
   ]
  },
  {
   "cell_type": "code",
   "execution_count": 3,
   "id": "6fce2747",
   "metadata": {},
   "outputs": [
    {
     "data": {
      "text/plain": [
       "2.38629436111989"
      ]
     },
     "execution_count": 3,
     "metadata": {},
     "output_type": "execute_result"
    }
   ],
   "source": [
    "tau = 1 #number of 1's in c\n",
    "ln(binomial(n, tau)).n()+tau"
   ]
  },
  {
   "cell_type": "code",
   "execution_count": 4,
   "id": "d4880823",
   "metadata": {},
   "outputs": [
    {
     "data": {
      "text/plain": [
       "1"
      ]
     },
     "execution_count": 4,
     "metadata": {},
     "output_type": "execute_result"
    }
   ],
   "source": [
    "beta = tau*eta\n",
    "beta"
   ]
  },
  {
   "cell_type": "code",
   "execution_count": 5,
   "id": "be0da5df",
   "metadata": {
    "scrolled": true
   },
   "outputs": [
    {
     "name": "stdout",
     "output_type": "stream",
     "text": [
      "1.00000000000000\n",
      "4.30467210000000e7\n",
      "217.795333780937\n",
      "9.87112173796777\n",
      "2.90682666192675\n",
      "1.67560416454276\n"
     ]
    }
   ],
   "source": [
    "for logGamma in range(6):\n",
    "    print(1/(((2*((2^logGamma)-beta)-1)/(2*(2^logGamma)-1))^(n*k))^2.n()) #expected number of repetitions"
   ]
  },
  {
   "cell_type": "code",
   "execution_count": 6,
   "id": "bd83745b",
   "metadata": {},
   "outputs": [],
   "source": [
    "gamma=2^3 #y coeff range, power of 2, as small as gives reasonable number of repetitions.  Earlier version was *not* power of 2"
   ]
  },
  {
   "cell_type": "markdown",
   "id": "06281a10",
   "metadata": {},
   "source": [
    "Chance of $\\mathbf{y}_i$-coefficient passing:"
   ]
  },
  {
   "cell_type": "code",
   "execution_count": 7,
   "id": "f20eff5c",
   "metadata": {},
   "outputs": [
    {
     "data": {
      "text/plain": [
       "0.318285420783417"
      ]
     },
     "execution_count": 7,
     "metadata": {},
     "output_type": "execute_result"
    }
   ],
   "source": [
    "((2*(gamma-beta)-1)/(2*gamma-1))^(n*k).n()"
   ]
  },
  {
   "cell_type": "markdown",
   "id": "c7ee36c1",
   "metadata": {},
   "source": [
    "Expected number of repetitions:"
   ]
  },
  {
   "cell_type": "code",
   "execution_count": 8,
   "id": "20784a39",
   "metadata": {},
   "outputs": [
    {
     "data": {
      "text/plain": [
       "9.87112173796777"
      ]
     },
     "execution_count": 8,
     "metadata": {},
     "output_type": "execute_result"
    }
   ],
   "source": [
    "1/(((2*(gamma-beta)-1)/(2*gamma-1))^(n*k))^2.n()"
   ]
  },
  {
   "cell_type": "markdown",
   "id": "8d9b0224",
   "metadata": {},
   "source": [
    "Not great number of repetitions, but lets us use small $q$"
   ]
  },
  {
   "cell_type": "code",
   "execution_count": 9,
   "id": "ac1eb3b4",
   "metadata": {},
   "outputs": [
    {
     "data": {
      "text/plain": [
       "17"
      ]
     },
     "execution_count": 9,
     "metadata": {},
     "output_type": "execute_result"
    }
   ],
   "source": [
    "q=17 #same as Alkaline N\n",
    "#should be at least 2γ-1\n",
    "#q-1 should be divisible by 2n for NTT\n",
    "q"
   ]
  },
  {
   "cell_type": "code",
   "execution_count": 10,
   "id": "ec0c6812",
   "metadata": {},
   "outputs": [
    {
     "data": {
      "text/plain": [
       "True"
      ]
     },
     "execution_count": 10,
     "metadata": {},
     "output_type": "execute_result"
    }
   ],
   "source": [
    "q >= 2*gamma-1"
   ]
  },
  {
   "cell_type": "code",
   "execution_count": 11,
   "id": "32a43685",
   "metadata": {},
   "outputs": [
    {
     "data": {
      "text/plain": [
       "True"
      ]
     },
     "execution_count": 11,
     "metadata": {},
     "output_type": "execute_result"
    }
   ],
   "source": [
    "is_prime(q)"
   ]
  },
  {
   "cell_type": "code",
   "execution_count": 12,
   "id": "26d48d70",
   "metadata": {},
   "outputs": [
    {
     "data": {
      "text/plain": [
       "2"
      ]
     },
     "execution_count": 12,
     "metadata": {},
     "output_type": "execute_result"
    }
   ],
   "source": [
    "(q-1)/(2*n)"
   ]
  },
  {
   "cell_type": "code",
   "execution_count": 13,
   "id": "8ee3c625",
   "metadata": {},
   "outputs": [
    {
     "data": {
      "text/plain": [
       "5"
      ]
     },
     "execution_count": 13,
     "metadata": {},
     "output_type": "execute_result"
    }
   ],
   "source": [
    "qlen = ceil(log(q,2))\n",
    "qlen"
   ]
  },
  {
   "cell_type": "markdown",
   "id": "1b34ef8b",
   "metadata": {},
   "source": [
    "Annoying when hashing.  Is it worth increasing $q$ to 23 (and losing NTT)?  Or should we drop a bit when hashing?  Or just not that important?"
   ]
  },
  {
   "cell_type": "markdown",
   "id": "19b85866",
   "metadata": {},
   "source": [
    "# Medium-small parameters (AA?)"
   ]
  },
  {
   "cell_type": "code",
   "execution_count": 14,
   "id": "2e076138",
   "metadata": {},
   "outputs": [],
   "source": [
    "n=4\n",
    "k=2\n",
    "eta=1 #secret key range, prefered 2 in Alkaline\n",
    "R.<x> = ZZ[]"
   ]
  },
  {
   "cell_type": "code",
   "execution_count": 15,
   "id": "e88de816",
   "metadata": {},
   "outputs": [
    {
     "name": "stdout",
     "output_type": "stream",
     "text": [
      "0.000000000000000\n",
      "2.38629436111989\n",
      "3.79175946922805\n",
      "4.38629436111989\n",
      "4.00000000000000\n"
     ]
    }
   ],
   "source": [
    "for tau in range(5):\n",
    "    print(ln(binomial(n, tau)).n()+tau) #challenge entropy, should be between n/2 and n"
   ]
  },
  {
   "cell_type": "code",
   "execution_count": 16,
   "id": "c8e2e553",
   "metadata": {},
   "outputs": [
    {
     "data": {
      "text/plain": [
       "2.38629436111989"
      ]
     },
     "execution_count": 16,
     "metadata": {},
     "output_type": "execute_result"
    }
   ],
   "source": [
    "tau = 1 #number of 1's in c\n",
    "ln(binomial(n, tau)).n()+tau"
   ]
  },
  {
   "cell_type": "code",
   "execution_count": 17,
   "id": "38f046c5",
   "metadata": {},
   "outputs": [
    {
     "data": {
      "text/plain": [
       "1"
      ]
     },
     "execution_count": 17,
     "metadata": {},
     "output_type": "execute_result"
    }
   ],
   "source": [
    "beta = tau*eta\n",
    "beta"
   ]
  },
  {
   "cell_type": "code",
   "execution_count": 18,
   "id": "c55a15d5",
   "metadata": {
    "scrolled": true
   },
   "outputs": [
    {
     "name": "stdout",
     "output_type": "stream",
     "text": [
      "1.00000000000000\n",
      "4.30467210000000e7\n",
      "217.795333780937\n",
      "9.87112173796777\n",
      "2.90682666192675\n",
      "1.67560416454276\n"
     ]
    }
   ],
   "source": [
    "for logGamma in range(6):\n",
    "    print(1/(((2*((2^logGamma)-beta)-1)/(2*(2^logGamma)-1))^(n*k))^2.n())"
   ]
  },
  {
   "cell_type": "code",
   "execution_count": 19,
   "id": "81689cad",
   "metadata": {},
   "outputs": [],
   "source": [
    "gamma=2^4 #y coeff range, power of 2, exponent about 2/3 of q?  Earlier version was *not* power of 2"
   ]
  },
  {
   "cell_type": "markdown",
   "id": "98292a16",
   "metadata": {},
   "source": [
    "Chance of $\\mathbf{y}_i$-coefficient passing:"
   ]
  },
  {
   "cell_type": "code",
   "execution_count": 20,
   "id": "06c10646",
   "metadata": {},
   "outputs": [
    {
     "data": {
      "text/plain": [
       "0.586530272919658"
      ]
     },
     "execution_count": 20,
     "metadata": {},
     "output_type": "execute_result"
    }
   ],
   "source": [
    "((2*(gamma-beta)-1)/(2*gamma-1))^(n*k).n()"
   ]
  },
  {
   "cell_type": "markdown",
   "id": "05a885e7",
   "metadata": {},
   "source": [
    "Expected number of repetitions:"
   ]
  },
  {
   "cell_type": "code",
   "execution_count": 21,
   "id": "d231ff27",
   "metadata": {},
   "outputs": [
    {
     "data": {
      "text/plain": [
       "2.90682666192675"
      ]
     },
     "execution_count": 21,
     "metadata": {},
     "output_type": "execute_result"
    }
   ],
   "source": [
    "1/(((2*(gamma-beta)-1)/(2*gamma-1))^(n*k))^2.n()"
   ]
  },
  {
   "cell_type": "markdown",
   "id": "4e72c9b9",
   "metadata": {},
   "source": [
    "Again, not great number of repetitions"
   ]
  },
  {
   "cell_type": "code",
   "execution_count": 22,
   "id": "70906027",
   "metadata": {},
   "outputs": [
    {
     "data": {
      "text/plain": [
       "41"
      ]
     },
     "execution_count": 22,
     "metadata": {},
     "output_type": "execute_result"
    }
   ],
   "source": [
    "q=41 #same as Alkaline D\n",
    "#should be at least 2γ-1\n",
    "#q-1 should be divisible by 2n for NTT\n",
    "q"
   ]
  },
  {
   "cell_type": "code",
   "execution_count": 23,
   "id": "656c7a63",
   "metadata": {},
   "outputs": [
    {
     "data": {
      "text/plain": [
       "True"
      ]
     },
     "execution_count": 23,
     "metadata": {},
     "output_type": "execute_result"
    }
   ],
   "source": [
    "q >= 2*gamma-1"
   ]
  },
  {
   "cell_type": "code",
   "execution_count": 24,
   "id": "f9ba506d",
   "metadata": {},
   "outputs": [
    {
     "data": {
      "text/plain": [
       "True"
      ]
     },
     "execution_count": 24,
     "metadata": {},
     "output_type": "execute_result"
    }
   ],
   "source": [
    "is_prime(q)"
   ]
  },
  {
   "cell_type": "code",
   "execution_count": 25,
   "id": "15946bc5",
   "metadata": {},
   "outputs": [
    {
     "data": {
      "text/plain": [
       "5"
      ]
     },
     "execution_count": 25,
     "metadata": {},
     "output_type": "execute_result"
    }
   ],
   "source": [
    "(q-1)/(2*n)"
   ]
  },
  {
   "cell_type": "code",
   "execution_count": 26,
   "id": "383116f4",
   "metadata": {},
   "outputs": [
    {
     "data": {
      "text/plain": [
       "6"
      ]
     },
     "execution_count": 26,
     "metadata": {},
     "output_type": "execute_result"
    }
   ],
   "source": [
    "qlen = ceil(log(q,2))\n",
    "qlen"
   ]
  },
  {
   "cell_type": "markdown",
   "id": "9e7259f8",
   "metadata": {},
   "source": [
    "# Medium parameters (C?)"
   ]
  },
  {
   "cell_type": "code",
   "execution_count": 52,
   "id": "a924157a",
   "metadata": {},
   "outputs": [],
   "source": [
    "n=4\n",
    "k=2\n",
    "q=41 #same as Alkaline D\n",
    "#q-1 should be divisible by 2n for NTT\n",
    "eta=1 #secret key range, prefered 2 in Alkaline\n",
    "R.<x> = ZZ[]"
   ]
  },
  {
   "cell_type": "code",
   "execution_count": 53,
   "id": "bd5d9aa1",
   "metadata": {},
   "outputs": [
    {
     "data": {
      "text/plain": [
       "41"
      ]
     },
     "execution_count": 53,
     "metadata": {},
     "output_type": "execute_result"
    }
   ],
   "source": [
    "q"
   ]
  },
  {
   "cell_type": "code",
   "execution_count": 54,
   "id": "ebfc0540",
   "metadata": {},
   "outputs": [
    {
     "data": {
      "text/plain": [
       "5"
      ]
     },
     "execution_count": 54,
     "metadata": {},
     "output_type": "execute_result"
    }
   ],
   "source": [
    "(q-1)/(2*n)"
   ]
  },
  {
   "cell_type": "code",
   "execution_count": 55,
   "id": "6b0bdcb3",
   "metadata": {},
   "outputs": [
    {
     "data": {
      "text/plain": [
       "True"
      ]
     },
     "execution_count": 55,
     "metadata": {},
     "output_type": "execute_result"
    }
   ],
   "source": [
    "is_prime(q)"
   ]
  },
  {
   "cell_type": "code",
   "execution_count": 56,
   "id": "180fd210",
   "metadata": {},
   "outputs": [
    {
     "data": {
      "text/plain": [
       "6"
      ]
     },
     "execution_count": 56,
     "metadata": {},
     "output_type": "execute_result"
    }
   ],
   "source": [
    "qlen = ceil(log(q,2))\n",
    "qlen"
   ]
  },
  {
   "cell_type": "code",
   "execution_count": 57,
   "id": "1c9da489",
   "metadata": {},
   "outputs": [
    {
     "name": "stdout",
     "output_type": "stream",
     "text": [
      "0.000000000000000\n",
      "2.38629436111989\n",
      "3.79175946922805\n",
      "4.38629436111989\n",
      "4.00000000000000\n"
     ]
    }
   ],
   "source": [
    "for tau in range(5):\n",
    "    print(ln(binomial(n, tau)).n()+tau) #challenge entropy, should be between n/2 and n"
   ]
  },
  {
   "cell_type": "code",
   "execution_count": 58,
   "id": "7df1bcbb",
   "metadata": {},
   "outputs": [
    {
     "data": {
      "text/plain": [
       "3.79175946922805"
      ]
     },
     "execution_count": 58,
     "metadata": {},
     "output_type": "execute_result"
    }
   ],
   "source": [
    "tau = 2 #number of 1's in c\n",
    "ln(binomial(n, tau)).n()+tau"
   ]
  },
  {
   "cell_type": "code",
   "execution_count": 59,
   "id": "8b0e181c",
   "metadata": {},
   "outputs": [
    {
     "data": {
      "text/plain": [
       "2"
      ]
     },
     "execution_count": 59,
     "metadata": {},
     "output_type": "execute_result"
    }
   ],
   "source": [
    "beta = tau*eta\n",
    "beta"
   ]
  },
  {
   "cell_type": "code",
   "execution_count": 60,
   "id": "f8175ddf",
   "metadata": {
    "scrolled": true
   },
   "outputs": [
    {
     "name": "stdout",
     "output_type": "stream",
     "text": [
      "2.32305731254188e-8\n",
      "4.30467210000000e7\n",
      "772020.023769081\n",
      "142.947703397059\n",
      "9.11941279675907\n",
      "2.85638408726899\n"
     ]
    }
   ],
   "source": [
    "for logGamma in range(6):\n",
    "    print(1/(((2*((2^logGamma)-beta)-1)/(2*(2^logGamma)-1))^(n*k))^2.n())"
   ]
  },
  {
   "cell_type": "code",
   "execution_count": 61,
   "id": "78911b0a",
   "metadata": {},
   "outputs": [],
   "source": [
    "gamma=2^4 #y coeff range, power of 2, exponent about 2/3 of q?  Earlier version was *not* power of 2"
   ]
  },
  {
   "cell_type": "markdown",
   "id": "adf34ba7",
   "metadata": {},
   "source": [
    "Chance of $\\mathbf{y}_i$-coefficient passing:"
   ]
  },
  {
   "cell_type": "code",
   "execution_count": 62,
   "id": "367fbb43",
   "metadata": {},
   "outputs": [
    {
     "data": {
      "text/plain": [
       "0.331143750001638"
      ]
     },
     "execution_count": 62,
     "metadata": {},
     "output_type": "execute_result"
    }
   ],
   "source": [
    "((2*(gamma-beta)-1)/(2*gamma-1))^(n*k).n()"
   ]
  },
  {
   "cell_type": "markdown",
   "id": "a2d58a00",
   "metadata": {},
   "source": [
    "Expected number of repetitions:"
   ]
  },
  {
   "cell_type": "code",
   "execution_count": 63,
   "id": "478068bb",
   "metadata": {},
   "outputs": [
    {
     "data": {
      "text/plain": [
       "9.11941279675907"
      ]
     },
     "execution_count": 63,
     "metadata": {},
     "output_type": "execute_result"
    }
   ],
   "source": [
    "1/(((2*(gamma-beta)-1)/(2*gamma-1))^(n*k))^2.n()"
   ]
  },
  {
   "cell_type": "code",
   "execution_count": 64,
   "id": "4792ace9",
   "metadata": {},
   "outputs": [
    {
     "data": {
      "text/plain": [
       "True"
      ]
     },
     "execution_count": 64,
     "metadata": {},
     "output_type": "execute_result"
    }
   ],
   "source": [
    "q >= 2*gamma-1"
   ]
  },
  {
   "cell_type": "markdown",
   "id": "9efbfda6",
   "metadata": {},
   "source": [
    "# Large Parameters? (D?)"
   ]
  },
  {
   "cell_type": "code",
   "execution_count": 39,
   "id": "bc174384",
   "metadata": {},
   "outputs": [],
   "source": [
    "n=4\n",
    "k=2\n",
    "eta=1 #secret key range, prefered 2 in Alkaline\n",
    "R.<x> = ZZ[]"
   ]
  },
  {
   "cell_type": "code",
   "execution_count": 40,
   "id": "69e6a33f",
   "metadata": {},
   "outputs": [
    {
     "name": "stdout",
     "output_type": "stream",
     "text": [
      "0.000000000000000\n",
      "2.38629436111989\n",
      "3.79175946922805\n",
      "4.38629436111989\n",
      "4.00000000000000\n"
     ]
    }
   ],
   "source": [
    "for tau in range(5):\n",
    "    print(ln(binomial(n, tau)).n()+tau) #challenge entropy, should be between n/2 and n"
   ]
  },
  {
   "cell_type": "code",
   "execution_count": 41,
   "id": "e707a9c8",
   "metadata": {},
   "outputs": [
    {
     "data": {
      "text/plain": [
       "3.79175946922805"
      ]
     },
     "execution_count": 41,
     "metadata": {},
     "output_type": "execute_result"
    }
   ],
   "source": [
    "tau = 2 #number of 1's in c\n",
    "ln(binomial(n, tau)).n()+tau"
   ]
  },
  {
   "cell_type": "code",
   "execution_count": 42,
   "id": "771837a4",
   "metadata": {},
   "outputs": [
    {
     "data": {
      "text/plain": [
       "2"
      ]
     },
     "execution_count": 42,
     "metadata": {},
     "output_type": "execute_result"
    }
   ],
   "source": [
    "beta = tau*eta\n",
    "beta"
   ]
  },
  {
   "cell_type": "markdown",
   "id": "cb1640f6",
   "metadata": {},
   "source": [
    "Chance of $\\mathbf{y}_i$-coefficient passing:"
   ]
  },
  {
   "cell_type": "code",
   "execution_count": 43,
   "id": "48f74d29",
   "metadata": {},
   "outputs": [
    {
     "name": "stdout",
     "output_type": "stream",
     "text": [
      "2.32305731254188e-8\n",
      "4.30467210000000e7\n",
      "772020.023769081\n",
      "142.947703397059\n",
      "9.11941279675907\n",
      "2.85638408726899\n",
      "1.66869802627626\n"
     ]
    }
   ],
   "source": [
    "for logGamma in range(7):\n",
    "    print(1/(((2*((2^logGamma)-beta)-1)/(2*(2^logGamma)-1))^(n*k))^2.n())"
   ]
  },
  {
   "cell_type": "code",
   "execution_count": 44,
   "id": "227586c5",
   "metadata": {},
   "outputs": [],
   "source": [
    "gamma=2^5 #y coeff range, power of 2, exponent about 2/3 of q?  Earlier version was *not* power of 2|"
   ]
  },
  {
   "cell_type": "code",
   "execution_count": 45,
   "id": "67564a33",
   "metadata": {},
   "outputs": [
    {
     "data": {
      "text/plain": [
       "0.591686550464520"
      ]
     },
     "execution_count": 45,
     "metadata": {},
     "output_type": "execute_result"
    }
   ],
   "source": [
    "((2*(gamma-beta)-1)/(2*gamma-1))^(n*k).n()"
   ]
  },
  {
   "cell_type": "markdown",
   "id": "4da5569c",
   "metadata": {},
   "source": [
    "Expected number of repetitions:"
   ]
  },
  {
   "cell_type": "code",
   "execution_count": 46,
   "id": "db542c5d",
   "metadata": {},
   "outputs": [
    {
     "data": {
      "text/plain": [
       "2.85638408726899"
      ]
     },
     "execution_count": 46,
     "metadata": {},
     "output_type": "execute_result"
    }
   ],
   "source": [
    "1/(((2*(gamma-beta)-1)/(2*gamma-1))^(n*k))^2.n()"
   ]
  },
  {
   "cell_type": "code",
   "execution_count": 47,
   "id": "99cf75ab",
   "metadata": {},
   "outputs": [
    {
     "data": {
      "text/plain": [
       "41"
      ]
     },
     "execution_count": 47,
     "metadata": {},
     "output_type": "execute_result"
    }
   ],
   "source": [
    "q=97 #same as Alkaline N\n",
    "#should be at least 2γ-1\n",
    "#q-1 should be divisible by 2n for NTT\n",
    "q"
   ]
  },
  {
   "cell_type": "code",
   "execution_count": 48,
   "id": "4b1ea8df",
   "metadata": {},
   "outputs": [
    {
     "data": {
      "text/plain": [
       "False"
      ]
     },
     "execution_count": 48,
     "metadata": {},
     "output_type": "execute_result"
    }
   ],
   "source": [
    "q >= 2*gamma-1"
   ]
  },
  {
   "cell_type": "code",
   "execution_count": 49,
   "id": "cb16cab6",
   "metadata": {},
   "outputs": [
    {
     "data": {
      "text/plain": [
       "5"
      ]
     },
     "execution_count": 49,
     "metadata": {},
     "output_type": "execute_result"
    }
   ],
   "source": [
    "(q-1)/(2*n)"
   ]
  },
  {
   "cell_type": "code",
   "execution_count": 50,
   "id": "c27fdb0b",
   "metadata": {},
   "outputs": [
    {
     "data": {
      "text/plain": [
       "True"
      ]
     },
     "execution_count": 50,
     "metadata": {},
     "output_type": "execute_result"
    }
   ],
   "source": [
    "is_prime(q)"
   ]
  },
  {
   "cell_type": "code",
   "execution_count": 51,
   "id": "999ca814",
   "metadata": {},
   "outputs": [
    {
     "data": {
      "text/plain": [
       "6"
      ]
     },
     "execution_count": 51,
     "metadata": {},
     "output_type": "execute_result"
    }
   ],
   "source": [
    "qlen = ceil(log(q,2))\n",
    "qlen"
   ]
  },
  {
   "cell_type": "code",
   "execution_count": null,
   "id": "426c6abb",
   "metadata": {},
   "outputs": [],
   "source": []
  }
 ],
 "metadata": {
  "kernelspec": {
   "display_name": "SageMath 9.5",
   "language": "sage",
   "name": "sagemath"
  },
  "language_info": {
   "codemirror_mode": {
    "name": "ipython",
    "version": 3
   },
   "file_extension": ".py",
   "mimetype": "text/x-python",
   "name": "python",
   "nbconvert_exporter": "python",
   "pygments_lexer": "ipython3",
   "version": "3.10.12"
  }
 },
 "nbformat": 4,
 "nbformat_minor": 5
}
