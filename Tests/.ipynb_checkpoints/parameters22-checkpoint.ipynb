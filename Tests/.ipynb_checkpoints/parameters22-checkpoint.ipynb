{
 "cells": [
  {
   "cell_type": "markdown",
   "id": "ab26ffe9",
   "metadata": {},
   "source": [
    "# Small parameters (N?)"
   ]
  },
  {
   "cell_type": "code",
   "execution_count": 3,
   "id": "12a5b6f5",
   "metadata": {},
   "outputs": [],
   "source": [
    "n=2\n",
    "k=2\n",
    "r=2\n",
    "eta=1 #secret key range, prefered 2 in Alkaline\n",
    "R.<x> = ZZ[]"
   ]
  },
  {
   "cell_type": "code",
   "execution_count": 5,
   "id": "ff3c9acc",
   "metadata": {},
   "outputs": [
    {
     "name": "stdout",
     "output_type": "stream",
     "text": [
      "0.000000000000000\n",
      "2.38629436111989\n",
      "3.79175946922805\n",
      "4.38629436111989\n",
      "4.00000000000000\n"
     ]
    }
   ],
   "source": [
    "for tau in range(5):\n",
    "    print(ln(binomial(n*r, tau)).n()+tau) #challenge entropy, should be between n/2 and n"
   ]
  },
  {
   "cell_type": "code",
   "execution_count": 6,
   "id": "8a030330",
   "metadata": {},
   "outputs": [
    {
     "data": {
      "text/plain": [
       "2.38629436111989"
      ]
     },
     "execution_count": 6,
     "metadata": {},
     "output_type": "execute_result"
    }
   ],
   "source": [
    "tau = 1 #number of 1's in c\n",
    "ln(binomial(n*r, tau)).n()+tau"
   ]
  },
  {
   "cell_type": "code",
   "execution_count": 7,
   "id": "fe858cd3",
   "metadata": {},
   "outputs": [
    {
     "data": {
      "text/plain": [
       "1"
      ]
     },
     "execution_count": 7,
     "metadata": {},
     "output_type": "execute_result"
    }
   ],
   "source": [
    "beta = tau*eta\n",
    "beta"
   ]
  },
  {
   "cell_type": "code",
   "execution_count": 8,
   "id": "50701569",
   "metadata": {
    "scrolled": true
   },
   "outputs": [
    {
     "name": "stdout",
     "output_type": "stream",
     "text": [
      "1.00000000000000\n",
      "6561.00000000000\n",
      "14.7578905600000\n",
      "3.14183413597341\n",
      "1.70494183535004\n",
      "1.29445129863690\n"
     ]
    }
   ],
   "source": [
    "for logGamma in range(6):\n",
    "    print(1/(((2*((2^logGamma)-beta)-1)/(2*(2^logGamma)-1))^(n*k))^2.n()) #expected number of repetitions"
   ]
  },
  {
   "cell_type": "code",
   "execution_count": 9,
   "id": "c862ea69",
   "metadata": {},
   "outputs": [],
   "source": [
    "gamma=2^3 #y coeff range, power of 2, as small as gives reasonable number of repetitions.  Earlier version was *not* power of 2"
   ]
  },
  {
   "cell_type": "markdown",
   "id": "4f0ff342",
   "metadata": {},
   "source": [
    "Chance of $\\mathbf{y}_i$-coefficient passing:"
   ]
  },
  {
   "cell_type": "code",
   "execution_count": 10,
   "id": "5833c932",
   "metadata": {},
   "outputs": [
    {
     "data": {
      "text/plain": [
       "0.564167901234568"
      ]
     },
     "execution_count": 10,
     "metadata": {},
     "output_type": "execute_result"
    }
   ],
   "source": [
    "((2*(gamma-beta)-1)/(2*gamma-1))^(n*k).n()"
   ]
  },
  {
   "cell_type": "markdown",
   "id": "554ced6d",
   "metadata": {},
   "source": [
    "Expected number of repetitions:"
   ]
  },
  {
   "cell_type": "code",
   "execution_count": 11,
   "id": "f80e362c",
   "metadata": {},
   "outputs": [
    {
     "data": {
      "text/plain": [
       "3.14183413597341"
      ]
     },
     "execution_count": 11,
     "metadata": {},
     "output_type": "execute_result"
    }
   ],
   "source": [
    "1/(((2*(gamma-beta)-1)/(2*gamma-1))^(n*k))^2.n()"
   ]
  },
  {
   "cell_type": "markdown",
   "id": "ffc0488b",
   "metadata": {},
   "source": [
    "Good"
   ]
  },
  {
   "cell_type": "code",
   "execution_count": 13,
   "id": "9b3fda5d",
   "metadata": {},
   "outputs": [
    {
     "data": {
      "text/plain": [
       "41"
      ]
     },
     "execution_count": 13,
     "metadata": {},
     "output_type": "execute_result"
    }
   ],
   "source": [
    "q=41 #same as Alkaline D\n",
    "#((2*gamma-1)/q) should be less than ~~1/2\n",
    "#q-1 should be divisible by 2n for NTT\n",
    "q"
   ]
  },
  {
   "cell_type": "code",
   "execution_count": 14,
   "id": "68d95658",
   "metadata": {},
   "outputs": [
    {
     "data": {
      "text/plain": [
       "True"
      ]
     },
     "execution_count": 14,
     "metadata": {},
     "output_type": "execute_result"
    }
   ],
   "source": [
    "is_prime(q)"
   ]
  },
  {
   "cell_type": "code",
   "execution_count": 15,
   "id": "038708ab",
   "metadata": {},
   "outputs": [
    {
     "data": {
      "text/plain": [
       "10"
      ]
     },
     "execution_count": 15,
     "metadata": {},
     "output_type": "execute_result"
    }
   ],
   "source": [
    "(q-1)/(2*n)"
   ]
  },
  {
   "cell_type": "code",
   "execution_count": 16,
   "id": "2911a530",
   "metadata": {},
   "outputs": [
    {
     "data": {
      "text/plain": [
       "0.317073170731707"
      ]
     },
     "execution_count": 16,
     "metadata": {},
     "output_type": "execute_result"
    }
   ],
   "source": [
    "((2*(gamma-beta)-1)/q).n()"
   ]
  },
  {
   "cell_type": "markdown",
   "id": "cc45a74e",
   "metadata": {},
   "source": [
    "Chance of linear algebra forgery passing by luck:"
   ]
  },
  {
   "cell_type": "code",
   "execution_count": 17,
   "id": "e76dbf8b",
   "metadata": {
    "scrolled": true
   },
   "outputs": [
    {
     "data": {
      "text/plain": [
       "0.0101073657680179"
      ]
     },
     "execution_count": 17,
     "metadata": {},
     "output_type": "execute_result"
    }
   ],
   "source": [
    "((2*(gamma-beta)-1)/q)^(n*k).n()"
   ]
  },
  {
   "cell_type": "code",
   "execution_count": 18,
   "id": "0f26d500",
   "metadata": {},
   "outputs": [
    {
     "data": {
      "text/plain": [
       "'1.01073657680179%'"
      ]
     },
     "execution_count": 18,
     "metadata": {},
     "output_type": "execute_result"
    }
   ],
   "source": [
    "str(((2*(gamma-beta)-1)/q)^(n*k).n()*100)+\"%\""
   ]
  },
  {
   "cell_type": "markdown",
   "id": "9fc1a748",
   "metadata": {},
   "source": [
    "Acceptable!  (Same as Linthium-ALG, in fact)"
   ]
  },
  {
   "cell_type": "markdown",
   "id": "e0dedee7",
   "metadata": {},
   "source": [
    "D-box size:"
   ]
  },
  {
   "cell_type": "code",
   "execution_count": 19,
   "id": "88949c1b",
   "metadata": {},
   "outputs": [
    {
     "data": {
      "text/plain": [
       "6"
      ]
     },
     "execution_count": 19,
     "metadata": {},
     "output_type": "execute_result"
    }
   ],
   "source": [
    "qlen = ceil(log(q,2))\n",
    "qlen"
   ]
  },
  {
   "cell_type": "code",
   "execution_count": 20,
   "id": "f8e2029b",
   "metadata": {},
   "outputs": [
    {
     "data": {
      "text/plain": [
       "1"
      ]
     },
     "execution_count": 20,
     "metadata": {},
     "output_type": "execute_result"
    }
   ],
   "source": [
    "clenbits = log(n,2)\n",
    "clenbits"
   ]
  },
  {
   "cell_type": "markdown",
   "id": "42358e7a",
   "metadata": {},
   "source": [
    "Minimum number of bits needed from D-box:"
   ]
  },
  {
   "cell_type": "code",
   "execution_count": 21,
   "id": "0388d3b3",
   "metadata": {},
   "outputs": [
    {
     "data": {
      "text/plain": [
       "2"
      ]
     },
     "execution_count": 21,
     "metadata": {},
     "output_type": "execute_result"
    }
   ],
   "source": [
    "tau+tau*clenbits"
   ]
  },
  {
   "cell_type": "markdown",
   "id": "1c05f83d",
   "metadata": {},
   "source": [
    "Chance of needing more:"
   ]
  },
  {
   "cell_type": "code",
   "execution_count": 22,
   "id": "4638729f",
   "metadata": {
    "scrolled": true
   },
   "outputs": [
    {
     "data": {
      "text/plain": [
       "0"
      ]
     },
     "execution_count": 22,
     "metadata": {},
     "output_type": "execute_result"
    }
   ],
   "source": [
    "0"
   ]
  },
  {
   "cell_type": "markdown",
   "id": "c6c719cc",
   "metadata": {},
   "source": [
    "# Medium parameters (AA?)"
   ]
  },
  {
   "cell_type": "code",
   "execution_count": 67,
   "id": "2e076138",
   "metadata": {},
   "outputs": [],
   "source": [
    "n=2\n",
    "r=2\n",
    "k=2\n",
    "eta=1 #secret key range, prefered 2 in Alkaline\n",
    "R.<x> = ZZ[]"
   ]
  },
  {
   "cell_type": "code",
   "execution_count": 68,
   "id": "e88de816",
   "metadata": {},
   "outputs": [
    {
     "name": "stdout",
     "output_type": "stream",
     "text": [
      "0.000000000000000\n",
      "2.38629436111989\n",
      "3.79175946922805\n",
      "4.38629436111989\n",
      "4.00000000000000\n"
     ]
    }
   ],
   "source": [
    "for tau in range(5):\n",
    "    print(ln(binomial(n*r, tau)).n()+tau) #challenge entropy, should be between n/2 and n"
   ]
  },
  {
   "cell_type": "code",
   "execution_count": 69,
   "id": "c8e2e553",
   "metadata": {},
   "outputs": [
    {
     "data": {
      "text/plain": [
       "2.38629436111989"
      ]
     },
     "execution_count": 69,
     "metadata": {},
     "output_type": "execute_result"
    }
   ],
   "source": [
    "tau = 1 #number of 1's in c\n",
    "ln(binomial(n*r, tau)).n()+tau"
   ]
  },
  {
   "cell_type": "code",
   "execution_count": 70,
   "id": "38f046c5",
   "metadata": {},
   "outputs": [
    {
     "data": {
      "text/plain": [
       "1"
      ]
     },
     "execution_count": 70,
     "metadata": {},
     "output_type": "execute_result"
    }
   ],
   "source": [
    "beta = tau*eta\n",
    "beta"
   ]
  },
  {
   "cell_type": "code",
   "execution_count": 71,
   "id": "c55a15d5",
   "metadata": {
    "scrolled": true
   },
   "outputs": [
    {
     "name": "stdout",
     "output_type": "stream",
     "text": [
      "1.00000000000000\n",
      "6561.00000000000\n",
      "14.7578905600000\n",
      "3.14183413597341\n",
      "1.70494183535004\n",
      "1.29445129863690\n"
     ]
    }
   ],
   "source": [
    "for logGamma in range(6):\n",
    "    print(1/(((2*((2^logGamma)-beta)-1)/(2*(2^logGamma)-1))^(n*k))^2.n())"
   ]
  },
  {
   "cell_type": "code",
   "execution_count": 72,
   "id": "81689cad",
   "metadata": {},
   "outputs": [],
   "source": [
    "gamma=2^4 #y coeff range, power of 2, exponent about 2/3 of q?  Earlier version was *not* power of 2"
   ]
  },
  {
   "cell_type": "markdown",
   "id": "98292a16",
   "metadata": {},
   "source": [
    "Chance of $\\mathbf{y}_i$-coefficient passing:"
   ]
  },
  {
   "cell_type": "code",
   "execution_count": 73,
   "id": "06c10646",
   "metadata": {},
   "outputs": [
    {
     "data": {
      "text/plain": [
       "0.765852644390328"
      ]
     },
     "execution_count": 73,
     "metadata": {},
     "output_type": "execute_result"
    }
   ],
   "source": [
    "((2*(gamma-beta)-1)/(2*gamma-1))^(n*k).n()"
   ]
  },
  {
   "cell_type": "markdown",
   "id": "05a885e7",
   "metadata": {},
   "source": [
    "Expected number of repetitions:"
   ]
  },
  {
   "cell_type": "code",
   "execution_count": 74,
   "id": "d231ff27",
   "metadata": {},
   "outputs": [
    {
     "data": {
      "text/plain": [
       "1.70494183535004"
      ]
     },
     "execution_count": 74,
     "metadata": {},
     "output_type": "execute_result"
    }
   ],
   "source": [
    "1/(((2*(gamma-beta)-1)/(2*gamma-1))^(n*k))^2.n()"
   ]
  },
  {
   "cell_type": "code",
   "execution_count": 75,
   "id": "9d32c227",
   "metadata": {},
   "outputs": [
    {
     "data": {
      "text/plain": [
       "97"
      ]
     },
     "execution_count": 75,
     "metadata": {},
     "output_type": "execute_result"
    }
   ],
   "source": [
    "q=97 #((2*gamma-1)/q) should be at most ~~1/2\n",
    "#q-1 should be divisible by 2n for NTT\n",
    "q"
   ]
  },
  {
   "cell_type": "code",
   "execution_count": 76,
   "id": "219eea04",
   "metadata": {},
   "outputs": [
    {
     "data": {
      "text/plain": [
       "True"
      ]
     },
     "execution_count": 76,
     "metadata": {},
     "output_type": "execute_result"
    }
   ],
   "source": [
    "is_prime(q)"
   ]
  },
  {
   "cell_type": "code",
   "execution_count": 77,
   "id": "6539317c",
   "metadata": {},
   "outputs": [
    {
     "data": {
      "text/plain": [
       "24"
      ]
     },
     "execution_count": 77,
     "metadata": {},
     "output_type": "execute_result"
    }
   ],
   "source": [
    "(q-1)/(2*n)"
   ]
  },
  {
   "cell_type": "code",
   "execution_count": 78,
   "id": "06fc18a3",
   "metadata": {},
   "outputs": [
    {
     "data": {
      "text/plain": [
       "0.319587628865979"
      ]
     },
     "execution_count": 78,
     "metadata": {},
     "output_type": "execute_result"
    }
   ],
   "source": [
    "((2*gamma-1)/q).n()"
   ]
  },
  {
   "cell_type": "markdown",
   "id": "f235b3fa",
   "metadata": {},
   "source": [
    "Chance of linear algebra forgery passing by luck:"
   ]
  },
  {
   "cell_type": "code",
   "execution_count": 91,
   "id": "acf53f5f",
   "metadata": {},
   "outputs": [
    {
     "data": {
      "text/plain": [
       "0.0079893"
      ]
     },
     "execution_count": 91,
     "metadata": {},
     "output_type": "execute_result"
    }
   ],
   "source": [
    "((2*(gamma-beta)-1)/q)^(n*k).n(digits=5)"
   ]
  },
  {
   "cell_type": "code",
   "execution_count": 93,
   "id": "1ccdb8fa",
   "metadata": {},
   "outputs": [
    {
     "data": {
      "text/plain": [
       "'0.80%'"
      ]
     },
     "execution_count": 93,
     "metadata": {},
     "output_type": "execute_result"
    }
   ],
   "source": [
    "str(((2*(gamma-beta)-1)/q)^(n*k).n(digits=2)*100)+\"%\""
   ]
  },
  {
   "cell_type": "markdown",
   "id": "26c885a3",
   "metadata": {},
   "source": [
    "Looks good"
   ]
  },
  {
   "cell_type": "markdown",
   "id": "4dbb7c4d",
   "metadata": {},
   "source": [
    "D-box size:"
   ]
  },
  {
   "cell_type": "code",
   "execution_count": 45,
   "id": "b8645f29",
   "metadata": {},
   "outputs": [
    {
     "data": {
      "text/plain": [
       "7"
      ]
     },
     "execution_count": 45,
     "metadata": {},
     "output_type": "execute_result"
    }
   ],
   "source": [
    "qlen = ceil(log(q,2))\n",
    "qlen"
   ]
  },
  {
   "cell_type": "markdown",
   "id": "080bfd80",
   "metadata": {},
   "source": [
    "Minimum number of bits needed from D-box:"
   ]
  },
  {
   "cell_type": "code",
   "execution_count": 46,
   "id": "6de2a7c9",
   "metadata": {},
   "outputs": [
    {
     "data": {
      "text/plain": [
       "2"
      ]
     },
     "execution_count": 46,
     "metadata": {},
     "output_type": "execute_result"
    }
   ],
   "source": [
    "tau+tau*clenbits"
   ]
  },
  {
   "cell_type": "markdown",
   "id": "419d4e62",
   "metadata": {},
   "source": [
    "Chance of needing more:"
   ]
  },
  {
   "cell_type": "code",
   "execution_count": 47,
   "id": "d995ffb3",
   "metadata": {
    "scrolled": true
   },
   "outputs": [
    {
     "data": {
      "text/plain": [
       "0"
      ]
     },
     "execution_count": 47,
     "metadata": {},
     "output_type": "execute_result"
    }
   ],
   "source": [
    "0"
   ]
  },
  {
   "cell_type": "markdown",
   "id": "e364c28d",
   "metadata": {},
   "source": [
    "# Original parameters (AAA?)"
   ]
  },
  {
   "cell_type": "code",
   "execution_count": 48,
   "id": "eec06c99",
   "metadata": {},
   "outputs": [],
   "source": [
    "n=2\n",
    "r=2\n",
    "k=2\n",
    "q=41 #same as Alkaline D\n",
    "#q-1 should be divisible by 2n for NTT\n",
    "eta=1 #secret key range, prefered 2 in Alkaline\n",
    "R.<x> = ZZ[]"
   ]
  },
  {
   "cell_type": "code",
   "execution_count": 49,
   "id": "62cf68ed",
   "metadata": {},
   "outputs": [
    {
     "data": {
      "text/plain": [
       "41"
      ]
     },
     "execution_count": 49,
     "metadata": {},
     "output_type": "execute_result"
    }
   ],
   "source": [
    "q"
   ]
  },
  {
   "cell_type": "code",
   "execution_count": 50,
   "id": "90a2149c",
   "metadata": {},
   "outputs": [
    {
     "data": {
      "text/plain": [
       "10"
      ]
     },
     "execution_count": 50,
     "metadata": {},
     "output_type": "execute_result"
    }
   ],
   "source": [
    "(q-1)/(2*n)"
   ]
  },
  {
   "cell_type": "code",
   "execution_count": 51,
   "id": "33319828",
   "metadata": {},
   "outputs": [
    {
     "data": {
      "text/plain": [
       "True"
      ]
     },
     "execution_count": 51,
     "metadata": {},
     "output_type": "execute_result"
    }
   ],
   "source": [
    "is_prime(q)"
   ]
  },
  {
   "cell_type": "code",
   "execution_count": 52,
   "id": "a1899fbb",
   "metadata": {},
   "outputs": [
    {
     "data": {
      "text/plain": [
       "6"
      ]
     },
     "execution_count": 52,
     "metadata": {},
     "output_type": "execute_result"
    }
   ],
   "source": [
    "qlen = ceil(log(q,2))\n",
    "qlen"
   ]
  },
  {
   "cell_type": "code",
   "execution_count": 55,
   "id": "2754b433",
   "metadata": {},
   "outputs": [
    {
     "name": "stdout",
     "output_type": "stream",
     "text": [
      "0.000000000000000\n",
      "2.38629436111989\n",
      "3.79175946922805\n",
      "4.38629436111989\n",
      "4.00000000000000\n"
     ]
    }
   ],
   "source": [
    "for tau in range(5):\n",
    "    print(ln(binomial(n*r, tau)).n()+tau) #challenge entropy, should be between n/2 and n"
   ]
  },
  {
   "cell_type": "code",
   "execution_count": 57,
   "id": "3143b568",
   "metadata": {},
   "outputs": [
    {
     "data": {
      "text/plain": [
       "2.38629436111989"
      ]
     },
     "execution_count": 57,
     "metadata": {},
     "output_type": "execute_result"
    }
   ],
   "source": [
    "tau = 1 #number of 1's in c\n",
    "ln(binomial(n*r, tau)).n()+tau"
   ]
  },
  {
   "cell_type": "code",
   "execution_count": 58,
   "id": "ffa9316b",
   "metadata": {},
   "outputs": [
    {
     "data": {
      "text/plain": [
       "1"
      ]
     },
     "execution_count": 58,
     "metadata": {},
     "output_type": "execute_result"
    }
   ],
   "source": [
    "beta = tau*eta\n",
    "beta"
   ]
  },
  {
   "cell_type": "code",
   "execution_count": 59,
   "id": "84f23c4b",
   "metadata": {
    "scrolled": true
   },
   "outputs": [
    {
     "name": "stdout",
     "output_type": "stream",
     "text": [
      "1.00000000000000\n",
      "6561.00000000000\n",
      "14.7578905600000\n",
      "3.14183413597341\n",
      "1.70494183535004\n",
      "1.29445129863690\n"
     ]
    }
   ],
   "source": [
    "for logGamma in range(6):\n",
    "    print(1/(((2*((2^logGamma)-beta)-1)/(2*(2^logGamma)-1))^(n*k))^2.n())"
   ]
  },
  {
   "cell_type": "code",
   "execution_count": 60,
   "id": "7f0bb81b",
   "metadata": {},
   "outputs": [],
   "source": [
    "gamma=2^4 #y coeff range, power of 2, exponent about 2/3 of q?  Earlier version was *not* power of 2"
   ]
  },
  {
   "cell_type": "markdown",
   "id": "94cd60cf",
   "metadata": {},
   "source": [
    "Chance of $\\mathbf{y}_i$-coefficient passing:"
   ]
  },
  {
   "cell_type": "code",
   "execution_count": 61,
   "id": "c589396b",
   "metadata": {},
   "outputs": [
    {
     "data": {
      "text/plain": [
       "0.765852644390328"
      ]
     },
     "execution_count": 61,
     "metadata": {},
     "output_type": "execute_result"
    }
   ],
   "source": [
    "((2*(gamma-beta)-1)/(2*gamma-1))^(n*k).n()"
   ]
  },
  {
   "cell_type": "markdown",
   "id": "1dc1cb75",
   "metadata": {},
   "source": [
    "Expected number of repetitions:"
   ]
  },
  {
   "cell_type": "code",
   "execution_count": 62,
   "id": "64f558cd",
   "metadata": {},
   "outputs": [
    {
     "data": {
      "text/plain": [
       "1.70494183535004"
      ]
     },
     "execution_count": 62,
     "metadata": {},
     "output_type": "execute_result"
    }
   ],
   "source": [
    "1/(((2*(gamma-beta)-1)/(2*gamma-1))^(n*k))^2.n()"
   ]
  },
  {
   "cell_type": "code",
   "execution_count": 63,
   "id": "1b5a9a66",
   "metadata": {},
   "outputs": [
    {
     "data": {
      "text/plain": [
       "0.707317073170732"
      ]
     },
     "execution_count": 63,
     "metadata": {},
     "output_type": "execute_result"
    }
   ],
   "source": [
    "((2*(gamma-beta)-1)/q).n()"
   ]
  },
  {
   "cell_type": "markdown",
   "id": "1fdbdb09",
   "metadata": {},
   "source": [
    "Chance of linear algebra forgery passing by luck:"
   ]
  },
  {
   "cell_type": "code",
   "execution_count": 64,
   "id": "793c0f00",
   "metadata": {},
   "outputs": [
    {
     "data": {
      "text/plain": [
       "0.250297530470553"
      ]
     },
     "execution_count": 64,
     "metadata": {},
     "output_type": "execute_result"
    }
   ],
   "source": [
    "((2*(gamma-beta)-1)/q)^(n*k).n()"
   ]
  },
  {
   "cell_type": "code",
   "execution_count": 65,
   "id": "e52eaf5c",
   "metadata": {},
   "outputs": [
    {
     "data": {
      "text/plain": [
       "'25.0297530470553%'"
      ]
     },
     "execution_count": 65,
     "metadata": {},
     "output_type": "execute_result"
    }
   ],
   "source": [
    "str(((2*(gamma-beta)-1)/q)^(n*k).n()*100)+\"%\""
   ]
  },
  {
   "cell_type": "markdown",
   "id": "2d4989b8",
   "metadata": {},
   "source": [
    "Bad"
   ]
  },
  {
   "cell_type": "markdown",
   "id": "686b7249",
   "metadata": {},
   "source": [
    "D-box size:"
   ]
  },
  {
   "cell_type": "code",
   "execution_count": 260,
   "id": "dc76f58c",
   "metadata": {},
   "outputs": [
    {
     "data": {
      "text/plain": [
       "6"
      ]
     },
     "execution_count": 260,
     "metadata": {},
     "output_type": "execute_result"
    }
   ],
   "source": [
    "qlen = ceil(log(q,2))\n",
    "qlen"
   ]
  },
  {
   "cell_type": "code",
   "execution_count": 261,
   "id": "731f188b",
   "metadata": {},
   "outputs": [
    {
     "data": {
      "text/plain": [
       "2"
      ]
     },
     "execution_count": 261,
     "metadata": {},
     "output_type": "execute_result"
    }
   ],
   "source": [
    "clenbits = log(n,2)\n",
    "clenbits"
   ]
  },
  {
   "cell_type": "markdown",
   "id": "808db5cf",
   "metadata": {},
   "source": [
    "Minimum number of bits needed from D-box:"
   ]
  },
  {
   "cell_type": "code",
   "execution_count": 262,
   "id": "14af535b",
   "metadata": {},
   "outputs": [
    {
     "data": {
      "text/plain": [
       "3"
      ]
     },
     "execution_count": 262,
     "metadata": {},
     "output_type": "execute_result"
    }
   ],
   "source": [
    "tau+tau*clenbits"
   ]
  },
  {
   "cell_type": "markdown",
   "id": "b2b7e5d2",
   "metadata": {},
   "source": [
    "Chance of needing more:"
   ]
  },
  {
   "cell_type": "code",
   "execution_count": 263,
   "id": "d1cb0d1f",
   "metadata": {},
   "outputs": [
    {
     "data": {
      "text/plain": [
       "0"
      ]
     },
     "execution_count": 263,
     "metadata": {},
     "output_type": "execute_result"
    }
   ],
   "source": [
    "0"
   ]
  },
  {
   "cell_type": "markdown",
   "id": "fc05d850",
   "metadata": {},
   "source": [
    "# ???  Basically worst features of AAA and C"
   ]
  },
  {
   "cell_type": "code",
   "execution_count": 94,
   "id": "e20c65f7",
   "metadata": {},
   "outputs": [],
   "source": [
    "n=2\n",
    "r=2\n",
    "k=2\n",
    "q=41 #same as Alkaline D\n",
    "#q-1 should be divisible by 2n for NTT\n",
    "eta=1 #secret key range, prefered 2 in Alkaline\n",
    "R.<x> = ZZ[]"
   ]
  },
  {
   "cell_type": "code",
   "execution_count": 95,
   "id": "39a4cf0c",
   "metadata": {},
   "outputs": [
    {
     "data": {
      "text/plain": [
       "41"
      ]
     },
     "execution_count": 95,
     "metadata": {},
     "output_type": "execute_result"
    }
   ],
   "source": [
    "q"
   ]
  },
  {
   "cell_type": "code",
   "execution_count": 96,
   "id": "96371567",
   "metadata": {},
   "outputs": [
    {
     "data": {
      "text/plain": [
       "10"
      ]
     },
     "execution_count": 96,
     "metadata": {},
     "output_type": "execute_result"
    }
   ],
   "source": [
    "(q-1)/(2*n)"
   ]
  },
  {
   "cell_type": "code",
   "execution_count": 97,
   "id": "e53b2701",
   "metadata": {},
   "outputs": [
    {
     "data": {
      "text/plain": [
       "True"
      ]
     },
     "execution_count": 97,
     "metadata": {},
     "output_type": "execute_result"
    }
   ],
   "source": [
    "is_prime(q)"
   ]
  },
  {
   "cell_type": "code",
   "execution_count": 98,
   "id": "d206c234",
   "metadata": {},
   "outputs": [
    {
     "data": {
      "text/plain": [
       "6"
      ]
     },
     "execution_count": 98,
     "metadata": {},
     "output_type": "execute_result"
    }
   ],
   "source": [
    "qlen = ceil(log(q,2))\n",
    "qlen"
   ]
  },
  {
   "cell_type": "code",
   "execution_count": 99,
   "id": "a3ac95ab",
   "metadata": {},
   "outputs": [
    {
     "name": "stdout",
     "output_type": "stream",
     "text": [
      "0.000000000000000\n",
      "1.69314718055995\n",
      "2.00000000000000\n",
      "-infinity\n",
      "-infinity\n"
     ]
    }
   ],
   "source": [
    "for tau in range(5):\n",
    "    print(ln(binomial(n, tau)).n()+tau) #challenge entropy, should be between n/2 and n"
   ]
  },
  {
   "cell_type": "code",
   "execution_count": 102,
   "id": "1a6b0b88",
   "metadata": {},
   "outputs": [
    {
     "data": {
      "text/plain": [
       "3.79175946922805"
      ]
     },
     "execution_count": 102,
     "metadata": {},
     "output_type": "execute_result"
    }
   ],
   "source": [
    "tau = 2 #number of 1's in c\n",
    "ln(binomial(n*r, tau)).n()+tau"
   ]
  },
  {
   "cell_type": "code",
   "execution_count": 103,
   "id": "72250e88",
   "metadata": {},
   "outputs": [
    {
     "data": {
      "text/plain": [
       "2"
      ]
     },
     "execution_count": 103,
     "metadata": {},
     "output_type": "execute_result"
    }
   ],
   "source": [
    "beta = tau*eta\n",
    "beta"
   ]
  },
  {
   "cell_type": "code",
   "execution_count": 104,
   "id": "6f13ccd1",
   "metadata": {
    "scrolled": true
   },
   "outputs": [
    {
     "name": "stdout",
     "output_type": "stream",
     "text": [
      "0.000152415790275873\n",
      "6561.00000000000\n",
      "878.646700198140\n",
      "11.9560739123284\n",
      "3.01983655133172\n",
      "1.69008404739794\n"
     ]
    }
   ],
   "source": [
    "for logGamma in range(6):\n",
    "    print(1/(((2*((2^logGamma)-beta)-1)/(2*(2^logGamma)-1))^(n*k))^2.n())"
   ]
  },
  {
   "cell_type": "code",
   "execution_count": 105,
   "id": "2b594a46",
   "metadata": {},
   "outputs": [],
   "source": [
    "gamma=2^4 #y coeff range, power of 2, exponent about 2/3 of q?  Earlier version was *not* power of 2"
   ]
  },
  {
   "cell_type": "markdown",
   "id": "80e1ed29",
   "metadata": {},
   "source": [
    "Chance of $\\mathbf{y}_i$-coefficient passing:"
   ]
  },
  {
   "cell_type": "code",
   "execution_count": 106,
   "id": "1d108f0c",
   "metadata": {},
   "outputs": [
    {
     "data": {
      "text/plain": [
       "0.575450910157972"
      ]
     },
     "execution_count": 106,
     "metadata": {},
     "output_type": "execute_result"
    }
   ],
   "source": [
    "((2*(gamma-beta)-1)/(2*gamma-1))^(n*k).n()"
   ]
  },
  {
   "cell_type": "markdown",
   "id": "52e0c617",
   "metadata": {},
   "source": [
    "Expected number of repetitions:"
   ]
  },
  {
   "cell_type": "code",
   "execution_count": 107,
   "id": "cca72cf2",
   "metadata": {},
   "outputs": [
    {
     "data": {
      "text/plain": [
       "3.01983655133172"
      ]
     },
     "execution_count": 107,
     "metadata": {},
     "output_type": "execute_result"
    }
   ],
   "source": [
    "1/(((2*(gamma-beta)-1)/(2*gamma-1))^(n*k))^2.n()"
   ]
  },
  {
   "cell_type": "markdown",
   "id": "c13c4d0f",
   "metadata": {},
   "source": [
    "Chance of linear algebra forgery passing by luck:"
   ]
  },
  {
   "cell_type": "code",
   "execution_count": 108,
   "id": "35d55652",
   "metadata": {},
   "outputs": [
    {
     "data": {
      "text/plain": [
       "0.188070045555870"
      ]
     },
     "execution_count": 108,
     "metadata": {},
     "output_type": "execute_result"
    }
   ],
   "source": [
    "((2*(gamma-beta)-1)/q)^(n*k).n()"
   ]
  },
  {
   "cell_type": "code",
   "execution_count": 109,
   "id": "e2ae905f",
   "metadata": {},
   "outputs": [
    {
     "data": {
      "text/plain": [
       "'18.8070045555870%'"
      ]
     },
     "execution_count": 109,
     "metadata": {},
     "output_type": "execute_result"
    }
   ],
   "source": [
    "str(100*((2*(gamma-beta)-1)/q)^(n*k).n())+\"%\""
   ]
  },
  {
   "cell_type": "markdown",
   "id": "e744dc65",
   "metadata": {},
   "source": [
    "still too high"
   ]
  },
  {
   "cell_type": "markdown",
   "id": "7a7155f5",
   "metadata": {},
   "source": [
    "D-box size:"
   ]
  },
  {
   "cell_type": "code",
   "execution_count": 110,
   "id": "8441825c",
   "metadata": {},
   "outputs": [
    {
     "data": {
      "text/plain": [
       "6"
      ]
     },
     "execution_count": 110,
     "metadata": {},
     "output_type": "execute_result"
    }
   ],
   "source": [
    "qlen = ceil(log(q,2))\n",
    "qlen"
   ]
  },
  {
   "cell_type": "code",
   "execution_count": 111,
   "id": "d3dcebbd",
   "metadata": {},
   "outputs": [
    {
     "data": {
      "text/plain": [
       "1"
      ]
     },
     "execution_count": 111,
     "metadata": {},
     "output_type": "execute_result"
    }
   ],
   "source": [
    "clenbits = log(n,2)\n",
    "clenbits"
   ]
  },
  {
   "cell_type": "markdown",
   "id": "27fb5257",
   "metadata": {},
   "source": [
    "Minimum number of bits needed from D-box:"
   ]
  },
  {
   "cell_type": "code",
   "execution_count": 112,
   "id": "a38ba4ac",
   "metadata": {},
   "outputs": [
    {
     "data": {
      "text/plain": [
       "4"
      ]
     },
     "execution_count": 112,
     "metadata": {},
     "output_type": "execute_result"
    }
   ],
   "source": [
    "tau+tau*clenbits"
   ]
  },
  {
   "cell_type": "markdown",
   "id": "a04720a9",
   "metadata": {},
   "source": [
    "Chance of needing more:"
   ]
  },
  {
   "cell_type": "code",
   "execution_count": 113,
   "id": "6e4db284",
   "metadata": {},
   "outputs": [
    {
     "data": {
      "text/plain": [
       "0.500000000000000"
      ]
     },
     "execution_count": 113,
     "metadata": {},
     "output_type": "execute_result"
    }
   ],
   "source": [
    "1/n.n()"
   ]
  },
  {
   "cell_type": "markdown",
   "id": "75fdff72",
   "metadata": {},
   "source": [
    "Expected number of repetitions accounting for single D-box failures:"
   ]
  },
  {
   "cell_type": "code",
   "execution_count": 114,
   "id": "c822bdc3",
   "metadata": {},
   "outputs": [
    {
     "data": {
      "text/plain": [
       "6.03967310266345"
      ]
     },
     "execution_count": 114,
     "metadata": {},
     "output_type": "execute_result"
    }
   ],
   "source": [
    "(1/(((2*(gamma-beta)-1)/(2*gamma-1))^(n*k))^2)*(n/(n-1)).n()"
   ]
  },
  {
   "cell_type": "markdown",
   "id": "9efbfda6",
   "metadata": {},
   "source": [
    "# Medium-Large Parameters? (C?)"
   ]
  },
  {
   "cell_type": "code",
   "execution_count": 115,
   "id": "bc174384",
   "metadata": {},
   "outputs": [],
   "source": [
    "n=2\n",
    "r=2\n",
    "k=2\n",
    "eta=1 #secret key range, prefered 2 in Alkaline\n",
    "R.<x> = ZZ[]"
   ]
  },
  {
   "cell_type": "code",
   "execution_count": 117,
   "id": "69e6a33f",
   "metadata": {},
   "outputs": [
    {
     "name": "stdout",
     "output_type": "stream",
     "text": [
      "0.000000000000000\n",
      "2.38629436111989\n",
      "3.79175946922805\n",
      "4.38629436111989\n",
      "4.00000000000000\n"
     ]
    }
   ],
   "source": [
    "for tau in range(5):\n",
    "    print(ln(binomial(n*r, tau)).n()+tau) #challenge entropy, should be between n/2 and n"
   ]
  },
  {
   "cell_type": "code",
   "execution_count": 118,
   "id": "e707a9c8",
   "metadata": {},
   "outputs": [
    {
     "data": {
      "text/plain": [
       "3.79175946922805"
      ]
     },
     "execution_count": 118,
     "metadata": {},
     "output_type": "execute_result"
    }
   ],
   "source": [
    "tau = 2 #number of 1's in c\n",
    "ln(binomial(n*r, tau)).n()+tau"
   ]
  },
  {
   "cell_type": "code",
   "execution_count": 119,
   "id": "771837a4",
   "metadata": {},
   "outputs": [
    {
     "data": {
      "text/plain": [
       "2"
      ]
     },
     "execution_count": 119,
     "metadata": {},
     "output_type": "execute_result"
    }
   ],
   "source": [
    "beta = tau*eta\n",
    "beta"
   ]
  },
  {
   "cell_type": "markdown",
   "id": "cb1640f6",
   "metadata": {},
   "source": [
    "Chance of $\\mathbf{y}_i$-coefficient passing:"
   ]
  },
  {
   "cell_type": "code",
   "execution_count": 120,
   "id": "48f74d29",
   "metadata": {},
   "outputs": [
    {
     "name": "stdout",
     "output_type": "stream",
     "text": [
      "0.000152415790275873\n",
      "6561.00000000000\n",
      "878.646700198140\n",
      "11.9560739123284\n",
      "3.01983655133172\n",
      "1.69008404739794\n",
      "1.29178095135215\n"
     ]
    }
   ],
   "source": [
    "for logGamma in range(7):\n",
    "    print(1/(((2*((2^logGamma)-beta)-1)/(2*(2^logGamma)-1))^(n*k))^2.n())"
   ]
  },
  {
   "cell_type": "code",
   "execution_count": 121,
   "id": "227586c5",
   "metadata": {},
   "outputs": [],
   "source": [
    "gamma=2^4 #y coeff range, power of 2, exponent about 2/3 of q?  Earlier version was *not* power of 2|"
   ]
  },
  {
   "cell_type": "code",
   "execution_count": 122,
   "id": "67564a33",
   "metadata": {},
   "outputs": [
    {
     "data": {
      "text/plain": [
       "0.575450910157972"
      ]
     },
     "execution_count": 122,
     "metadata": {},
     "output_type": "execute_result"
    }
   ],
   "source": [
    "((2*(gamma-beta)-1)/(2*gamma-1))^(n*k).n()"
   ]
  },
  {
   "cell_type": "markdown",
   "id": "4da5569c",
   "metadata": {},
   "source": [
    "Expected number of repetitions:"
   ]
  },
  {
   "cell_type": "code",
   "execution_count": 123,
   "id": "db542c5d",
   "metadata": {},
   "outputs": [
    {
     "data": {
      "text/plain": [
       "3.01983655133172"
      ]
     },
     "execution_count": 123,
     "metadata": {},
     "output_type": "execute_result"
    }
   ],
   "source": [
    "1/(((2*(gamma-beta)-1)/(2*gamma-1))^(n*k))^2.n()"
   ]
  },
  {
   "cell_type": "markdown",
   "id": "4167e468",
   "metadata": {},
   "source": [
    "good"
   ]
  },
  {
   "cell_type": "code",
   "execution_count": 124,
   "id": "d44a86b0",
   "metadata": {},
   "outputs": [
    {
     "data": {
      "text/plain": [
       "97"
      ]
     },
     "execution_count": 124,
     "metadata": {},
     "output_type": "execute_result"
    }
   ],
   "source": [
    "q=97 #larger than any Alkaline set\n",
    "#((2*gamma-1)/q) should be less than ~~ 1/2\n",
    "#q-1 should be divisible by 2n for NTT\n",
    "q"
   ]
  },
  {
   "cell_type": "code",
   "execution_count": 125,
   "id": "bc7a505a",
   "metadata": {},
   "outputs": [
    {
     "data": {
      "text/plain": [
       "True"
      ]
     },
     "execution_count": 125,
     "metadata": {},
     "output_type": "execute_result"
    }
   ],
   "source": [
    "is_prime(q)"
   ]
  },
  {
   "cell_type": "code",
   "execution_count": 126,
   "id": "8e7ead07",
   "metadata": {},
   "outputs": [
    {
     "data": {
      "text/plain": [
       "24"
      ]
     },
     "execution_count": 126,
     "metadata": {},
     "output_type": "execute_result"
    }
   ],
   "source": [
    "(q-1)/(2*n)"
   ]
  },
  {
   "cell_type": "code",
   "execution_count": 127,
   "id": "6e49071b",
   "metadata": {},
   "outputs": [
    {
     "data": {
      "text/plain": [
       "0.278350515463918"
      ]
     },
     "execution_count": 127,
     "metadata": {},
     "output_type": "execute_result"
    }
   ],
   "source": [
    "((2*(gamma-beta)-1)/q).n()"
   ]
  },
  {
   "cell_type": "markdown",
   "id": "a60e5f6a",
   "metadata": {},
   "source": [
    "Chance of linear algebra forgery passing by luck:"
   ]
  },
  {
   "cell_type": "code",
   "execution_count": 128,
   "id": "275f6fc7",
   "metadata": {},
   "outputs": [
    {
     "data": {
      "text/plain": [
       "0.00600299690675224"
      ]
     },
     "execution_count": 128,
     "metadata": {},
     "output_type": "execute_result"
    }
   ],
   "source": [
    "((2*(gamma-beta)-1)/q)^(n*k).n()"
   ]
  },
  {
   "cell_type": "code",
   "execution_count": 130,
   "id": "cf462005",
   "metadata": {},
   "outputs": [
    {
     "data": {
      "text/plain": [
       "'0.6003%'"
      ]
     },
     "execution_count": 130,
     "metadata": {},
     "output_type": "execute_result"
    }
   ],
   "source": [
    "str(100*((2*(gamma-beta)-1)/q)^(n*k).n(digits=4))+\"%\""
   ]
  },
  {
   "cell_type": "markdown",
   "id": "e1f18866",
   "metadata": {},
   "source": [
    "D-box size:"
   ]
  },
  {
   "cell_type": "code",
   "execution_count": 131,
   "id": "9632431e",
   "metadata": {
    "scrolled": true
   },
   "outputs": [
    {
     "data": {
      "text/plain": [
       "7"
      ]
     },
     "execution_count": 131,
     "metadata": {},
     "output_type": "execute_result"
    }
   ],
   "source": [
    "qlen = ceil(log(q,2))\n",
    "qlen"
   ]
  },
  {
   "cell_type": "code",
   "execution_count": 132,
   "id": "df9de43b",
   "metadata": {},
   "outputs": [
    {
     "data": {
      "text/plain": [
       "1"
      ]
     },
     "execution_count": 132,
     "metadata": {},
     "output_type": "execute_result"
    }
   ],
   "source": [
    "clenbits = log(n,2)\n",
    "clenbits"
   ]
  },
  {
   "cell_type": "markdown",
   "id": "e721f61e",
   "metadata": {},
   "source": [
    "Minimum number of bits needed from D-box:"
   ]
  },
  {
   "cell_type": "code",
   "execution_count": 133,
   "id": "aa6ece24",
   "metadata": {},
   "outputs": [
    {
     "data": {
      "text/plain": [
       "4"
      ]
     },
     "execution_count": 133,
     "metadata": {},
     "output_type": "execute_result"
    }
   ],
   "source": [
    "tau+tau*clenbits"
   ]
  },
  {
   "cell_type": "markdown",
   "id": "10dfb577",
   "metadata": {},
   "source": [
    "Chance of needing more:"
   ]
  },
  {
   "cell_type": "code",
   "execution_count": 134,
   "id": "2b94970d",
   "metadata": {},
   "outputs": [
    {
     "data": {
      "text/plain": [
       "0.500000000000000"
      ]
     },
     "execution_count": 134,
     "metadata": {},
     "output_type": "execute_result"
    }
   ],
   "source": [
    "1/n.n()"
   ]
  },
  {
   "cell_type": "markdown",
   "id": "3b1440bc",
   "metadata": {},
   "source": [
    "Expected number of repetitions accounting for single D-box failures:"
   ]
  },
  {
   "cell_type": "code",
   "execution_count": 135,
   "id": "74302b75",
   "metadata": {},
   "outputs": [
    {
     "data": {
      "text/plain": [
       "6.03967310266345"
      ]
     },
     "execution_count": 135,
     "metadata": {},
     "output_type": "execute_result"
    }
   ],
   "source": [
    "(1/(((2*(gamma-beta)-1)/(2*gamma-1))^(n*k))^2)*(n/(n-1)).n()"
   ]
  },
  {
   "cell_type": "markdown",
   "id": "ed5ea5f5",
   "metadata": {},
   "source": [
    "Could increase the D-box size to 8 bits?  Then:"
   ]
  },
  {
   "cell_type": "markdown",
   "id": "36723c21",
   "metadata": {},
   "source": [
    "Next most likely:"
   ]
  },
  {
   "cell_type": "code",
   "execution_count": 136,
   "id": "16f088e5",
   "metadata": {},
   "outputs": [
    {
     "data": {
      "text/plain": [
       "5"
      ]
     },
     "execution_count": 136,
     "metadata": {},
     "output_type": "execute_result"
    }
   ],
   "source": [
    "tau+(tau+1)*clenbits"
   ]
  },
  {
   "cell_type": "markdown",
   "id": "be47773d",
   "metadata": {},
   "source": [
    "We can accomodate that. Chance of needing more:"
   ]
  },
  {
   "cell_type": "code",
   "execution_count": 137,
   "id": "b81e016a",
   "metadata": {},
   "outputs": [
    {
     "data": {
      "text/plain": [
       "0.250000000000000"
      ]
     },
     "execution_count": 137,
     "metadata": {},
     "output_type": "execute_result"
    }
   ],
   "source": [
    "1/n^2.n()"
   ]
  },
  {
   "cell_type": "markdown",
   "id": "06fea7da",
   "metadata": {},
   "source": [
    "Expected number of repetitions accounting for single D-box failures:"
   ]
  },
  {
   "cell_type": "code",
   "execution_count": 138,
   "id": "6e2eadf2",
   "metadata": {},
   "outputs": [
    {
     "data": {
      "text/plain": [
       "4.02644873510896"
      ]
     },
     "execution_count": 138,
     "metadata": {},
     "output_type": "execute_result"
    }
   ],
   "source": [
    "(1/(((2*(gamma-beta)-1)/(2*gamma-1))^(n*k))^2)*(n^2/(n^2-1)).n()"
   ]
  },
  {
   "cell_type": "markdown",
   "id": "5e76c6ec",
   "metadata": {},
   "source": [
    "# Large Parameters? (D?)"
   ]
  },
  {
   "cell_type": "code",
   "execution_count": 169,
   "id": "667d34d6",
   "metadata": {},
   "outputs": [],
   "source": [
    "n=2\n",
    "r=2\n",
    "k=2\n",
    "eta=1 #secret key range, prefered 2 in Alkaline\n",
    "R.<x> = ZZ[]"
   ]
  },
  {
   "cell_type": "code",
   "execution_count": 170,
   "id": "acd954d9",
   "metadata": {},
   "outputs": [
    {
     "name": "stdout",
     "output_type": "stream",
     "text": [
      "0.000000000000000\n",
      "2.38629436111989\n",
      "3.79175946922805\n",
      "4.38629436111989\n",
      "4.00000000000000\n"
     ]
    }
   ],
   "source": [
    "for tau in range(5):\n",
    "    print(ln(binomial(n*r, tau)).n()+tau) #challenge entropy, should be between n/2 and n"
   ]
  },
  {
   "cell_type": "code",
   "execution_count": 171,
   "id": "dac8ab2b",
   "metadata": {},
   "outputs": [
    {
     "data": {
      "text/plain": [
       "3.79175946922805"
      ]
     },
     "execution_count": 171,
     "metadata": {},
     "output_type": "execute_result"
    }
   ],
   "source": [
    "tau = 2 #number of 1's in c\n",
    "ln(binomial(n*r, tau)).n()+tau"
   ]
  },
  {
   "cell_type": "code",
   "execution_count": 172,
   "id": "f6111660",
   "metadata": {},
   "outputs": [
    {
     "data": {
      "text/plain": [
       "2"
      ]
     },
     "execution_count": 172,
     "metadata": {},
     "output_type": "execute_result"
    }
   ],
   "source": [
    "beta = tau*eta\n",
    "beta"
   ]
  },
  {
   "cell_type": "markdown",
   "id": "7f80fa29",
   "metadata": {},
   "source": [
    "Chance of $\\mathbf{y}_i$-coefficient passing:"
   ]
  },
  {
   "cell_type": "code",
   "execution_count": 173,
   "id": "97f341fc",
   "metadata": {},
   "outputs": [
    {
     "name": "stdout",
     "output_type": "stream",
     "text": [
      "0.000152415790275873\n",
      "6561.00000000000\n",
      "878.646700198140\n",
      "11.9560739123284\n",
      "3.01983655133172\n",
      "1.69008404739794\n",
      "1.29178095135215\n"
     ]
    }
   ],
   "source": [
    "for logGamma in range(7):\n",
    "    print(1/(((2*((2^logGamma)-beta)-1)/(2*(2^logGamma)-1))^(n*k))^2.n())"
   ]
  },
  {
   "cell_type": "code",
   "execution_count": 174,
   "id": "cc1b0e00",
   "metadata": {},
   "outputs": [],
   "source": [
    "gamma=2^5 #y coeff range, power of 2, exponent about 2/3 of q?  Earlier version was *not* power of 2|"
   ]
  },
  {
   "cell_type": "code",
   "execution_count": 175,
   "id": "189e3e06",
   "metadata": {},
   "outputs": [
    {
     "data": {
      "text/plain": [
       "0.769211642179524"
      ]
     },
     "execution_count": 175,
     "metadata": {},
     "output_type": "execute_result"
    }
   ],
   "source": [
    "((2*(gamma-beta)-1)/(2*gamma-1))^(n*k).n()"
   ]
  },
  {
   "cell_type": "markdown",
   "id": "fcf1c6df",
   "metadata": {},
   "source": [
    "Expected number of repetitions:"
   ]
  },
  {
   "cell_type": "code",
   "execution_count": 176,
   "id": "c11d3185",
   "metadata": {},
   "outputs": [
    {
     "data": {
      "text/plain": [
       "1.69008404739794"
      ]
     },
     "execution_count": 176,
     "metadata": {},
     "output_type": "execute_result"
    }
   ],
   "source": [
    "1/(((2*(gamma-beta)-1)/(2*gamma-1))^(n*k))^2.n()"
   ]
  },
  {
   "cell_type": "code",
   "execution_count": 177,
   "id": "24382d03",
   "metadata": {},
   "outputs": [
    {
     "data": {
      "text/plain": [
       "193"
      ]
     },
     "execution_count": 177,
     "metadata": {},
     "output_type": "execute_result"
    }
   ],
   "source": [
    "q=193 #larger than any Alkaline set\n",
    "#((2*gamma-1)/q) should be less than ~~ 1/2\n",
    "#q-1 should be divisible by 2n for NTT\n",
    "q"
   ]
  },
  {
   "cell_type": "code",
   "execution_count": 178,
   "id": "790a4a75",
   "metadata": {},
   "outputs": [
    {
     "data": {
      "text/plain": [
       "48"
      ]
     },
     "execution_count": 178,
     "metadata": {},
     "output_type": "execute_result"
    }
   ],
   "source": [
    "(q-1)/(2*n)"
   ]
  },
  {
   "cell_type": "code",
   "execution_count": 179,
   "id": "44de337f",
   "metadata": {},
   "outputs": [
    {
     "data": {
      "text/plain": [
       "True"
      ]
     },
     "execution_count": 179,
     "metadata": {},
     "output_type": "execute_result"
    }
   ],
   "source": [
    "is_prime(q)"
   ]
  },
  {
   "cell_type": "code",
   "execution_count": 180,
   "id": "6e5bb57b",
   "metadata": {},
   "outputs": [
    {
     "data": {
      "text/plain": [
       "0.305699481865285"
      ]
     },
     "execution_count": 180,
     "metadata": {},
     "output_type": "execute_result"
    }
   ],
   "source": [
    "((2*(gamma-beta)-1)/q).n()"
   ]
  },
  {
   "cell_type": "markdown",
   "id": "f746db96",
   "metadata": {},
   "source": [
    "Chance of linear algebra forgery passing by luck:"
   ]
  },
  {
   "cell_type": "code",
   "execution_count": 181,
   "id": "43ab7df2",
   "metadata": {},
   "outputs": [
    {
     "data": {
      "text/plain": [
       "0.00873330867817717"
      ]
     },
     "execution_count": 181,
     "metadata": {},
     "output_type": "execute_result"
    }
   ],
   "source": [
    "((2*(gamma-beta)-1)/q)^(n*k).n()"
   ]
  },
  {
   "cell_type": "code",
   "execution_count": 182,
   "id": "3327c38e",
   "metadata": {},
   "outputs": [
    {
     "data": {
      "text/plain": [
       "'0.8733%'"
      ]
     },
     "execution_count": 182,
     "metadata": {},
     "output_type": "execute_result"
    }
   ],
   "source": [
    "str(100*((2*(gamma-beta)-1)/q)^(n*k).n(digits=4))+\"%\""
   ]
  },
  {
   "cell_type": "markdown",
   "id": "96c1f44b",
   "metadata": {},
   "source": [
    "D-box size:"
   ]
  },
  {
   "cell_type": "code",
   "execution_count": 183,
   "id": "164ba59a",
   "metadata": {
    "scrolled": true
   },
   "outputs": [
    {
     "data": {
      "text/plain": [
       "8"
      ]
     },
     "execution_count": 183,
     "metadata": {},
     "output_type": "execute_result"
    }
   ],
   "source": [
    "qlen = ceil(log(q,2))\n",
    "qlen"
   ]
  },
  {
   "cell_type": "code",
   "execution_count": 184,
   "id": "db91d74d",
   "metadata": {},
   "outputs": [
    {
     "data": {
      "text/plain": [
       "1"
      ]
     },
     "execution_count": 184,
     "metadata": {},
     "output_type": "execute_result"
    }
   ],
   "source": [
    "clenbits = log(n,2)\n",
    "clenbits"
   ]
  },
  {
   "cell_type": "markdown",
   "id": "9126b97e",
   "metadata": {},
   "source": [
    "Minimum number of bits needed from D-box:"
   ]
  },
  {
   "cell_type": "code",
   "execution_count": 185,
   "id": "918586df",
   "metadata": {},
   "outputs": [
    {
     "data": {
      "text/plain": [
       "4"
      ]
     },
     "execution_count": 185,
     "metadata": {},
     "output_type": "execute_result"
    }
   ],
   "source": [
    "tau+tau*clenbits"
   ]
  },
  {
   "cell_type": "markdown",
   "id": "6a30a28c",
   "metadata": {},
   "source": [
    "Chance of needing more:"
   ]
  },
  {
   "cell_type": "code",
   "execution_count": 186,
   "id": "5342b46e",
   "metadata": {},
   "outputs": [
    {
     "data": {
      "text/plain": [
       "0.500000000000000"
      ]
     },
     "execution_count": 186,
     "metadata": {},
     "output_type": "execute_result"
    }
   ],
   "source": [
    "1/n.n()"
   ]
  },
  {
   "cell_type": "markdown",
   "id": "e76a3fb8",
   "metadata": {},
   "source": [
    "Next most likely:"
   ]
  },
  {
   "cell_type": "code",
   "execution_count": 187,
   "id": "f29b8beb",
   "metadata": {},
   "outputs": [
    {
     "data": {
      "text/plain": [
       "5"
      ]
     },
     "execution_count": 187,
     "metadata": {},
     "output_type": "execute_result"
    }
   ],
   "source": [
    "tau+(tau+1)*clenbits"
   ]
  },
  {
   "cell_type": "markdown",
   "id": "57f789d2",
   "metadata": {},
   "source": [
    "We can accomodate that. Chance of needing more:"
   ]
  },
  {
   "cell_type": "code",
   "execution_count": 188,
   "id": "d12cfa02",
   "metadata": {},
   "outputs": [
    {
     "data": {
      "text/plain": [
       "0.250000000000000"
      ]
     },
     "execution_count": 188,
     "metadata": {},
     "output_type": "execute_result"
    }
   ],
   "source": [
    "1/n^2.n()"
   ]
  },
  {
   "cell_type": "markdown",
   "id": "31d9f18e",
   "metadata": {},
   "source": [
    "Expected number of repetitions accounting for single D-box failures:"
   ]
  },
  {
   "cell_type": "code",
   "execution_count": 189,
   "id": "73966370",
   "metadata": {},
   "outputs": [
    {
     "data": {
      "text/plain": [
       "2.25344539653058"
      ]
     },
     "execution_count": 189,
     "metadata": {},
     "output_type": "execute_result"
    }
   ],
   "source": [
    "(1/(((2*(gamma-beta)-1)/(2*gamma-1))^(n*k))^2)*(n^2/(n^2-1)).n()"
   ]
  },
  {
   "cell_type": "markdown",
   "id": "e4636bdc",
   "metadata": {},
   "source": [
    "Fine"
   ]
  },
  {
   "cell_type": "markdown",
   "id": "53a29e71",
   "metadata": {},
   "source": [
    "# Lithium-ALG"
   ]
  },
  {
   "cell_type": "code",
   "execution_count": 82,
   "id": "96a7a972",
   "metadata": {},
   "outputs": [],
   "source": [
    "n=4\n",
    "k=1\n",
    "eta=1 #secret key range, prefered 2 in Alkaline\n",
    "R.<x> = ZZ[]"
   ]
  },
  {
   "cell_type": "code",
   "execution_count": 83,
   "id": "968ea962",
   "metadata": {},
   "outputs": [
    {
     "name": "stdout",
     "output_type": "stream",
     "text": [
      "0.000000000000000\n",
      "2.38629436111989\n",
      "3.79175946922805\n",
      "4.38629436111989\n",
      "4.00000000000000\n"
     ]
    }
   ],
   "source": [
    "for tau in range(5):\n",
    "    print(ln(binomial(n, tau)).n()+tau) #challenge entropy, should be between n/2 and n"
   ]
  },
  {
   "cell_type": "code",
   "execution_count": 84,
   "id": "d307aaa2",
   "metadata": {
    "scrolled": true
   },
   "outputs": [
    {
     "data": {
      "text/plain": [
       "2.38629436111989"
      ]
     },
     "execution_count": 84,
     "metadata": {},
     "output_type": "execute_result"
    }
   ],
   "source": [
    "tau = 1 #number of 1's in c\n",
    "ln(binomial(n, tau)).n()+tau"
   ]
  },
  {
   "cell_type": "code",
   "execution_count": 85,
   "id": "5db33341",
   "metadata": {},
   "outputs": [
    {
     "data": {
      "text/plain": [
       "1"
      ]
     },
     "execution_count": 85,
     "metadata": {},
     "output_type": "execute_result"
    }
   ],
   "source": [
    "beta = tau*eta\n",
    "beta"
   ]
  },
  {
   "cell_type": "markdown",
   "id": "8340e2cb",
   "metadata": {},
   "source": [
    "Chance of $\\mathbf{y}_i$-coefficient passing:"
   ]
  },
  {
   "cell_type": "code",
   "execution_count": 86,
   "id": "8a239e0c",
   "metadata": {},
   "outputs": [
    {
     "name": "stdout",
     "output_type": "stream",
     "text": [
      "1.00000000000000\n",
      "6561.00000000000\n",
      "14.7578905600000\n",
      "3.14183413597341\n",
      "1.70494183535004\n",
      "1.29445129863690\n",
      "1.13540202271217\n"
     ]
    }
   ],
   "source": [
    "for logGamma in range(7):\n",
    "    print(1/(((2*((2^logGamma)-beta)-1)/(2*(2^logGamma)-1))^(n*k))^2.n())"
   ]
  },
  {
   "cell_type": "code",
   "execution_count": 87,
   "id": "1cfc9775",
   "metadata": {},
   "outputs": [],
   "source": [
    "gamma=2^3 #y coeff range, power of 2, exponent about 2/3 of q?  Earlier version was *not* power of 2|"
   ]
  },
  {
   "cell_type": "code",
   "execution_count": 88,
   "id": "d1596c43",
   "metadata": {},
   "outputs": [
    {
     "data": {
      "text/plain": [
       "0.564167901234568"
      ]
     },
     "execution_count": 88,
     "metadata": {},
     "output_type": "execute_result"
    }
   ],
   "source": [
    "((2*(gamma-beta)-1)/(2*gamma-1))^(n*k).n()"
   ]
  },
  {
   "cell_type": "markdown",
   "id": "1699c08d",
   "metadata": {},
   "source": [
    "Expected number of repetitions:"
   ]
  },
  {
   "cell_type": "code",
   "execution_count": 89,
   "id": "46568c06",
   "metadata": {},
   "outputs": [
    {
     "data": {
      "text/plain": [
       "3.14183413597341"
      ]
     },
     "execution_count": 89,
     "metadata": {},
     "output_type": "execute_result"
    }
   ],
   "source": [
    "1/(((2*(gamma-beta)-1)/(2*gamma-1))^(n*k))^2.n()"
   ]
  },
  {
   "cell_type": "code",
   "execution_count": 90,
   "id": "6e91f07f",
   "metadata": {},
   "outputs": [
    {
     "data": {
      "text/plain": [
       "41"
      ]
     },
     "execution_count": 90,
     "metadata": {},
     "output_type": "execute_result"
    }
   ],
   "source": [
    "q=41 \n",
    "#((2*gamma-1)/q) should be less than ~~ 1/2\n",
    "#q-1 should be divisible by 2n for NTT\n",
    "q"
   ]
  },
  {
   "cell_type": "code",
   "execution_count": 91,
   "id": "ade0e592",
   "metadata": {},
   "outputs": [
    {
     "data": {
      "text/plain": [
       "5"
      ]
     },
     "execution_count": 91,
     "metadata": {},
     "output_type": "execute_result"
    }
   ],
   "source": [
    "(q-1)/(2*n)"
   ]
  },
  {
   "cell_type": "code",
   "execution_count": 92,
   "id": "80f61330",
   "metadata": {},
   "outputs": [
    {
     "data": {
      "text/plain": [
       "True"
      ]
     },
     "execution_count": 92,
     "metadata": {},
     "output_type": "execute_result"
    }
   ],
   "source": [
    "is_prime(q)"
   ]
  },
  {
   "cell_type": "code",
   "execution_count": 93,
   "id": "13ea33f2",
   "metadata": {},
   "outputs": [
    {
     "data": {
      "text/plain": [
       "0.365853658536585"
      ]
     },
     "execution_count": 93,
     "metadata": {},
     "output_type": "execute_result"
    }
   ],
   "source": [
    "((2*gamma-1)/q).n()"
   ]
  },
  {
   "cell_type": "markdown",
   "id": "2f8b85ad",
   "metadata": {},
   "source": [
    "Chance of linear algebra forgery passing by luck:"
   ]
  },
  {
   "cell_type": "code",
   "execution_count": 95,
   "id": "3144c9d5",
   "metadata": {},
   "outputs": [
    {
     "data": {
      "text/plain": [
       "0.0101073657680179"
      ]
     },
     "execution_count": 95,
     "metadata": {},
     "output_type": "execute_result"
    }
   ],
   "source": [
    "((2*(gamma-beta)-1)/q)^(n*k).n()"
   ]
  },
  {
   "cell_type": "markdown",
   "id": "89eeb4ad",
   "metadata": {},
   "source": [
    "D-box size:"
   ]
  },
  {
   "cell_type": "code",
   "execution_count": 322,
   "id": "d4d07ad4",
   "metadata": {
    "scrolled": true
   },
   "outputs": [
    {
     "data": {
      "text/plain": [
       "6"
      ]
     },
     "execution_count": 322,
     "metadata": {},
     "output_type": "execute_result"
    }
   ],
   "source": [
    "qlen = ceil(log(q,2))\n",
    "qlen"
   ]
  },
  {
   "cell_type": "code",
   "execution_count": 323,
   "id": "ea6e2363",
   "metadata": {},
   "outputs": [
    {
     "data": {
      "text/plain": [
       "2"
      ]
     },
     "execution_count": 323,
     "metadata": {},
     "output_type": "execute_result"
    }
   ],
   "source": [
    "clenbits = log(n,2)\n",
    "clenbits"
   ]
  },
  {
   "cell_type": "markdown",
   "id": "adf70c7e",
   "metadata": {},
   "source": [
    "Minimum number of bits needed from D-box:"
   ]
  },
  {
   "cell_type": "code",
   "execution_count": 324,
   "id": "db371f88",
   "metadata": {},
   "outputs": [
    {
     "data": {
      "text/plain": [
       "3"
      ]
     },
     "execution_count": 324,
     "metadata": {},
     "output_type": "execute_result"
    }
   ],
   "source": [
    "tau+tau*clenbits"
   ]
  },
  {
   "cell_type": "markdown",
   "id": "0333a45e",
   "metadata": {},
   "source": [
    "Chance of needing more:"
   ]
  },
  {
   "cell_type": "code",
   "execution_count": 325,
   "id": "f4038a3e",
   "metadata": {},
   "outputs": [
    {
     "data": {
      "text/plain": [
       "0"
      ]
     },
     "execution_count": 325,
     "metadata": {},
     "output_type": "execute_result"
    }
   ],
   "source": [
    "0"
   ]
  },
  {
   "cell_type": "code",
   "execution_count": null,
   "id": "25481d16",
   "metadata": {},
   "outputs": [],
   "source": []
  },
  {
   "cell_type": "markdown",
   "id": "e1532380",
   "metadata": {},
   "source": [
    "# ML-DSA-44"
   ]
  },
  {
   "cell_type": "code",
   "execution_count": 88,
   "id": "a277b283",
   "metadata": {},
   "outputs": [],
   "source": [
    "n=256\n",
    "k=4\n",
    "eta=2 #secret key range, prefered 2 in Alkaline\n",
    "R.<x> = ZZ[]"
   ]
  },
  {
   "cell_type": "code",
   "execution_count": 89,
   "id": "bf667c1c",
   "metadata": {
    "scrolled": true
   },
   "outputs": [
    {
     "data": {
      "text/plain": [
       "145.578521349676"
      ]
     },
     "execution_count": 89,
     "metadata": {},
     "output_type": "execute_result"
    }
   ],
   "source": [
    "tau = 39 #number of 1's in c\n",
    "ln(binomial(n, tau)).n()+tau"
   ]
  },
  {
   "cell_type": "code",
   "execution_count": 90,
   "id": "672ef9af",
   "metadata": {},
   "outputs": [
    {
     "data": {
      "text/plain": [
       "78"
      ]
     },
     "execution_count": 90,
     "metadata": {},
     "output_type": "execute_result"
    }
   ],
   "source": [
    "beta = tau*eta\n",
    "beta"
   ]
  },
  {
   "cell_type": "code",
   "execution_count": 91,
   "id": "c20d402a",
   "metadata": {},
   "outputs": [
    {
     "data": {
      "text/plain": [
       "8380417"
      ]
     },
     "execution_count": 91,
     "metadata": {},
     "output_type": "execute_result"
    }
   ],
   "source": [
    "q=8380417\n",
    "q"
   ]
  },
  {
   "cell_type": "code",
   "execution_count": 94,
   "id": "eea1bab3",
   "metadata": {},
   "outputs": [],
   "source": [
    "gamma=2^17 #y coeff range, power of 2, exponent about 2/3 of q?  Earlier version was *not* power of 2|"
   ]
  },
  {
   "cell_type": "markdown",
   "id": "eefe2bfe",
   "metadata": {},
   "source": [
    "Expected number of repetitions"
   ]
  },
  {
   "cell_type": "code",
   "execution_count": 95,
   "id": "b101fa5e",
   "metadata": {},
   "outputs": [
    {
     "data": {
      "text/plain": [
       "3.38419962396988"
      ]
     },
     "execution_count": 95,
     "metadata": {},
     "output_type": "execute_result"
    }
   ],
   "source": [
    "1/(((2*(gamma-beta)-1)/(2*gamma-1))^(n*k))^2.n()"
   ]
  },
  {
   "cell_type": "markdown",
   "id": "d650355c",
   "metadata": {},
   "source": [
    "Chance of \"lucky\" forgery"
   ]
  },
  {
   "cell_type": "code",
   "execution_count": 97,
   "id": "9b1a8cf1",
   "metadata": {},
   "outputs": [
    {
     "data": {
      "text/plain": [
       "7.84244279575260e-1542"
      ]
     },
     "execution_count": 97,
     "metadata": {},
     "output_type": "execute_result"
    }
   ],
   "source": [
    "((2*(gamma-beta)-1)/q)^(n*k).n()"
   ]
  },
  {
   "cell_type": "code",
   "execution_count": null,
   "id": "1ad6a12f",
   "metadata": {},
   "outputs": [],
   "source": [
    "\n"
   ]
  },
  {
   "cell_type": "code",
   "execution_count": null,
   "id": "9a61d911",
   "metadata": {},
   "outputs": [],
   "source": []
  },
  {
   "cell_type": "markdown",
   "id": "3137e4f0",
   "metadata": {},
   "source": [
    "# ML-DSA-65"
   ]
  },
  {
   "cell_type": "code",
   "execution_count": 2,
   "id": "5a315106",
   "metadata": {},
   "outputs": [],
   "source": [
    "n=256\n",
    "k=5 #length of z_i is number of columns in A\n",
    "eta=4 #secret key range, prefered 2 in Alkaline\n",
    "R.<x> = ZZ[]"
   ]
  },
  {
   "cell_type": "code",
   "execution_count": 3,
   "id": "15cbfc0a",
   "metadata": {
    "scrolled": true
   },
   "outputs": [
    {
     "data": {
      "text/plain": [
       "171.233043904590"
      ]
     },
     "execution_count": 3,
     "metadata": {},
     "output_type": "execute_result"
    }
   ],
   "source": [
    "tau = 49 #number of 1's in c\n",
    "ln(binomial(n, tau)).n()+tau"
   ]
  },
  {
   "cell_type": "code",
   "execution_count": 4,
   "id": "eda50839",
   "metadata": {},
   "outputs": [
    {
     "data": {
      "text/plain": [
       "196"
      ]
     },
     "execution_count": 4,
     "metadata": {},
     "output_type": "execute_result"
    }
   ],
   "source": [
    "beta = tau*eta\n",
    "beta"
   ]
  },
  {
   "cell_type": "code",
   "execution_count": 8,
   "id": "61a0709d",
   "metadata": {},
   "outputs": [
    {
     "data": {
      "text/plain": [
       "8380417"
      ]
     },
     "execution_count": 8,
     "metadata": {},
     "output_type": "execute_result"
    }
   ],
   "source": [
    "q=8380417\n",
    "q"
   ]
  },
  {
   "cell_type": "code",
   "execution_count": 9,
   "id": "081b12ad",
   "metadata": {},
   "outputs": [],
   "source": [
    "gamma=2^19 #y coeff range, power of 2, exponent about 2/3 of q?  Earlier version was *not* power of 2|"
   ]
  },
  {
   "cell_type": "markdown",
   "id": "bfa61fba",
   "metadata": {},
   "source": [
    "Expected number of repetitions"
   ]
  },
  {
   "cell_type": "code",
   "execution_count": 10,
   "id": "75e0b42c",
   "metadata": {},
   "outputs": [
    {
     "data": {
      "text/plain": [
       "2.60442285030941"
      ]
     },
     "execution_count": 10,
     "metadata": {},
     "output_type": "execute_result"
    }
   ],
   "source": [
    "1/(((2*(gamma-beta)-1)/(2*gamma-1))^(n*k))^2.n()"
   ]
  },
  {
   "cell_type": "markdown",
   "id": "62f273a5",
   "metadata": {},
   "source": [
    "Chance of \"lucky\" forgery"
   ]
  },
  {
   "cell_type": "code",
   "execution_count": 11,
   "id": "b6f1d8cf",
   "metadata": {},
   "outputs": [
    {
     "data": {
      "text/plain": [
       "2.39606045449834e-1156"
      ]
     },
     "execution_count": 11,
     "metadata": {},
     "output_type": "execute_result"
    }
   ],
   "source": [
    "((2*(gamma-beta)-1)/q)^(n*k).n()"
   ]
  },
  {
   "cell_type": "code",
   "execution_count": null,
   "id": "c41db78c",
   "metadata": {},
   "outputs": [],
   "source": [
    "\n"
   ]
  },
  {
   "cell_type": "markdown",
   "id": "e955b103",
   "metadata": {},
   "source": [
    "# ML-DSA-87"
   ]
  },
  {
   "cell_type": "code",
   "execution_count": 12,
   "id": "f1d22673",
   "metadata": {},
   "outputs": [],
   "source": [
    "n=256\n",
    "k=7 #length of z_i is number of columns in A\n",
    "eta=2 #secret key range, prefered 2 in Alkaline\n",
    "R.<x> = ZZ[]"
   ]
  },
  {
   "cell_type": "code",
   "execution_count": 13,
   "id": "0246950f",
   "metadata": {
    "scrolled": true
   },
   "outputs": [
    {
     "data": {
      "text/plain": [
       "196.560210897508"
      ]
     },
     "execution_count": 13,
     "metadata": {},
     "output_type": "execute_result"
    }
   ],
   "source": [
    "tau = 60 #number of 1's in c\n",
    "ln(binomial(n, tau)).n()+tau"
   ]
  },
  {
   "cell_type": "code",
   "execution_count": 14,
   "id": "f7b84028",
   "metadata": {},
   "outputs": [
    {
     "data": {
      "text/plain": [
       "120"
      ]
     },
     "execution_count": 14,
     "metadata": {},
     "output_type": "execute_result"
    }
   ],
   "source": [
    "beta = tau*eta\n",
    "beta"
   ]
  },
  {
   "cell_type": "code",
   "execution_count": 15,
   "id": "365caee5",
   "metadata": {},
   "outputs": [
    {
     "data": {
      "text/plain": [
       "8380417"
      ]
     },
     "execution_count": 15,
     "metadata": {},
     "output_type": "execute_result"
    }
   ],
   "source": [
    "q=8380417\n",
    "q"
   ]
  },
  {
   "cell_type": "code",
   "execution_count": 16,
   "id": "a3cffd2c",
   "metadata": {},
   "outputs": [],
   "source": [
    "gamma=2^19 #y coeff range, power of 2, exponent about 2/3 of q?  Earlier version was *not* power of 2|"
   ]
  },
  {
   "cell_type": "markdown",
   "id": "431cac41",
   "metadata": {},
   "source": [
    "Expected number of repetitions"
   ]
  },
  {
   "cell_type": "code",
   "execution_count": 17,
   "id": "70ad967d",
   "metadata": {},
   "outputs": [
    {
     "data": {
      "text/plain": [
       "2.27142451457549"
      ]
     },
     "execution_count": 17,
     "metadata": {},
     "output_type": "execute_result"
    }
   ],
   "source": [
    "1/(((2*(gamma-beta)-1)/(2*gamma-1))^(n*k))^2.n()"
   ]
  },
  {
   "cell_type": "markdown",
   "id": "4f5e1b67",
   "metadata": {},
   "source": [
    "Chance of \"lucky\" forgery"
   ]
  },
  {
   "cell_type": "code",
   "execution_count": 18,
   "id": "99ede8af",
   "metadata": {},
   "outputs": [
    {
     "data": {
      "text/plain": [
       "1.75446930152483e-1618"
      ]
     },
     "execution_count": 18,
     "metadata": {},
     "output_type": "execute_result"
    }
   ],
   "source": [
    "((2*(gamma-beta)-1)/q)^(n*k).n()"
   ]
  },
  {
   "cell_type": "code",
   "execution_count": null,
   "id": "26abdef5",
   "metadata": {},
   "outputs": [],
   "source": []
  }
 ],
 "metadata": {
  "kernelspec": {
   "display_name": "SageMath 9.5",
   "language": "sage",
   "name": "sagemath"
  },
  "language_info": {
   "codemirror_mode": {
    "name": "ipython",
    "version": 3
   },
   "file_extension": ".py",
   "mimetype": "text/x-python",
   "name": "python",
   "nbconvert_exporter": "python",
   "pygments_lexer": "ipython3",
   "version": "3.10.12"
  }
 },
 "nbformat": 4,
 "nbformat_minor": 5
}
