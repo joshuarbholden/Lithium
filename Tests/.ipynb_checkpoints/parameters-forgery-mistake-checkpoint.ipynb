{
 "cells": [
  {
   "cell_type": "markdown",
   "id": "ab26ffe9",
   "metadata": {},
   "source": [
    "# Small parameters (N?)"
   ]
  },
  {
   "cell_type": "code",
   "execution_count": 213,
   "id": "12a5b6f5",
   "metadata": {},
   "outputs": [],
   "source": [
    "n=4\n",
    "k=2\n",
    "eta=1 #secret key range, prefered 2 in Alkaline\n",
    "R.<x> = ZZ[]"
   ]
  },
  {
   "cell_type": "code",
   "execution_count": 214,
   "id": "ff3c9acc",
   "metadata": {},
   "outputs": [
    {
     "name": "stdout",
     "output_type": "stream",
     "text": [
      "0.000000000000000\n",
      "2.38629436111989\n",
      "3.79175946922805\n",
      "4.38629436111989\n",
      "4.00000000000000\n"
     ]
    }
   ],
   "source": [
    "for tau in range(5):\n",
    "    print(ln(binomial(n, tau)).n()+tau) #challenge entropy, should be between n/2 and n"
   ]
  },
  {
   "cell_type": "code",
   "execution_count": 215,
   "id": "8a030330",
   "metadata": {},
   "outputs": [
    {
     "data": {
      "text/plain": [
       "2.38629436111989"
      ]
     },
     "execution_count": 215,
     "metadata": {},
     "output_type": "execute_result"
    }
   ],
   "source": [
    "tau = 1 #number of 1's in c\n",
    "ln(binomial(n, tau)).n()+tau"
   ]
  },
  {
   "cell_type": "code",
   "execution_count": 216,
   "id": "fe858cd3",
   "metadata": {},
   "outputs": [
    {
     "data": {
      "text/plain": [
       "1"
      ]
     },
     "execution_count": 216,
     "metadata": {},
     "output_type": "execute_result"
    }
   ],
   "source": [
    "beta = tau*eta\n",
    "beta"
   ]
  },
  {
   "cell_type": "code",
   "execution_count": 217,
   "id": "50701569",
   "metadata": {
    "scrolled": true
   },
   "outputs": [
    {
     "name": "stdout",
     "output_type": "stream",
     "text": [
      "1.00000000000000\n",
      "4.30467210000000e7\n",
      "217.795333780937\n",
      "9.87112173796777\n",
      "2.90682666192675\n",
      "1.67560416454276\n"
     ]
    }
   ],
   "source": [
    "for logGamma in range(6):\n",
    "    print(1/(((2*((2^logGamma)-beta)-1)/(2*(2^logGamma)-1))^(n*k))^2.n()) #expected number of repetitions"
   ]
  },
  {
   "cell_type": "code",
   "execution_count": 218,
   "id": "c862ea69",
   "metadata": {},
   "outputs": [],
   "source": [
    "gamma=2^3 #y coeff range, power of 2, as small as gives reasonable number of repetitions.  Earlier version was *not* power of 2"
   ]
  },
  {
   "cell_type": "markdown",
   "id": "4f0ff342",
   "metadata": {},
   "source": [
    "Chance of $\\mathbf{y}_i$-coefficient passing:"
   ]
  },
  {
   "cell_type": "code",
   "execution_count": 219,
   "id": "5833c932",
   "metadata": {},
   "outputs": [
    {
     "data": {
      "text/plain": [
       "0.318285420783417"
      ]
     },
     "execution_count": 219,
     "metadata": {},
     "output_type": "execute_result"
    }
   ],
   "source": [
    "((2*(gamma-beta)-1)/(2*gamma-1))^(n*k).n()"
   ]
  },
  {
   "cell_type": "markdown",
   "id": "554ced6d",
   "metadata": {},
   "source": [
    "Expected number of repetitions:"
   ]
  },
  {
   "cell_type": "code",
   "execution_count": 220,
   "id": "f80e362c",
   "metadata": {},
   "outputs": [
    {
     "data": {
      "text/plain": [
       "9.87112173796777"
      ]
     },
     "execution_count": 220,
     "metadata": {},
     "output_type": "execute_result"
    }
   ],
   "source": [
    "1/(((2*(gamma-beta)-1)/(2*gamma-1))^(n*k))^2.n()"
   ]
  },
  {
   "cell_type": "markdown",
   "id": "ffc0488b",
   "metadata": {},
   "source": [
    "Not great number of repetitions, but lets us use small $\\gamma$"
   ]
  },
  {
   "cell_type": "code",
   "execution_count": 221,
   "id": "9b3fda5d",
   "metadata": {},
   "outputs": [
    {
     "data": {
      "text/plain": [
       "41"
      ]
     },
     "execution_count": 221,
     "metadata": {},
     "output_type": "execute_result"
    }
   ],
   "source": [
    "q=41 #same as Alkaline D\n",
    "#((2*gamma-1)/q) should be less than ~~1/2\n",
    "#q-1 should be divisible by 2n for NTT\n",
    "q"
   ]
  },
  {
   "cell_type": "code",
   "execution_count": 222,
   "id": "68d95658",
   "metadata": {},
   "outputs": [
    {
     "data": {
      "text/plain": [
       "True"
      ]
     },
     "execution_count": 222,
     "metadata": {},
     "output_type": "execute_result"
    }
   ],
   "source": [
    "is_prime(q)"
   ]
  },
  {
   "cell_type": "code",
   "execution_count": 223,
   "id": "038708ab",
   "metadata": {},
   "outputs": [
    {
     "data": {
      "text/plain": [
       "5"
      ]
     },
     "execution_count": 223,
     "metadata": {},
     "output_type": "execute_result"
    }
   ],
   "source": [
    "(q-1)/(2*n)"
   ]
  },
  {
   "cell_type": "code",
   "execution_count": 224,
   "id": "2911a530",
   "metadata": {},
   "outputs": [
    {
     "data": {
      "text/plain": [
       "0.365853658536585"
      ]
     },
     "execution_count": 224,
     "metadata": {},
     "output_type": "execute_result"
    }
   ],
   "source": [
    "((2*gamma-1)/q).n()"
   ]
  },
  {
   "cell_type": "markdown",
   "id": "cc45a74e",
   "metadata": {},
   "source": [
    "Chance of linear algebra forgery passing by luck:"
   ]
  },
  {
   "cell_type": "code",
   "execution_count": 225,
   "id": "e76dbf8b",
   "metadata": {
    "scrolled": true
   },
   "outputs": [
    {
     "data": {
      "text/plain": [
       "0.000320966139501613"
      ]
     },
     "execution_count": 225,
     "metadata": {},
     "output_type": "execute_result"
    }
   ],
   "source": [
    "((2*gamma-1)/q)^(n*k).n()"
   ]
  },
  {
   "cell_type": "markdown",
   "id": "e0dedee7",
   "metadata": {},
   "source": [
    "D-box size:"
   ]
  },
  {
   "cell_type": "code",
   "execution_count": 226,
   "id": "88949c1b",
   "metadata": {},
   "outputs": [
    {
     "data": {
      "text/plain": [
       "6"
      ]
     },
     "execution_count": 226,
     "metadata": {},
     "output_type": "execute_result"
    }
   ],
   "source": [
    "qlen = ceil(log(q,2))\n",
    "qlen"
   ]
  },
  {
   "cell_type": "code",
   "execution_count": 227,
   "id": "f8e2029b",
   "metadata": {},
   "outputs": [
    {
     "data": {
      "text/plain": [
       "2"
      ]
     },
     "execution_count": 227,
     "metadata": {},
     "output_type": "execute_result"
    }
   ],
   "source": [
    "clenbits = log(n,2)\n",
    "clenbits"
   ]
  },
  {
   "cell_type": "markdown",
   "id": "42358e7a",
   "metadata": {},
   "source": [
    "Minimum number of bits needed from D-box:"
   ]
  },
  {
   "cell_type": "code",
   "execution_count": 228,
   "id": "0388d3b3",
   "metadata": {},
   "outputs": [
    {
     "data": {
      "text/plain": [
       "3"
      ]
     },
     "execution_count": 228,
     "metadata": {},
     "output_type": "execute_result"
    }
   ],
   "source": [
    "tau+tau*clenbits"
   ]
  },
  {
   "cell_type": "markdown",
   "id": "1c05f83d",
   "metadata": {},
   "source": [
    "Chance of needing more:"
   ]
  },
  {
   "cell_type": "code",
   "execution_count": 229,
   "id": "4638729f",
   "metadata": {
    "scrolled": true
   },
   "outputs": [
    {
     "data": {
      "text/plain": [
       "0"
      ]
     },
     "execution_count": 229,
     "metadata": {},
     "output_type": "execute_result"
    }
   ],
   "source": [
    "0"
   ]
  },
  {
   "cell_type": "markdown",
   "id": "c6c719cc",
   "metadata": {},
   "source": [
    "# Medium parameters (AA?)"
   ]
  },
  {
   "cell_type": "code",
   "execution_count": 230,
   "id": "2e076138",
   "metadata": {},
   "outputs": [],
   "source": [
    "n=4\n",
    "k=2\n",
    "eta=1 #secret key range, prefered 2 in Alkaline\n",
    "R.<x> = ZZ[]"
   ]
  },
  {
   "cell_type": "code",
   "execution_count": 231,
   "id": "e88de816",
   "metadata": {},
   "outputs": [
    {
     "name": "stdout",
     "output_type": "stream",
     "text": [
      "0.000000000000000\n",
      "2.38629436111989\n",
      "3.79175946922805\n",
      "4.38629436111989\n",
      "4.00000000000000\n"
     ]
    }
   ],
   "source": [
    "for tau in range(5):\n",
    "    print(ln(binomial(n, tau)).n()+tau) #challenge entropy, should be between n/2 and n"
   ]
  },
  {
   "cell_type": "code",
   "execution_count": 232,
   "id": "c8e2e553",
   "metadata": {},
   "outputs": [
    {
     "data": {
      "text/plain": [
       "2.38629436111989"
      ]
     },
     "execution_count": 232,
     "metadata": {},
     "output_type": "execute_result"
    }
   ],
   "source": [
    "tau = 1 #number of 1's in c\n",
    "ln(binomial(n, tau)).n()+tau"
   ]
  },
  {
   "cell_type": "code",
   "execution_count": 233,
   "id": "38f046c5",
   "metadata": {},
   "outputs": [
    {
     "data": {
      "text/plain": [
       "1"
      ]
     },
     "execution_count": 233,
     "metadata": {},
     "output_type": "execute_result"
    }
   ],
   "source": [
    "beta = tau*eta\n",
    "beta"
   ]
  },
  {
   "cell_type": "code",
   "execution_count": 234,
   "id": "c55a15d5",
   "metadata": {
    "scrolled": true
   },
   "outputs": [
    {
     "name": "stdout",
     "output_type": "stream",
     "text": [
      "1.00000000000000\n",
      "4.30467210000000e7\n",
      "217.795333780937\n",
      "9.87112173796777\n",
      "2.90682666192675\n",
      "1.67560416454276\n"
     ]
    }
   ],
   "source": [
    "for logGamma in range(6):\n",
    "    print(1/(((2*((2^logGamma)-beta)-1)/(2*(2^logGamma)-1))^(n*k))^2.n())"
   ]
  },
  {
   "cell_type": "code",
   "execution_count": 235,
   "id": "81689cad",
   "metadata": {},
   "outputs": [],
   "source": [
    "gamma=2^4 #y coeff range, power of 2, exponent about 2/3 of q?  Earlier version was *not* power of 2"
   ]
  },
  {
   "cell_type": "markdown",
   "id": "98292a16",
   "metadata": {},
   "source": [
    "Chance of $\\mathbf{y}_i$-coefficient passing:"
   ]
  },
  {
   "cell_type": "code",
   "execution_count": 236,
   "id": "06c10646",
   "metadata": {},
   "outputs": [
    {
     "data": {
      "text/plain": [
       "0.586530272919658"
      ]
     },
     "execution_count": 236,
     "metadata": {},
     "output_type": "execute_result"
    }
   ],
   "source": [
    "((2*(gamma-beta)-1)/(2*gamma-1))^(n*k).n()"
   ]
  },
  {
   "cell_type": "markdown",
   "id": "05a885e7",
   "metadata": {},
   "source": [
    "Expected number of repetitions:"
   ]
  },
  {
   "cell_type": "code",
   "execution_count": 237,
   "id": "d231ff27",
   "metadata": {},
   "outputs": [
    {
     "data": {
      "text/plain": [
       "2.90682666192675"
      ]
     },
     "execution_count": 237,
     "metadata": {},
     "output_type": "execute_result"
    }
   ],
   "source": [
    "1/(((2*(gamma-beta)-1)/(2*gamma-1))^(n*k))^2.n()"
   ]
  },
  {
   "cell_type": "code",
   "execution_count": 238,
   "id": "9d32c227",
   "metadata": {},
   "outputs": [
    {
     "data": {
      "text/plain": [
       "97"
      ]
     },
     "execution_count": 238,
     "metadata": {},
     "output_type": "execute_result"
    }
   ],
   "source": [
    "q=97 #((2*gamma-1)/q) should be at most ~~1/2\n",
    "#q-1 should be divisible by 2n for NTT\n",
    "q"
   ]
  },
  {
   "cell_type": "code",
   "execution_count": 239,
   "id": "219eea04",
   "metadata": {},
   "outputs": [
    {
     "data": {
      "text/plain": [
       "True"
      ]
     },
     "execution_count": 239,
     "metadata": {},
     "output_type": "execute_result"
    }
   ],
   "source": [
    "is_prime(q)"
   ]
  },
  {
   "cell_type": "code",
   "execution_count": 240,
   "id": "6539317c",
   "metadata": {},
   "outputs": [
    {
     "data": {
      "text/plain": [
       "12"
      ]
     },
     "execution_count": 240,
     "metadata": {},
     "output_type": "execute_result"
    }
   ],
   "source": [
    "(q-1)/(2*n)"
   ]
  },
  {
   "cell_type": "code",
   "execution_count": 241,
   "id": "06fc18a3",
   "metadata": {},
   "outputs": [
    {
     "data": {
      "text/plain": [
       "0.319587628865979"
      ]
     },
     "execution_count": 241,
     "metadata": {},
     "output_type": "execute_result"
    }
   ],
   "source": [
    "((2*gamma-1)/q).n()"
   ]
  },
  {
   "cell_type": "markdown",
   "id": "f235b3fa",
   "metadata": {},
   "source": [
    "Chance of linear algebra forgery passing by luck:"
   ]
  },
  {
   "cell_type": "code",
   "execution_count": 242,
   "id": "4d9ebadb",
   "metadata": {},
   "outputs": [
    {
     "data": {
      "text/plain": [
       "0.000108822744993069"
      ]
     },
     "execution_count": 242,
     "metadata": {},
     "output_type": "execute_result"
    }
   ],
   "source": [
    "((2*gamma-1)/q)^(n*k).n()"
   ]
  },
  {
   "cell_type": "markdown",
   "id": "4dbb7c4d",
   "metadata": {},
   "source": [
    "D-box size:"
   ]
  },
  {
   "cell_type": "code",
   "execution_count": 243,
   "id": "b8645f29",
   "metadata": {},
   "outputs": [
    {
     "data": {
      "text/plain": [
       "7"
      ]
     },
     "execution_count": 243,
     "metadata": {},
     "output_type": "execute_result"
    }
   ],
   "source": [
    "qlen = ceil(log(q,2))\n",
    "qlen"
   ]
  },
  {
   "cell_type": "markdown",
   "id": "080bfd80",
   "metadata": {},
   "source": [
    "Minimum number of bits needed from D-box:"
   ]
  },
  {
   "cell_type": "code",
   "execution_count": 244,
   "id": "6de2a7c9",
   "metadata": {},
   "outputs": [
    {
     "data": {
      "text/plain": [
       "3"
      ]
     },
     "execution_count": 244,
     "metadata": {},
     "output_type": "execute_result"
    }
   ],
   "source": [
    "tau+tau*clenbits"
   ]
  },
  {
   "cell_type": "markdown",
   "id": "419d4e62",
   "metadata": {},
   "source": [
    "Chance of needing more:"
   ]
  },
  {
   "cell_type": "code",
   "execution_count": 245,
   "id": "d995ffb3",
   "metadata": {
    "scrolled": true
   },
   "outputs": [
    {
     "data": {
      "text/plain": [
       "0"
      ]
     },
     "execution_count": 245,
     "metadata": {},
     "output_type": "execute_result"
    }
   ],
   "source": [
    "0"
   ]
  },
  {
   "cell_type": "markdown",
   "id": "e364c28d",
   "metadata": {},
   "source": [
    "# Original parameters (AAA?)"
   ]
  },
  {
   "cell_type": "code",
   "execution_count": 246,
   "id": "eec06c99",
   "metadata": {},
   "outputs": [],
   "source": [
    "n=4\n",
    "k=2\n",
    "q=41 #same as Alkaline D\n",
    "#q-1 should be divisible by 2n for NTT\n",
    "eta=1 #secret key range, prefered 2 in Alkaline\n",
    "R.<x> = ZZ[]"
   ]
  },
  {
   "cell_type": "code",
   "execution_count": 247,
   "id": "62cf68ed",
   "metadata": {},
   "outputs": [
    {
     "data": {
      "text/plain": [
       "41"
      ]
     },
     "execution_count": 247,
     "metadata": {},
     "output_type": "execute_result"
    }
   ],
   "source": [
    "q"
   ]
  },
  {
   "cell_type": "code",
   "execution_count": 248,
   "id": "90a2149c",
   "metadata": {},
   "outputs": [
    {
     "data": {
      "text/plain": [
       "5"
      ]
     },
     "execution_count": 248,
     "metadata": {},
     "output_type": "execute_result"
    }
   ],
   "source": [
    "(q-1)/(2*n)"
   ]
  },
  {
   "cell_type": "code",
   "execution_count": 249,
   "id": "33319828",
   "metadata": {},
   "outputs": [
    {
     "data": {
      "text/plain": [
       "True"
      ]
     },
     "execution_count": 249,
     "metadata": {},
     "output_type": "execute_result"
    }
   ],
   "source": [
    "is_prime(q)"
   ]
  },
  {
   "cell_type": "code",
   "execution_count": 250,
   "id": "a1899fbb",
   "metadata": {},
   "outputs": [
    {
     "data": {
      "text/plain": [
       "6"
      ]
     },
     "execution_count": 250,
     "metadata": {},
     "output_type": "execute_result"
    }
   ],
   "source": [
    "qlen = ceil(log(q,2))\n",
    "qlen"
   ]
  },
  {
   "cell_type": "code",
   "execution_count": 251,
   "id": "2754b433",
   "metadata": {},
   "outputs": [
    {
     "name": "stdout",
     "output_type": "stream",
     "text": [
      "0.000000000000000\n",
      "2.38629436111989\n",
      "3.79175946922805\n",
      "4.38629436111989\n",
      "4.00000000000000\n"
     ]
    }
   ],
   "source": [
    "for tau in range(5):\n",
    "    print(ln(binomial(n, tau)).n()+tau) #challenge entropy, should be between n/2 and n"
   ]
  },
  {
   "cell_type": "code",
   "execution_count": 252,
   "id": "3143b568",
   "metadata": {},
   "outputs": [
    {
     "data": {
      "text/plain": [
       "2.38629436111989"
      ]
     },
     "execution_count": 252,
     "metadata": {},
     "output_type": "execute_result"
    }
   ],
   "source": [
    "tau = 1 #number of 1's in c\n",
    "ln(binomial(n, tau)).n()+tau"
   ]
  },
  {
   "cell_type": "code",
   "execution_count": 253,
   "id": "ffa9316b",
   "metadata": {},
   "outputs": [
    {
     "data": {
      "text/plain": [
       "1"
      ]
     },
     "execution_count": 253,
     "metadata": {},
     "output_type": "execute_result"
    }
   ],
   "source": [
    "beta = tau*eta\n",
    "beta"
   ]
  },
  {
   "cell_type": "code",
   "execution_count": 254,
   "id": "84f23c4b",
   "metadata": {
    "scrolled": true
   },
   "outputs": [
    {
     "name": "stdout",
     "output_type": "stream",
     "text": [
      "1.00000000000000\n",
      "4.30467210000000e7\n",
      "217.795333780937\n",
      "9.87112173796777\n",
      "2.90682666192675\n",
      "1.67560416454276\n"
     ]
    }
   ],
   "source": [
    "for logGamma in range(6):\n",
    "    print(1/(((2*((2^logGamma)-beta)-1)/(2*(2^logGamma)-1))^(n*k))^2.n())"
   ]
  },
  {
   "cell_type": "code",
   "execution_count": 255,
   "id": "7f0bb81b",
   "metadata": {},
   "outputs": [],
   "source": [
    "gamma=2^4 #y coeff range, power of 2, exponent about 2/3 of q?  Earlier version was *not* power of 2"
   ]
  },
  {
   "cell_type": "markdown",
   "id": "94cd60cf",
   "metadata": {},
   "source": [
    "Chance of $\\mathbf{y}_i$-coefficient passing:"
   ]
  },
  {
   "cell_type": "code",
   "execution_count": 256,
   "id": "c589396b",
   "metadata": {},
   "outputs": [
    {
     "data": {
      "text/plain": [
       "0.586530272919658"
      ]
     },
     "execution_count": 256,
     "metadata": {},
     "output_type": "execute_result"
    }
   ],
   "source": [
    "((2*(gamma-beta)-1)/(2*gamma-1))^(n*k).n()"
   ]
  },
  {
   "cell_type": "markdown",
   "id": "1dc1cb75",
   "metadata": {},
   "source": [
    "Expected number of repetitions:"
   ]
  },
  {
   "cell_type": "code",
   "execution_count": 257,
   "id": "64f558cd",
   "metadata": {},
   "outputs": [
    {
     "data": {
      "text/plain": [
       "2.90682666192675"
      ]
     },
     "execution_count": 257,
     "metadata": {},
     "output_type": "execute_result"
    }
   ],
   "source": [
    "1/(((2*(gamma-beta)-1)/(2*gamma-1))^(n*k))^2.n()"
   ]
  },
  {
   "cell_type": "code",
   "execution_count": 258,
   "id": "1b5a9a66",
   "metadata": {},
   "outputs": [
    {
     "data": {
      "text/plain": [
       "0.756097560975610"
      ]
     },
     "execution_count": 258,
     "metadata": {},
     "output_type": "execute_result"
    }
   ],
   "source": [
    "((2*gamma-1)/q).n()"
   ]
  },
  {
   "cell_type": "markdown",
   "id": "1fdbdb09",
   "metadata": {},
   "source": [
    "Chance of linear algebra forgery passing by luck:"
   ]
  },
  {
   "cell_type": "code",
   "execution_count": 259,
   "id": "793c0f00",
   "metadata": {},
   "outputs": [
    {
     "data": {
      "text/plain": [
       "0.106812651711566"
      ]
     },
     "execution_count": 259,
     "metadata": {},
     "output_type": "execute_result"
    }
   ],
   "source": [
    "((2*gamma-1)/q)^(n*k).n()"
   ]
  },
  {
   "cell_type": "markdown",
   "id": "2d4989b8",
   "metadata": {},
   "source": [
    "Kind of high, although not terrible"
   ]
  },
  {
   "cell_type": "markdown",
   "id": "686b7249",
   "metadata": {},
   "source": [
    "D-box size:"
   ]
  },
  {
   "cell_type": "code",
   "execution_count": 260,
   "id": "dc76f58c",
   "metadata": {},
   "outputs": [
    {
     "data": {
      "text/plain": [
       "6"
      ]
     },
     "execution_count": 260,
     "metadata": {},
     "output_type": "execute_result"
    }
   ],
   "source": [
    "qlen = ceil(log(q,2))\n",
    "qlen"
   ]
  },
  {
   "cell_type": "code",
   "execution_count": 261,
   "id": "731f188b",
   "metadata": {},
   "outputs": [
    {
     "data": {
      "text/plain": [
       "2"
      ]
     },
     "execution_count": 261,
     "metadata": {},
     "output_type": "execute_result"
    }
   ],
   "source": [
    "clenbits = log(n,2)\n",
    "clenbits"
   ]
  },
  {
   "cell_type": "markdown",
   "id": "808db5cf",
   "metadata": {},
   "source": [
    "Minimum number of bits needed from D-box:"
   ]
  },
  {
   "cell_type": "code",
   "execution_count": 262,
   "id": "14af535b",
   "metadata": {},
   "outputs": [
    {
     "data": {
      "text/plain": [
       "3"
      ]
     },
     "execution_count": 262,
     "metadata": {},
     "output_type": "execute_result"
    }
   ],
   "source": [
    "tau+tau*clenbits"
   ]
  },
  {
   "cell_type": "markdown",
   "id": "b2b7e5d2",
   "metadata": {},
   "source": [
    "Chance of needing more:"
   ]
  },
  {
   "cell_type": "code",
   "execution_count": 263,
   "id": "d1cb0d1f",
   "metadata": {},
   "outputs": [
    {
     "data": {
      "text/plain": [
       "0"
      ]
     },
     "execution_count": 263,
     "metadata": {},
     "output_type": "execute_result"
    }
   ],
   "source": [
    "0"
   ]
  },
  {
   "cell_type": "markdown",
   "id": "fc05d850",
   "metadata": {},
   "source": [
    "# ???  Basically worst features of AAA and C"
   ]
  },
  {
   "cell_type": "code",
   "execution_count": 264,
   "id": "e20c65f7",
   "metadata": {},
   "outputs": [],
   "source": [
    "n=4\n",
    "k=2\n",
    "q=41 #same as Alkaline D\n",
    "#q-1 should be divisible by 2n for NTT\n",
    "eta=1 #secret key range, prefered 2 in Alkaline\n",
    "R.<x> = ZZ[]"
   ]
  },
  {
   "cell_type": "code",
   "execution_count": 265,
   "id": "39a4cf0c",
   "metadata": {},
   "outputs": [
    {
     "data": {
      "text/plain": [
       "41"
      ]
     },
     "execution_count": 265,
     "metadata": {},
     "output_type": "execute_result"
    }
   ],
   "source": [
    "q"
   ]
  },
  {
   "cell_type": "code",
   "execution_count": 266,
   "id": "96371567",
   "metadata": {},
   "outputs": [
    {
     "data": {
      "text/plain": [
       "5"
      ]
     },
     "execution_count": 266,
     "metadata": {},
     "output_type": "execute_result"
    }
   ],
   "source": [
    "(q-1)/(2*n)"
   ]
  },
  {
   "cell_type": "code",
   "execution_count": 267,
   "id": "e53b2701",
   "metadata": {},
   "outputs": [
    {
     "data": {
      "text/plain": [
       "True"
      ]
     },
     "execution_count": 267,
     "metadata": {},
     "output_type": "execute_result"
    }
   ],
   "source": [
    "is_prime(q)"
   ]
  },
  {
   "cell_type": "code",
   "execution_count": 268,
   "id": "d206c234",
   "metadata": {},
   "outputs": [
    {
     "data": {
      "text/plain": [
       "6"
      ]
     },
     "execution_count": 268,
     "metadata": {},
     "output_type": "execute_result"
    }
   ],
   "source": [
    "qlen = ceil(log(q,2))\n",
    "qlen"
   ]
  },
  {
   "cell_type": "code",
   "execution_count": 269,
   "id": "a3ac95ab",
   "metadata": {},
   "outputs": [
    {
     "name": "stdout",
     "output_type": "stream",
     "text": [
      "0.000000000000000\n",
      "2.38629436111989\n",
      "3.79175946922805\n",
      "4.38629436111989\n",
      "4.00000000000000\n"
     ]
    }
   ],
   "source": [
    "for tau in range(5):\n",
    "    print(ln(binomial(n, tau)).n()+tau) #challenge entropy, should be between n/2 and n"
   ]
  },
  {
   "cell_type": "code",
   "execution_count": 270,
   "id": "1a6b0b88",
   "metadata": {},
   "outputs": [
    {
     "data": {
      "text/plain": [
       "3.79175946922805"
      ]
     },
     "execution_count": 270,
     "metadata": {},
     "output_type": "execute_result"
    }
   ],
   "source": [
    "tau = 2 #number of 1's in c\n",
    "ln(binomial(n, tau)).n()+tau"
   ]
  },
  {
   "cell_type": "code",
   "execution_count": 271,
   "id": "72250e88",
   "metadata": {},
   "outputs": [
    {
     "data": {
      "text/plain": [
       "2"
      ]
     },
     "execution_count": 271,
     "metadata": {},
     "output_type": "execute_result"
    }
   ],
   "source": [
    "beta = tau*eta\n",
    "beta"
   ]
  },
  {
   "cell_type": "code",
   "execution_count": 272,
   "id": "6f13ccd1",
   "metadata": {
    "scrolled": true
   },
   "outputs": [
    {
     "name": "stdout",
     "output_type": "stream",
     "text": [
      "2.32305731254188e-8\n",
      "4.30467210000000e7\n",
      "772020.023769081\n",
      "142.947703397059\n",
      "9.11941279675907\n",
      "2.85638408726899\n"
     ]
    }
   ],
   "source": [
    "for logGamma in range(6):\n",
    "    print(1/(((2*((2^logGamma)-beta)-1)/(2*(2^logGamma)-1))^(n*k))^2.n())"
   ]
  },
  {
   "cell_type": "code",
   "execution_count": 273,
   "id": "2b594a46",
   "metadata": {},
   "outputs": [],
   "source": [
    "gamma=2^4 #y coeff range, power of 2, exponent about 2/3 of q?  Earlier version was *not* power of 2"
   ]
  },
  {
   "cell_type": "markdown",
   "id": "80e1ed29",
   "metadata": {},
   "source": [
    "Chance of $\\mathbf{y}_i$-coefficient passing:"
   ]
  },
  {
   "cell_type": "code",
   "execution_count": 274,
   "id": "1d108f0c",
   "metadata": {},
   "outputs": [
    {
     "data": {
      "text/plain": [
       "0.331143750001638"
      ]
     },
     "execution_count": 274,
     "metadata": {},
     "output_type": "execute_result"
    }
   ],
   "source": [
    "((2*(gamma-beta)-1)/(2*gamma-1))^(n*k).n()"
   ]
  },
  {
   "cell_type": "markdown",
   "id": "52e0c617",
   "metadata": {},
   "source": [
    "Expected number of repetitions:"
   ]
  },
  {
   "cell_type": "code",
   "execution_count": 275,
   "id": "cca72cf2",
   "metadata": {},
   "outputs": [
    {
     "data": {
      "text/plain": [
       "9.11941279675907"
      ]
     },
     "execution_count": 275,
     "metadata": {},
     "output_type": "execute_result"
    }
   ],
   "source": [
    "1/(((2*(gamma-beta)-1)/(2*gamma-1))^(n*k))^2.n()"
   ]
  },
  {
   "cell_type": "code",
   "execution_count": 276,
   "id": "58dbc45b",
   "metadata": {},
   "outputs": [
    {
     "data": {
      "text/plain": [
       "0.756097560975610"
      ]
     },
     "execution_count": 276,
     "metadata": {},
     "output_type": "execute_result"
    }
   ],
   "source": [
    "((2*gamma-1)/q).n()"
   ]
  },
  {
   "cell_type": "markdown",
   "id": "85348aaa",
   "metadata": {},
   "source": [
    "Larger than ideal, but maybe okay?"
   ]
  },
  {
   "cell_type": "markdown",
   "id": "c13c4d0f",
   "metadata": {},
   "source": [
    "Chance of linear algebra forgery passing by luck:"
   ]
  },
  {
   "cell_type": "code",
   "execution_count": 277,
   "id": "35d55652",
   "metadata": {},
   "outputs": [
    {
     "data": {
      "text/plain": [
       "0.106812651711566"
      ]
     },
     "execution_count": 277,
     "metadata": {},
     "output_type": "execute_result"
    }
   ],
   "source": [
    "((2*gamma-1)/q)^(n*k).n()"
   ]
  },
  {
   "cell_type": "markdown",
   "id": "e744dc65",
   "metadata": {},
   "source": [
    "Kind of high, although not terrible"
   ]
  },
  {
   "cell_type": "markdown",
   "id": "7a7155f5",
   "metadata": {},
   "source": [
    "D-box size:"
   ]
  },
  {
   "cell_type": "code",
   "execution_count": 278,
   "id": "8441825c",
   "metadata": {},
   "outputs": [
    {
     "data": {
      "text/plain": [
       "6"
      ]
     },
     "execution_count": 278,
     "metadata": {},
     "output_type": "execute_result"
    }
   ],
   "source": [
    "qlen = ceil(log(q,2))\n",
    "qlen"
   ]
  },
  {
   "cell_type": "code",
   "execution_count": 279,
   "id": "d3dcebbd",
   "metadata": {},
   "outputs": [
    {
     "data": {
      "text/plain": [
       "2"
      ]
     },
     "execution_count": 279,
     "metadata": {},
     "output_type": "execute_result"
    }
   ],
   "source": [
    "clenbits = log(n,2)\n",
    "clenbits"
   ]
  },
  {
   "cell_type": "markdown",
   "id": "27fb5257",
   "metadata": {},
   "source": [
    "Minimum number of bits needed from D-box:"
   ]
  },
  {
   "cell_type": "code",
   "execution_count": 280,
   "id": "a38ba4ac",
   "metadata": {},
   "outputs": [
    {
     "data": {
      "text/plain": [
       "6"
      ]
     },
     "execution_count": 280,
     "metadata": {},
     "output_type": "execute_result"
    }
   ],
   "source": [
    "tau+tau*clenbits"
   ]
  },
  {
   "cell_type": "markdown",
   "id": "a04720a9",
   "metadata": {},
   "source": [
    "Chance of needing more:"
   ]
  },
  {
   "cell_type": "code",
   "execution_count": 281,
   "id": "6e4db284",
   "metadata": {},
   "outputs": [
    {
     "data": {
      "text/plain": [
       "0.250000000000000"
      ]
     },
     "execution_count": 281,
     "metadata": {},
     "output_type": "execute_result"
    }
   ],
   "source": [
    "1/n.n()"
   ]
  },
  {
   "cell_type": "markdown",
   "id": "75fdff72",
   "metadata": {},
   "source": [
    "Expected number of repetitions accounting for single D-box failures:"
   ]
  },
  {
   "cell_type": "code",
   "execution_count": 282,
   "id": "c822bdc3",
   "metadata": {},
   "outputs": [
    {
     "data": {
      "text/plain": [
       "12.1592170623454"
      ]
     },
     "execution_count": 282,
     "metadata": {},
     "output_type": "execute_result"
    }
   ],
   "source": [
    "(1/(((2*(gamma-beta)-1)/(2*gamma-1))^(n*k))^2)*(n/(n-1)).n()"
   ]
  },
  {
   "cell_type": "markdown",
   "id": "9efbfda6",
   "metadata": {},
   "source": [
    "# Medium-Large Parameters? (C?)"
   ]
  },
  {
   "cell_type": "code",
   "execution_count": 283,
   "id": "bc174384",
   "metadata": {},
   "outputs": [],
   "source": [
    "n=4\n",
    "k=2\n",
    "eta=1 #secret key range, prefered 2 in Alkaline\n",
    "R.<x> = ZZ[]"
   ]
  },
  {
   "cell_type": "code",
   "execution_count": 284,
   "id": "69e6a33f",
   "metadata": {},
   "outputs": [
    {
     "name": "stdout",
     "output_type": "stream",
     "text": [
      "0.000000000000000\n",
      "2.38629436111989\n",
      "3.79175946922805\n",
      "4.38629436111989\n",
      "4.00000000000000\n"
     ]
    }
   ],
   "source": [
    "for tau in range(5):\n",
    "    print(ln(binomial(n, tau)).n()+tau) #challenge entropy, should be between n/2 and n"
   ]
  },
  {
   "cell_type": "code",
   "execution_count": 285,
   "id": "e707a9c8",
   "metadata": {},
   "outputs": [
    {
     "data": {
      "text/plain": [
       "3.79175946922805"
      ]
     },
     "execution_count": 285,
     "metadata": {},
     "output_type": "execute_result"
    }
   ],
   "source": [
    "tau = 2 #number of 1's in c\n",
    "ln(binomial(n, tau)).n()+tau"
   ]
  },
  {
   "cell_type": "code",
   "execution_count": 286,
   "id": "771837a4",
   "metadata": {},
   "outputs": [
    {
     "data": {
      "text/plain": [
       "2"
      ]
     },
     "execution_count": 286,
     "metadata": {},
     "output_type": "execute_result"
    }
   ],
   "source": [
    "beta = tau*eta\n",
    "beta"
   ]
  },
  {
   "cell_type": "markdown",
   "id": "cb1640f6",
   "metadata": {},
   "source": [
    "Chance of $\\mathbf{y}_i$-coefficient passing:"
   ]
  },
  {
   "cell_type": "code",
   "execution_count": 287,
   "id": "48f74d29",
   "metadata": {},
   "outputs": [
    {
     "name": "stdout",
     "output_type": "stream",
     "text": [
      "2.32305731254188e-8\n",
      "4.30467210000000e7\n",
      "772020.023769081\n",
      "142.947703397059\n",
      "9.11941279675907\n",
      "2.85638408726899\n",
      "1.66869802627626\n"
     ]
    }
   ],
   "source": [
    "for logGamma in range(7):\n",
    "    print(1/(((2*((2^logGamma)-beta)-1)/(2*(2^logGamma)-1))^(n*k))^2.n())"
   ]
  },
  {
   "cell_type": "code",
   "execution_count": 288,
   "id": "227586c5",
   "metadata": {},
   "outputs": [],
   "source": [
    "gamma=2^4 #y coeff range, power of 2, exponent about 2/3 of q?  Earlier version was *not* power of 2|"
   ]
  },
  {
   "cell_type": "code",
   "execution_count": 289,
   "id": "67564a33",
   "metadata": {},
   "outputs": [
    {
     "data": {
      "text/plain": [
       "0.331143750001638"
      ]
     },
     "execution_count": 289,
     "metadata": {},
     "output_type": "execute_result"
    }
   ],
   "source": [
    "((2*(gamma-beta)-1)/(2*gamma-1))^(n*k).n()"
   ]
  },
  {
   "cell_type": "markdown",
   "id": "4da5569c",
   "metadata": {},
   "source": [
    "Expected number of repetitions:"
   ]
  },
  {
   "cell_type": "code",
   "execution_count": 290,
   "id": "db542c5d",
   "metadata": {},
   "outputs": [
    {
     "data": {
      "text/plain": [
       "9.11941279675907"
      ]
     },
     "execution_count": 290,
     "metadata": {},
     "output_type": "execute_result"
    }
   ],
   "source": [
    "1/(((2*(gamma-beta)-1)/(2*gamma-1))^(n*k))^2.n()"
   ]
  },
  {
   "cell_type": "markdown",
   "id": "4167e468",
   "metadata": {},
   "source": [
    "Larger than ideal"
   ]
  },
  {
   "cell_type": "code",
   "execution_count": 291,
   "id": "d44a86b0",
   "metadata": {},
   "outputs": [
    {
     "data": {
      "text/plain": [
       "97"
      ]
     },
     "execution_count": 291,
     "metadata": {},
     "output_type": "execute_result"
    }
   ],
   "source": [
    "q=97 #larger than any Alkaline set\n",
    "#((2*gamma-1)/q) should be less than ~~ 1/2\n",
    "#q-1 should be divisible by 2n for NTT\n",
    "q"
   ]
  },
  {
   "cell_type": "code",
   "execution_count": 292,
   "id": "bc7a505a",
   "metadata": {},
   "outputs": [
    {
     "data": {
      "text/plain": [
       "True"
      ]
     },
     "execution_count": 292,
     "metadata": {},
     "output_type": "execute_result"
    }
   ],
   "source": [
    "is_prime(q)"
   ]
  },
  {
   "cell_type": "code",
   "execution_count": 293,
   "id": "8e7ead07",
   "metadata": {},
   "outputs": [
    {
     "data": {
      "text/plain": [
       "12"
      ]
     },
     "execution_count": 293,
     "metadata": {},
     "output_type": "execute_result"
    }
   ],
   "source": [
    "(q-1)/(2*n)"
   ]
  },
  {
   "cell_type": "code",
   "execution_count": 294,
   "id": "6e49071b",
   "metadata": {},
   "outputs": [
    {
     "data": {
      "text/plain": [
       "0.319587628865979"
      ]
     },
     "execution_count": 294,
     "metadata": {},
     "output_type": "execute_result"
    }
   ],
   "source": [
    "((2*gamma-1)/q).n()"
   ]
  },
  {
   "cell_type": "markdown",
   "id": "a60e5f6a",
   "metadata": {},
   "source": [
    "Chance of linear algebra forgery passing by luck:"
   ]
  },
  {
   "cell_type": "code",
   "execution_count": 295,
   "id": "275f6fc7",
   "metadata": {},
   "outputs": [
    {
     "data": {
      "text/plain": [
       "0.000108822744993069"
      ]
     },
     "execution_count": 295,
     "metadata": {},
     "output_type": "execute_result"
    }
   ],
   "source": [
    "((2*gamma-1)/q)^(n*k).n()"
   ]
  },
  {
   "cell_type": "markdown",
   "id": "e1f18866",
   "metadata": {},
   "source": [
    "D-box size:"
   ]
  },
  {
   "cell_type": "code",
   "execution_count": 296,
   "id": "9632431e",
   "metadata": {
    "scrolled": true
   },
   "outputs": [
    {
     "data": {
      "text/plain": [
       "7"
      ]
     },
     "execution_count": 296,
     "metadata": {},
     "output_type": "execute_result"
    }
   ],
   "source": [
    "qlen = ceil(log(q,2))\n",
    "qlen"
   ]
  },
  {
   "cell_type": "code",
   "execution_count": 297,
   "id": "df9de43b",
   "metadata": {},
   "outputs": [
    {
     "data": {
      "text/plain": [
       "2"
      ]
     },
     "execution_count": 297,
     "metadata": {},
     "output_type": "execute_result"
    }
   ],
   "source": [
    "clenbits = log(n,2)\n",
    "clenbits"
   ]
  },
  {
   "cell_type": "markdown",
   "id": "e721f61e",
   "metadata": {},
   "source": [
    "Minimum number of bits needed from D-box:"
   ]
  },
  {
   "cell_type": "code",
   "execution_count": 298,
   "id": "aa6ece24",
   "metadata": {},
   "outputs": [
    {
     "data": {
      "text/plain": [
       "6"
      ]
     },
     "execution_count": 298,
     "metadata": {},
     "output_type": "execute_result"
    }
   ],
   "source": [
    "tau+tau*clenbits"
   ]
  },
  {
   "cell_type": "markdown",
   "id": "10dfb577",
   "metadata": {},
   "source": [
    "Chance of needing more:"
   ]
  },
  {
   "cell_type": "code",
   "execution_count": 299,
   "id": "2b94970d",
   "metadata": {},
   "outputs": [
    {
     "data": {
      "text/plain": [
       "0.250000000000000"
      ]
     },
     "execution_count": 299,
     "metadata": {},
     "output_type": "execute_result"
    }
   ],
   "source": [
    "1/n.n()"
   ]
  },
  {
   "cell_type": "markdown",
   "id": "3b1440bc",
   "metadata": {},
   "source": [
    "Expected number of repetitions accounting for single D-box failures:"
   ]
  },
  {
   "cell_type": "code",
   "execution_count": 300,
   "id": "74302b75",
   "metadata": {},
   "outputs": [
    {
     "data": {
      "text/plain": [
       "12.1592170623454"
      ]
     },
     "execution_count": 300,
     "metadata": {},
     "output_type": "execute_result"
    }
   ],
   "source": [
    "(1/(((2*(gamma-beta)-1)/(2*gamma-1))^(n*k))^2)*(n/(n-1)).n()"
   ]
  },
  {
   "cell_type": "markdown",
   "id": "ed5ea5f5",
   "metadata": {},
   "source": [
    "Dicey.  Could increase the D-box size to 8 bits?  Then:"
   ]
  },
  {
   "cell_type": "markdown",
   "id": "36723c21",
   "metadata": {},
   "source": [
    "Next most likely:"
   ]
  },
  {
   "cell_type": "code",
   "execution_count": 301,
   "id": "16f088e5",
   "metadata": {},
   "outputs": [
    {
     "data": {
      "text/plain": [
       "8"
      ]
     },
     "execution_count": 301,
     "metadata": {},
     "output_type": "execute_result"
    }
   ],
   "source": [
    "tau+(tau+1)*clenbits"
   ]
  },
  {
   "cell_type": "markdown",
   "id": "be47773d",
   "metadata": {},
   "source": [
    "We can accomodate that. Chance of needing more:"
   ]
  },
  {
   "cell_type": "code",
   "execution_count": 302,
   "id": "b81e016a",
   "metadata": {},
   "outputs": [
    {
     "data": {
      "text/plain": [
       "0.0625000000000000"
      ]
     },
     "execution_count": 302,
     "metadata": {},
     "output_type": "execute_result"
    }
   ],
   "source": [
    "1/n^2.n()"
   ]
  },
  {
   "cell_type": "markdown",
   "id": "06fea7da",
   "metadata": {},
   "source": [
    "Expected number of repetitions accounting for single D-box failures:"
   ]
  },
  {
   "cell_type": "code",
   "execution_count": 303,
   "id": "6e2eadf2",
   "metadata": {},
   "outputs": [
    {
     "data": {
      "text/plain": [
       "9.72737364987634"
      ]
     },
     "execution_count": 303,
     "metadata": {},
     "output_type": "execute_result"
    }
   ],
   "source": [
    "(1/(((2*(gamma-beta)-1)/(2*gamma-1))^(n*k))^2)*(n^2/(n^2-1)).n()"
   ]
  },
  {
   "cell_type": "markdown",
   "id": "5e76c6ec",
   "metadata": {},
   "source": [
    "# Large Parameters? (D?)"
   ]
  },
  {
   "cell_type": "code",
   "execution_count": 193,
   "id": "667d34d6",
   "metadata": {},
   "outputs": [],
   "source": [
    "n=4\n",
    "k=2\n",
    "eta=1 #secret key range, prefered 2 in Alkaline\n",
    "R.<x> = ZZ[]"
   ]
  },
  {
   "cell_type": "code",
   "execution_count": 194,
   "id": "acd954d9",
   "metadata": {},
   "outputs": [
    {
     "name": "stdout",
     "output_type": "stream",
     "text": [
      "0.000000000000000\n",
      "2.38629436111989\n",
      "3.79175946922805\n",
      "4.38629436111989\n",
      "4.00000000000000\n"
     ]
    }
   ],
   "source": [
    "for tau in range(5):\n",
    "    print(ln(binomial(n, tau)).n()+tau) #challenge entropy, should be between n/2 and n"
   ]
  },
  {
   "cell_type": "code",
   "execution_count": 195,
   "id": "dac8ab2b",
   "metadata": {},
   "outputs": [
    {
     "data": {
      "text/plain": [
       "3.79175946922805"
      ]
     },
     "execution_count": 195,
     "metadata": {},
     "output_type": "execute_result"
    }
   ],
   "source": [
    "tau = 2 #number of 1's in c\n",
    "ln(binomial(n, tau)).n()+tau"
   ]
  },
  {
   "cell_type": "code",
   "execution_count": 196,
   "id": "f6111660",
   "metadata": {},
   "outputs": [
    {
     "data": {
      "text/plain": [
       "2"
      ]
     },
     "execution_count": 196,
     "metadata": {},
     "output_type": "execute_result"
    }
   ],
   "source": [
    "beta = tau*eta\n",
    "beta"
   ]
  },
  {
   "cell_type": "markdown",
   "id": "7f80fa29",
   "metadata": {},
   "source": [
    "Chance of $\\mathbf{y}_i$-coefficient passing:"
   ]
  },
  {
   "cell_type": "code",
   "execution_count": 197,
   "id": "97f341fc",
   "metadata": {},
   "outputs": [
    {
     "name": "stdout",
     "output_type": "stream",
     "text": [
      "2.32305731254188e-8\n",
      "4.30467210000000e7\n",
      "772020.023769081\n",
      "142.947703397059\n",
      "9.11941279675907\n",
      "2.85638408726899\n",
      "1.66869802627626\n"
     ]
    }
   ],
   "source": [
    "for logGamma in range(7):\n",
    "    print(1/(((2*((2^logGamma)-beta)-1)/(2*(2^logGamma)-1))^(n*k))^2.n())"
   ]
  },
  {
   "cell_type": "code",
   "execution_count": 198,
   "id": "cc1b0e00",
   "metadata": {},
   "outputs": [],
   "source": [
    "gamma=2^5 #y coeff range, power of 2, exponent about 2/3 of q?  Earlier version was *not* power of 2|"
   ]
  },
  {
   "cell_type": "code",
   "execution_count": 199,
   "id": "189e3e06",
   "metadata": {},
   "outputs": [
    {
     "data": {
      "text/plain": [
       "0.591686550464520"
      ]
     },
     "execution_count": 199,
     "metadata": {},
     "output_type": "execute_result"
    }
   ],
   "source": [
    "((2*(gamma-beta)-1)/(2*gamma-1))^(n*k).n()"
   ]
  },
  {
   "cell_type": "markdown",
   "id": "fcf1c6df",
   "metadata": {},
   "source": [
    "Expected number of repetitions:"
   ]
  },
  {
   "cell_type": "code",
   "execution_count": 200,
   "id": "c11d3185",
   "metadata": {},
   "outputs": [
    {
     "data": {
      "text/plain": [
       "2.85638408726899"
      ]
     },
     "execution_count": 200,
     "metadata": {},
     "output_type": "execute_result"
    }
   ],
   "source": [
    "1/(((2*(gamma-beta)-1)/(2*gamma-1))^(n*k))^2.n()"
   ]
  },
  {
   "cell_type": "code",
   "execution_count": 201,
   "id": "24382d03",
   "metadata": {},
   "outputs": [
    {
     "data": {
      "text/plain": [
       "193"
      ]
     },
     "execution_count": 201,
     "metadata": {},
     "output_type": "execute_result"
    }
   ],
   "source": [
    "q=193 #larger than any Alkaline set\n",
    "#((2*gamma-1)/q) should be less than ~~ 1/2\n",
    "#q-1 should be divisible by 2n for NTT\n",
    "q"
   ]
  },
  {
   "cell_type": "code",
   "execution_count": 202,
   "id": "790a4a75",
   "metadata": {},
   "outputs": [
    {
     "data": {
      "text/plain": [
       "24"
      ]
     },
     "execution_count": 202,
     "metadata": {},
     "output_type": "execute_result"
    }
   ],
   "source": [
    "(q-1)/(2*n)"
   ]
  },
  {
   "cell_type": "code",
   "execution_count": 203,
   "id": "44de337f",
   "metadata": {},
   "outputs": [
    {
     "data": {
      "text/plain": [
       "True"
      ]
     },
     "execution_count": 203,
     "metadata": {},
     "output_type": "execute_result"
    }
   ],
   "source": [
    "is_prime(q)"
   ]
  },
  {
   "cell_type": "code",
   "execution_count": 204,
   "id": "6e5bb57b",
   "metadata": {},
   "outputs": [
    {
     "data": {
      "text/plain": [
       "0.326424870466321"
      ]
     },
     "execution_count": 204,
     "metadata": {},
     "output_type": "execute_result"
    }
   ],
   "source": [
    "((2*gamma-1)/q).n()"
   ]
  },
  {
   "cell_type": "markdown",
   "id": "f746db96",
   "metadata": {},
   "source": [
    "Chance of linear algebra forgery passing by luck:"
   ]
  },
  {
   "cell_type": "code",
   "execution_count": 205,
   "id": "43ab7df2",
   "metadata": {},
   "outputs": [
    {
     "data": {
      "text/plain": [
       "0.000128903860343701"
      ]
     },
     "execution_count": 205,
     "metadata": {},
     "output_type": "execute_result"
    }
   ],
   "source": [
    "((2*gamma-1)/q)^(n*k).n()"
   ]
  },
  {
   "cell_type": "markdown",
   "id": "96c1f44b",
   "metadata": {},
   "source": [
    "D-box size:"
   ]
  },
  {
   "cell_type": "code",
   "execution_count": 206,
   "id": "164ba59a",
   "metadata": {
    "scrolled": true
   },
   "outputs": [
    {
     "data": {
      "text/plain": [
       "8"
      ]
     },
     "execution_count": 206,
     "metadata": {},
     "output_type": "execute_result"
    }
   ],
   "source": [
    "qlen = ceil(log(q,2))\n",
    "qlen"
   ]
  },
  {
   "cell_type": "code",
   "execution_count": 207,
   "id": "db91d74d",
   "metadata": {},
   "outputs": [
    {
     "data": {
      "text/plain": [
       "2"
      ]
     },
     "execution_count": 207,
     "metadata": {},
     "output_type": "execute_result"
    }
   ],
   "source": [
    "clenbits = log(n,2)\n",
    "clenbits"
   ]
  },
  {
   "cell_type": "markdown",
   "id": "9126b97e",
   "metadata": {},
   "source": [
    "Minimum number of bits needed from D-box:"
   ]
  },
  {
   "cell_type": "code",
   "execution_count": 208,
   "id": "918586df",
   "metadata": {},
   "outputs": [
    {
     "data": {
      "text/plain": [
       "6"
      ]
     },
     "execution_count": 208,
     "metadata": {},
     "output_type": "execute_result"
    }
   ],
   "source": [
    "tau+tau*clenbits"
   ]
  },
  {
   "cell_type": "markdown",
   "id": "6a30a28c",
   "metadata": {},
   "source": [
    "Chance of needing more:"
   ]
  },
  {
   "cell_type": "code",
   "execution_count": 209,
   "id": "5342b46e",
   "metadata": {},
   "outputs": [
    {
     "data": {
      "text/plain": [
       "0.250000000000000"
      ]
     },
     "execution_count": 209,
     "metadata": {},
     "output_type": "execute_result"
    }
   ],
   "source": [
    "1/n.n()"
   ]
  },
  {
   "cell_type": "markdown",
   "id": "e76a3fb8",
   "metadata": {},
   "source": [
    "Next most likely:"
   ]
  },
  {
   "cell_type": "code",
   "execution_count": 210,
   "id": "f29b8beb",
   "metadata": {},
   "outputs": [
    {
     "data": {
      "text/plain": [
       "8"
      ]
     },
     "execution_count": 210,
     "metadata": {},
     "output_type": "execute_result"
    }
   ],
   "source": [
    "tau+(tau+1)*clenbits"
   ]
  },
  {
   "cell_type": "markdown",
   "id": "57f789d2",
   "metadata": {},
   "source": [
    "We can accomodate that. Chance of needing more:"
   ]
  },
  {
   "cell_type": "code",
   "execution_count": 211,
   "id": "d12cfa02",
   "metadata": {},
   "outputs": [
    {
     "data": {
      "text/plain": [
       "0.0625000000000000"
      ]
     },
     "execution_count": 211,
     "metadata": {},
     "output_type": "execute_result"
    }
   ],
   "source": [
    "1/n^2.n()"
   ]
  },
  {
   "cell_type": "markdown",
   "id": "31d9f18e",
   "metadata": {},
   "source": [
    "Expected number of repetitions accounting for single D-box failures:"
   ]
  },
  {
   "cell_type": "code",
   "execution_count": 212,
   "id": "73966370",
   "metadata": {},
   "outputs": [
    {
     "data": {
      "text/plain": [
       "3.04680969308692"
      ]
     },
     "execution_count": 212,
     "metadata": {},
     "output_type": "execute_result"
    }
   ],
   "source": [
    "(1/(((2*(gamma-beta)-1)/(2*gamma-1))^(n*k))^2)*(n^2/(n^2-1)).n()"
   ]
  },
  {
   "cell_type": "markdown",
   "id": "e4636bdc",
   "metadata": {},
   "source": [
    "Fine"
   ]
  },
  {
   "cell_type": "markdown",
   "id": "53a29e71",
   "metadata": {},
   "source": [
    "# Lithium-ALG"
   ]
  },
  {
   "cell_type": "code",
   "execution_count": 309,
   "id": "96a7a972",
   "metadata": {},
   "outputs": [],
   "source": [
    "n=4\n",
    "k=1\n",
    "eta=1 #secret key range, prefered 2 in Alkaline\n",
    "R.<x> = ZZ[]"
   ]
  },
  {
   "cell_type": "code",
   "execution_count": 310,
   "id": "968ea962",
   "metadata": {},
   "outputs": [
    {
     "name": "stdout",
     "output_type": "stream",
     "text": [
      "0.000000000000000\n",
      "2.38629436111989\n",
      "3.79175946922805\n",
      "4.38629436111989\n",
      "4.00000000000000\n"
     ]
    }
   ],
   "source": [
    "for tau in range(5):\n",
    "    print(ln(binomial(n, tau)).n()+tau) #challenge entropy, should be between n/2 and n"
   ]
  },
  {
   "cell_type": "code",
   "execution_count": 311,
   "id": "d307aaa2",
   "metadata": {},
   "outputs": [
    {
     "data": {
      "text/plain": [
       "2.38629436111989"
      ]
     },
     "execution_count": 311,
     "metadata": {},
     "output_type": "execute_result"
    }
   ],
   "source": [
    "tau = 1 #number of 1's in c\n",
    "ln(binomial(n, tau)).n()+tau"
   ]
  },
  {
   "cell_type": "code",
   "execution_count": 312,
   "id": "5db33341",
   "metadata": {},
   "outputs": [
    {
     "data": {
      "text/plain": [
       "1"
      ]
     },
     "execution_count": 312,
     "metadata": {},
     "output_type": "execute_result"
    }
   ],
   "source": [
    "beta = tau*eta\n",
    "beta"
   ]
  },
  {
   "cell_type": "markdown",
   "id": "8340e2cb",
   "metadata": {},
   "source": [
    "Chance of $\\mathbf{y}_i$-coefficient passing:"
   ]
  },
  {
   "cell_type": "code",
   "execution_count": 313,
   "id": "8a239e0c",
   "metadata": {},
   "outputs": [
    {
     "name": "stdout",
     "output_type": "stream",
     "text": [
      "1.00000000000000\n",
      "6561.00000000000\n",
      "14.7578905600000\n",
      "3.14183413597341\n",
      "1.70494183535004\n",
      "1.29445129863690\n",
      "1.13540202271217\n"
     ]
    }
   ],
   "source": [
    "for logGamma in range(7):\n",
    "    print(1/(((2*((2^logGamma)-beta)-1)/(2*(2^logGamma)-1))^(n*k))^2.n())"
   ]
  },
  {
   "cell_type": "code",
   "execution_count": 314,
   "id": "1cfc9775",
   "metadata": {},
   "outputs": [],
   "source": [
    "gamma=2^3 #y coeff range, power of 2, exponent about 2/3 of q?  Earlier version was *not* power of 2|"
   ]
  },
  {
   "cell_type": "code",
   "execution_count": 315,
   "id": "d1596c43",
   "metadata": {},
   "outputs": [
    {
     "data": {
      "text/plain": [
       "0.564167901234568"
      ]
     },
     "execution_count": 315,
     "metadata": {},
     "output_type": "execute_result"
    }
   ],
   "source": [
    "((2*(gamma-beta)-1)/(2*gamma-1))^(n*k).n()"
   ]
  },
  {
   "cell_type": "markdown",
   "id": "1699c08d",
   "metadata": {},
   "source": [
    "Expected number of repetitions:"
   ]
  },
  {
   "cell_type": "code",
   "execution_count": 316,
   "id": "46568c06",
   "metadata": {},
   "outputs": [
    {
     "data": {
      "text/plain": [
       "3.14183413597341"
      ]
     },
     "execution_count": 316,
     "metadata": {},
     "output_type": "execute_result"
    }
   ],
   "source": [
    "1/(((2*(gamma-beta)-1)/(2*gamma-1))^(n*k))^2.n()"
   ]
  },
  {
   "cell_type": "code",
   "execution_count": 317,
   "id": "6e91f07f",
   "metadata": {},
   "outputs": [
    {
     "data": {
      "text/plain": [
       "41"
      ]
     },
     "execution_count": 317,
     "metadata": {},
     "output_type": "execute_result"
    }
   ],
   "source": [
    "q=41 \n",
    "#((2*gamma-1)/q) should be less than ~~ 1/2\n",
    "#q-1 should be divisible by 2n for NTT\n",
    "q"
   ]
  },
  {
   "cell_type": "code",
   "execution_count": 318,
   "id": "ade0e592",
   "metadata": {},
   "outputs": [
    {
     "data": {
      "text/plain": [
       "5"
      ]
     },
     "execution_count": 318,
     "metadata": {},
     "output_type": "execute_result"
    }
   ],
   "source": [
    "(q-1)/(2*n)"
   ]
  },
  {
   "cell_type": "code",
   "execution_count": 319,
   "id": "80f61330",
   "metadata": {},
   "outputs": [
    {
     "data": {
      "text/plain": [
       "True"
      ]
     },
     "execution_count": 319,
     "metadata": {},
     "output_type": "execute_result"
    }
   ],
   "source": [
    "is_prime(q)"
   ]
  },
  {
   "cell_type": "code",
   "execution_count": 320,
   "id": "13ea33f2",
   "metadata": {},
   "outputs": [
    {
     "data": {
      "text/plain": [
       "0.365853658536585"
      ]
     },
     "execution_count": 320,
     "metadata": {},
     "output_type": "execute_result"
    }
   ],
   "source": [
    "((2*gamma-1)/q).n()"
   ]
  },
  {
   "cell_type": "markdown",
   "id": "2f8b85ad",
   "metadata": {},
   "source": [
    "Chance of linear algebra forgery passing by luck:"
   ]
  },
  {
   "cell_type": "code",
   "execution_count": 321,
   "id": "3144c9d5",
   "metadata": {},
   "outputs": [
    {
     "data": {
      "text/plain": [
       "0.0179155278878858"
      ]
     },
     "execution_count": 321,
     "metadata": {},
     "output_type": "execute_result"
    }
   ],
   "source": [
    "((2*gamma-1)/q)^(n*k).n()"
   ]
  },
  {
   "cell_type": "markdown",
   "id": "89eeb4ad",
   "metadata": {},
   "source": [
    "D-box size:"
   ]
  },
  {
   "cell_type": "code",
   "execution_count": 322,
   "id": "d4d07ad4",
   "metadata": {
    "scrolled": true
   },
   "outputs": [
    {
     "data": {
      "text/plain": [
       "6"
      ]
     },
     "execution_count": 322,
     "metadata": {},
     "output_type": "execute_result"
    }
   ],
   "source": [
    "qlen = ceil(log(q,2))\n",
    "qlen"
   ]
  },
  {
   "cell_type": "code",
   "execution_count": 323,
   "id": "ea6e2363",
   "metadata": {},
   "outputs": [
    {
     "data": {
      "text/plain": [
       "2"
      ]
     },
     "execution_count": 323,
     "metadata": {},
     "output_type": "execute_result"
    }
   ],
   "source": [
    "clenbits = log(n,2)\n",
    "clenbits"
   ]
  },
  {
   "cell_type": "markdown",
   "id": "adf70c7e",
   "metadata": {},
   "source": [
    "Minimum number of bits needed from D-box:"
   ]
  },
  {
   "cell_type": "code",
   "execution_count": 324,
   "id": "db371f88",
   "metadata": {},
   "outputs": [
    {
     "data": {
      "text/plain": [
       "3"
      ]
     },
     "execution_count": 324,
     "metadata": {},
     "output_type": "execute_result"
    }
   ],
   "source": [
    "tau+tau*clenbits"
   ]
  },
  {
   "cell_type": "markdown",
   "id": "0333a45e",
   "metadata": {},
   "source": [
    "Chance of needing more:"
   ]
  },
  {
   "cell_type": "code",
   "execution_count": 325,
   "id": "f4038a3e",
   "metadata": {},
   "outputs": [
    {
     "data": {
      "text/plain": [
       "0"
      ]
     },
     "execution_count": 325,
     "metadata": {},
     "output_type": "execute_result"
    }
   ],
   "source": [
    "0"
   ]
  }
 ],
 "metadata": {
  "kernelspec": {
   "display_name": "SageMath 9.5",
   "language": "sage",
   "name": "sagemath"
  },
  "language_info": {
   "codemirror_mode": {
    "name": "ipython",
    "version": 3
   },
   "file_extension": ".py",
   "mimetype": "text/x-python",
   "name": "python",
   "nbconvert_exporter": "python",
   "pygments_lexer": "ipython3",
   "version": "3.10.12"
  }
 },
 "nbformat": 4,
 "nbformat_minor": 5
}
