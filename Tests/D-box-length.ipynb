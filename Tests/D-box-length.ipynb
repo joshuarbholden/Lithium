{
 "cells": [
  {
   "cell_type": "code",
   "execution_count": 52,
   "id": "07b420de",
   "metadata": {},
   "outputs": [],
   "source": [
    "import numpy"
   ]
  },
  {
   "cell_type": "code",
   "execution_count": 6,
   "id": "66023673",
   "metadata": {},
   "outputs": [],
   "source": [
    "n=4\n",
    "k=2\n",
    "q=41 #Lithium AAA?  #same as Alkaline D\n",
    "#q should be divisible by 8 for NTT\n",
    "η=1 #secret key range, prefered 2 in Alkaline\n",
    "γ=2^4 #y coeff range, power of 2, exponent about 2/3 of q?  Earlier version was *not* power of 2\n",
    "R.<x> = ZZ[]"
   ]
  },
  {
   "cell_type": "code",
   "execution_count": 7,
   "id": "34c047d9",
   "metadata": {},
   "outputs": [
    {
     "data": {
      "text/plain": [
       "6"
      ]
     },
     "execution_count": 7,
     "metadata": {},
     "output_type": "execute_result"
    }
   ],
   "source": [
    "qlen = ceil(log(q,2))\n",
    "qlen"
   ]
  },
  {
   "cell_type": "code",
   "execution_count": 8,
   "id": "7202cfd7",
   "metadata": {},
   "outputs": [],
   "source": [
    "dboxlen = qlen"
   ]
  },
  {
   "cell_type": "markdown",
   "id": "8b0818a7",
   "metadata": {},
   "source": [
    "$(M \\bullet w) \\bmod 64$"
   ]
  },
  {
   "cell_type": "code",
   "execution_count": 9,
   "id": "eb7b758c",
   "metadata": {},
   "outputs": [],
   "source": [
    "def Dboxbiased(list1, list2, itemlen):\n",
    "    newitem = vector(list1).dot_product(vector(list2)) % (2**itemlen) # make sure all bits of input are used\n",
    "    out = format(newitem, f'0{itemlen}b')\n",
    "    return out"
   ]
  },
  {
   "cell_type": "code",
   "execution_count": 10,
   "id": "70ec3d3f",
   "metadata": {},
   "outputs": [],
   "source": [
    "def Dboxbiasedraw(list1, list2, itemlen):\n",
    "    newitem = vector(list1).dot_product(vector(list2)) % (2**itemlen) # make sure all bits of input are used\n",
    "    out = newitem\n",
    "    return out"
   ]
  },
  {
   "cell_type": "code",
   "execution_count": 11,
   "id": "2b980164",
   "metadata": {},
   "outputs": [
    {
     "data": {
      "text/plain": [
       "[12, 14, 3, 13]"
      ]
     },
     "execution_count": 11,
     "metadata": {},
     "output_type": "execute_result"
    }
   ],
   "source": [
    "[randrange(1,27) for x in range(n)] # generate random message"
   ]
  },
  {
   "cell_type": "code",
   "execution_count": 12,
   "id": "b3bf1bdd",
   "metadata": {},
   "outputs": [
    {
     "data": {
      "text/plain": [
       "[22, 38, 20, 28]"
      ]
     },
     "execution_count": 12,
     "metadata": {},
     "output_type": "execute_result"
    }
   ],
   "source": [
    "[randrange(0, q) for x in range(n)] # generate random commit"
   ]
  },
  {
   "cell_type": "code",
   "execution_count": 13,
   "id": "5a29445c",
   "metadata": {},
   "outputs": [
    {
     "data": {
      "text/plain": [
       "'010010'"
      ]
     },
     "execution_count": 13,
     "metadata": {},
     "output_type": "execute_result"
    }
   ],
   "source": [
    "Dboxbiased([randrange(1,27) for x in range(n)], [randrange(0, q) for x in range(4)], dboxlen)"
   ]
  },
  {
   "cell_type": "code",
   "execution_count": 15,
   "id": "a6eb99f9",
   "metadata": {},
   "outputs": [
    {
     "name": "stdout",
     "output_type": "stream",
     "text": [
      "44\n",
      "1\n",
      "55\n",
      "6\n",
      "36\n",
      "22\n",
      "5\n",
      "50\n",
      "53\n"
     ]
    }
   ],
   "source": [
    "for i in range(1,10):\n",
    "    print(Dboxbiasedraw([randrange(1,27) for x in range(n)], [randrange(0, q) for x in range(4)], dboxlen))"
   ]
  },
  {
   "cell_type": "code",
   "execution_count": 27,
   "id": "2b840f91",
   "metadata": {},
   "outputs": [
    {
     "data": {
      "image/png": "[encoded data removed]",
      "text/plain": [
       "Graphics object consisting of 1 graphics primitive"
      ]
     },
     "execution_count": 27,
     "metadata": {},
     "output_type": "execute_result"
    }
   ],
   "source": [
    "datalist = []\n",
    "for i in range(10000):\n",
    "    datalist = datalist + [Dboxbiasedraw([randrange(1,27) for x in range(n)], [randrange(0, q-1) for x in range(4)], dboxlen)]\n",
    "sage.plot.histogram.histogram(datalist, bins=64, range=[-0.5, 63.5])"
   ]
  },
  {
   "cell_type": "code",
   "execution_count": 30,
   "id": "222c03f6",
   "metadata": {},
   "outputs": [
    {
     "data": {
      "text/plain": [
       "0.4602"
      ]
     },
     "execution_count": 30,
     "metadata": {},
     "output_type": "execute_result"
    }
   ],
   "source": [
    "datalist = []\n",
    "for i in range(10000):\n",
    "    datalist = datalist + [Dboxbiasedraw([randrange(1,27) for x in range(n)], [randrange(0, q-1) for x in range(4)], \n",
    "                                   dboxlen) % 2]\n",
    "numpy.mean(datalist)"
   ]
  },
  {
   "cell_type": "code",
   "execution_count": 50,
   "id": "46eb0319",
   "metadata": {},
   "outputs": [
    {
     "name": "stdout",
     "output_type": "stream",
     "text": [
      "0.4696\n",
      "0.49991\n",
      "0.50131\n",
      "0.50199\n",
      "0.50078\n",
      "0.49973\n"
     ]
    }
   ],
   "source": [
    "datalist0 = []\n",
    "datalist1 = []\n",
    "datalist2 = []\n",
    "datalist3 = []\n",
    "datalist4 = []\n",
    "datalist5 = []\n",
    "for i in range(100000):\n",
    "    Dboxtemp = Dboxbiasedraw([randrange(1,27) for x in range(n)], [randrange(0, q-1) for x in range(4)], \n",
    "                                   dboxlen)\n",
    "    datalist0 = datalist0 + [Dboxtemp % 2]\n",
    "    Dboxtemp = Dboxtemp // 2\n",
    "    datalist1 = datalist1 + [Dboxtemp % 2]\n",
    "    Dboxtemp = Dboxtemp // 2\n",
    "    datalist2 = datalist2 + [Dboxtemp % 2]\n",
    "    Dboxtemp = Dboxtemp // 2\n",
    "    datalist3 = datalist3 + [Dboxtemp % 2]\n",
    "    Dboxtemp = Dboxtemp // 2\n",
    "    datalist4 = datalist4 + [Dboxtemp % 2]\n",
    "    Dboxtemp = Dboxtemp // 2\n",
    "    datalist5 = datalist5 + [Dboxtemp % 2]\n",
    "print(numpy.mean(datalist0))\n",
    "print(numpy.mean(datalist1))\n",
    "print(numpy.mean(datalist2))\n",
    "print(numpy.mean(datalist3))\n",
    "print(numpy.mean(datalist4))\n",
    "print(numpy.mean(datalist5))"
   ]
  },
  {
   "cell_type": "markdown",
   "id": "61ac0b6b",
   "metadata": {},
   "source": [
    "$f(M \\bullet w \\bmod 41) \\bmod 64$"
   ]
  },
  {
   "cell_type": "code",
   "execution_count": 2,
   "id": "72f81788",
   "metadata": {},
   "outputs": [],
   "source": [
    "def f(x):  #permutation polynomial mod 2^n\n",
    "    return 2*x^2 + x"
   ]
  },
  {
   "cell_type": "code",
   "execution_count": 32,
   "id": "f7955361",
   "metadata": {},
   "outputs": [],
   "source": [
    "def Dbox41raw(list1, list2, itemlen):\n",
    "    newitem = vector(list1).dot_product(vector(list2)) % q # make sure all bits of input are used\n",
    "    out = f(newitem) % (2**itemlen)\n",
    "    return out"
   ]
  },
  {
   "cell_type": "code",
   "execution_count": 34,
   "id": "fb61bfbf",
   "metadata": {
    "scrolled": true
   },
   "outputs": [
    {
     "data": {
      "image/png": "[encoded data removed]",
      "text/plain": [
       "Graphics object consisting of 1 graphics primitive"
      ]
     },
     "execution_count": 34,
     "metadata": {},
     "output_type": "execute_result"
    }
   ],
   "source": [
    "datalist = []\n",
    "for i in range(10000):\n",
    "    datalist = datalist + [Dbox41raw([randrange(1,27) for x in range(n)], [randrange(0, q-1) for x in range(4)], dboxlen)]\n",
    "sage.plot.histogram.histogram(datalist, bins=64, range=[-0.5, 63.5])"
   ]
  },
  {
   "cell_type": "code",
   "execution_count": 35,
   "id": "7576d648",
   "metadata": {},
   "outputs": [
    {
     "data": {
      "text/plain": [
       "0.4837"
      ]
     },
     "execution_count": 35,
     "metadata": {},
     "output_type": "execute_result"
    }
   ],
   "source": [
    "datalist = []\n",
    "for i in range(10000):\n",
    "    datalist = datalist + [Dbox41raw([randrange(1,27) for x in range(n)], [randrange(0, q-1) for x in range(4)], \n",
    "                                   dboxlen) % 2]\n",
    "numpy.mean(datalist)"
   ]
  },
  {
   "cell_type": "code",
   "execution_count": 48,
   "id": "1fa12fb3",
   "metadata": {},
   "outputs": [
    {
     "name": "stdout",
     "output_type": "stream",
     "text": [
      "0.4879\n",
      "0.4868\n",
      "0.4853\n",
      "0.4899\n",
      "0.4334\n",
      "0.5111\n"
     ]
    }
   ],
   "source": [
    "datalist0 = []\n",
    "datalist1 = []\n",
    "datalist2 = []\n",
    "datalist3 = []\n",
    "datalist4 = []\n",
    "datalist5 = []\n",
    "for i in range(10000):\n",
    "    Dboxtemp = Dbox41raw([randrange(1,27) for x in range(n)], [randrange(0, q-1) for x in range(4)], \n",
    "                                   dboxlen)\n",
    "    datalist0 = datalist0 + [Dboxtemp % 2]\n",
    "    Dboxtemp = Dboxtemp // 2\n",
    "    datalist1 = datalist1 + [Dboxtemp % 2]\n",
    "    Dboxtemp = Dboxtemp // 2\n",
    "    datalist2 = datalist2 + [Dboxtemp % 2]\n",
    "    Dboxtemp = Dboxtemp // 2\n",
    "    datalist3 = datalist3 + [Dboxtemp % 2]\n",
    "    Dboxtemp = Dboxtemp // 2\n",
    "    datalist4 = datalist4 + [Dboxtemp % 2]\n",
    "    Dboxtemp = Dboxtemp // 2\n",
    "    datalist5 = datalist5 + [Dboxtemp % 2]\n",
    "print(numpy.mean(datalist0))\n",
    "print(numpy.mean(datalist1))\n",
    "print(numpy.mean(datalist2))\n",
    "print(numpy.mean(datalist3))\n",
    "print(numpy.mean(datalist4))\n",
    "print(numpy.mean(datalist5))"
   ]
  },
  {
   "cell_type": "markdown",
   "id": "3e5d3b6b",
   "metadata": {},
   "source": [
    "$(M \\bullet w \\bmod 65) \\bmod 64$"
   ]
  },
  {
   "cell_type": "code",
   "execution_count": 15,
   "id": "5ce040f1",
   "metadata": {},
   "outputs": [],
   "source": [
    "def f(x):  #permutation polynomial mod 2^n\n",
    "    return 2*x^2 + x"
   ]
  },
  {
   "cell_type": "code",
   "execution_count": 37,
   "id": "231a45da",
   "metadata": {},
   "outputs": [],
   "source": [
    "def Dbox65raw(list1, list2, itemlen):\n",
    "    newitem = vector(list1).dot_product(vector(list2)) % (2**itemlen+1) # make sure all bits of input are used\n",
    "    out = (newitem) % (2**itemlen)\n",
    "    return out"
   ]
  },
  {
   "cell_type": "code",
   "execution_count": 38,
   "id": "a528b39f",
   "metadata": {
    "scrolled": true
   },
   "outputs": [
    {
     "data": {
      "image/png": "[encoded data removed]",
      "text/plain": [
       "Graphics object consisting of 1 graphics primitive"
      ]
     },
     "execution_count": 38,
     "metadata": {},
     "output_type": "execute_result"
    }
   ],
   "source": [
    "datalist = []\n",
    "for i in range(30000):\n",
    "    datalist = datalist + [Dbox65raw([randrange(1,27) for x in range(n)], [randrange(0, q-1) for x in range(4)], dboxlen)]\n",
    "sage.plot.histogram.histogram(datalist, bins=64, range=[-0.5, 63.5])"
   ]
  },
  {
   "cell_type": "code",
   "execution_count": 67,
   "id": "3f914690",
   "metadata": {},
   "outputs": [
    {
     "name": "stdout",
     "output_type": "stream",
     "text": [
      "0.48923333333333335\n",
      "0.4921333333333333\n",
      "0.5001\n",
      "0.4893\n",
      "0.4866333333333333\n",
      "0.49483333333333335\n"
     ]
    }
   ],
   "source": [
    "datalist0 = []\n",
    "datalist1 = []\n",
    "datalist2 = []\n",
    "datalist3 = []\n",
    "datalist4 = []\n",
    "datalist5 = []\n",
    "for i in range(30000):\n",
    "    Dboxtemp = Dbox65raw([randrange(1,27) for x in range(n)], [randrange(0, q-1) for x in range(4)], \n",
    "                                   dboxlen)\n",
    "    datalist0 = datalist0 + [Dboxtemp % 2]\n",
    "    Dboxtemp = Dboxtemp // 2\n",
    "    datalist1 = datalist1 + [Dboxtemp % 2]\n",
    "    Dboxtemp = Dboxtemp // 2\n",
    "    datalist2 = datalist2 + [Dboxtemp % 2]\n",
    "    Dboxtemp = Dboxtemp // 2\n",
    "    datalist3 = datalist3 + [Dboxtemp % 2]\n",
    "    Dboxtemp = Dboxtemp // 2\n",
    "    datalist4 = datalist4 + [Dboxtemp % 2]\n",
    "    Dboxtemp = Dboxtemp // 2\n",
    "    datalist5 = datalist5 + [Dboxtemp % 2]\n",
    "print(numpy.mean(datalist0))\n",
    "print(numpy.mean(datalist1))\n",
    "print(numpy.mean(datalist2))\n",
    "print(numpy.mean(datalist3))\n",
    "print(numpy.mean(datalist4))\n",
    "print(numpy.mean(datalist5))"
   ]
  },
  {
   "cell_type": "markdown",
   "id": "c8c5f327",
   "metadata": {},
   "source": [
    "$(M \\bullet w \\bmod 67) \\bmod 64$"
   ]
  },
  {
   "cell_type": "code",
   "execution_count": 1,
   "id": "af4778a1",
   "metadata": {},
   "outputs": [],
   "source": [
    "def f(x):  #permutation polynomial mod 2^n\n",
    "    return 2*x^2 + x"
   ]
  },
  {
   "cell_type": "code",
   "execution_count": 40,
   "id": "ee55d627",
   "metadata": {},
   "outputs": [],
   "source": [
    "def Dbox67raw(list1, list2, itemlen):\n",
    "    newitem = vector(list1).dot_product(vector(list2)) % (2**itemlen+3) # make sure all bits of input are used\n",
    "    out = (newitem) % (2**itemlen)\n",
    "    return out"
   ]
  },
  {
   "cell_type": "code",
   "execution_count": 70,
   "id": "9bd4fac9",
   "metadata": {
    "scrolled": true
   },
   "outputs": [
    {
     "data": {
      "image/png": "[encoded data removed]",
      "text/plain": [
       "Graphics object consisting of 1 graphics primitive"
      ]
     },
     "execution_count": 70,
     "metadata": {},
     "output_type": "execute_result"
    }
   ],
   "source": [
    "datalist = []\n",
    "for i in range(10000):\n",
    "    datalist = datalist + [Dbox67raw([randrange(1,27) for x in range(n)], [randrange(0, q-1) for x in range(4)], dboxlen)]\n",
    "sage.plot.histogram.histogram(datalist, bins=64, range=[-0.5, 63.5])"
   ]
  },
  {
   "cell_type": "code",
   "execution_count": 69,
   "id": "a75e3de5",
   "metadata": {},
   "outputs": [
    {
     "name": "stdout",
     "output_type": "stream",
     "text": [
      "0.4908\n",
      "0.49468\n",
      "0.47432\n",
      "0.4786\n",
      "0.47928\n",
      "0.47988\n"
     ]
    }
   ],
   "source": [
    "datalist0 = []\n",
    "datalist1 = []\n",
    "datalist2 = []\n",
    "datalist3 = []\n",
    "datalist4 = []\n",
    "datalist5 = []\n",
    "for i in range(25000):\n",
    "    Dboxtemp = Dbox67raw([randrange(1,27) for x in range(n)], [randrange(0, q-1) for x in range(4)], \n",
    "                                   dboxlen)\n",
    "    datalist0 = datalist0 + [Dboxtemp % 2]\n",
    "    Dboxtemp = Dboxtemp // 2\n",
    "    datalist1 = datalist1 + [Dboxtemp % 2]\n",
    "    Dboxtemp = Dboxtemp // 2\n",
    "    datalist2 = datalist2 + [Dboxtemp % 2]\n",
    "    Dboxtemp = Dboxtemp // 2\n",
    "    datalist3 = datalist3 + [Dboxtemp % 2]\n",
    "    Dboxtemp = Dboxtemp // 2\n",
    "    datalist4 = datalist4 + [Dboxtemp % 2]\n",
    "    Dboxtemp = Dboxtemp // 2\n",
    "    datalist5 = datalist5 + [Dboxtemp % 2]\n",
    "print(numpy.mean(datalist0))\n",
    "print(numpy.mean(datalist1))\n",
    "print(numpy.mean(datalist2))\n",
    "print(numpy.mean(datalist3))\n",
    "print(numpy.mean(datalist4))\n",
    "print(numpy.mean(datalist5))"
   ]
  },
  {
   "cell_type": "code",
   "execution_count": null,
   "id": "62d9916a",
   "metadata": {},
   "outputs": [],
   "source": []
  },
  {
   "cell_type": "markdown",
   "id": "0686673d",
   "metadata": {},
   "source": [
    "$(M \\bullet w \\bmod 257) \\bmod 64$"
   ]
  },
  {
   "cell_type": "code",
   "execution_count": 56,
   "id": "3e6ea70d",
   "metadata": {},
   "outputs": [
    {
     "data": {
      "text/plain": [
       "257"
      ]
     },
     "execution_count": 56,
     "metadata": {},
     "output_type": "execute_result"
    }
   ],
   "source": [
    "n*2**dboxlen+1"
   ]
  },
  {
   "cell_type": "code",
   "execution_count": 57,
   "id": "7ada4143",
   "metadata": {},
   "outputs": [],
   "source": [
    "def Dbox257raw(list1, list2, itemlen):\n",
    "    newitem = vector(list1).dot_product(vector(list2)) % (n*2**itemlen+1) # make sure all bits of input are used\n",
    "    out = (newitem) % (2**itemlen)\n",
    "    return out"
   ]
  },
  {
   "cell_type": "code",
   "execution_count": 71,
   "id": "058fa3df",
   "metadata": {
    "scrolled": true
   },
   "outputs": [
    {
     "data": {
      "image/png": "[encoded data removed]",
      "text/plain": [
       "Graphics object consisting of 1 graphics primitive"
      ]
     },
     "execution_count": 71,
     "metadata": {},
     "output_type": "execute_result"
    }
   ],
   "source": [
    "datalist = []\n",
    "for i in range(25000):\n",
    "    datalist = datalist + [Dbox257raw([randrange(1,27) for x in range(n)], [randrange(0, q-1) for x in range(4)], dboxlen)]\n",
    "sage.plot.histogram.histogram(datalist, bins=64, range=[-0.5, 63.5])"
   ]
  },
  {
   "cell_type": "code",
   "execution_count": 68,
   "id": "2143ffd7",
   "metadata": {},
   "outputs": [
    {
     "name": "stdout",
     "output_type": "stream",
     "text": [
      "0.49688\n",
      "0.49892\n",
      "0.49764\n",
      "0.50512\n",
      "0.49524\n",
      "0.4978\n"
     ]
    }
   ],
   "source": [
    "datalist0 = []\n",
    "datalist1 = []\n",
    "datalist2 = []\n",
    "datalist3 = []\n",
    "datalist4 = []\n",
    "datalist5 = []\n",
    "for i in range(25000):\n",
    "    Dboxtemp = Dbox257raw([randrange(1,27) for x in range(n)], [randrange(0, q-1) for x in range(4)], \n",
    "                                   dboxlen)\n",
    "    datalist0 = datalist0 + [Dboxtemp % 2]\n",
    "    Dboxtemp = Dboxtemp // 2\n",
    "    datalist1 = datalist1 + [Dboxtemp % 2]\n",
    "    Dboxtemp = Dboxtemp // 2\n",
    "    datalist2 = datalist2 + [Dboxtemp % 2]\n",
    "    Dboxtemp = Dboxtemp // 2\n",
    "    datalist3 = datalist3 + [Dboxtemp % 2]\n",
    "    Dboxtemp = Dboxtemp // 2\n",
    "    datalist4 = datalist4 + [Dboxtemp % 2]\n",
    "    Dboxtemp = Dboxtemp // 2\n",
    "    datalist5 = datalist5 + [Dboxtemp % 2]\n",
    "print(numpy.mean(datalist0))\n",
    "print(numpy.mean(datalist1))\n",
    "print(numpy.mean(datalist2))\n",
    "print(numpy.mean(datalist3))\n",
    "print(numpy.mean(datalist4))\n",
    "print(numpy.mean(datalist5))"
   ]
  },
  {
   "cell_type": "code",
   "execution_count": 77,
   "id": "a8eca6ab",
   "metadata": {},
   "outputs": [],
   "source": [
    "M = vector([14, 21, 17, 11])"
   ]
  },
  {
   "cell_type": "code",
   "execution_count": 80,
   "id": "ac91f266",
   "metadata": {},
   "outputs": [
    {
     "data": {
      "text/plain": [
       "(29, 43, 35, 23)"
      ]
     },
     "execution_count": 80,
     "metadata": {},
     "output_type": "execute_result"
    }
   ],
   "source": [
    "2*M+vector([1]*n)"
   ]
  },
  {
   "cell_type": "markdown",
   "id": "d0071b33",
   "metadata": {},
   "source": [
    "$((2M+1) \\bullet (2w+1))/2 \\bmod 64$"
   ]
  },
  {
   "cell_type": "code",
   "execution_count": 18,
   "id": "9bd9e4c6",
   "metadata": {},
   "outputs": [],
   "source": [
    "def Dbox128raw(list1, list2, itemlen):\n",
    "    one = vector([1]*4)\n",
    "    newitem = (2*vector(list1)+one).dot_product(2*vector(list2)+one)  # make sure all bits of input are used\n",
    "    out = (newitem//2) % (2**itemlen)\n",
    "    return out"
   ]
  },
  {
   "cell_type": "code",
   "execution_count": 97,
   "id": "fb76c436",
   "metadata": {},
   "outputs": [
    {
     "name": "stdout",
     "output_type": "stream",
     "text": [
      "9\n",
      "40\n",
      "23\n",
      "46\n",
      "12\n",
      "58\n",
      "31\n",
      "30\n",
      "28\n"
     ]
    }
   ],
   "source": [
    "for i in range(1,10):\n",
    "    print(Dbox128raw([randrange(1,27) for x in range(n)], [randrange(0, q) for x in range(4)], dboxlen))"
   ]
  },
  {
   "cell_type": "code",
   "execution_count": 101,
   "id": "a17c6ed1",
   "metadata": {},
   "outputs": [
    {
     "data": {
      "image/png": "[encoded data removed]",
      "text/plain": [
       "Graphics object consisting of 1 graphics primitive"
      ]
     },
     "execution_count": 101,
     "metadata": {},
     "output_type": "execute_result"
    }
   ],
   "source": [
    "datalist = []\n",
    "for i in range(100000):\n",
    "    datalist = datalist + [Dbox128raw([randrange(1,27) for x in range(n)], [randrange(0, q-1) for x in range(4)], dboxlen)]\n",
    "sage.plot.histogram.histogram(datalist, bins=64, range=[-0.5, 63.5])"
   ]
  },
  {
   "cell_type": "code",
   "execution_count": 100,
   "id": "7b90295d",
   "metadata": {},
   "outputs": [
    {
     "name": "stdout",
     "output_type": "stream",
     "text": [
      "0.49856\n",
      "0.49945\n",
      "0.49725\n",
      "0.5007\n",
      "0.49894\n",
      "0.49978\n"
     ]
    }
   ],
   "source": [
    "datalist0 = []\n",
    "datalist1 = []\n",
    "datalist2 = []\n",
    "datalist3 = []\n",
    "datalist4 = []\n",
    "datalist5 = []\n",
    "for i in range(100000):\n",
    "    Dboxtemp = Dbox128raw([randrange(1,27) for x in range(n)], [randrange(0, q-1) for x in range(4)], \n",
    "                                   dboxlen)\n",
    "    datalist0 = datalist0 + [Dboxtemp % 2]\n",
    "    Dboxtemp = Dboxtemp // 2\n",
    "    datalist1 = datalist1 + [Dboxtemp % 2]\n",
    "    Dboxtemp = Dboxtemp // 2\n",
    "    datalist2 = datalist2 + [Dboxtemp % 2]\n",
    "    Dboxtemp = Dboxtemp // 2\n",
    "    datalist3 = datalist3 + [Dboxtemp % 2]\n",
    "    Dboxtemp = Dboxtemp // 2\n",
    "    datalist4 = datalist4 + [Dboxtemp % 2]\n",
    "    Dboxtemp = Dboxtemp // 2\n",
    "    datalist5 = datalist5 + [Dboxtemp % 2]\n",
    "print(numpy.mean(datalist0))\n",
    "print(numpy.mean(datalist1))\n",
    "print(numpy.mean(datalist2))\n",
    "print(numpy.mean(datalist3))\n",
    "print(numpy.mean(datalist4))\n",
    "print(numpy.mean(datalist5))"
   ]
  },
  {
   "cell_type": "markdown",
   "id": "da532c14",
   "metadata": {},
   "source": [
    "(temporary place to put this)"
   ]
  },
  {
   "cell_type": "code",
   "execution_count": 1,
   "id": "7ec06a1a",
   "metadata": {},
   "outputs": [],
   "source": [
    "def XOF(list1, list2, itemlen, numbits):\n",
    "    out = \"\"\n",
    "    list11 = list1\n",
    "    while len(out)<numbits:\n",
    "        newitem = vector(list11).dot_product(vector(list2)) % (2**itemlen) # make sure all bits of input are used\n",
    "        out = out + format(newitem, f'0{itemlen}b')\n",
    "        list11 = [newitem] + list11[:-1]\n",
    "    return out[:numbits]"
   ]
  },
  {
   "cell_type": "markdown",
   "id": "18f802bd",
   "metadata": {},
   "source": [
    "---------\n",
    "---------\n",
    "\n",
    "Other Parameters\n",
    "==="
   ]
  },
  {
   "cell_type": "code",
   "execution_count": 16,
   "id": "8d50a249",
   "metadata": {},
   "outputs": [],
   "source": [
    "q=97 #Lithium AA and C?\n",
    "dboxlen = 7 #AA and SubC?"
   ]
  },
  {
   "cell_type": "code",
   "execution_count": 19,
   "id": "2a240d76",
   "metadata": {},
   "outputs": [
    {
     "name": "stdout",
     "output_type": "stream",
     "text": [
      "48\n",
      "94\n",
      "104\n",
      "60\n",
      "97\n",
      "107\n",
      "95\n",
      "81\n",
      "62\n"
     ]
    }
   ],
   "source": [
    "for i in range(1,10):\n",
    "    print(Dbox128raw([randrange(1,27) for x in range(n)], [randrange(0, q) for x in range(4)], dboxlen))"
   ]
  },
  {
   "cell_type": "code",
   "execution_count": 20,
   "id": "c62689e1",
   "metadata": {
    "scrolled": true
   },
   "outputs": [
    {
     "data": {
      "image/png": "[encoded data removed]",
      "text/plain": [
       "Graphics object consisting of 1 graphics primitive"
      ]
     },
     "execution_count": 20,
     "metadata": {},
     "output_type": "execute_result"
    }
   ],
   "source": [
    "datalist = []\n",
    "for i in range(100000):\n",
    "    datalist = datalist + [Dbox128raw([randrange(1,27) for x in range(n)], [randrange(0, q-1) for x in range(4)], dboxlen)]\n",
    "sage.plot.histogram.histogram(datalist, bins=2**dboxlen, range=[-0.5, 2**dboxlen-0.5])"
   ]
  },
  {
   "cell_type": "code",
   "execution_count": 22,
   "id": "81e54092",
   "metadata": {},
   "outputs": [
    {
     "data": {
      "image/png": "[encoded data removed]",
      "text/plain": [
       "Graphics object consisting of 1 graphics primitive"
      ]
     },
     "execution_count": 22,
     "metadata": {},
     "output_type": "execute_result"
    }
   ],
   "source": [
    "sage.plot.histogram.histogram(datalist, bins=2**dboxlen, range=[-0.5, 2**dboxlen-0.5])"
   ]
  },
  {
   "cell_type": "code",
   "execution_count": 24,
   "id": "440c55cc",
   "metadata": {},
   "outputs": [
    {
     "data": {
      "text/plain": [
       "781.250000000000"
      ]
     },
     "execution_count": 24,
     "metadata": {},
     "output_type": "execute_result"
    }
   ],
   "source": [
    "100000/2**dboxlen.n()"
   ]
  },
  {
   "cell_type": "code",
   "execution_count": 27,
   "id": "0d973c8e",
   "metadata": {},
   "outputs": [
    {
     "data": {
      "text/plain": [
       "100000"
      ]
     },
     "execution_count": 27,
     "metadata": {},
     "output_type": "execute_result"
    }
   ],
   "source": [
    "len(datalist)"
   ]
  },
  {
   "cell_type": "code",
   "execution_count": 29,
   "id": "9f6a1d50",
   "metadata": {},
   "outputs": [],
   "source": [
    "from scipy.stats import chisquare\n",
    "import scipy"
   ]
  },
  {
   "cell_type": "code",
   "execution_count": 34,
   "id": "55dd9004",
   "metadata": {},
   "outputs": [
    {
     "data": {
      "text/plain": [
       "array([752, 767, 822, 795, 773, 786, 804, 742, 745, 700, 818, 790, 785,\n",
       "       758, 732, 788, 804, 751, 824, 773, 799, 776, 784, 781, 751, 828,\n",
       "       801, 783, 801, 797, 760, 810, 739, 763, 822, 742, 766, 751, 800,\n",
       "       754, 830, 804, 778, 755, 774, 785, 773, 761, 803, 766, 772, 771,\n",
       "       767, 825, 758, 755, 736, 797, 778, 814, 776, 746, 787, 803, 801,\n",
       "       742, 843, 796, 752, 746, 726, 765, 784, 810, 804, 745, 820, 761,\n",
       "       773, 782, 807, 770, 770, 793, 762, 802, 802, 819, 835, 784, 786,\n",
       "       807, 763, 772, 798, 803, 793, 735, 823, 794, 796, 763, 784, 783,\n",
       "       779, 819, 736, 773, 749, 805, 805, 772, 781, 802, 758, 781, 750,\n",
       "       753, 855, 743, 800, 811, 745, 802, 820, 786, 799, 751])"
      ]
     },
     "execution_count": 34,
     "metadata": {},
     "output_type": "execute_result"
    }
   ],
   "source": [
    "freqtable = scipy.ndimage.histogram(datalist, 0, 2**dboxlen, 2**dboxlen)\n",
    "freqtable"
   ]
  },
  {
   "cell_type": "code",
   "execution_count": 35,
   "id": "d4940451",
   "metadata": {},
   "outputs": [
    {
     "data": {
      "text/plain": [
       "Power_divergenceResult(statistic=125.47327999999999, pvalue=0.5216492940415821)"
      ]
     },
     "execution_count": 35,
     "metadata": {},
     "output_type": "execute_result"
    }
   ],
   "source": [
    "chisquare(f_obs=freqtable, f_exp=[100000/2**dboxlen]*128)"
   ]
  },
  {
   "cell_type": "markdown",
   "id": "bd4d00bb",
   "metadata": {},
   "source": [
    "Good.\n",
    "\n",
    "As opposed to:"
   ]
  },
  {
   "cell_type": "code",
   "execution_count": 36,
   "id": "1dbbd3ea",
   "metadata": {},
   "outputs": [
    {
     "data": {
      "image/png": "[encoded data removed]",
      "text/plain": [
       "Graphics object consisting of 1 graphics primitive"
      ]
     },
     "execution_count": 36,
     "metadata": {},
     "output_type": "execute_result"
    }
   ],
   "source": [
    "datalist = []\n",
    "for i in range(100000):\n",
    "    datalist = datalist + [Dboxbiasedraw([randrange(1,27) for x in range(n)], [randrange(0, q-1) for x in range(4)], dboxlen)]\n",
    "sage.plot.histogram.histogram(datalist, bins=2**dboxlen, range=[-0.5, 2**dboxlen-0.5])"
   ]
  },
  {
   "cell_type": "code",
   "execution_count": 37,
   "id": "b3a88698",
   "metadata": {},
   "outputs": [
    {
     "data": {
      "text/plain": [
       "array([771, 731, 806, 744, 873, 727, 840, 739, 813, 700, 823, 698, 820,\n",
       "       726, 827, 672, 839, 725, 823, 754, 842, 761, 855, 687, 878, 688,\n",
       "       858, 706, 869, 739, 796, 720, 871, 719, 859, 737, 806, 728, 809,\n",
       "       732, 877, 733, 863, 721, 860, 777, 828, 718, 853, 707, 859, 688,\n",
       "       811, 754, 780, 747, 807, 713, 799, 744, 812, 724, 814, 701, 867,\n",
       "       797, 859, 710, 852, 686, 788, 761, 887, 710, 872, 752, 853, 792,\n",
       "       838, 699, 796, 759, 807, 733, 847, 723, 791, 694, 844, 707, 859,\n",
       "       695, 852, 716, 856, 748, 813, 742, 858, 770, 829, 774, 837, 752,\n",
       "       777, 735, 846, 763, 827, 696, 870, 763, 804, 738, 832, 733, 903,\n",
       "       743, 856, 696, 792, 760, 832, 689, 801, 732, 777, 709])"
      ]
     },
     "execution_count": 37,
     "metadata": {},
     "output_type": "execute_result"
    }
   ],
   "source": [
    "freqtable = scipy.ndimage.histogram(datalist, 0, 2**dboxlen, 2**dboxlen)\n",
    "freqtable"
   ]
  },
  {
   "cell_type": "code",
   "execution_count": 38,
   "id": "219885e5",
   "metadata": {},
   "outputs": [
    {
     "data": {
      "text/plain": [
       "Power_divergenceResult(statistic=590.656, pvalue=6.93086823237689e-61)"
      ]
     },
     "execution_count": 38,
     "metadata": {},
     "output_type": "execute_result"
    }
   ],
   "source": [
    "chisquare(f_obs=freqtable, f_exp=[100000/2**dboxlen]*128)"
   ]
  },
  {
   "cell_type": "markdown",
   "id": "04f5e635",
   "metadata": {},
   "source": [
    "Yes, perfect.\n",
    "\n",
    "---"
   ]
  },
  {
   "cell_type": "code",
   "execution_count": 39,
   "id": "522643bb",
   "metadata": {},
   "outputs": [],
   "source": [
    "q=97 #Lithium AA and C?\n",
    "dboxlen = 8 #C and D?"
   ]
  },
  {
   "cell_type": "code",
   "execution_count": 44,
   "id": "a2601d77",
   "metadata": {},
   "outputs": [
    {
     "data": {
      "image/png": "[encoded data removed]",
      "text/plain": [
       "Graphics object consisting of 1 graphics primitive"
      ]
     },
     "execution_count": 44,
     "metadata": {},
     "output_type": "execute_result"
    }
   ],
   "source": [
    "datalist = []\n",
    "for i in range(100000):\n",
    "    datalist = datalist + [Dbox128raw([randrange(1,27) for x in range(n)], [randrange(0, q-1) for x in range(4)], dboxlen)]\n",
    "sage.plot.histogram.histogram(datalist, bins=2**dboxlen, range=[-0.5, 2**dboxlen-0.5])"
   ]
  },
  {
   "cell_type": "code",
   "execution_count": 45,
   "id": "4f6208bf",
   "metadata": {},
   "outputs": [
    {
     "data": {
      "text/plain": [
       "array([394, 390, 397, 402, 391, 380, 371, 370, 397, 409, 387, 406, 366,\n",
       "       386, 369, 429, 397, 355, 398, 363, 382, 378, 404, 383, 362, 355,\n",
       "       389, 373, 407, 402, 402, 385, 384, 398, 409, 409, 367, 358, 379,\n",
       "       393, 412, 377, 391, 409, 388, 371, 407, 390, 402, 402, 385, 405,\n",
       "       376, 390, 372, 367, 391, 429, 375, 391, 430, 406, 410, 399, 414,\n",
       "       436, 443, 391, 396, 432, 364, 383, 385, 420, 388, 375, 398, 376,\n",
       "       350, 387, 408, 420, 391, 390, 373, 345, 403, 391, 387, 369, 369,\n",
       "       396, 385, 423, 363, 402, 416, 386, 367, 394, 359, 366, 399, 366,\n",
       "       377, 386, 397, 390, 368, 352, 386, 367, 392, 378, 373, 413, 369,\n",
       "       386, 378, 416, 396, 373, 408, 388, 365, 415, 365, 399, 387, 396,\n",
       "       396, 446, 390, 407, 375, 394, 421, 411, 359, 406, 385, 385, 392,\n",
       "       377, 408, 392, 412, 383, 382, 413, 390, 414, 396, 370, 377, 384,\n",
       "       391, 406, 381, 380, 389, 385, 377, 390, 380, 389, 387, 381, 391,\n",
       "       405, 395, 378, 415, 373, 407, 402, 407, 413, 399, 378, 403, 379,\n",
       "       378, 400, 394, 395, 383, 406, 392, 392, 388, 394, 386, 421, 412,\n",
       "       408, 416, 406, 419, 366, 393, 388, 400, 382, 368, 396, 421, 421,\n",
       "       372, 387, 347, 396, 388, 389, 352, 406, 376, 410, 440, 391, 393,\n",
       "       434, 379, 405, 398, 384, 361, 381, 361, 410, 377, 398, 383, 397,\n",
       "       393, 410, 355, 393, 385, 380, 365, 373, 413, 380, 390, 402, 395,\n",
       "       393, 408, 408, 390, 385, 408, 356, 390, 365])"
      ]
     },
     "execution_count": 45,
     "metadata": {},
     "output_type": "execute_result"
    }
   ],
   "source": [
    "freqtable = scipy.ndimage.histogram(datalist, 0, 2**dboxlen, 2**dboxlen)\n",
    "freqtable"
   ]
  },
  {
   "cell_type": "code",
   "execution_count": 46,
   "id": "2945b545",
   "metadata": {},
   "outputs": [
    {
     "data": {
      "text/plain": [
       "Power_divergenceResult(statistic=222.28992, pvalue=0.9313070764585127)"
      ]
     },
     "execution_count": 46,
     "metadata": {},
     "output_type": "execute_result"
    }
   ],
   "source": [
    "chisquare(f_obs=freqtable, f_exp=[100000/2**dboxlen]*2**dboxlen)"
   ]
  },
  {
   "cell_type": "markdown",
   "id": "0f14ac7d",
   "metadata": {},
   "source": [
    "Still good.\n",
    "\n",
    "-----"
   ]
  },
  {
   "cell_type": "code",
   "execution_count": 52,
   "id": "ce1736fa",
   "metadata": {},
   "outputs": [],
   "source": [
    "q=193 #Lithium D?\n",
    "dboxlen = 8 #C and D?"
   ]
  },
  {
   "cell_type": "code",
   "execution_count": 53,
   "id": "0efa13be",
   "metadata": {},
   "outputs": [
    {
     "data": {
      "image/png": "[encoded data removed]",
      "text/plain": [
       "Graphics object consisting of 1 graphics primitive"
      ]
     },
     "execution_count": 53,
     "metadata": {},
     "output_type": "execute_result"
    }
   ],
   "source": [
    "datalist = []\n",
    "for i in range(100000):\n",
    "    datalist = datalist + [Dbox128raw([randrange(1,27) for x in range(n)], [randrange(0, q-1) for x in range(4)], dboxlen)]\n",
    "sage.plot.histogram.histogram(datalist, bins=2**dboxlen, range=[-0.5, 2**dboxlen-0.5])"
   ]
  },
  {
   "cell_type": "code",
   "execution_count": 54,
   "id": "9d46a014",
   "metadata": {},
   "outputs": [
    {
     "data": {
      "text/plain": [
       "array([410, 418, 369, 408, 402, 399, 389, 406, 376, 394, 393, 399, 355,\n",
       "       385, 393, 400, 392, 394, 405, 374, 377, 405, 408, 375, 402, 433,\n",
       "       372, 376, 383, 385, 394, 387, 393, 373, 365, 395, 393, 406, 394,\n",
       "       400, 387, 370, 414, 379, 370, 412, 373, 375, 363, 389, 350, 421,\n",
       "       440, 381, 403, 341, 419, 391, 406, 368, 377, 372, 383, 361, 378,\n",
       "       388, 410, 384, 385, 386, 403, 392, 357, 385, 413, 416, 431, 377,\n",
       "       399, 412, 366, 364, 419, 355, 422, 382, 375, 405, 388, 423, 389,\n",
       "       380, 399, 422, 381, 351, 385, 373, 378, 400, 403, 389, 393, 380,\n",
       "       380, 391, 406, 436, 417, 385, 387, 386, 377, 399, 388, 412, 376,\n",
       "       387, 387, 383, 381, 370, 396, 362, 399, 402, 418, 399, 399, 398,\n",
       "       370, 375, 396, 382, 386, 421, 403, 379, 401, 380, 458, 354, 408,\n",
       "       374, 431, 355, 402, 417, 403, 404, 380, 385, 356, 387, 378, 424,\n",
       "       373, 412, 385, 400, 407, 390, 414, 386, 351, 405, 371, 403, 386,\n",
       "       373, 402, 378, 363, 389, 386, 369, 381, 366, 436, 377, 356, 389,\n",
       "       389, 399, 388, 379, 396, 340, 411, 393, 388, 396, 406, 374, 396,\n",
       "       399, 404, 376, 398, 367, 369, 404, 382, 394, 424, 392, 435, 392,\n",
       "       399, 381, 376, 442, 377, 367, 400, 380, 375, 386, 408, 395, 399,\n",
       "       363, 388, 399, 388, 392, 428, 362, 400, 375, 419, 408, 406, 380,\n",
       "       391, 413, 414, 387, 386, 384, 390, 396, 413, 391, 377, 381, 390,\n",
       "       383, 420, 362, 390, 382, 383, 375, 408, 362])"
      ]
     },
     "execution_count": 54,
     "metadata": {},
     "output_type": "execute_result"
    }
   ],
   "source": [
    "freqtable = scipy.ndimage.histogram(datalist, 0, 2**dboxlen, 2**dboxlen)\n",
    "freqtable"
   ]
  },
  {
   "cell_type": "code",
   "execution_count": 55,
   "id": "94670b01",
   "metadata": {},
   "outputs": [
    {
     "data": {
      "text/plain": [
       "Power_divergenceResult(statistic=240.70656, pvalue=0.7308830913306418)"
      ]
     },
     "execution_count": 55,
     "metadata": {},
     "output_type": "execute_result"
    }
   ],
   "source": [
    "chisquare(f_obs=freqtable, f_exp=[100000/2**dboxlen]*2**dboxlen)"
   ]
  },
  {
   "cell_type": "code",
   "execution_count": null,
   "id": "e443a872",
   "metadata": {},
   "outputs": [],
   "source": []
  },
  {
   "cell_type": "code",
   "execution_count": null,
   "id": "4882271d",
   "metadata": {},
   "outputs": [],
   "source": []
  },
  {
   "cell_type": "code",
   "execution_count": null,
   "id": "df3677dd",
   "metadata": {},
   "outputs": [],
   "source": []
  }
 ],
 "metadata": {
  "kernelspec": {
   "display_name": "SageMath 9.5",
   "language": "sage",
   "name": "sagemath"
  },
  "language_info": {
   "codemirror_mode": {
    "name": "ipython",
    "version": 3
   },
   "file_extension": ".py",
   "mimetype": "text/x-python",
   "name": "python",
   "nbconvert_exporter": "python",
   "pygments_lexer": "ipython3",
   "version": "3.10.12"
  }
 },
 "nbformat": 4,
 "nbformat_minor": 5
}
