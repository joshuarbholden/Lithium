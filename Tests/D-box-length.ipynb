{
 "cells": [
  {
   "cell_type": "code",
   "execution_count": 16,
   "id": "66023673",
   "metadata": {},
   "outputs": [],
   "source": [
    "n=4\n",
    "k=2\n",
    "q=41 #Lithium AAA?  #same as Alkaline D\n",
    "#q should be divisible by 8 for NTT\n",
    "η=1 #secret key range, prefered 2 in Alkaline\n",
    "γ=2^4 #y coeff range, power of 2, exponent about 2/3 of q?  Earlier version was *not* power of 2\n",
    "R.<x> = ZZ[]"
   ]
  },
  {
   "cell_type": "code",
   "execution_count": 20,
   "id": "34c047d9",
   "metadata": {},
   "outputs": [
    {
     "data": {
      "text/plain": [
       "6"
      ]
     },
     "execution_count": 20,
     "metadata": {},
     "output_type": "execute_result"
    }
   ],
   "source": [
    "qlen = ceil(log(q,2))\n",
    "qlen"
   ]
  },
  {
   "cell_type": "code",
   "execution_count": 21,
   "id": "7202cfd7",
   "metadata": {},
   "outputs": [],
   "source": [
    "dboxlen = qlen"
   ]
  },
  {
   "cell_type": "code",
   "execution_count": 28,
   "id": "eb7b758c",
   "metadata": {},
   "outputs": [],
   "source": [
    "def Dbox(list1, list2, itemlen):\n",
    "    newitem = vector(list1).dot_product(vector(list2)) % (2**itemlen) # make sure all bits of input are used\n",
    "    out = format(newitem, f'0{itemlen}b')\n",
    "    return out"
   ]
  },
  {
   "cell_type": "code",
   "execution_count": 36,
   "id": "70ec3d3f",
   "metadata": {},
   "outputs": [],
   "source": [
    "def Dboxraw(list1, list2, itemlen):\n",
    "    newitem = vector(list1).dot_product(vector(list2)) % (2**itemlen) # make sure all bits of input are used\n",
    "    out = newitem\n",
    "    return out"
   ]
  },
  {
   "cell_type": "code",
   "execution_count": 29,
   "id": "2b980164",
   "metadata": {},
   "outputs": [
    {
     "data": {
      "text/plain": [
       "[22, 2, 10, 12]"
      ]
     },
     "execution_count": 29,
     "metadata": {},
     "output_type": "execute_result"
    }
   ],
   "source": [
    "[randrange(1,27) for x in range(n)] # generate random message"
   ]
  },
  {
   "cell_type": "code",
   "execution_count": 30,
   "id": "b3bf1bdd",
   "metadata": {},
   "outputs": [
    {
     "data": {
      "text/plain": [
       "[20, 31, 23, 26]"
      ]
     },
     "execution_count": 30,
     "metadata": {},
     "output_type": "execute_result"
    }
   ],
   "source": [
    "[randrange(0, q) for x in range(n)] # generate random commit"
   ]
  },
  {
   "cell_type": "code",
   "execution_count": 31,
   "id": "5a29445c",
   "metadata": {},
   "outputs": [
    {
     "data": {
      "text/plain": [
       "'111110'"
      ]
     },
     "execution_count": 31,
     "metadata": {},
     "output_type": "execute_result"
    }
   ],
   "source": [
    "Dbox([randrange(1,27) for x in range(n)], [randrange(0, q) for x in range(4)], dboxlen)"
   ]
  },
  {
   "cell_type": "code",
   "execution_count": 37,
   "id": "a6eb99f9",
   "metadata": {},
   "outputs": [
    {
     "name": "stdout",
     "output_type": "stream",
     "text": [
      "45\n",
      "3\n",
      "53\n",
      "38\n",
      "19\n",
      "62\n",
      "16\n",
      "2\n",
      "38\n"
     ]
    }
   ],
   "source": [
    "for i in range(1,10):\n",
    "    print(Dboxraw([randrange(1,27) for x in range(n)], [randrange(0, q) for x in range(4)], dboxlen))"
   ]
  },
  {
   "cell_type": "code",
   "execution_count": 46,
   "id": "2b840f91",
   "metadata": {},
   "outputs": [
    {
     "data": {
      "image/png": "[encoded data removed]",
      "text/plain": [
       "Graphics object consisting of 1 graphics primitive"
      ]
     },
     "execution_count": 46,
     "metadata": {},
     "output_type": "execute_result"
    }
   ],
   "source": [
    "datalist = []\n",
    "for i in range(10000):\n",
    "    datalist = datalist + [Dboxraw([randrange(1,27) for x in range(n)], [randrange(0, q-1) for x in range(4)], dboxlen)]\n",
    "sage.plot.histogram.histogram(datalist, bins=64, range=[-0.5, 63.5])"
   ]
  },
  {
   "cell_type": "code",
   "execution_count": 51,
   "id": "222c03f6",
   "metadata": {},
   "outputs": [
    {
     "data": {
      "image/png": "[encoded data removed]",
      "text/plain": [
       "Graphics object consisting of 1 graphics primitive"
      ]
     },
     "execution_count": 51,
     "metadata": {},
     "output_type": "execute_result"
    }
   ],
   "source": [
    "datalist = []\n",
    "for i in range(100000):\n",
    "    datalist = datalist + [Dboxraw([randrange(1,27) for x in range(n)], [randrange(0, q-1) for x in range(4)], \n",
    "                                   dboxlen) % 2]\n",
    "sage.plot.histogram.histogram(datalist, bins=2, range=[-0.5, 1.5])"
   ]
  },
  {
   "cell_type": "code",
   "execution_count": null,
   "id": "f7955361",
   "metadata": {},
   "outputs": [],
   "source": []
  }
 ],
 "metadata": {
  "kernelspec": {
   "display_name": "SageMath 9.5",
   "language": "sage",
   "name": "sagemath"
  },
  "language_info": {
   "codemirror_mode": {
    "name": "ipython",
    "version": 3
   },
   "file_extension": ".py",
   "mimetype": "text/x-python",
   "name": "python",
   "nbconvert_exporter": "python",
   "pygments_lexer": "ipython3",
   "version": "3.10.12"
  }
 },
 "nbformat": 4,
 "nbformat_minor": 5
}
