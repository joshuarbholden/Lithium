{
 "cells": [
  {
   "cell_type": "markdown",
   "id": "f127f7fe",
   "metadata": {},
   "source": [
    "|           | _n_| (_k_, &ell;) | _q_ | &tau; |&eta; | &gamma; |expected repetitions|lucky forgeries|D-box bits out| exp reps single D-box|\n",
    "|-----------|------|------|-|------|------|------|-|-|-|-|\n",
    "|Lithium-LA | 1 | (4,4) | 41??? |1| 1 | 2^4 | 1.70 |??|6???|1.70|\n",
    "|Lithium-ALG | 4 | (1,1) | 41 |1| 1 | 2^3 | 3.14 |?? |6| 3.14|\n",
    "|Lithium-N | 4 | (2,2)| 41 | 1| 1| 2^3 | 9.87 |0.03%|6|9.87|\n",
    "|**Lithium-AAA** | 4 | (2,2) | 41 | 1 |1 | 2^4 | 2.91|10.7%|6|2.91|\n",
    "| (Bad) |      4 | (2,2) | 41 | 2 | 1| 2^4 | 9.12 | 10.7% |6| 12.16|\n",
    "|**Lithium-AA** | 4 | (2,2) | 97 | 1 |1 | 2^4 | 2.91|0.01%|7?|2.91|\n",
    "|Lithium-C | 4 | (2,2) | 97 | 2 |1 | 2^4 | 9.12|0.01% |7|12.16|\n",
    "|Lithium-C+ | 4 | (2,2) | 97| 2 |1 | 2^4 | 9.12|0.01% |8|9.73|\n",
    "|**Lithium-D** | 4 | (2,2) | 193 | 2 |1 | 2^5 | 2.86|0.01% |8|3.05|"
   ]
  },
  {
   "cell_type": "markdown",
   "id": "d069eebb",
   "metadata": {},
   "source": [
    "Notes:\n",
    "* Expected repetitions is calculated from &gamma; and &tau;&middot;&eta; (and n and k)\n",
    "* Lucky forgeries is calculated from &gamma; and _q_ (and n and k)\n",
    "* The extra reps from the single D-box is calculated from &tau; and $\\lceil \\log_2(q) \\rceil$ (and n)"
   ]
  },
  {
   "cell_type": "code",
   "execution_count": null,
   "id": "464a5b45",
   "metadata": {},
   "outputs": [],
   "source": []
  }
 ],
 "metadata": {
  "kernelspec": {
   "display_name": "SageMath 9.5",
   "language": "sage",
   "name": "sagemath"
  },
  "language_info": {
   "codemirror_mode": {
    "name": "ipython",
    "version": 3
   },
   "file_extension": ".py",
   "mimetype": "text/x-python",
   "name": "python",
   "nbconvert_exporter": "python",
   "pygments_lexer": "ipython3",
   "version": "3.10.12"
  }
 },
 "nbformat": 4,
 "nbformat_minor": 5
}
