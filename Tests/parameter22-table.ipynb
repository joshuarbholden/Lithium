{
 "cells": [
  {
   "cell_type": "markdown",
   "id": "f127f7fe",
   "metadata": {},
   "source": [
    "|           | _n_| (_k_, &ell;) | _q_ | &tau; |&eta; | &gamma; |expected repetitions|lucky forgeries|D-box bits out| exp reps single D-box|\n",
    "|-----------|------|------|-|------|------|------|-|-|-|-|\n",
    "|**Lithium-LA** | 1 | (4,4) | 41 |1| 1 | 2^3 | 3.14 |1.01%|6???|3.14|\n",
    "|**Lithium-ALG** | 4 | (1,1) | 41 |1| 1 | 2^3 | 3.14 |1.01% |6| 3.14|\n",
    "|**Lithium-N22** | 2 | (2,2)| 41 | 1| 1| 2^3 | 3.14 |1.01%|6|3.14|\n",
    "|Lithium-AAA22-41 (bad) | 2 | (2,2) | 41 | 1 |1 | 2^4 | 1.70|25.0%|6|2.91|\n",
    "| (still bad)|      2 | (2,2) | 41 | 2 | 1| 2^4 | 3.02 | 18.8% |6| 6.04|\n",
    "|Lithium-AAA22 ??? | 2 | (2,2) | 61 | 1 |1 | 2^4 | 1.70|5.11%|6|2.91|\n",
    "|**Lithium-AA22** | 2 | (2,2) | 97 | 1 |1 | 2^4 | 1.70|0.80%|7?|2.91|\n",
    "|Lithium-SubC22 | 2 | (2,2) | 97 | 2 |1 | 2^4 | 3.02|0.60% |7|6.04|\n",
    "|Lithium-C22 | 2 | (2,2) | 97| 2 |1 | 2^4 | 3.02|0.60% |8|4.03|\n",
    "|**Lithium-D22** | 2 | (2,2) | 193 | 2 |1 | 2^5 | 1.69|0.87% |8|2.25|"
   ]
  },
  {
   "cell_type": "markdown",
   "id": "d069eebb",
   "metadata": {},
   "source": [
    "Notes:\n",
    "* Expected repetitions is calculated from &gamma; and &tau;&middot;&eta; (and n, r, and k)\n",
    "* Lucky forgeries is calculated from &gamma; and _q_ (and n, r, and k)\n",
    "* The extra reps from the single D-box is calculated from &tau; and $\\lceil \\log_2(q) \\rceil$ (and n)  \n",
    "* (No extra reps if $\\tau =1$)"
   ]
  },
  {
   "cell_type": "code",
   "execution_count": null,
   "id": "464a5b45",
   "metadata": {},
   "outputs": [],
   "source": []
  }
 ],
 "metadata": {
  "kernelspec": {
   "display_name": "SageMath 9.5",
   "language": "sage",
   "name": "sagemath"
  },
  "language_info": {
   "codemirror_mode": {
    "name": "ipython",
    "version": 3
   },
   "file_extension": ".py",
   "mimetype": "text/x-python",
   "name": "python",
   "nbconvert_exporter": "python",
   "pygments_lexer": "ipython3",
   "version": "3.10.12"
  }
 },
 "nbformat": 4,
 "nbformat_minor": 5
}
