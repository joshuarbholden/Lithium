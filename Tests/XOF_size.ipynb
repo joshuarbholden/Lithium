{
 "cells": [
  {
   "cell_type": "code",
   "execution_count": 5,
   "id": "591d31f4",
   "metadata": {},
   "outputs": [],
   "source": [
    "n=4\n",
    "k=2\n",
    "q=41 #Lithium AAA?  #same as Alkaline D\n",
    "#q should be divisible by 8 for NTT\n",
    "η=1 #secret key range, prefered 2 in Alkaline\n",
    "γ=2^4 #y coeff range, power of 2, exponent about 2/3 of q?  Earlier version was *not* power of 2\n",
    "R.<x> = ZZ[]"
   ]
  },
  {
   "cell_type": "code",
   "execution_count": null,
   "id": "7b8088ea",
   "metadata": {},
   "outputs": [],
   "source": []
  },
  {
   "cell_type": "code",
   "execution_count": 6,
   "id": "a8464c39",
   "metadata": {},
   "outputs": [
    {
     "data": {
      "text/plain": [
       "2"
      ]
     },
     "execution_count": 6,
     "metadata": {},
     "output_type": "execute_result"
    }
   ],
   "source": [
    "clenbits = log(n,2)\n",
    "clenbits"
   ]
  },
  {
   "cell_type": "code",
   "execution_count": 7,
   "id": "58c262bd",
   "metadata": {},
   "outputs": [],
   "source": [
    "def sample_in_ball_old(digest):  # digest should be at least ****\n",
    "    c = [0] * n\n",
    "    k = n\n",
    "    for i in range(n-τ, n):\n",
    "        while int(digest[clenbits*k:clenbits*(k+1)], 2) > i:\n",
    "            k = k+1\n",
    "        j = int(digest[clenbits*k:clenbits*(k+1)], 2)\n",
    "        c[i] = c[j]\n",
    "        c[j] = (-1)^int(digest[i+τ-n], 2)\n",
    "        k = k+1\n",
    "    return c"
   ]
  },
  {
   "cell_type": "code",
   "execution_count": 86,
   "id": "45bad193",
   "metadata": {},
   "outputs": [],
   "source": [
    "def sample_in_ball(digest):  # digest should be at least ****\n",
    "    c = [0] * n\n",
    "    k = τ\n",
    "    for i in range(n-τ, n):\n",
    "        while int(digest[k:k+clenbits], 2) > i:\n",
    "            k = k+clenbits\n",
    "        j = int(digest[k:k+clenbits], 2)\n",
    "        c[i] = c[j]\n",
    "        c[j] = (-1)^int(digest[i+τ-n], 2)\n",
    "        k = k+clenbits\n",
    "    return c"
   ]
  },
  {
   "cell_type": "code",
   "execution_count": 74,
   "id": "6970e6e4",
   "metadata": {},
   "outputs": [],
   "source": [
    "def sample_in_ball_test(digest):  # digest should be at least ****\n",
    "    c = [0] * n\n",
    "    k = τ\n",
    "    for i in range(n-τ, n):\n",
    "        while int(digest[k:k+clenbits], 2) > i:\n",
    "            print(\"skipping bits \" + str(k) + \" through \" + str(k+clenbits-1) + \", value = \" + str(int(digest[k:k+clenbits], 2))\n",
    "                 + \" > \" + str(i))\n",
    "            k = k+clenbits\n",
    "        j = int(digest[k:k+clenbits], 2)\n",
    "        print(\"indexing using bits \" + str(k) + \" through \" + str(k+clenbits-1))\n",
    "        c[i] = c[j]\n",
    "        c[j] = (-1)^int(digest[i+τ-n], 2)\n",
    "        print(\"powering using bit \" + str(i+τ-n))\n",
    "        k = k+clenbits\n",
    "    return c"
   ]
  },
  {
   "cell_type": "code",
   "execution_count": 79,
   "id": "af27918b",
   "metadata": {},
   "outputs": [],
   "source": [
    "m = 8"
   ]
  },
  {
   "cell_type": "code",
   "execution_count": 80,
   "id": "9fb0b611",
   "metadata": {},
   "outputs": [
    {
     "data": {
      "text/plain": [
       "'00001001'"
      ]
     },
     "execution_count": 80,
     "metadata": {},
     "output_type": "execute_result"
    }
   ],
   "source": [
    "format(randrange(2^m),f'0{m}b')"
   ]
  },
  {
   "cell_type": "code",
   "execution_count": 97,
   "id": "2144e575",
   "metadata": {},
   "outputs": [],
   "source": [
    "τ = 2 #number of 1's in c"
   ]
  },
  {
   "cell_type": "code",
   "execution_count": 98,
   "id": "dbef61c6",
   "metadata": {},
   "outputs": [
    {
     "name": "stdout",
     "output_type": "stream",
     "text": [
      "indexing using bits 2 through 3\n",
      "powering using bit 0\n",
      "indexing using bits 4 through 5\n",
      "powering using bit 1\n"
     ]
    },
    {
     "data": {
      "text/plain": [
       "-x^3 - x^2"
      ]
     },
     "execution_count": 98,
     "metadata": {},
     "output_type": "execute_result"
    }
   ],
   "source": [
    "R(sample_in_ball_test(format(randrange(2^m),f'0{m}b'))) #m random bits"
   ]
  },
  {
   "cell_type": "code",
   "execution_count": 100,
   "id": "0e9efdc8",
   "metadata": {},
   "outputs": [
    {
     "name": "stdout",
     "output_type": "stream",
     "text": [
      "skipping bits 2 through 3, value = 3 > 2\n",
      "indexing using bits 4 through 5\n",
      "powering using bit 0\n",
      "indexing using bits 6 through 7\n",
      "powering using bit 1\n",
      "indexing using bits 2 through 3\n",
      "powering using bit 0\n",
      "indexing using bits 4 through 5\n",
      "powering using bit 1\n",
      "indexing using bits 2 through 3\n",
      "powering using bit 0\n",
      "indexing using bits 4 through 5\n",
      "powering using bit 1\n",
      "skipping bits 2 through 3, value = 3 > 2\n",
      "indexing using bits 4 through 5\n",
      "powering using bit 0\n",
      "indexing using bits 6 through 7\n",
      "powering using bit 1\n",
      "skipping bits 2 through 3, value = 3 > 2\n",
      "indexing using bits 4 through 5\n",
      "powering using bit 0\n",
      "indexing using bits 6 through 7\n",
      "powering using bit 1\n",
      "indexing using bits 2 through 3\n",
      "powering using bit 0\n",
      "indexing using bits 4 through 5\n",
      "powering using bit 1\n",
      "skipping bits 2 through 3, value = 3 > 2\n",
      "indexing using bits 4 through 5\n",
      "powering using bit 0\n",
      "indexing using bits 6 through 7\n",
      "powering using bit 1\n",
      "indexing using bits 2 through 3\n",
      "powering using bit 0\n",
      "indexing using bits 4 through 5\n",
      "powering using bit 1\n",
      "skipping bits 2 through 3, value = 3 > 2\n",
      "indexing using bits 4 through 5\n",
      "powering using bit 0\n",
      "indexing using bits 6 through 7\n",
      "powering using bit 1\n",
      "indexing using bits 2 through 3\n",
      "powering using bit 0\n",
      "indexing using bits 4 through 5\n",
      "powering using bit 1\n"
     ]
    }
   ],
   "source": [
    "for i in range(0, 10):\n",
    "    R(sample_in_ball_test(format(randrange(2^m),f'0{m}b'))) #m random bits"
   ]
  },
  {
   "cell_type": "code",
   "execution_count": 87,
   "id": "41eb5441",
   "metadata": {},
   "outputs": [],
   "source": [
    "τ = 1 #number of 1's in c"
   ]
  },
  {
   "cell_type": "code",
   "execution_count": 93,
   "id": "c63538f2",
   "metadata": {},
   "outputs": [
    {
     "name": "stdout",
     "output_type": "stream",
     "text": [
      "indexing using bits 1 through 2\n",
      "powering using bit 0\n"
     ]
    },
    {
     "data": {
      "text/plain": [
       "x^3"
      ]
     },
     "execution_count": 93,
     "metadata": {},
     "output_type": "execute_result"
    }
   ],
   "source": [
    "R(sample_in_ball_test(format(randrange(2^m),f'0{m}b'))) #m random bits"
   ]
  },
  {
   "cell_type": "code",
   "execution_count": 96,
   "id": "18a94282",
   "metadata": {},
   "outputs": [
    {
     "name": "stdout",
     "output_type": "stream",
     "text": [
      "indexing using bits 1 through 2\n",
      "powering using bit 0\n",
      "indexing using bits 1 through 2\n",
      "powering using bit 0\n",
      "indexing using bits 1 through 2\n",
      "powering using bit 0\n",
      "indexing using bits 1 through 2\n",
      "powering using bit 0\n",
      "indexing using bits 1 through 2\n",
      "powering using bit 0\n",
      "indexing using bits 1 through 2\n",
      "powering using bit 0\n",
      "indexing using bits 1 through 2\n",
      "powering using bit 0\n",
      "indexing using bits 1 through 2\n",
      "powering using bit 0\n",
      "indexing using bits 1 through 2\n",
      "powering using bit 0\n",
      "indexing using bits 1 through 2\n",
      "powering using bit 0\n",
      "indexing using bits 1 through 2\n",
      "powering using bit 0\n",
      "indexing using bits 1 through 2\n",
      "powering using bit 0\n",
      "indexing using bits 1 through 2\n",
      "powering using bit 0\n",
      "indexing using bits 1 through 2\n",
      "powering using bit 0\n",
      "indexing using bits 1 through 2\n",
      "powering using bit 0\n",
      "indexing using bits 1 through 2\n",
      "powering using bit 0\n",
      "indexing using bits 1 through 2\n",
      "powering using bit 0\n",
      "indexing using bits 1 through 2\n",
      "powering using bit 0\n",
      "indexing using bits 1 through 2\n",
      "powering using bit 0\n",
      "indexing using bits 1 through 2\n",
      "powering using bit 0\n",
      "indexing using bits 1 through 2\n",
      "powering using bit 0\n",
      "indexing using bits 1 through 2\n",
      "powering using bit 0\n",
      "indexing using bits 1 through 2\n",
      "powering using bit 0\n",
      "indexing using bits 1 through 2\n",
      "powering using bit 0\n",
      "indexing using bits 1 through 2\n",
      "powering using bit 0\n",
      "indexing using bits 1 through 2\n",
      "powering using bit 0\n",
      "indexing using bits 1 through 2\n",
      "powering using bit 0\n",
      "indexing using bits 1 through 2\n",
      "powering using bit 0\n",
      "indexing using bits 1 through 2\n",
      "powering using bit 0\n",
      "indexing using bits 1 through 2\n",
      "powering using bit 0\n",
      "indexing using bits 1 through 2\n",
      "powering using bit 0\n",
      "indexing using bits 1 through 2\n",
      "powering using bit 0\n",
      "indexing using bits 1 through 2\n",
      "powering using bit 0\n",
      "indexing using bits 1 through 2\n",
      "powering using bit 0\n",
      "indexing using bits 1 through 2\n",
      "powering using bit 0\n",
      "indexing using bits 1 through 2\n",
      "powering using bit 0\n",
      "indexing using bits 1 through 2\n",
      "powering using bit 0\n",
      "indexing using bits 1 through 2\n",
      "powering using bit 0\n",
      "indexing using bits 1 through 2\n",
      "powering using bit 0\n",
      "indexing using bits 1 through 2\n",
      "powering using bit 0\n",
      "indexing using bits 1 through 2\n",
      "powering using bit 0\n",
      "indexing using bits 1 through 2\n",
      "powering using bit 0\n",
      "indexing using bits 1 through 2\n",
      "powering using bit 0\n",
      "indexing using bits 1 through 2\n",
      "powering using bit 0\n",
      "indexing using bits 1 through 2\n",
      "powering using bit 0\n",
      "indexing using bits 1 through 2\n",
      "powering using bit 0\n",
      "indexing using bits 1 through 2\n",
      "powering using bit 0\n",
      "indexing using bits 1 through 2\n",
      "powering using bit 0\n",
      "indexing using bits 1 through 2\n",
      "powering using bit 0\n",
      "indexing using bits 1 through 2\n",
      "powering using bit 0\n"
     ]
    }
   ],
   "source": [
    "for i in range(0, 50):\n",
    "    R(sample_in_ball_test(format(randrange(2^m),f'0{m}b'))) #m random bits"
   ]
  },
  {
   "cell_type": "code",
   "execution_count": null,
   "id": "ae5f66fa",
   "metadata": {},
   "outputs": [],
   "source": []
  }
 ],
 "metadata": {
  "kernelspec": {
   "display_name": "SageMath 9.5",
   "language": "sage",
   "name": "sagemath"
  },
  "language_info": {
   "codemirror_mode": {
    "name": "ipython",
    "version": 3
   },
   "file_extension": ".py",
   "mimetype": "text/x-python",
   "name": "python",
   "nbconvert_exporter": "python",
   "pygments_lexer": "ipython3",
   "version": "3.10.12"
  }
 },
 "nbformat": 4,
 "nbformat_minor": 5
}
