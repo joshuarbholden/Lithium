{
 "cells": [
  {
   "cell_type": "code",
   "execution_count": 2,
   "id": "591d31f4",
   "metadata": {},
   "outputs": [],
   "source": [
    "n=4\n",
    "k=2\n",
    "q=41 #Lithium AAA?  #same as Alkaline D\n",
    "#q should be divisible by 8 for NTT\n",
    "η=1 #secret key range, prefered 2 in Alkaline\n",
    "γ=2^4 #y coeff range, power of 2, exponent about 2/3 of q?  Earlier version was *not* power of 2\n",
    "R.<x> = ZZ[]"
   ]
  },
  {
   "cell_type": "code",
   "execution_count": 97,
   "id": "7b8088ea",
   "metadata": {},
   "outputs": [],
   "source": []
  },
  {
   "cell_type": "code",
   "execution_count": 98,
   "id": "a8464c39",
   "metadata": {},
   "outputs": [
    {
     "data": {
      "text/plain": [
       "2"
      ]
     },
     "execution_count": 98,
     "metadata": {},
     "output_type": "execute_result"
    }
   ],
   "source": [
    "clenbits = log(n,2)\n",
    "clenbits"
   ]
  },
  {
   "cell_type": "code",
   "execution_count": 1,
   "id": "58c262bd",
   "metadata": {},
   "outputs": [],
   "source": [
    "def sample_in_ball_old(digest):  # digest should be at least ****\n",
    "    c = [0] * n\n",
    "    k = n\n",
    "    for i in range(n-τ, n):\n",
    "        while int(digest[clenbits*k:clenbits*(k+1)], 2) > i:\n",
    "            k = k+1\n",
    "        j = int(digest[clenbits*k:clenbits*(k+1)], 2)\n",
    "        c[i] = c[j]\n",
    "        c[j] = (-1)^int(digest[i+τ-n], 2)\n",
    "        k = k+1\n",
    "    return c"
   ]
  },
  {
   "cell_type": "code",
   "execution_count": 2,
   "id": "45bad193",
   "metadata": {},
   "outputs": [],
   "source": [
    "def sample_in_ball(digest):  # digest should be at least ****\n",
    "    c = [0] * n\n",
    "    k = n\n",
    "    for i in range(n-τ, n):\n",
    "        while int(digest[k:k+clenbits], 2) > i:\n",
    "            k = k+clenbits\n",
    "        j = int(digest[k:k+clenbits], 2)\n",
    "        c[i] = c[j]\n",
    "        c[j] = (-1)^int(digest[i+τ-n], 2)\n",
    "        k = k+clenbits\n",
    "    return c"
   ]
  },
  {
   "cell_type": "code",
   "execution_count": 100,
   "id": "6970e6e4",
   "metadata": {},
   "outputs": [],
   "source": [
    "def sample_in_ball_test(digest):  # digest should be at least ****\n",
    "    c = [0] * n\n",
    "    k = n\n",
    "    for i in range(n-τ, n):\n",
    "        while int(digest[k:k+clenbits], 2) > i:\n",
    "            k = k+clenbits\n",
    "            print(\"skipping\")\n",
    "        j = int(digest[k:k+clenbits], 2)\n",
    "        print(\"indexing using bits \" + str(k) + \" through \" + str(k+clenbits-1))\n",
    "        c[i] = c[j]\n",
    "        c[j] = (-1)^int(digest[i+τ-n], 2)\n",
    "        print(\"powering using bit \" + str(i+τ-n))\n",
    "        k = k+clenbits\n",
    "    return c"
   ]
  },
  {
   "cell_type": "code",
   "execution_count": 147,
   "id": "af27918b",
   "metadata": {},
   "outputs": [],
   "source": [
    "m = 20"
   ]
  },
  {
   "cell_type": "code",
   "execution_count": 194,
   "id": "2144e575",
   "metadata": {},
   "outputs": [],
   "source": [
    "τ = 2 #number of 1's in c"
   ]
  },
  {
   "cell_type": "code",
   "execution_count": 234,
   "id": "dbef61c6",
   "metadata": {},
   "outputs": [
    {
     "name": "stdout",
     "output_type": "stream",
     "text": [
      "indexing using bits 4 through 5\n",
      "powering using bit 0\n",
      "indexing using bits 6 through 7\n",
      "powering using bit 1\n"
     ]
    },
    {
     "data": {
      "text/plain": [
       "x^2 + x"
      ]
     },
     "execution_count": 234,
     "metadata": {},
     "output_type": "execute_result"
    }
   ],
   "source": [
    "R(sample_in_ball_test(format(randrange(2^m),f'0{m}b'))) #m random bits"
   ]
  },
  {
   "cell_type": "code",
   "execution_count": null,
   "id": "41eb5441",
   "metadata": {},
   "outputs": [],
   "source": []
  },
  {
   "cell_type": "code",
   "execution_count": null,
   "id": "c63538f2",
   "metadata": {},
   "outputs": [],
   "source": []
  }
 ],
 "metadata": {
  "kernelspec": {
   "display_name": "SageMath 9.5",
   "language": "sage",
   "name": "sagemath"
  },
  "language_info": {
   "codemirror_mode": {
    "name": "ipython",
    "version": 3
   },
   "file_extension": ".py",
   "mimetype": "text/x-python",
   "name": "python",
   "nbconvert_exporter": "python",
   "pygments_lexer": "ipython3",
   "version": "3.10.12"
  }
 },
 "nbformat": 4,
 "nbformat_minor": 5
}
