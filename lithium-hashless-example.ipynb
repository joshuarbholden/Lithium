{
 "cells": [
  {
   "cell_type": "markdown",
   "id": "db57f13c",
   "metadata": {},
   "source": [
    "Global setup"
   ]
  },
  {
   "cell_type": "code",
   "execution_count": 1,
   "id": "2e076138",
   "metadata": {},
   "outputs": [],
   "source": [
    "n=4\n",
    "k=2\n",
    "q=41 #Alkaline D\n",
    "#q should be divisible by 8 for NTT\n",
    "eta=1 #secret key range, prefered 2 in Alkaline\n",
    "gamma1=2^4 #y coeff range, power of 2, exponent about 2/3 of q?  Earlier version was *not* power of 2\n",
    "R.<x> = ZZ[]"
   ]
  },
  {
   "cell_type": "code",
   "execution_count": 2,
   "id": "0f762920",
   "metadata": {},
   "outputs": [
    {
     "data": {
      "text/plain": [
       "41"
      ]
     },
     "execution_count": 2,
     "metadata": {},
     "output_type": "execute_result"
    }
   ],
   "source": [
    "q"
   ]
  },
  {
   "cell_type": "code",
   "execution_count": 3,
   "id": "e3b67b5a",
   "metadata": {},
   "outputs": [
    {
     "data": {
      "text/plain": [
       "True"
      ]
     },
     "execution_count": 3,
     "metadata": {},
     "output_type": "execute_result"
    }
   ],
   "source": [
    "is_prime(q)"
   ]
  },
  {
   "cell_type": "code",
   "execution_count": 4,
   "id": "e88de816",
   "metadata": {},
   "outputs": [
    {
     "name": "stdout",
     "output_type": "stream",
     "text": [
      "0.000000000000000\n",
      "2.38629436111989\n",
      "3.79175946922805\n",
      "4.38629436111989\n",
      "4.00000000000000\n"
     ]
    }
   ],
   "source": [
    "for tau in range(5):\n",
    "    print(ln(binomial(4, tau)).n()+tau) #challenge entropy, should be between n/2 and n"
   ]
  },
  {
   "cell_type": "code",
   "execution_count": 5,
   "id": "c8e2e553",
   "metadata": {},
   "outputs": [
    {
     "data": {
      "text/plain": [
       "2.38629436111989"
      ]
     },
     "execution_count": 5,
     "metadata": {},
     "output_type": "execute_result"
    }
   ],
   "source": [
    "tau = 1 #number of 1's in c\n",
    "ln(binomial(4, tau)).n()+tau"
   ]
  },
  {
   "cell_type": "code",
   "execution_count": 6,
   "id": "38f046c5",
   "metadata": {},
   "outputs": [
    {
     "data": {
      "text/plain": [
       "1"
      ]
     },
     "execution_count": 6,
     "metadata": {},
     "output_type": "execute_result"
    }
   ],
   "source": [
    "beta = tau*eta\n",
    "beta"
   ]
  },
  {
   "cell_type": "markdown",
   "id": "98292a16",
   "metadata": {},
   "source": [
    "Chance of $\\mathbf{y}_i$-coefficient passing:"
   ]
  },
  {
   "cell_type": "code",
   "execution_count": 7,
   "id": "06c10646",
   "metadata": {},
   "outputs": [
    {
     "data": {
      "text/plain": [
       "0.586530272919658"
      ]
     },
     "execution_count": 7,
     "metadata": {},
     "output_type": "execute_result"
    }
   ],
   "source": [
    "((2*(gamma1-beta)-1)/(2*gamma1-1))^(n*k).n()"
   ]
  },
  {
   "cell_type": "markdown",
   "id": "05a885e7",
   "metadata": {},
   "source": [
    "Expected number of repetitions:"
   ]
  },
  {
   "cell_type": "code",
   "execution_count": 8,
   "id": "db542c5d",
   "metadata": {},
   "outputs": [
    {
     "data": {
      "text/plain": [
       "2.90682666192675"
      ]
     },
     "execution_count": 8,
     "metadata": {},
     "output_type": "execute_result"
    }
   ],
   "source": [
    "1/(((2*(gamma1-beta)-1)/(2*gamma1-1))^(n*k))^2.n()"
   ]
  },
  {
   "cell_type": "markdown",
   "id": "6ffa6b44",
   "metadata": {},
   "source": [
    "Alice generates a signing key"
   ]
  },
  {
   "cell_type": "code",
   "execution_count": 9,
   "id": "27221c2f",
   "metadata": {},
   "outputs": [
    {
     "data": {
      "text/plain": [
       "[28*x^3 + 32*x^2 + 12*x + 5     9*x^3 + x^2 + 9*x + 30]\n",
       "[ 3*x^3 + 10*x^2 + 2*x + 26    18*x^3 + 4*x^2 + x + 30]"
      ]
     },
     "execution_count": 9,
     "metadata": {},
     "output_type": "execute_result"
    }
   ],
   "source": [
    "A = matrix([[randrange(0,q)*x^3+randrange(0,q)*x^2+randrange(0,q)*x+randrange(0,q), randrange(0,q)*x^3+randrange(0,q)*x^2+randrange(0,q)*x+randrange(0,q)], \n",
    "            [randrange(0,q)*x^3+randrange(0,q)*x^2+randrange(0,q)*x+randrange(0,q), randrange(0,q)*x^3+randrange(0,q)*x^2+randrange(0,q)*x+randrange(0,q)]])\n",
    "A"
   ]
  },
  {
   "cell_type": "code",
   "execution_count": 10,
   "id": "207125a7",
   "metadata": {},
   "outputs": [
    {
     "data": {
      "text/plain": [
       "[  -x^2 - x - 1]\n",
       "[-x^3 - x^2 - 1]"
      ]
     },
     "execution_count": 10,
     "metadata": {},
     "output_type": "execute_result"
    }
   ],
   "source": [
    "s1 = matrix([[randrange(-eta,eta)*x^3+randrange(-eta,eta)*x^2+randrange(-eta,eta)*x+randrange(-eta,eta)], \n",
    "            [randrange(-eta,eta)*x^3+randrange(-eta,eta)*x^2+randrange(-eta,eta)*x+randrange(-eta,eta)]])\n",
    "s1"
   ]
  },
  {
   "cell_type": "code",
   "execution_count": 11,
   "id": "e098b290",
   "metadata": {},
   "outputs": [
    {
     "data": {
      "text/plain": [
       "[-x^3 - x^2 - x - 1]\n",
       "[                -x]"
      ]
     },
     "execution_count": 11,
     "metadata": {},
     "output_type": "execute_result"
    }
   ],
   "source": [
    "s2 = matrix([[randrange(-eta,eta)*x^3+randrange(-eta,eta)*x^2+randrange(-eta,eta)*x+randrange(-eta,eta)], \n",
    "            [randrange(-eta,eta)*x^3+randrange(-eta,eta)*x^2+randrange(-eta,eta)*x+randrange(-eta,eta)]])\n",
    "s2"
   ]
  },
  {
   "cell_type": "markdown",
   "id": "6655b0a6",
   "metadata": {},
   "source": [
    "$s_1$ and $s_2$ are private"
   ]
  },
  {
   "cell_type": "code",
   "execution_count": 12,
   "id": "c591375d",
   "metadata": {},
   "outputs": [
    {
     "data": {
      "text/plain": [
       "[2*x^3 + 10*x^2 + 11*x + 34]\n",
       "[18*x^3 + 28*x^2 - 5*x - 38]"
      ]
     },
     "execution_count": 12,
     "metadata": {},
     "output_type": "execute_result"
    }
   ],
   "source": [
    "t = matrix(((A*s1 + s2) % (x^n+1) % q))\n",
    "t"
   ]
  },
  {
   "cell_type": "markdown",
   "id": "d1601786",
   "metadata": {},
   "source": [
    "$A$ and $t$ are public"
   ]
  },
  {
   "cell_type": "markdown",
   "id": "61505ee0",
   "metadata": {},
   "source": [
    "Alice encodes her message"
   ]
  },
  {
   "cell_type": "code",
   "execution_count": 60,
   "id": "4a655770",
   "metadata": {},
   "outputs": [
    {
     "data": {
      "text/plain": [
       "[8, 9, 31, 2, 15, 2]"
      ]
     },
     "execution_count": 60,
     "metadata": {},
     "output_type": "execute_result"
    }
   ],
   "source": [
    "M = 'HI_BOB'\n",
    "Mlist = [ord(ch) - ord(\"A\") + 1 for ch in M]\n",
    "Mlist"
   ]
  },
  {
   "cell_type": "code",
   "execution_count": 14,
   "id": "529a5fb7",
   "metadata": {},
   "outputs": [
    {
     "data": {
      "text/plain": [
       "[  -12*x^3 - 6*x^2 + 8*x - 7]\n",
       "[-6*x^3 + 10*x^2 - 15*x - 11]"
      ]
     },
     "execution_count": 14,
     "metadata": {},
     "output_type": "execute_result"
    }
   ],
   "source": [
    "y1 = matrix([[randrange(-(gamma1-1), gamma1-1)*x^3+randrange(-(gamma1-1), gamma1-1)*x^2+randrange(-(gamma1-1), gamma1-1)*x+randrange(-(gamma1-1), gamma1-1)], \n",
    "            [randrange(-(gamma1-1), gamma1-1)*x^3+randrange(-(gamma1-1), gamma1-1)*x^2+randrange(-(gamma1-1), gamma1-1)*x+randrange(-(gamma1-1), gamma1-1)]])\n",
    "y1"
   ]
  },
  {
   "cell_type": "code",
   "execution_count": 15,
   "id": "ea6ebcd3",
   "metadata": {},
   "outputs": [
    {
     "data": {
      "text/plain": [
       "[12*x^3 + 11*x^2 + 3*x + 6]\n",
       "[ 10*x^3 - 7*x^2 - 5*x - 6]"
      ]
     },
     "execution_count": 15,
     "metadata": {},
     "output_type": "execute_result"
    }
   ],
   "source": [
    "y2 = matrix([[randrange(-(gamma1-1), gamma1-1)*x^3+randrange(-(gamma1-1), gamma1-1)*x^2+randrange(-(gamma1-1), gamma1-1)*x+randrange(-(gamma1-1), gamma1-1)], \n",
    "            [randrange(-(gamma1-1), gamma1-1)*x^3+randrange(-(gamma1-1), gamma1-1)*x^2+randrange(-(gamma1-1), gamma1-1)*x+randrange(-(gamma1-1), gamma1-1)]])\n",
    "y2"
   ]
  },
  {
   "cell_type": "code",
   "execution_count": 16,
   "id": "88bc964a",
   "metadata": {},
   "outputs": [
    {
     "data": {
      "text/plain": [
       "[-18*x^3 - 13*x^2 + x + 14]\n",
       "[14*x^3 + 4*x^2 - 3*x - 17]"
      ]
     },
     "execution_count": 16,
     "metadata": {},
     "output_type": "execute_result"
    }
   ],
   "source": [
    "w1 = matrix(((A*y1+y2) % (x^n+1) % q)).apply_map(lambda f: f.map_coefficients(lambda r: Mod(r,q).lift_centered() ))\n",
    "w1"
   ]
  },
  {
   "cell_type": "code",
   "execution_count": 61,
   "id": "99729a3d",
   "metadata": {},
   "outputs": [
    {
     "data": {
      "text/plain": [
       "[14, 1, -13, -18, -17, -3, 4, 14]"
      ]
     },
     "execution_count": 61,
     "metadata": {},
     "output_type": "execute_result"
    }
   ],
   "source": [
    "w1list = [c for row in w1 for p in row for c in list(p)]  #flatten the matrix down to coefficients\n",
    "w1list"
   ]
  },
  {
   "cell_type": "code",
   "execution_count": 20,
   "id": "f9f37391",
   "metadata": {},
   "outputs": [
    {
     "data": {
      "text/plain": [
       "b'HIBOB[-18*x^3 - 13*x^2 + x + 14]\\n[14*x^3 + 4*x^2 - 3*x - 17]'"
      ]
     },
     "execution_count": 20,
     "metadata": {},
     "output_type": "execute_result"
    }
   ],
   "source": [
    "from sage.cpython.string import str_to_bytes\n",
    "\n",
    "str_to_bytes(M+str(w1))"
   ]
  },
  {
   "cell_type": "code",
   "execution_count": 21,
   "id": "8eaacc28",
   "metadata": {},
   "outputs": [],
   "source": [
    "import hashlib\n",
    "\n",
    "c_hash = hashlib.shake_256(str_to_bytes(M+str(w1)))"
   ]
  },
  {
   "cell_type": "code",
   "execution_count": 22,
   "id": "4b9b1b11",
   "metadata": {},
   "outputs": [],
   "source": [
    "def sample_in_ball(digest):  # digest should be twice the length of c\n",
    "    c = [0] * 4\n",
    "    for i in range(4-tau, 4):\n",
    "        j = digest[i] % (i+1)\n",
    "        s = digest[i+4] % 2\n",
    "        c[i] = c[j]\n",
    "        c[j] = (-1)^s\n",
    "    return c\n",
    "    "
   ]
  },
  {
   "cell_type": "code",
   "execution_count": 23,
   "id": "b761bf1c",
   "metadata": {},
   "outputs": [
    {
     "data": {
      "text/plain": [
       "-x^3"
      ]
     },
     "execution_count": 23,
     "metadata": {},
     "output_type": "execute_result"
    }
   ],
   "source": [
    "c = R(sample_in_ball(c_hash.digest(8)))\n",
    "c"
   ]
  },
  {
   "cell_type": "code",
   "execution_count": 24,
   "id": "5c1684c6",
   "metadata": {},
   "outputs": [
    {
     "data": {
      "text/plain": [
       "[ -11*x^3 - 6*x^2 + 7*x - 8]\n",
       "[-5*x^3 + 9*x^2 - 16*x - 11]"
      ]
     },
     "execution_count": 24,
     "metadata": {},
     "output_type": "execute_result"
    }
   ],
   "source": [
    "z1 = matrix((y1 + c*s1) % (x^n+1))\n",
    "z1"
   ]
  },
  {
   "cell_type": "code",
   "execution_count": 25,
   "id": "5841abb3",
   "metadata": {},
   "outputs": [
    {
     "data": {
      "text/plain": [
       "[13*x^3 + 10*x^2 + 2*x + 5]\n",
       "[ 10*x^3 - 7*x^2 - 5*x - 7]"
      ]
     },
     "execution_count": 25,
     "metadata": {},
     "output_type": "execute_result"
    }
   ],
   "source": [
    "z2 = matrix((y2 + c*s2) % (x^n+1))\n",
    "z2"
   ]
  },
  {
   "cell_type": "markdown",
   "id": "168dd622",
   "metadata": {},
   "source": [
    "Is $\\|\\mathbf{z}_1\\|_\\infty$ or $\\|\\mathbf{z}_2\n",
    "\\|_\\infty \\geq \\gamma_1-\\beta$?"
   ]
  },
  {
   "cell_type": "code",
   "execution_count": 26,
   "id": "729d5573",
   "metadata": {},
   "outputs": [
    {
     "data": {
      "text/plain": [
       "15"
      ]
     },
     "execution_count": 26,
     "metadata": {},
     "output_type": "execute_result"
    }
   ],
   "source": [
    "gamma1-beta"
   ]
  },
  {
   "cell_type": "markdown",
   "id": "dfa667f3",
   "metadata": {},
   "source": [
    "If so, reject and pick new $\\mathbf{y}_i$"
   ]
  },
  {
   "cell_type": "markdown",
   "id": "77636541",
   "metadata": {},
   "source": [
    "If not, $(\\mathbf{z}_1, \\mathbf{z}_2, c)$ is the signature"
   ]
  },
  {
   "cell_type": "code",
   "execution_count": 27,
   "id": "12c1fd5f",
   "metadata": {},
   "outputs": [
    {
     "data": {
      "text/plain": [
       "(\n",
       "[ -11*x^3 - 6*x^2 + 7*x - 8]  [13*x^3 + 10*x^2 + 2*x + 5]      \n",
       "[-5*x^3 + 9*x^2 - 16*x - 11], [ 10*x^3 - 7*x^2 - 5*x - 7], -x^3\n",
       ")"
      ]
     },
     "execution_count": 27,
     "metadata": {},
     "output_type": "execute_result"
    }
   ],
   "source": [
    "(z1, z2, c)"
   ]
  },
  {
   "cell_type": "markdown",
   "id": "25783846",
   "metadata": {},
   "source": [
    "Bob verifies the signature"
   ]
  },
  {
   "cell_type": "code",
   "execution_count": 28,
   "id": "cb3231a9",
   "metadata": {},
   "outputs": [
    {
     "data": {
      "text/plain": [
       "[-18*x^3 - 13*x^2 + x + 14]\n",
       "[14*x^3 + 4*x^2 - 3*x - 17]"
      ]
     },
     "execution_count": 28,
     "metadata": {},
     "output_type": "execute_result"
    }
   ],
   "source": [
    "w1prime = matrix((A*z1+z2-c*t) % (x^n+1) % q).apply_map(lambda f: f.map_coefficients(lambda r: Mod(r,q).lift_centered() ))\n",
    "w1prime"
   ]
  },
  {
   "cell_type": "markdown",
   "id": "10c82489",
   "metadata": {},
   "source": [
    "Is $\\|\\mathbf{z}_i\\|_\\infty < \\gamma_1-\\beta$?"
   ]
  },
  {
   "cell_type": "code",
   "execution_count": 29,
   "id": "b0f11618",
   "metadata": {},
   "outputs": [
    {
     "data": {
      "text/plain": [
       "[ -11*x^3 - 6*x^2 + 7*x - 8]\n",
       "[-5*x^3 + 9*x^2 - 16*x - 11]"
      ]
     },
     "execution_count": 29,
     "metadata": {},
     "output_type": "execute_result"
    }
   ],
   "source": [
    "z1"
   ]
  },
  {
   "cell_type": "code",
   "execution_count": 30,
   "id": "0e8b9a51",
   "metadata": {},
   "outputs": [
    {
     "data": {
      "text/plain": [
       "[13*x^3 + 10*x^2 + 2*x + 5]\n",
       "[ 10*x^3 - 7*x^2 - 5*x - 7]"
      ]
     },
     "execution_count": 30,
     "metadata": {},
     "output_type": "execute_result"
    }
   ],
   "source": [
    "z2"
   ]
  },
  {
   "cell_type": "code",
   "execution_count": 31,
   "id": "21922612",
   "metadata": {},
   "outputs": [
    {
     "data": {
      "text/plain": [
       "15"
      ]
     },
     "execution_count": 31,
     "metadata": {},
     "output_type": "execute_result"
    }
   ],
   "source": [
    "gamma1-beta"
   ]
  },
  {
   "cell_type": "markdown",
   "id": "766fc343",
   "metadata": {},
   "source": [
    "Yes"
   ]
  },
  {
   "cell_type": "markdown",
   "id": "4b442235",
   "metadata": {},
   "source": [
    "Is $c = H(M \\| w_1')$?"
   ]
  },
  {
   "cell_type": "code",
   "execution_count": 32,
   "id": "6b58baaf",
   "metadata": {},
   "outputs": [],
   "source": [
    "cprime_hash = hashlib.shake_256(str_to_bytes(M+str(w1prime)))"
   ]
  },
  {
   "cell_type": "code",
   "execution_count": 33,
   "id": "16a473b9",
   "metadata": {},
   "outputs": [
    {
     "data": {
      "text/plain": [
       "-x^3"
      ]
     },
     "execution_count": 33,
     "metadata": {},
     "output_type": "execute_result"
    }
   ],
   "source": [
    "cprime = R(sample_in_ball(cprime_hash.digest(8)))\n",
    "cprime"
   ]
  },
  {
   "cell_type": "code",
   "execution_count": 34,
   "id": "246e1197",
   "metadata": {},
   "outputs": [
    {
     "data": {
      "text/plain": [
       "True"
      ]
     },
     "execution_count": 34,
     "metadata": {},
     "output_type": "execute_result"
    }
   ],
   "source": [
    "c == cprime"
   ]
  },
  {
   "cell_type": "markdown",
   "id": "3bc5f290",
   "metadata": {},
   "source": [
    "Yes.  The signature is accepted."
   ]
  },
  {
   "cell_type": "code",
   "execution_count": null,
   "id": "f1c82195",
   "metadata": {},
   "outputs": [],
   "source": []
  },
  {
   "cell_type": "code",
   "execution_count": null,
   "id": "46abf71e",
   "metadata": {},
   "outputs": [],
   "source": []
  },
  {
   "cell_type": "code",
   "execution_count": null,
   "id": "d6b0abdd",
   "metadata": {},
   "outputs": [],
   "source": []
  }
 ],
 "metadata": {
  "kernelspec": {
   "display_name": "SageMath 9.5",
   "language": "sage",
   "name": "sagemath"
  },
  "language_info": {
   "codemirror_mode": {
    "name": "ipython",
    "version": 3
   },
   "file_extension": ".py",
   "mimetype": "text/x-python",
   "name": "python",
   "nbconvert_exporter": "python",
   "pygments_lexer": "ipython3",
   "version": "3.10.12"
  }
 },
 "nbformat": 4,
 "nbformat_minor": 5
}
