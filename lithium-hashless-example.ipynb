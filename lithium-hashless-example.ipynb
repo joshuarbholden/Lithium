{
 "cells": [
  {
   "cell_type": "markdown",
   "id": "db57f13c",
   "metadata": {},
   "source": [
    "Global setup"
   ]
  },
  {
   "cell_type": "code",
   "execution_count": 1,
   "id": "2e076138",
   "metadata": {},
   "outputs": [],
   "source": [
    "n=4\n",
    "k=2\n",
    "q=41 #Alkaline D\n",
    "#q should be divisible by 8 for NTT\n",
    "eta=1 #secret key range, prefered 2 in Alkaline\n",
    "gamma1=2^4 #y coeff range, power of 2, exponent about 2/3 of q?  Earlier version was *not* power of 2\n",
    "R.<x> = ZZ[]"
   ]
  },
  {
   "cell_type": "code",
   "execution_count": 2,
   "id": "0f762920",
   "metadata": {},
   "outputs": [
    {
     "data": {
      "text/plain": [
       "41"
      ]
     },
     "execution_count": 2,
     "metadata": {},
     "output_type": "execute_result"
    }
   ],
   "source": [
    "q"
   ]
  },
  {
   "cell_type": "code",
   "execution_count": 134,
   "id": "e3b67b5a",
   "metadata": {},
   "outputs": [
    {
     "data": {
      "text/plain": [
       "True"
      ]
     },
     "execution_count": 134,
     "metadata": {},
     "output_type": "execute_result"
    }
   ],
   "source": [
    "is_prime(q)"
   ]
  },
  {
   "cell_type": "code",
   "execution_count": 135,
   "id": "456a9b77",
   "metadata": {},
   "outputs": [
    {
     "data": {
      "text/plain": [
       "6"
      ]
     },
     "execution_count": 135,
     "metadata": {},
     "output_type": "execute_result"
    }
   ],
   "source": [
    "qlen = ceil(log(q,2))\n",
    "qlen"
   ]
  },
  {
   "cell_type": "code",
   "execution_count": 136,
   "id": "e88de816",
   "metadata": {},
   "outputs": [
    {
     "name": "stdout",
     "output_type": "stream",
     "text": [
      "0.000000000000000\n",
      "2.38629436111989\n",
      "3.79175946922805\n",
      "4.38629436111989\n",
      "4.00000000000000\n"
     ]
    }
   ],
   "source": [
    "for tau in range(5):\n",
    "    print(ln(binomial(4, tau)).n()+tau) #challenge entropy, should be between n/2 and n"
   ]
  },
  {
   "cell_type": "code",
   "execution_count": 137,
   "id": "c8e2e553",
   "metadata": {},
   "outputs": [
    {
     "data": {
      "text/plain": [
       "2.38629436111989"
      ]
     },
     "execution_count": 137,
     "metadata": {},
     "output_type": "execute_result"
    }
   ],
   "source": [
    "tau = 1 #number of 1's in c\n",
    "ln(binomial(4, tau)).n()+tau"
   ]
  },
  {
   "cell_type": "code",
   "execution_count": 138,
   "id": "38f046c5",
   "metadata": {},
   "outputs": [
    {
     "data": {
      "text/plain": [
       "1"
      ]
     },
     "execution_count": 138,
     "metadata": {},
     "output_type": "execute_result"
    }
   ],
   "source": [
    "beta = tau*eta\n",
    "beta"
   ]
  },
  {
   "cell_type": "markdown",
   "id": "98292a16",
   "metadata": {},
   "source": [
    "Chance of $\\mathbf{y}_i$-coefficient passing:"
   ]
  },
  {
   "cell_type": "code",
   "execution_count": 139,
   "id": "06c10646",
   "metadata": {},
   "outputs": [
    {
     "data": {
      "text/plain": [
       "0.586530272919658"
      ]
     },
     "execution_count": 139,
     "metadata": {},
     "output_type": "execute_result"
    }
   ],
   "source": [
    "((2*(gamma1-beta)-1)/(2*gamma1-1))^(n*k).n()"
   ]
  },
  {
   "cell_type": "markdown",
   "id": "05a885e7",
   "metadata": {},
   "source": [
    "Expected number of repetitions:"
   ]
  },
  {
   "cell_type": "code",
   "execution_count": 140,
   "id": "db542c5d",
   "metadata": {},
   "outputs": [
    {
     "data": {
      "text/plain": [
       "2.90682666192675"
      ]
     },
     "execution_count": 140,
     "metadata": {},
     "output_type": "execute_result"
    }
   ],
   "source": [
    "1/(((2*(gamma1-beta)-1)/(2*gamma1-1))^(n*k))^2.n()"
   ]
  },
  {
   "cell_type": "markdown",
   "id": "6ffa6b44",
   "metadata": {},
   "source": [
    "Alice generates a signing key"
   ]
  },
  {
   "cell_type": "code",
   "execution_count": 141,
   "id": "27221c2f",
   "metadata": {},
   "outputs": [
    {
     "data": {
      "text/plain": [
       "[  3*x^3 + 31*x^2 + 5*x + 24  18*x^3 + 7*x^2 + 10*x + 11]\n",
       "[ 3*x^3 + 24*x^2 + 36*x + 19 37*x^3 + 30*x^2 + 15*x + 19]"
      ]
     },
     "execution_count": 141,
     "metadata": {},
     "output_type": "execute_result"
    }
   ],
   "source": [
    "A = matrix([[randrange(0,q)*x^3+randrange(0,q)*x^2+randrange(0,q)*x+randrange(0,q), randrange(0,q)*x^3+randrange(0,q)*x^2+randrange(0,q)*x+randrange(0,q)], \n",
    "            [randrange(0,q)*x^3+randrange(0,q)*x^2+randrange(0,q)*x+randrange(0,q), randrange(0,q)*x^3+randrange(0,q)*x^2+randrange(0,q)*x+randrange(0,q)]])\n",
    "A"
   ]
  },
  {
   "cell_type": "code",
   "execution_count": 142,
   "id": "207125a7",
   "metadata": {},
   "outputs": [
    {
     "data": {
      "text/plain": [
       "[      -x]\n",
       "[-x^3 - 1]"
      ]
     },
     "execution_count": 142,
     "metadata": {},
     "output_type": "execute_result"
    }
   ],
   "source": [
    "s1 = matrix([[randrange(-eta,eta)*x^3+randrange(-eta,eta)*x^2+randrange(-eta,eta)*x+randrange(-eta,eta)], \n",
    "            [randrange(-eta,eta)*x^3+randrange(-eta,eta)*x^2+randrange(-eta,eta)*x+randrange(-eta,eta)]])\n",
    "s1"
   ]
  },
  {
   "cell_type": "code",
   "execution_count": 143,
   "id": "e098b290",
   "metadata": {},
   "outputs": [
    {
     "data": {
      "text/plain": [
       "[       0]\n",
       "[-x^3 - x]"
      ]
     },
     "execution_count": 143,
     "metadata": {},
     "output_type": "execute_result"
    }
   ],
   "source": [
    "s2 = matrix([[randrange(-eta,eta)*x^3+randrange(-eta,eta)*x^2+randrange(-eta,eta)*x+randrange(-eta,eta)], \n",
    "            [randrange(-eta,eta)*x^3+randrange(-eta,eta)*x^2+randrange(-eta,eta)*x+randrange(-eta,eta)]])\n",
    "s2"
   ]
  },
  {
   "cell_type": "markdown",
   "id": "6655b0a6",
   "metadata": {},
   "source": [
    "$s_1$ and $s_2$ are private"
   ]
  },
  {
   "cell_type": "code",
   "execution_count": 144,
   "id": "c591375d",
   "metadata": {},
   "outputs": [
    {
     "data": {
      "text/plain": [
       "[22*x^3 + 6*x^2 - 27*x + 2]\n",
       "[   x^3 - 29*x^2 - 5*x - 1]"
      ]
     },
     "execution_count": 144,
     "metadata": {},
     "output_type": "execute_result"
    }
   ],
   "source": [
    "t = matrix(((A*s1 + s2) % (x^n+1) % q))\n",
    "t"
   ]
  },
  {
   "cell_type": "markdown",
   "id": "d1601786",
   "metadata": {},
   "source": [
    "$A$ and $t$ are public"
   ]
  },
  {
   "cell_type": "markdown",
   "id": "61505ee0",
   "metadata": {},
   "source": [
    "Alice encodes her message"
   ]
  },
  {
   "cell_type": "code",
   "execution_count": 145,
   "id": "4a655770",
   "metadata": {},
   "outputs": [
    {
     "data": {
      "text/plain": [
       "[8, 9, -10, 2, 15, 2, -10, -10]"
      ]
     },
     "execution_count": 145,
     "metadata": {},
     "output_type": "execute_result"
    }
   ],
   "source": [
    "M = 'HI_BOB__'\n",
    "Mlist = [Mod(ord(ch) - ord(\"A\") + 1,q).lift_centered() for ch in M]\n",
    "Mlist"
   ]
  },
  {
   "cell_type": "markdown",
   "id": "13915170",
   "metadata": {},
   "source": [
    "Pick nonces and generate $w_1$"
   ]
  },
  {
   "cell_type": "code",
   "execution_count": 146,
   "id": "529a5fb7",
   "metadata": {},
   "outputs": [
    {
     "data": {
      "text/plain": [
       "[10*x^3 - 7*x^2 - 3*x + 11]\n",
       "[13*x^3 + 2*x^2 - 14*x + 5]"
      ]
     },
     "execution_count": 146,
     "metadata": {},
     "output_type": "execute_result"
    }
   ],
   "source": [
    "y1 = matrix([[randrange(-(gamma1-1), gamma1-1)*x^3+randrange(-(gamma1-1), gamma1-1)*x^2+randrange(-(gamma1-1), gamma1-1)*x+randrange(-(gamma1-1), gamma1-1)], \n",
    "            [randrange(-(gamma1-1), gamma1-1)*x^3+randrange(-(gamma1-1), gamma1-1)*x^2+randrange(-(gamma1-1), gamma1-1)*x+randrange(-(gamma1-1), gamma1-1)]])\n",
    "y1"
   ]
  },
  {
   "cell_type": "code",
   "execution_count": 147,
   "id": "ea6ebcd3",
   "metadata": {},
   "outputs": [
    {
     "data": {
      "text/plain": [
       "[2*x^3 - 14*x^2 - 11*x - 8]\n",
       "[10*x^3 - 13*x^2 + 5*x + 8]"
      ]
     },
     "execution_count": 147,
     "metadata": {},
     "output_type": "execute_result"
    }
   ],
   "source": [
    "y2 = matrix([[randrange(-(gamma1-1), gamma1-1)*x^3+randrange(-(gamma1-1), gamma1-1)*x^2+randrange(-(gamma1-1), gamma1-1)*x+randrange(-(gamma1-1), gamma1-1)], \n",
    "            [randrange(-(gamma1-1), gamma1-1)*x^3+randrange(-(gamma1-1), gamma1-1)*x^2+randrange(-(gamma1-1), gamma1-1)*x+randrange(-(gamma1-1), gamma1-1)]])\n",
    "y2"
   ]
  },
  {
   "cell_type": "code",
   "execution_count": 148,
   "id": "88bc964a",
   "metadata": {},
   "outputs": [
    {
     "data": {
      "text/plain": [
       "[15*x^3 + 2*x^2 - 15*x - 20]\n",
       "[-8*x^3 + 10*x^2 + 3*x - 18]"
      ]
     },
     "execution_count": 148,
     "metadata": {},
     "output_type": "execute_result"
    }
   ],
   "source": [
    "w1 = matrix(((A*y1+y2) % (x^n+1) % q)).apply_map(lambda f: f.map_coefficients(lambda r: Mod(r,q).lift_centered() ))\n",
    "w1"
   ]
  },
  {
   "cell_type": "markdown",
   "id": "b65616b6",
   "metadata": {},
   "source": [
    "Start the \"non-cryptographic hash/XOF (combined?)\""
   ]
  },
  {
   "cell_type": "code",
   "execution_count": 149,
   "id": "99729a3d",
   "metadata": {},
   "outputs": [
    {
     "data": {
      "text/plain": [
       "[-20, -15, 2, 15, -18, 3, 10, -8]"
      ]
     },
     "execution_count": 149,
     "metadata": {},
     "output_type": "execute_result"
    }
   ],
   "source": [
    "w1list = [c for row in w1 for p in row for c in list(p)]  #flatten the matrix down to coefficients\n",
    "w1list"
   ]
  },
  {
   "cell_type": "code",
   "execution_count": 150,
   "id": "4f8b0768",
   "metadata": {},
   "outputs": [],
   "source": [
    "def XOF(list1, list2, itemlen, numbits):\n",
    "    out = \"\"\n",
    "    list11 = list1\n",
    "    while len(out)<numbits:\n",
    "        newitem = vector(list11).dot_product(vector(list2)) % (2**itemlen) # make sure all bits of input are used\n",
    "        out = out + format(newitem, f'0{itemlen}b')\n",
    "        list11 = [newitem] + list11[:-1]\n",
    "    return out[:numbits]"
   ]
  },
  {
   "cell_type": "code",
   "execution_count": 151,
   "id": "0d647e83",
   "metadata": {
    "scrolled": true
   },
   "outputs": [
    {
     "data": {
      "text/plain": [
       "'00011110010100101010'"
      ]
     },
     "execution_count": 151,
     "metadata": {},
     "output_type": "execute_result"
    }
   ],
   "source": [
    "c_hash = XOF(Mlist, w1list, 6, 20)\n",
    "c_hash"
   ]
  },
  {
   "cell_type": "markdown",
   "id": "ab6dc892",
   "metadata": {},
   "source": [
    "Use XOF to sample a sparse polynomial"
   ]
  },
  {
   "cell_type": "code",
   "execution_count": 152,
   "id": "27069d5f",
   "metadata": {},
   "outputs": [
    {
     "data": {
      "text/plain": [
       "2"
      ]
     },
     "execution_count": 152,
     "metadata": {},
     "output_type": "execute_result"
    }
   ],
   "source": [
    "nlen = log(n,2)\n",
    "nlen"
   ]
  },
  {
   "cell_type": "code",
   "execution_count": 153,
   "id": "4b9b1b11",
   "metadata": {},
   "outputs": [],
   "source": [
    "def sample_in_ball(digest):  # digest should be at least ****\n",
    "    c = [0] * n\n",
    "    k = n\n",
    "    for i in range(n-tau, n):\n",
    "        while int(digest[nlen*k:nlen*(k+1)], 2) > i:\n",
    "            k = k+1\n",
    "        j = int(digest[nlen*k:nlen*(k+1)], 2)\n",
    "        c[i] = c[j]\n",
    "        c[j] = (-1)^int(digest[i+tau-n], 2)\n",
    "        k = k+1\n",
    "    return c"
   ]
  },
  {
   "cell_type": "markdown",
   "id": "f6aa7110",
   "metadata": {},
   "source": [
    "Generate the signature\n"
   ]
  },
  {
   "cell_type": "code",
   "execution_count": 154,
   "id": "b761bf1c",
   "metadata": {},
   "outputs": [
    {
     "data": {
      "text/plain": [
       "x"
      ]
     },
     "execution_count": 154,
     "metadata": {},
     "output_type": "execute_result"
    }
   ],
   "source": [
    "c = R(sample_in_ball(c_hash))\n",
    "c"
   ]
  },
  {
   "cell_type": "code",
   "execution_count": 155,
   "id": "5c1684c6",
   "metadata": {},
   "outputs": [
    {
     "data": {
      "text/plain": [
       "[10*x^3 - 8*x^2 - 3*x + 11]\n",
       "[13*x^3 + 2*x^2 - 15*x + 6]"
      ]
     },
     "execution_count": 155,
     "metadata": {},
     "output_type": "execute_result"
    }
   ],
   "source": [
    "z1 = matrix((y1 + c*s1) % (x^n+1))\n",
    "z1"
   ]
  },
  {
   "cell_type": "code",
   "execution_count": 156,
   "id": "5841abb3",
   "metadata": {},
   "outputs": [
    {
     "data": {
      "text/plain": [
       "[2*x^3 - 14*x^2 - 11*x - 8]\n",
       "[10*x^3 - 14*x^2 + 5*x + 9]"
      ]
     },
     "execution_count": 156,
     "metadata": {},
     "output_type": "execute_result"
    }
   ],
   "source": [
    "z2 = matrix((y2 + c*s2) % (x^n+1))\n",
    "z2"
   ]
  },
  {
   "cell_type": "markdown",
   "id": "168dd622",
   "metadata": {},
   "source": [
    "Is $\\|\\mathbf{z}_1\\|_\\infty$ or $\\|\\mathbf{z}_2\n",
    "\\|_\\infty \\geq \\gamma_1-\\beta$?"
   ]
  },
  {
   "cell_type": "code",
   "execution_count": 157,
   "id": "729d5573",
   "metadata": {},
   "outputs": [
    {
     "data": {
      "text/plain": [
       "15"
      ]
     },
     "execution_count": 157,
     "metadata": {},
     "output_type": "execute_result"
    }
   ],
   "source": [
    "gamma1-beta"
   ]
  },
  {
   "cell_type": "markdown",
   "id": "dfa667f3",
   "metadata": {},
   "source": [
    "If so, reject and pick new $\\mathbf{y}_i$"
   ]
  },
  {
   "cell_type": "markdown",
   "id": "77636541",
   "metadata": {},
   "source": [
    "If not, $(\\mathbf{z}_1, \\mathbf{z}_2, c)$ is the signature"
   ]
  },
  {
   "cell_type": "code",
   "execution_count": 158,
   "id": "12c1fd5f",
   "metadata": {},
   "outputs": [
    {
     "data": {
      "text/plain": [
       "(\n",
       "[10*x^3 - 8*x^2 - 3*x + 11]  [2*x^3 - 14*x^2 - 11*x - 8]   \n",
       "[13*x^3 + 2*x^2 - 15*x + 6], [10*x^3 - 14*x^2 + 5*x + 9], x\n",
       ")"
      ]
     },
     "execution_count": 158,
     "metadata": {},
     "output_type": "execute_result"
    }
   ],
   "source": [
    "(z1, z2, c)"
   ]
  },
  {
   "cell_type": "markdown",
   "id": "25783846",
   "metadata": {},
   "source": [
    "Bob verifies the signature"
   ]
  },
  {
   "cell_type": "code",
   "execution_count": 159,
   "id": "cb3231a9",
   "metadata": {},
   "outputs": [
    {
     "data": {
      "text/plain": [
       "[15*x^3 + 2*x^2 - 15*x - 20]\n",
       "[-8*x^3 + 10*x^2 + 3*x - 18]"
      ]
     },
     "execution_count": 159,
     "metadata": {},
     "output_type": "execute_result"
    }
   ],
   "source": [
    "w1prime = matrix((A*z1+z2-c*t) % (x^n+1) % q).apply_map(lambda f: f.map_coefficients(lambda r: Mod(r,q).lift_centered() ))\n",
    "w1prime"
   ]
  },
  {
   "cell_type": "markdown",
   "id": "10c82489",
   "metadata": {},
   "source": [
    "Is $\\|\\mathbf{z}_i\\|_\\infty < \\gamma_1-\\beta$?"
   ]
  },
  {
   "cell_type": "code",
   "execution_count": 160,
   "id": "b0f11618",
   "metadata": {},
   "outputs": [
    {
     "data": {
      "text/plain": [
       "[10*x^3 - 8*x^2 - 3*x + 11]\n",
       "[13*x^3 + 2*x^2 - 15*x + 6]"
      ]
     },
     "execution_count": 160,
     "metadata": {},
     "output_type": "execute_result"
    }
   ],
   "source": [
    "z1"
   ]
  },
  {
   "cell_type": "code",
   "execution_count": 161,
   "id": "0e8b9a51",
   "metadata": {},
   "outputs": [
    {
     "data": {
      "text/plain": [
       "[2*x^3 - 14*x^2 - 11*x - 8]\n",
       "[10*x^3 - 14*x^2 + 5*x + 9]"
      ]
     },
     "execution_count": 161,
     "metadata": {},
     "output_type": "execute_result"
    }
   ],
   "source": [
    "z2"
   ]
  },
  {
   "cell_type": "code",
   "execution_count": 162,
   "id": "21922612",
   "metadata": {},
   "outputs": [
    {
     "data": {
      "text/plain": [
       "15"
      ]
     },
     "execution_count": 162,
     "metadata": {},
     "output_type": "execute_result"
    }
   ],
   "source": [
    "gamma1-beta"
   ]
  },
  {
   "cell_type": "markdown",
   "id": "766fc343",
   "metadata": {},
   "source": [
    "Yes"
   ]
  },
  {
   "cell_type": "markdown",
   "id": "4b442235",
   "metadata": {},
   "source": [
    "Is $c = H(M , w_1')$?"
   ]
  },
  {
   "cell_type": "code",
   "execution_count": 163,
   "id": "4a35b587",
   "metadata": {},
   "outputs": [
    {
     "data": {
      "text/plain": [
       "[-20, -15, 2, 15, -18, 3, 10, -8]"
      ]
     },
     "execution_count": 163,
     "metadata": {},
     "output_type": "execute_result"
    }
   ],
   "source": [
    "w1primelist = [c for row in w1prime for p in row for c in list(p)]  #flatten the matrix down to coefficients\n",
    "w1primelist"
   ]
  },
  {
   "cell_type": "code",
   "execution_count": 164,
   "id": "a2ccd8ee",
   "metadata": {
    "scrolled": true
   },
   "outputs": [
    {
     "data": {
      "text/plain": [
       "'00011110010100101010'"
      ]
     },
     "execution_count": 164,
     "metadata": {},
     "output_type": "execute_result"
    }
   ],
   "source": [
    "cprime_hash = XOF(Mlist, w1primelist, 6, 20)\n",
    "cprime_hash"
   ]
  },
  {
   "cell_type": "code",
   "execution_count": 165,
   "id": "16a473b9",
   "metadata": {},
   "outputs": [
    {
     "data": {
      "text/plain": [
       "x"
      ]
     },
     "execution_count": 165,
     "metadata": {},
     "output_type": "execute_result"
    }
   ],
   "source": [
    "cprime = R(sample_in_ball(cprime_hash))\n",
    "cprime"
   ]
  },
  {
   "cell_type": "code",
   "execution_count": 166,
   "id": "246e1197",
   "metadata": {},
   "outputs": [
    {
     "data": {
      "text/plain": [
       "True"
      ]
     },
     "execution_count": 166,
     "metadata": {},
     "output_type": "execute_result"
    }
   ],
   "source": [
    "c == cprime"
   ]
  },
  {
   "cell_type": "markdown",
   "id": "3bc5f290",
   "metadata": {},
   "source": [
    "Yes.  The signature is accepted."
   ]
  },
  {
   "cell_type": "code",
   "execution_count": null,
   "id": "f1c82195",
   "metadata": {},
   "outputs": [],
   "source": []
  },
  {
   "cell_type": "code",
   "execution_count": null,
   "id": "46abf71e",
   "metadata": {},
   "outputs": [],
   "source": []
  },
  {
   "cell_type": "code",
   "execution_count": null,
   "id": "d6b0abdd",
   "metadata": {},
   "outputs": [],
   "source": []
  }
 ],
 "metadata": {
  "kernelspec": {
   "display_name": "SageMath 9.5",
   "language": "sage",
   "name": "sagemath"
  },
  "language_info": {
   "codemirror_mode": {
    "name": "ipython",
    "version": 3
   },
   "file_extension": ".py",
   "mimetype": "text/x-python",
   "name": "python",
   "nbconvert_exporter": "python",
   "pygments_lexer": "ipython3",
   "version": "3.10.12"
  }
 },
 "nbformat": 4,
 "nbformat_minor": 5
}
