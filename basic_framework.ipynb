{
 "cells": [
  {
   "cell_type": "markdown",
   "id": "2ac90fd0",
   "metadata": {},
   "source": [
    "Global setup"
   ]
  },
  {
   "cell_type": "code",
   "execution_count": 256,
   "id": "56fd9fe4",
   "metadata": {},
   "outputs": [],
   "source": [
    "n=4\n",
    "k=2\n",
    "q=2^6-2^2+1\n",
    "eta=1\n",
    "gamma1=2^3\n",
    "gamma2=(q-1)/4\n",
    "R.<x> = ZZ[]"
   ]
  },
  {
   "cell_type": "code",
   "execution_count": 257,
   "id": "719c8084",
   "metadata": {},
   "outputs": [
    {
     "data": {
      "text/plain": [
       "61"
      ]
     },
     "execution_count": 257,
     "metadata": {},
     "output_type": "execute_result"
    }
   ],
   "source": [
    "q"
   ]
  },
  {
   "cell_type": "code",
   "execution_count": 258,
   "id": "52eb94ba",
   "metadata": {},
   "outputs": [
    {
     "data": {
      "text/plain": [
       "True"
      ]
     },
     "execution_count": 258,
     "metadata": {},
     "output_type": "execute_result"
    }
   ],
   "source": [
    "is_prime(q)"
   ]
  },
  {
   "cell_type": "code",
   "execution_count": 259,
   "id": "351700e7",
   "metadata": {},
   "outputs": [
    {
     "data": {
      "text/plain": [
       "15"
      ]
     },
     "execution_count": 259,
     "metadata": {},
     "output_type": "execute_result"
    }
   ],
   "source": [
    "gamma2"
   ]
  },
  {
   "cell_type": "code",
   "execution_count": 260,
   "id": "68e8a2c0",
   "metadata": {},
   "outputs": [
    {
     "name": "stdout",
     "output_type": "stream",
     "text": [
      "0.000000000000000\n",
      "2.38629436111989\n",
      "3.79175946922805\n",
      "4.38629436111989\n",
      "4.00000000000000\n"
     ]
    }
   ],
   "source": [
    "for tau in range(5):\n",
    "    print(ln(binomial(4, tau)).n()+tau)"
   ]
  },
  {
   "cell_type": "code",
   "execution_count": 261,
   "id": "34eb6329",
   "metadata": {},
   "outputs": [
    {
     "data": {
      "text/plain": [
       "2"
      ]
     },
     "execution_count": 261,
     "metadata": {},
     "output_type": "execute_result"
    }
   ],
   "source": [
    "tau = 2\n",
    "beta = tau*eta\n",
    "beta"
   ]
  },
  {
   "cell_type": "markdown",
   "id": "92a16653",
   "metadata": {},
   "source": [
    "Alice generates a signing key"
   ]
  },
  {
   "cell_type": "code",
   "execution_count": 194,
   "id": "e371a893",
   "metadata": {},
   "outputs": [
    {
     "data": {
      "text/plain": [
       "[ 41*x^3 + 50*x^2 + 32*x + 3 41*x^3 + 55*x^2 + 60*x + 15]\n",
       "[ 50*x^3 + 10*x^2 + 7*x + 55        35*x^3 + 49*x^2 + 24]"
      ]
     },
     "execution_count": 194,
     "metadata": {},
     "output_type": "execute_result"
    }
   ],
   "source": [
    "A = matrix([[randrange(0,q)*x^3+randrange(0,q)*x^2+randrange(0,q)*x+randrange(0,q), randrange(0,q)*x^3+randrange(0,q)*x^2+randrange(0,q)*x+randrange(0,q)], \n",
    "            [randrange(0,q)*x^3+randrange(0,q)*x^2+randrange(0,q)*x+randrange(0,q), randrange(0,q)*x^3+randrange(0,q)*x^2+randrange(0,q)*x+randrange(0,q)]])\n",
    "A"
   ]
  },
  {
   "cell_type": "code",
   "execution_count": 195,
   "id": "25ec7f0d",
   "metadata": {},
   "outputs": [
    {
     "data": {
      "text/plain": [
       "[-x^3 - x^2 - x]\n",
       "[      -x^3 - x]"
      ]
     },
     "execution_count": 195,
     "metadata": {},
     "output_type": "execute_result"
    }
   ],
   "source": [
    "s1 = matrix([[randrange(-eta,eta)*x^3+randrange(-eta,eta)*x^2+randrange(-eta,eta)*x+randrange(-eta,eta)], \n",
    "            [randrange(-eta,eta)*x^3+randrange(-eta,eta)*x^2+randrange(-eta,eta)*x+randrange(-eta,eta)]])\n",
    "s1"
   ]
  },
  {
   "cell_type": "code",
   "execution_count": 196,
   "id": "26522906",
   "metadata": {},
   "outputs": [
    {
     "data": {
      "text/plain": [
       "[-x^3 - x^2 - x - 1]\n",
       "[          -x^2 - x]"
      ]
     },
     "execution_count": 196,
     "metadata": {},
     "output_type": "execute_result"
    }
   ],
   "source": [
    "s2 = matrix([[randrange(-eta,eta)*x^3+randrange(-eta,eta)*x^2+randrange(-eta,eta)*x+randrange(-eta,eta)], \n",
    "            [randrange(-eta,eta)*x^3+randrange(-eta,eta)*x^2+randrange(-eta,eta)*x+randrange(-eta,eta)]])\n",
    "s2"
   ]
  },
  {
   "cell_type": "markdown",
   "id": "57ce5ae8",
   "metadata": {},
   "source": [
    "$s_1$ and $s_2$ are private"
   ]
  },
  {
   "cell_type": "code",
   "execution_count": 197,
   "id": "85b72ab2",
   "metadata": {},
   "outputs": [
    {
     "data": {
      "text/plain": [
       "[ 27*x^3 - 14*x^2 + 5*x + 40]\n",
       "[38*x^3 + 22*x^2 + 29*x + 41]"
      ]
     },
     "execution_count": 197,
     "metadata": {},
     "output_type": "execute_result"
    }
   ],
   "source": [
    "t = matrix(((A*s1 + s2) % (x^n+1) % q))\n",
    "t"
   ]
  },
  {
   "cell_type": "markdown",
   "id": "d5292f29",
   "metadata": {},
   "source": [
    "$A$ and $t$ are public"
   ]
  },
  {
   "cell_type": "markdown",
   "id": "48406738",
   "metadata": {},
   "source": [
    "Alice signs the message"
   ]
  },
  {
   "cell_type": "code",
   "execution_count": 432,
   "id": "e361721e",
   "metadata": {},
   "outputs": [
    {
     "data": {
      "text/plain": [
       "'hi!'"
      ]
     },
     "execution_count": 432,
     "metadata": {},
     "output_type": "execute_result"
    }
   ],
   "source": [
    "M = 'hi!'\n",
    "M"
   ]
  },
  {
   "cell_type": "code",
   "execution_count": 433,
   "id": "652072c0",
   "metadata": {},
   "outputs": [
    {
     "data": {
      "text/plain": [
       "[3*x^3 + 3*x^2 + 3*x - 5]\n",
       "[    x^3 - 5*x^2 - x + 2]"
      ]
     },
     "execution_count": 433,
     "metadata": {},
     "output_type": "execute_result"
    }
   ],
   "source": [
    "y = matrix([[randrange(-(gamma1-1), gamma1-1)*x^3+randrange(-(gamma1-1), gamma1-1)*x^2+randrange(-(gamma1-1), gamma1-1)*x+randrange(-(gamma1-1), gamma1-1)], \n",
    "            [randrange(-(gamma1-1), gamma1-1)*x^3+randrange(-(gamma1-1), gamma1-1)*x^2+randrange(-(gamma1-1), gamma1-1)*x+randrange(-(gamma1-1), gamma1-1)]])\n",
    "y"
   ]
  },
  {
   "cell_type": "code",
   "execution_count": 434,
   "id": "4503a91c",
   "metadata": {},
   "outputs": [],
   "source": [
    "def high_bits(r, alpha):\n",
    "    r = r % q\n",
    "    r0 = Mod(r, alpha).lift_centered()\n",
    "    if r-r0 == q-1:\n",
    "        return 0\n",
    "    else:\n",
    "        return (r-r0)/alpha\n",
    "\n",
    "def low_bits(r, alpha):\n",
    "    r = r % q\n",
    "    r0 = Mod(r, alpha).lift_centered()\n",
    "    if r-r0 == q-1:\n",
    "        return r0-1\n",
    "    else:\n",
    "        return r0"
   ]
  },
  {
   "cell_type": "code",
   "execution_count": 435,
   "id": "afc040dd",
   "metadata": {},
   "outputs": [
    {
     "data": {
      "text/plain": [
       "[36*x^3 + 32*x^2 + 14*x + 24]\n",
       "[11*x^3 + 51*x^2 + 52*x + 35]"
      ]
     },
     "execution_count": 435,
     "metadata": {},
     "output_type": "execute_result"
    }
   ],
   "source": [
    "matrix(((A*y) % (x^n+1) % q))"
   ]
  },
  {
   "cell_type": "code",
   "execution_count": 436,
   "id": "1798bec5",
   "metadata": {},
   "outputs": [
    {
     "data": {
      "text/plain": [
       "[x^3 + x^2 + 1]\n",
       "[            1]"
      ]
     },
     "execution_count": 436,
     "metadata": {},
     "output_type": "execute_result"
    }
   ],
   "source": [
    "w1 = matrix(((A*y) % (x^n+1) % q)).apply_map(lambda f: f.map_coefficients(lambda r: high_bits(r, 2*gamma2) ))\n",
    "w1"
   ]
  },
  {
   "cell_type": "code",
   "execution_count": 437,
   "id": "a5de9fae",
   "metadata": {
    "scrolled": true
   },
   "outputs": [
    {
     "name": "stdout",
     "output_type": "stream",
     "text": [
      "[x^3 + x^2 + 1]\n",
      "[            1]\n"
     ]
    }
   ],
   "source": [
    "print(w1)"
   ]
  },
  {
   "cell_type": "code",
   "execution_count": 438,
   "id": "9079e2be",
   "metadata": {},
   "outputs": [],
   "source": [
    "from sage.cpython.string import str_to_bytes"
   ]
  },
  {
   "cell_type": "code",
   "execution_count": 439,
   "id": "cde4e6ba",
   "metadata": {},
   "outputs": [
    {
     "data": {
      "text/plain": [
       "b'hi![x^3 + x^2 + 1]\\n[            1]'"
      ]
     },
     "execution_count": 439,
     "metadata": {},
     "output_type": "execute_result"
    }
   ],
   "source": [
    "str_to_bytes(M+str(w1))"
   ]
  },
  {
   "cell_type": "code",
   "execution_count": 440,
   "id": "4d5e1931",
   "metadata": {},
   "outputs": [],
   "source": [
    "import hashlib"
   ]
  },
  {
   "cell_type": "code",
   "execution_count": 441,
   "id": "51f75a0e",
   "metadata": {},
   "outputs": [],
   "source": [
    "c_hash = hashlib.shake_256(str_to_bytes(M+str(w1)))"
   ]
  },
  {
   "cell_type": "code",
   "execution_count": 442,
   "id": "f70f7a0c",
   "metadata": {},
   "outputs": [],
   "source": [
    "def sample_in_ball(digest):  # digest should be twice the length of c\n",
    "    c = [0] * 4\n",
    "    for i in range(4-tau, 4):\n",
    "        j = digest[i] % (i+1)\n",
    "        s = digest[i+4] % 2\n",
    "        c[i] = c[j]\n",
    "        c[j] = (-1)^s\n",
    "    return c\n",
    "    "
   ]
  },
  {
   "cell_type": "code",
   "execution_count": 443,
   "id": "6d101783",
   "metadata": {},
   "outputs": [
    {
     "data": {
      "text/plain": [
       "x^2 - x"
      ]
     },
     "execution_count": 443,
     "metadata": {},
     "output_type": "execute_result"
    }
   ],
   "source": [
    "c = R(sample_in_ball(c_hash.digest(8)))\n",
    "c"
   ]
  },
  {
   "cell_type": "code",
   "execution_count": 444,
   "id": "7c26ab92",
   "metadata": {},
   "outputs": [
    {
     "data": {
      "text/plain": [
       "[3*x^3 + 4*x^2 + 4*x - 5]\n",
       "[             -4*x^2 + 1]"
      ]
     },
     "execution_count": 444,
     "metadata": {},
     "output_type": "execute_result"
    }
   ],
   "source": [
    "z = matrix(((y + c*s1) % (x^n+1) % q))\n",
    "z"
   ]
  },
  {
   "cell_type": "markdown",
   "id": "02e7b80b",
   "metadata": {},
   "source": [
    "Is $\\|\\mathbf{z}\\|_\\infty \\geq \\gamma_1-\\beta$?"
   ]
  },
  {
   "cell_type": "code",
   "execution_count": 445,
   "id": "185c2012",
   "metadata": {},
   "outputs": [
    {
     "data": {
      "text/plain": [
       "6"
      ]
     },
     "execution_count": 445,
     "metadata": {},
     "output_type": "execute_result"
    }
   ],
   "source": [
    "gamma1-beta"
   ]
  },
  {
   "cell_type": "markdown",
   "id": "fb308d5c",
   "metadata": {},
   "source": [
    "If so, reject and pick a new $\\mathbf{y}$"
   ]
  },
  {
   "cell_type": "markdown",
   "id": "421a7a58",
   "metadata": {},
   "source": [
    "Is $\\|\\mathrm{LowBits}(\\mathbf{Ay}-c\\mathbf{s}_2, 2\\gamma_2)\\|_\\infty \\geq \\gamma_2-\\beta$?"
   ]
  },
  {
   "cell_type": "code",
   "execution_count": 446,
   "id": "7e6e31b5",
   "metadata": {},
   "outputs": [
    {
     "data": {
      "text/plain": [
       "[ 6*x^3 + 2*x^2 + 12*x - 6]\n",
       "[11*x^3 - 11*x^2 - 9*x + 4]"
      ]
     },
     "execution_count": 446,
     "metadata": {},
     "output_type": "execute_result"
    }
   ],
   "source": [
    "matrix(((A*y - c*s2) % (x^n+1) % q)).apply_map(lambda f: f.map_coefficients(lambda r: low_bits(r, 2*gamma2) ))"
   ]
  },
  {
   "cell_type": "code",
   "execution_count": 447,
   "id": "b45fa4c3",
   "metadata": {},
   "outputs": [
    {
     "data": {
      "text/plain": [
       "13"
      ]
     },
     "execution_count": 447,
     "metadata": {},
     "output_type": "execute_result"
    }
   ],
   "source": [
    "gamma2-beta"
   ]
  },
  {
   "cell_type": "markdown",
   "id": "d15b1171",
   "metadata": {},
   "source": [
    "If so, reject and pick a new $\\mathbf{y}$"
   ]
  },
  {
   "cell_type": "markdown",
   "id": "ab471d50",
   "metadata": {},
   "source": [
    "If not, $(\\mathbf{z}, c)$ is the signature"
   ]
  },
  {
   "cell_type": "code",
   "execution_count": 458,
   "id": "855be056",
   "metadata": {},
   "outputs": [
    {
     "data": {
      "text/plain": [
       "(\n",
       "[3*x^3 + 4*x^2 + 4*x - 5]         \n",
       "[             -4*x^2 + 1], x^2 - x\n",
       ")"
      ]
     },
     "execution_count": 458,
     "metadata": {},
     "output_type": "execute_result"
    }
   ],
   "source": [
    "(z, c)"
   ]
  },
  {
   "cell_type": "markdown",
   "id": "3eab5972",
   "metadata": {},
   "source": [
    "Bob verifies the signature"
   ]
  },
  {
   "cell_type": "code",
   "execution_count": 459,
   "id": "724c50ee",
   "metadata": {},
   "outputs": [
    {
     "data": {
      "text/plain": [
       "[x^3 + x^2 + 1]\n",
       "[            1]"
      ]
     },
     "execution_count": 459,
     "metadata": {},
     "output_type": "execute_result"
    }
   ],
   "source": [
    "w1prime = matrix(((A*z-c*t) % (x^n+1) % q)).apply_map(lambda f: f.map_coefficients(lambda r: high_bits(r, 2*gamma2) ))\n",
    "w1prime"
   ]
  },
  {
   "cell_type": "markdown",
   "id": "881db342",
   "metadata": {},
   "source": [
    "Is $\\|\\mathbf{z}\\|_\\infty < \\gamma_1-\\beta$?"
   ]
  },
  {
   "cell_type": "code",
   "execution_count": 450,
   "id": "69e23199",
   "metadata": {},
   "outputs": [
    {
     "data": {
      "text/plain": [
       "[3*x^3 + 4*x^2 + 4*x - 5]\n",
       "[             -4*x^2 + 1]"
      ]
     },
     "execution_count": 450,
     "metadata": {},
     "output_type": "execute_result"
    }
   ],
   "source": [
    "z"
   ]
  },
  {
   "cell_type": "code",
   "execution_count": 451,
   "id": "b909323f",
   "metadata": {},
   "outputs": [
    {
     "data": {
      "text/plain": [
       "6"
      ]
     },
     "execution_count": 451,
     "metadata": {},
     "output_type": "execute_result"
    }
   ],
   "source": [
    "gamma1-beta"
   ]
  },
  {
   "cell_type": "markdown",
   "id": "54a7ecaf",
   "metadata": {},
   "source": [
    "Yes"
   ]
  },
  {
   "cell_type": "markdown",
   "id": "1db35eb2",
   "metadata": {},
   "source": [
    "Is $c = H(M \\| w_1')$?"
   ]
  },
  {
   "cell_type": "code",
   "execution_count": 462,
   "id": "ed2a265a",
   "metadata": {},
   "outputs": [],
   "source": [
    "cprime_hash = hashlib.shake_256(str_to_bytes(M+str(w1prime)))"
   ]
  },
  {
   "cell_type": "code",
   "execution_count": 466,
   "id": "c4c3b2e7",
   "metadata": {},
   "outputs": [
    {
     "data": {
      "text/plain": [
       "x^2 - x"
      ]
     },
     "execution_count": 466,
     "metadata": {},
     "output_type": "execute_result"
    }
   ],
   "source": [
    "cprime = R(sample_in_ball(cprime_hash.digest(8)))\n",
    "c"
   ]
  },
  {
   "cell_type": "code",
   "execution_count": 467,
   "id": "e8806288",
   "metadata": {},
   "outputs": [
    {
     "data": {
      "text/plain": [
       "True"
      ]
     },
     "execution_count": 467,
     "metadata": {},
     "output_type": "execute_result"
    }
   ],
   "source": [
    "c == cprime"
   ]
  },
  {
   "cell_type": "code",
   "execution_count": null,
   "id": "13bfd59f",
   "metadata": {},
   "outputs": [],
   "source": []
  }
 ],
 "metadata": {
  "kernelspec": {
   "display_name": "SageMath 9.5",
   "language": "sage",
   "name": "sagemath"
  },
  "language_info": {
   "codemirror_mode": {
    "name": "ipython",
    "version": 3
   },
   "file_extension": ".py",
   "mimetype": "text/x-python",
   "name": "python",
   "nbconvert_exporter": "python",
   "pygments_lexer": "ipython3",
   "version": "3.10.12"
  }
 },
 "nbformat": 4,
 "nbformat_minor": 5
}
